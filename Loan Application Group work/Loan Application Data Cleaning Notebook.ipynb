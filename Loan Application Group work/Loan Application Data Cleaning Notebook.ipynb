{
  "nbformat": 4,
  "nbformat_minor": 0,
  "metadata": {
    "kernelspec": {
      "display_name": "Python 3",
      "language": "python",
      "name": "python3"
    },
    "language_info": {
      "codemirror_mode": {
        "name": "ipython",
        "version": 3
      },
      "file_extension": ".py",
      "mimetype": "text/x-python",
      "name": "python",
      "nbconvert_exporter": "python",
      "pygments_lexer": "ipython3",
      "version": "3.7.3"
    },
    "colab": {
      "name": "loan rough.ipynb",
      "provenance": [],
      "collapsed_sections": [],
      "toc_visible": true
    }
  },
  "cells": [
    {
      "cell_type": "code",
      "metadata": {
        "id": "i-IYSfFcjtXP",
        "colab_type": "code",
        "outputId": "b6dea27d-d55d-4ce1-eab7-c91f8e6fcb65",
        "colab": {
          "base_uri": "https://localhost:8080/",
          "height": 122
        }
      },
      "source": [
        "##importing drive and uploading datasets\n",
        "from google.colab import drive\n",
        "drive.mount('/content/gdrive')"
      ],
      "execution_count": 2,
      "outputs": [
        {
          "output_type": "stream",
          "text": [
            "Go to this URL in a browser: https://accounts.google.com/o/oauth2/auth?client_id=947318989803-6bn6qk8qdgf4n4g3pfee6491hc0brc4i.apps.googleusercontent.com&redirect_uri=urn%3aietf%3awg%3aoauth%3a2.0%3aoob&response_type=code&scope=email%20https%3a%2f%2fwww.googleapis.com%2fauth%2fdocs.test%20https%3a%2f%2fwww.googleapis.com%2fauth%2fdrive%20https%3a%2f%2fwww.googleapis.com%2fauth%2fdrive.photos.readonly%20https%3a%2f%2fwww.googleapis.com%2fauth%2fpeopleapi.readonly\n",
            "\n",
            "Enter your authorization code:\n",
            "··········\n",
            "Mounted at /content/gdrive\n"
          ],
          "name": "stdout"
        }
      ]
    },
    {
      "cell_type": "code",
      "metadata": {
        "id": "GDHoLuAJmjlG",
        "colab_type": "code",
        "colab": {}
      },
      "source": [
        "##importing the necessary libraries\n",
        "import pandas as pd\n",
        "import numpy as np\n",
        "import seaborn as sns\n",
        "import matplotlib.pyplot as plt\n",
        "%matplotlib inline\n",
        "\n",
        "import warnings         \n",
        "warnings.filterwarnings('ignore')"
      ],
      "execution_count": 0,
      "outputs": []
    },
    {
      "cell_type": "code",
      "metadata": {
        "id": "pkYXtOB3jtXx",
        "colab_type": "code",
        "colab": {}
      },
      "source": [
        "##reading in the all accounts dataset\n",
        "all_account = pd.read_csv('all_accounts.csv')\n",
        "\n",
        "\n"
      ],
      "execution_count": 0,
      "outputs": []
    },
    {
      "cell_type": "code",
      "metadata": {
        "id": "m413EdlSjtYF",
        "colab_type": "code",
        "outputId": "62eef274-0560-4bd6-f179-fce2139cfcd6",
        "colab": {
          "base_uri": "https://localhost:8080/",
          "height": 204
        }
      },
      "source": [
        "##checking the first 5 rows of the data\n",
        "\n",
        "all_account.head()"
      ],
      "execution_count": 6,
      "outputs": [
        {
          "output_type": "execute_result",
          "data": {
            "text/html": [
              "<div>\n",
              "<style scoped>\n",
              "    .dataframe tbody tr th:only-of-type {\n",
              "        vertical-align: middle;\n",
              "    }\n",
              "\n",
              "    .dataframe tbody tr th {\n",
              "        vertical-align: top;\n",
              "    }\n",
              "\n",
              "    .dataframe thead th {\n",
              "        text-align: right;\n",
              "    }\n",
              "</style>\n",
              "<table border=\"1\" class=\"dataframe\">\n",
              "  <thead>\n",
              "    <tr style=\"text-align: right;\">\n",
              "      <th></th>\n",
              "      <th>CUSTOMER_UNIQUE_ID</th>\n",
              "      <th>MASKED_ACCOUNT</th>\n",
              "      <th>RECORD_STAT</th>\n",
              "      <th>ACY_AVL_BAL</th>\n",
              "      <th>CCY</th>\n",
              "    </tr>\n",
              "  </thead>\n",
              "  <tbody>\n",
              "    <tr>\n",
              "      <th>0</th>\n",
              "      <td>69090004</td>\n",
              "      <td>00******87</td>\n",
              "      <td>O</td>\n",
              "      <td>625.00</td>\n",
              "      <td>GBP</td>\n",
              "    </tr>\n",
              "    <tr>\n",
              "      <th>1</th>\n",
              "      <td>69090004</td>\n",
              "      <td>08******25</td>\n",
              "      <td>O</td>\n",
              "      <td>0.00</td>\n",
              "      <td>NGN</td>\n",
              "    </tr>\n",
              "    <tr>\n",
              "      <th>2</th>\n",
              "      <td>69090004</td>\n",
              "      <td>07******90</td>\n",
              "      <td>C</td>\n",
              "      <td>0.00</td>\n",
              "      <td>USD</td>\n",
              "    </tr>\n",
              "    <tr>\n",
              "      <th>3</th>\n",
              "      <td>69090004</td>\n",
              "      <td>00******24</td>\n",
              "      <td>O</td>\n",
              "      <td>245.16</td>\n",
              "      <td>USD</td>\n",
              "    </tr>\n",
              "    <tr>\n",
              "      <th>4</th>\n",
              "      <td>69090004</td>\n",
              "      <td>00******12</td>\n",
              "      <td>O</td>\n",
              "      <td>1262799.23</td>\n",
              "      <td>NGN</td>\n",
              "    </tr>\n",
              "  </tbody>\n",
              "</table>\n",
              "</div>"
            ],
            "text/plain": [
              "   CUSTOMER_UNIQUE_ID MASKED_ACCOUNT RECORD_STAT  ACY_AVL_BAL  CCY\n",
              "0            69090004     00******87           O       625.00  GBP\n",
              "1            69090004     08******25           O         0.00  NGN\n",
              "2            69090004     07******90           C         0.00  USD\n",
              "3            69090004     00******24           O       245.16  USD\n",
              "4            69090004     00******12           O   1262799.23  NGN"
            ]
          },
          "metadata": {
            "tags": []
          },
          "execution_count": 6
        }
      ]
    },
    {
      "cell_type": "code",
      "metadata": {
        "id": "21X-6WkZjtYY",
        "colab_type": "code",
        "outputId": "54ecf518-9531-4159-82b7-edc09b938716",
        "colab": {
          "base_uri": "https://localhost:8080/",
          "height": 68
        }
      },
      "source": [
        "##checking the columns of the dataset\n",
        "\n",
        "all_account.columns"
      ],
      "execution_count": 7,
      "outputs": [
        {
          "output_type": "execute_result",
          "data": {
            "text/plain": [
              "Index(['CUSTOMER_UNIQUE_ID', 'MASKED_ACCOUNT', 'RECORD_STAT', 'ACY_AVL_BAL',\n",
              "       'CCY'],\n",
              "      dtype='object')"
            ]
          },
          "metadata": {
            "tags": []
          },
          "execution_count": 7
        }
      ]
    },
    {
      "cell_type": "code",
      "metadata": {
        "id": "3oN4dETdjtYr",
        "colab_type": "code",
        "colab": {}
      },
      "source": [
        "##converting the upper case features to lower class to make my eda easier\n",
        "\n",
        "all_account.columns = all_account.columns.str.lower()"
      ],
      "execution_count": 0,
      "outputs": []
    },
    {
      "cell_type": "code",
      "metadata": {
        "id": "TvOF6izbjtY_",
        "colab_type": "code",
        "outputId": "bb8fa43f-1fa1-4a41-8553-921f79d12697",
        "colab": {
          "base_uri": "https://localhost:8080/",
          "height": 68
        }
      },
      "source": [
        "all_account.columns"
      ],
      "execution_count": 9,
      "outputs": [
        {
          "output_type": "execute_result",
          "data": {
            "text/plain": [
              "Index(['customer_unique_id', 'masked_account', 'record_stat', 'acy_avl_bal',\n",
              "       'ccy'],\n",
              "      dtype='object')"
            ]
          },
          "metadata": {
            "tags": []
          },
          "execution_count": 9
        }
      ]
    },
    {
      "cell_type": "code",
      "metadata": {
        "id": "Fc1ldvXD0Om1",
        "colab_type": "code",
        "colab": {}
      },
      "source": [
        "##setting the customer unique id row as index\n",
        "\n",
        "all_account.set_index('customer_unique_id',inplace=True)\n"
      ],
      "execution_count": 0,
      "outputs": []
    },
    {
      "cell_type": "code",
      "metadata": {
        "id": "uTH2XChY5MRr",
        "colab_type": "code",
        "colab": {}
      },
      "source": [
        "##converting the type of features to int as customer unique id is a number \n",
        "\n",
        "all_account.index = all_account.index.astype('int')"
      ],
      "execution_count": 0,
      "outputs": []
    },
    {
      "cell_type": "code",
      "metadata": {
        "id": "OnLgoULRjtZY",
        "colab_type": "code",
        "outputId": "c0d75422-8b72-48de-b276-b18646edbde6",
        "colab": {
          "base_uri": "https://localhost:8080/",
          "height": 68
        }
      },
      "source": [
        "##taking the count of the record_stat column to know what I am dealing with\n",
        "\n",
        "all_account['record_stat'].value_counts()"
      ],
      "execution_count": 12,
      "outputs": [
        {
          "output_type": "execute_result",
          "data": {
            "text/plain": [
              "O    27281\n",
              "C     1776\n",
              "Name: record_stat, dtype: int64"
            ]
          },
          "metadata": {
            "tags": []
          },
          "execution_count": 12
        }
      ]
    },
    {
      "cell_type": "code",
      "metadata": {
        "id": "d7qpP40ljtZu",
        "colab_type": "code",
        "outputId": "c41c941a-4569-4be3-a6f4-0f51e7796dab",
        "colab": {
          "base_uri": "https://localhost:8080/",
          "height": 102
        }
      },
      "source": [
        "##taking the count of the currency column to know what I am dealing with\n",
        "\n",
        "\n",
        "all_account['ccy'].value_counts()"
      ],
      "execution_count": 13,
      "outputs": [
        {
          "output_type": "execute_result",
          "data": {
            "text/plain": [
              "NGN    26765\n",
              "USD     2082\n",
              "GBP      146\n",
              "EUR       64\n",
              "Name: ccy, dtype: int64"
            ]
          },
          "metadata": {
            "tags": []
          },
          "execution_count": 13
        }
      ]
    },
    {
      "cell_type": "code",
      "metadata": {
        "id": "mX1t1bCujtZ8",
        "colab_type": "code",
        "outputId": "9fc095f1-9144-4b9b-8ddc-3abde9170ad2",
        "colab": {
          "base_uri": "https://localhost:8080/",
          "height": 170
        }
      },
      "source": [
        "#getting information about the dataset\n",
        "\n",
        "all_account.info()"
      ],
      "execution_count": 14,
      "outputs": [
        {
          "output_type": "stream",
          "text": [
            "<class 'pandas.core.frame.DataFrame'>\n",
            "Int64Index: 29057 entries, 69090004 to 429858000\n",
            "Data columns (total 4 columns):\n",
            "masked_account    29057 non-null object\n",
            "record_stat       29057 non-null object\n",
            "acy_avl_bal       29057 non-null float64\n",
            "ccy               29057 non-null object\n",
            "dtypes: float64(1), object(3)\n",
            "memory usage: 1.1+ MB\n"
          ],
          "name": "stdout"
        }
      ]
    },
    {
      "cell_type": "code",
      "metadata": {
        "id": "wNvSpUfHjtaM",
        "colab_type": "code",
        "outputId": "90760c11-e058-4213-a3dd-74118062db33",
        "colab": {
          "base_uri": "https://localhost:8080/",
          "height": 102
        }
      },
      "source": [
        "##checking for missing values\n",
        "\n",
        "all_account.isnull().sum()"
      ],
      "execution_count": 15,
      "outputs": [
        {
          "output_type": "execute_result",
          "data": {
            "text/plain": [
              "masked_account    0\n",
              "record_stat       0\n",
              "acy_avl_bal       0\n",
              "ccy               0\n",
              "dtype: int64"
            ]
          },
          "metadata": {
            "tags": []
          },
          "execution_count": 15
        }
      ]
    },
    {
      "cell_type": "code",
      "metadata": {
        "id": "I15AB9N9jtbs",
        "colab_type": "code",
        "outputId": "1719df8d-1df9-4d88-bb69-1f8ac92f8fa7",
        "colab": {
          "base_uri": "https://localhost:8080/",
          "height": 296
        }
      },
      "source": [
        "##visualizing the countplot of currency \n",
        "\n",
        "sns.countplot( x= 'ccy', data = all_account)"
      ],
      "execution_count": 16,
      "outputs": [
        {
          "output_type": "execute_result",
          "data": {
            "text/plain": [
              "<matplotlib.axes._subplots.AxesSubplot at 0x7f0a476b9940>"
            ]
          },
          "metadata": {
            "tags": []
          },
          "execution_count": 16
        },
        {
          "output_type": "display_data",
          "data": {
            "image/png": "[encoded data removed]",
            "text/plain": [
              "<Figure size 432x288 with 1 Axes>"
            ]
          },
          "metadata": {
            "tags": []
          }
        }
      ]
    },
    {
      "cell_type": "code",
      "metadata": {
        "id": "w_x3h_Wejtao",
        "colab_type": "code",
        "outputId": "31794422-8d87-4537-d1ed-f36797a9d768",
        "colab": {
          "base_uri": "https://localhost:8080/",
          "height": 119
        }
      },
      "source": [
        "all_account.groupby('ccy')['acy_avl_bal'].count()\n"
      ],
      "execution_count": 17,
      "outputs": [
        {
          "output_type": "execute_result",
          "data": {
            "text/plain": [
              "ccy\n",
              "EUR       64\n",
              "GBP      146\n",
              "NGN    26765\n",
              "USD     2082\n",
              "Name: acy_avl_bal, dtype: int64"
            ]
          },
          "metadata": {
            "tags": []
          },
          "execution_count": 17
        }
      ]
    },
    {
      "cell_type": "code",
      "metadata": {
        "id": "jVynSK7hjta0",
        "colab_type": "code",
        "outputId": "dfdcf668-5eff-455b-a0c7-4278dc4a68cb",
        "colab": {
          "base_uri": "https://localhost:8080/",
          "height": 296
        }
      },
      "source": [
        "##visualizing the countplot of currency \n",
        "\n",
        "sns.countplot( x= 'ccy', data = all_account)"
      ],
      "execution_count": 18,
      "outputs": [
        {
          "output_type": "execute_result",
          "data": {
            "text/plain": [
              "<matplotlib.axes._subplots.AxesSubplot at 0x7f0a475fc6d8>"
            ]
          },
          "metadata": {
            "tags": []
          },
          "execution_count": 18
        },
        {
          "output_type": "display_data",
          "data": {
            "image/png": "[encoded data removed]",
            "text/plain": [
              "<Figure size 432x288 with 1 Axes>"
            ]
          },
          "metadata": {
            "tags": []
          }
        }
      ]
    },
    {
      "cell_type": "code",
      "metadata": {
        "id": "KwuonbdHI1Jk",
        "colab_type": "code",
        "outputId": "358ff135-cedc-447c-ec5f-35a634efc955",
        "colab": {
          "base_uri": "https://localhost:8080/",
          "height": 119
        }
      },
      "source": [
        "all_account.groupby('ccy')['acy_avl_bal'].sum()"
      ],
      "execution_count": 19,
      "outputs": [
        {
          "output_type": "execute_result",
          "data": {
            "text/plain": [
              "ccy\n",
              "EUR    1.610430e+03\n",
              "GBP    5.386260e+03\n",
              "NGN    6.279908e+08\n",
              "USD    7.849541e+05\n",
              "Name: acy_avl_bal, dtype: float64"
            ]
          },
          "metadata": {
            "tags": []
          },
          "execution_count": 19
        }
      ]
    },
    {
      "cell_type": "code",
      "metadata": {
        "id": "YSqdE19i0xao",
        "colab_type": "code",
        "outputId": "5f5dab94-79e3-4c3f-a476-a4031b541162",
        "colab": {
          "base_uri": "https://localhost:8080/",
          "height": 235
        }
      },
      "source": [
        "##checking the first 5 first rows of the dataset\n",
        "\n",
        "all_account.head()"
      ],
      "execution_count": 20,
      "outputs": [
        {
          "output_type": "execute_result",
          "data": {
            "text/html": [
              "<div>\n",
              "<style scoped>\n",
              "    .dataframe tbody tr th:only-of-type {\n",
              "        vertical-align: middle;\n",
              "    }\n",
              "\n",
              "    .dataframe tbody tr th {\n",
              "        vertical-align: top;\n",
              "    }\n",
              "\n",
              "    .dataframe thead th {\n",
              "        text-align: right;\n",
              "    }\n",
              "</style>\n",
              "<table border=\"1\" class=\"dataframe\">\n",
              "  <thead>\n",
              "    <tr style=\"text-align: right;\">\n",
              "      <th></th>\n",
              "      <th>masked_account</th>\n",
              "      <th>record_stat</th>\n",
              "      <th>acy_avl_bal</th>\n",
              "      <th>ccy</th>\n",
              "    </tr>\n",
              "    <tr>\n",
              "      <th>customer_unique_id</th>\n",
              "      <th></th>\n",
              "      <th></th>\n",
              "      <th></th>\n",
              "      <th></th>\n",
              "    </tr>\n",
              "  </thead>\n",
              "  <tbody>\n",
              "    <tr>\n",
              "      <th>69090004</th>\n",
              "      <td>00******87</td>\n",
              "      <td>O</td>\n",
              "      <td>625.00</td>\n",
              "      <td>GBP</td>\n",
              "    </tr>\n",
              "    <tr>\n",
              "      <th>69090004</th>\n",
              "      <td>08******25</td>\n",
              "      <td>O</td>\n",
              "      <td>0.00</td>\n",
              "      <td>NGN</td>\n",
              "    </tr>\n",
              "    <tr>\n",
              "      <th>69090004</th>\n",
              "      <td>07******90</td>\n",
              "      <td>C</td>\n",
              "      <td>0.00</td>\n",
              "      <td>USD</td>\n",
              "    </tr>\n",
              "    <tr>\n",
              "      <th>69090004</th>\n",
              "      <td>00******24</td>\n",
              "      <td>O</td>\n",
              "      <td>245.16</td>\n",
              "      <td>USD</td>\n",
              "    </tr>\n",
              "    <tr>\n",
              "      <th>69090004</th>\n",
              "      <td>00******12</td>\n",
              "      <td>O</td>\n",
              "      <td>1262799.23</td>\n",
              "      <td>NGN</td>\n",
              "    </tr>\n",
              "  </tbody>\n",
              "</table>\n",
              "</div>"
            ],
            "text/plain": [
              "                   masked_account record_stat  acy_avl_bal  ccy\n",
              "customer_unique_id                                             \n",
              "69090004               00******87           O       625.00  GBP\n",
              "69090004               08******25           O         0.00  NGN\n",
              "69090004               07******90           C         0.00  USD\n",
              "69090004               00******24           O       245.16  USD\n",
              "69090004               00******12           O   1262799.23  NGN"
            ]
          },
          "metadata": {
            "tags": []
          },
          "execution_count": 20
        }
      ]
    },
    {
      "cell_type": "code",
      "metadata": {
        "colab_type": "code",
        "id": "Mkl_xefA3ohM",
        "colab": {}
      },
      "source": [
        "##converting the various currencies to naira using current fx price\n",
        "def con(df):\n",
        "    df.loc[df.ccy =='USD','acy_avl_bal'] = df.loc[df.ccy =='USD','acy_avl_bal'].apply(lambda x: x*365.50)\n",
        "    df.loc[df.ccy =='EUR','acy_avl_bal'] = df.loc[df.ccy =='EUR','acy_avl_bal'].apply(lambda x: x*410.95)\n",
        "    df.loc[df.ccy =='GBP','acy_avl_bal']=df.loc[df.ccy =='GPB','acy_avl_bal'].apply(lambda x: x*473.74)\n",
        "    return df"
      ],
      "execution_count": 0,
      "outputs": []
    },
    {
      "cell_type": "code",
      "metadata": {
        "id": "lemeEQgD3rAi",
        "colab_type": "code",
        "colab": {}
      },
      "source": [
        "##setting all_accounts as avariable to the def function\n",
        "\n",
        "all_account = con(all_account)"
      ],
      "execution_count": 0,
      "outputs": []
    },
    {
      "cell_type": "code",
      "metadata": {
        "id": "cLcJmbfK4Vf7",
        "colab_type": "code",
        "outputId": "427ca9a2-51a2-448f-e854-41ca85e52611",
        "colab": {
          "base_uri": "https://localhost:8080/",
          "height": 235
        }
      },
      "source": [
        "all_account.head()"
      ],
      "execution_count": 23,
      "outputs": [
        {
          "output_type": "execute_result",
          "data": {
            "text/html": [
              "<div>\n",
              "<style scoped>\n",
              "    .dataframe tbody tr th:only-of-type {\n",
              "        vertical-align: middle;\n",
              "    }\n",
              "\n",
              "    .dataframe tbody tr th {\n",
              "        vertical-align: top;\n",
              "    }\n",
              "\n",
              "    .dataframe thead th {\n",
              "        text-align: right;\n",
              "    }\n",
              "</style>\n",
              "<table border=\"1\" class=\"dataframe\">\n",
              "  <thead>\n",
              "    <tr style=\"text-align: right;\">\n",
              "      <th></th>\n",
              "      <th>masked_account</th>\n",
              "      <th>record_stat</th>\n",
              "      <th>acy_avl_bal</th>\n",
              "      <th>ccy</th>\n",
              "    </tr>\n",
              "    <tr>\n",
              "      <th>customer_unique_id</th>\n",
              "      <th></th>\n",
              "      <th></th>\n",
              "      <th></th>\n",
              "      <th></th>\n",
              "    </tr>\n",
              "  </thead>\n",
              "  <tbody>\n",
              "    <tr>\n",
              "      <th>69090004</th>\n",
              "      <td>00******87</td>\n",
              "      <td>O</td>\n",
              "      <td>NaN</td>\n",
              "      <td>GBP</td>\n",
              "    </tr>\n",
              "    <tr>\n",
              "      <th>69090004</th>\n",
              "      <td>08******25</td>\n",
              "      <td>O</td>\n",
              "      <td>0.00</td>\n",
              "      <td>NGN</td>\n",
              "    </tr>\n",
              "    <tr>\n",
              "      <th>69090004</th>\n",
              "      <td>07******90</td>\n",
              "      <td>C</td>\n",
              "      <td>0.00</td>\n",
              "      <td>USD</td>\n",
              "    </tr>\n",
              "    <tr>\n",
              "      <th>69090004</th>\n",
              "      <td>00******24</td>\n",
              "      <td>O</td>\n",
              "      <td>89605.98</td>\n",
              "      <td>USD</td>\n",
              "    </tr>\n",
              "    <tr>\n",
              "      <th>69090004</th>\n",
              "      <td>00******12</td>\n",
              "      <td>O</td>\n",
              "      <td>1262799.23</td>\n",
              "      <td>NGN</td>\n",
              "    </tr>\n",
              "  </tbody>\n",
              "</table>\n",
              "</div>"
            ],
            "text/plain": [
              "                   masked_account record_stat  acy_avl_bal  ccy\n",
              "customer_unique_id                                             \n",
              "69090004               00******87           O          NaN  GBP\n",
              "69090004               08******25           O         0.00  NGN\n",
              "69090004               07******90           C         0.00  USD\n",
              "69090004               00******24           O     89605.98  USD\n",
              "69090004               00******12           O   1262799.23  NGN"
            ]
          },
          "metadata": {
            "tags": []
          },
          "execution_count": 23
        }
      ]
    },
    {
      "cell_type": "code",
      "metadata": {
        "id": "sU956upTyyeB",
        "colab_type": "code",
        "colab": {
          "base_uri": "https://localhost:8080/",
          "height": 34
        },
        "outputId": "dd10e9cc-24c8-410e-bb07-13179c21aba2"
      },
      "source": [
        "all_account.shape"
      ],
      "execution_count": 24,
      "outputs": [
        {
          "output_type": "execute_result",
          "data": {
            "text/plain": [
              "(29057, 4)"
            ]
          },
          "metadata": {
            "tags": []
          },
          "execution_count": 24
        }
      ]
    },
    {
      "cell_type": "code",
      "metadata": {
        "id": "r6H6aas67KZo",
        "colab_type": "code",
        "outputId": "fc627ea0-a695-41dc-d705-14dba2efb95d",
        "colab": {
          "base_uri": "https://localhost:8080/",
          "height": 102
        }
      },
      "source": [
        "##checking for missing values\n",
        "\n",
        "all_account.isnull().sum()"
      ],
      "execution_count": 25,
      "outputs": [
        {
          "output_type": "execute_result",
          "data": {
            "text/plain": [
              "masked_account      0\n",
              "record_stat         0\n",
              "acy_avl_bal       146\n",
              "ccy                 0\n",
              "dtype: int64"
            ]
          },
          "metadata": {
            "tags": []
          },
          "execution_count": 25
        }
      ]
    },
    {
      "cell_type": "code",
      "metadata": {
        "id": "Zk1hInhD7su1",
        "colab_type": "code",
        "colab": {}
      },
      "source": [
        "##importing nan from numpy\n",
        "\n",
        "from numpy import nan"
      ],
      "execution_count": 0,
      "outputs": []
    },
    {
      "cell_type": "code",
      "metadata": {
        "id": "7UrF_BCO7xiP",
        "colab_type": "code",
        "colab": {}
      },
      "source": [
        "##replacing 0 values by representing them with  nan\n",
        "\n",
        "all_account.replace({'acy_avl_bal': {0.00 : nan}}, inplace = True)"
      ],
      "execution_count": 0,
      "outputs": []
    },
    {
      "cell_type": "code",
      "metadata": {
        "id": "DB0H-aKG9IuO",
        "colab_type": "code",
        "outputId": "f1574e1f-3e01-445c-932d-1918e9139f5c",
        "colab": {
          "base_uri": "https://localhost:8080/",
          "height": 102
        }
      },
      "source": [
        "all_account.isnull().sum()"
      ],
      "execution_count": 28,
      "outputs": [
        {
          "output_type": "execute_result",
          "data": {
            "text/plain": [
              "masked_account        0\n",
              "record_stat           0\n",
              "acy_avl_bal       12551\n",
              "ccy                   0\n",
              "dtype: int64"
            ]
          },
          "metadata": {
            "tags": []
          },
          "execution_count": 28
        }
      ]
    },
    {
      "cell_type": "code",
      "metadata": {
        "id": "0_BBysZo9TKt",
        "colab_type": "code",
        "outputId": "38a5cb31-c1d6-43bb-f52c-cf6cb5049625",
        "colab": {
          "base_uri": "https://localhost:8080/",
          "height": 34
        }
      },
      "source": [
        "##shape fof the dataset\n",
        "all_account.shape"
      ],
      "execution_count": 29,
      "outputs": [
        {
          "output_type": "execute_result",
          "data": {
            "text/plain": [
              "(29057, 4)"
            ]
          },
          "metadata": {
            "tags": []
          },
          "execution_count": 29
        }
      ]
    },
    {
      "cell_type": "code",
      "metadata": {
        "id": "3YfEtJ2X9e1q",
        "colab_type": "code",
        "colab": {}
      },
      "source": [
        "##dropping na values\n",
        "\n",
        "all_account.dropna(inplace = True)"
      ],
      "execution_count": 0,
      "outputs": []
    },
    {
      "cell_type": "code",
      "metadata": {
        "id": "qWm4kST3-Q-V",
        "colab_type": "code",
        "outputId": "1f08d6fd-e72c-4763-d4bc-3e442e40bdee",
        "colab": {
          "base_uri": "https://localhost:8080/",
          "height": 235
        }
      },
      "source": [
        "all_account.head()"
      ],
      "execution_count": 33,
      "outputs": [
        {
          "output_type": "execute_result",
          "data": {
            "text/html": [
              "<div>\n",
              "<style scoped>\n",
              "    .dataframe tbody tr th:only-of-type {\n",
              "        vertical-align: middle;\n",
              "    }\n",
              "\n",
              "    .dataframe tbody tr th {\n",
              "        vertical-align: top;\n",
              "    }\n",
              "\n",
              "    .dataframe thead th {\n",
              "        text-align: right;\n",
              "    }\n",
              "</style>\n",
              "<table border=\"1\" class=\"dataframe\">\n",
              "  <thead>\n",
              "    <tr style=\"text-align: right;\">\n",
              "      <th></th>\n",
              "      <th>masked_account</th>\n",
              "      <th>record_stat</th>\n",
              "      <th>acy_avl_bal</th>\n",
              "      <th>ccy</th>\n",
              "    </tr>\n",
              "    <tr>\n",
              "      <th>customer_unique_id</th>\n",
              "      <th></th>\n",
              "      <th></th>\n",
              "      <th></th>\n",
              "      <th></th>\n",
              "    </tr>\n",
              "  </thead>\n",
              "  <tbody>\n",
              "    <tr>\n",
              "      <th>69090004</th>\n",
              "      <td>00******24</td>\n",
              "      <td>O</td>\n",
              "      <td>89605.980</td>\n",
              "      <td>USD</td>\n",
              "    </tr>\n",
              "    <tr>\n",
              "      <th>69090004</th>\n",
              "      <td>00******12</td>\n",
              "      <td>O</td>\n",
              "      <td>1262799.230</td>\n",
              "      <td>NGN</td>\n",
              "    </tr>\n",
              "    <tr>\n",
              "      <th>69090004</th>\n",
              "      <td>07******13</td>\n",
              "      <td>O</td>\n",
              "      <td>28.090</td>\n",
              "      <td>NGN</td>\n",
              "    </tr>\n",
              "    <tr>\n",
              "      <th>69090004</th>\n",
              "      <td>07******05</td>\n",
              "      <td>O</td>\n",
              "      <td>13717.215</td>\n",
              "      <td>USD</td>\n",
              "    </tr>\n",
              "    <tr>\n",
              "      <th>69090004</th>\n",
              "      <td>00******44</td>\n",
              "      <td>O</td>\n",
              "      <td>37128.660</td>\n",
              "      <td>NGN</td>\n",
              "    </tr>\n",
              "  </tbody>\n",
              "</table>\n",
              "</div>"
            ],
            "text/plain": [
              "                   masked_account record_stat  acy_avl_bal  ccy\n",
              "customer_unique_id                                             \n",
              "69090004               00******24           O    89605.980  USD\n",
              "69090004               00******12           O  1262799.230  NGN\n",
              "69090004               07******13           O       28.090  NGN\n",
              "69090004               07******05           O    13717.215  USD\n",
              "69090004               00******44           O    37128.660  NGN"
            ]
          },
          "metadata": {
            "tags": []
          },
          "execution_count": 33
        }
      ]
    },
    {
      "cell_type": "code",
      "metadata": {
        "id": "-pbU0iWU_S37",
        "colab_type": "code",
        "outputId": "2d43d5f8-6405-466f-bda4-2a47fcfb1707",
        "colab": {
          "base_uri": "https://localhost:8080/",
          "height": 34
        }
      },
      "source": [
        "##looking at the shape of the dataset\n",
        "all_account.shape"
      ],
      "execution_count": 34,
      "outputs": [
        {
          "output_type": "execute_result",
          "data": {
            "text/plain": [
              "(16506, 4)"
            ]
          },
          "metadata": {
            "tags": []
          },
          "execution_count": 34
        }
      ]
    },
    {
      "cell_type": "code",
      "metadata": {
        "id": "aRNfvyK5_e2P",
        "colab_type": "code",
        "colab": {}
      },
      "source": [
        "##dropping columns I do not need\n",
        "\n",
        "all_account = all_account.drop(columns = ['masked_account', 'ccy'])"
      ],
      "execution_count": 0,
      "outputs": []
    },
    {
      "cell_type": "code",
      "metadata": {
        "id": "QBtSrCHnA51e",
        "colab_type": "code",
        "outputId": "68d27ac2-ef80-4e92-b9e0-c8fdb8fdd8ee",
        "colab": {
          "base_uri": "https://localhost:8080/",
          "height": 235
        }
      },
      "source": [
        "all_account.head()"
      ],
      "execution_count": 36,
      "outputs": [
        {
          "output_type": "execute_result",
          "data": {
            "text/html": [
              "<div>\n",
              "<style scoped>\n",
              "    .dataframe tbody tr th:only-of-type {\n",
              "        vertical-align: middle;\n",
              "    }\n",
              "\n",
              "    .dataframe tbody tr th {\n",
              "        vertical-align: top;\n",
              "    }\n",
              "\n",
              "    .dataframe thead th {\n",
              "        text-align: right;\n",
              "    }\n",
              "</style>\n",
              "<table border=\"1\" class=\"dataframe\">\n",
              "  <thead>\n",
              "    <tr style=\"text-align: right;\">\n",
              "      <th></th>\n",
              "      <th>record_stat</th>\n",
              "      <th>acy_avl_bal</th>\n",
              "    </tr>\n",
              "    <tr>\n",
              "      <th>customer_unique_id</th>\n",
              "      <th></th>\n",
              "      <th></th>\n",
              "    </tr>\n",
              "  </thead>\n",
              "  <tbody>\n",
              "    <tr>\n",
              "      <th>69090004</th>\n",
              "      <td>O</td>\n",
              "      <td>89605.980</td>\n",
              "    </tr>\n",
              "    <tr>\n",
              "      <th>69090004</th>\n",
              "      <td>O</td>\n",
              "      <td>1262799.230</td>\n",
              "    </tr>\n",
              "    <tr>\n",
              "      <th>69090004</th>\n",
              "      <td>O</td>\n",
              "      <td>28.090</td>\n",
              "    </tr>\n",
              "    <tr>\n",
              "      <th>69090004</th>\n",
              "      <td>O</td>\n",
              "      <td>13717.215</td>\n",
              "    </tr>\n",
              "    <tr>\n",
              "      <th>69090004</th>\n",
              "      <td>O</td>\n",
              "      <td>37128.660</td>\n",
              "    </tr>\n",
              "  </tbody>\n",
              "</table>\n",
              "</div>"
            ],
            "text/plain": [
              "                   record_stat  acy_avl_bal\n",
              "customer_unique_id                         \n",
              "69090004                     O    89605.980\n",
              "69090004                     O  1262799.230\n",
              "69090004                     O       28.090\n",
              "69090004                     O    13717.215\n",
              "69090004                     O    37128.660"
            ]
          },
          "metadata": {
            "tags": []
          },
          "execution_count": 36
        }
      ]
    },
    {
      "cell_type": "code",
      "metadata": {
        "id": "Ezurx7InBJSa",
        "colab_type": "code",
        "outputId": "b084683f-0a49-48ea-fbe8-52b345b15fd3",
        "colab": {
          "base_uri": "https://localhost:8080/",
          "height": 51
        }
      },
      "source": [
        "##taking the count of the column below\n",
        "\n",
        "all_account['record_stat'].value_counts()"
      ],
      "execution_count": 37,
      "outputs": [
        {
          "output_type": "execute_result",
          "data": {
            "text/plain": [
              "O    16506\n",
              "Name: record_stat, dtype: int64"
            ]
          },
          "metadata": {
            "tags": []
          },
          "execution_count": 37
        }
      ]
    },
    {
      "cell_type": "code",
      "metadata": {
        "id": "8Ao4F6by1jas",
        "colab_type": "code",
        "outputId": "a5075511-cbc0-4cad-9aca-bce4eaa668ae",
        "colab": {
          "base_uri": "https://localhost:8080/",
          "height": 297
        }
      },
      "source": [
        "sns.countplot( x= 'record_stat', data = all_account)"
      ],
      "execution_count": 38,
      "outputs": [
        {
          "output_type": "execute_result",
          "data": {
            "text/plain": [
              "<matplotlib.axes._subplots.AxesSubplot at 0x7f0a46f0e860>"
            ]
          },
          "metadata": {
            "tags": []
          },
          "execution_count": 38
        },
        {
          "output_type": "display_data",
          "data": {
            "image/png": "[encoded data removed]",
            "text/plain": [
              "<Figure size 432x288 with 1 Axes>"
            ]
          },
          "metadata": {
            "tags": []
          }
        }
      ]
    },
    {
      "cell_type": "code",
      "metadata": {
        "id": "gYajRB-AjtcE",
        "colab_type": "code",
        "outputId": "eba97809-9408-46f5-d811-e0d992c7208c",
        "colab": {
          "base_uri": "https://localhost:8080/",
          "height": 308
        }
      },
      "source": [
        "\n",
        "##plotting a boxplot of record stat vs average balance\n",
        "\n",
        "sns.boxplot( x ='record_stat', y = 'acy_avl_bal', data = all_account, palette = 'rainbow')"
      ],
      "execution_count": 39,
      "outputs": [
        {
          "output_type": "execute_result",
          "data": {
            "text/plain": [
              "<matplotlib.axes._subplots.AxesSubplot at 0x7f0a46f0e390>"
            ]
          },
          "metadata": {
            "tags": []
          },
          "execution_count": 39
        },
        {
          "output_type": "display_data",
          "data": {
            "image/png": "[encoded data removed]",
            "text/plain": [
              "<Figure size 432x288 with 1 Axes>"
            ]
          },
          "metadata": {
            "tags": []
          }
        }
      ]
    },
    {
      "cell_type": "code",
      "metadata": {
        "id": "LIvGDdgbjtcV",
        "colab_type": "code",
        "outputId": "d39e691b-b1a6-4de4-999d-e58c7e9ec66e",
        "colab": {
          "base_uri": "https://localhost:8080/",
          "height": 34
        }
      },
      "source": [
        "##summary statistics of some columns\n",
        "\n",
        "all_account.acy_avl_bal.min()"
      ],
      "execution_count": 40,
      "outputs": [
        {
          "output_type": "execute_result",
          "data": {
            "text/plain": [
              "-82543569.7"
            ]
          },
          "metadata": {
            "tags": []
          },
          "execution_count": 40
        }
      ]
    },
    {
      "cell_type": "code",
      "metadata": {
        "id": "dPKtVPBZCWds",
        "colab_type": "code",
        "outputId": "dc3ce79c-4285-414b-9c70-6749c8aad919",
        "colab": {
          "base_uri": "https://localhost:8080/",
          "height": 34
        }
      },
      "source": [
        "all_account.acy_avl_bal.max()"
      ],
      "execution_count": 41,
      "outputs": [
        {
          "output_type": "execute_result",
          "data": {
            "text/plain": [
              "374284993.52500004"
            ]
          },
          "metadata": {
            "tags": []
          },
          "execution_count": 41
        }
      ]
    },
    {
      "cell_type": "code",
      "metadata": {
        "id": "mr9L2D8WCmyU",
        "colab_type": "code",
        "outputId": "647c877c-fc2e-4823-a070-c91377c77930",
        "colab": {
          "base_uri": "https://localhost:8080/",
          "height": 34
        }
      },
      "source": [
        "all_account.acy_avl_bal.mean()"
      ],
      "execution_count": 42,
      "outputs": [
        {
          "output_type": "execute_result",
          "data": {
            "text/plain": [
              "55467.91194374742"
            ]
          },
          "metadata": {
            "tags": []
          },
          "execution_count": 42
        }
      ]
    },
    {
      "cell_type": "code",
      "metadata": {
        "id": "vp3N2iGzCrlT",
        "colab_type": "code",
        "outputId": "c52765c3-5cb3-46a4-9de4-6b9dca6a4064",
        "colab": {
          "base_uri": "https://localhost:8080/",
          "height": 34
        }
      },
      "source": [
        "all_account.acy_avl_bal.std()"
      ],
      "execution_count": 43,
      "outputs": [
        {
          "output_type": "execute_result",
          "data": {
            "text/plain": [
              "3044454.8239729083"
            ]
          },
          "metadata": {
            "tags": []
          },
          "execution_count": 43
        }
      ]
    },
    {
      "cell_type": "code",
      "metadata": {
        "id": "boYTVimZCeng",
        "colab_type": "code",
        "outputId": "2b9ccb6c-7e8c-4a5f-ec74-badc9aab0395",
        "colab": {
          "base_uri": "https://localhost:8080/",
          "height": 68
        }
      },
      "source": [
        "##checking the datatype\n",
        "\n",
        "all_account.dtypes"
      ],
      "execution_count": 44,
      "outputs": [
        {
          "output_type": "execute_result",
          "data": {
            "text/plain": [
              "record_stat     object\n",
              "acy_avl_bal    float64\n",
              "dtype: object"
            ]
          },
          "metadata": {
            "tags": []
          },
          "execution_count": 44
        }
      ]
    },
    {
      "cell_type": "code",
      "metadata": {
        "id": "CulFqisf0YBz",
        "colab_type": "code",
        "colab": {
          "base_uri": "https://localhost:8080/",
          "height": 235
        },
        "outputId": "0c4717bd-7fc5-4ab5-a5f7-91e61ea38896"
      },
      "source": [
        "all_account.head()"
      ],
      "execution_count": 47,
      "outputs": [
        {
          "output_type": "execute_result",
          "data": {
            "text/html": [
              "<div>\n",
              "<style scoped>\n",
              "    .dataframe tbody tr th:only-of-type {\n",
              "        vertical-align: middle;\n",
              "    }\n",
              "\n",
              "    .dataframe tbody tr th {\n",
              "        vertical-align: top;\n",
              "    }\n",
              "\n",
              "    .dataframe thead th {\n",
              "        text-align: right;\n",
              "    }\n",
              "</style>\n",
              "<table border=\"1\" class=\"dataframe\">\n",
              "  <thead>\n",
              "    <tr style=\"text-align: right;\">\n",
              "      <th></th>\n",
              "      <th>record_stat</th>\n",
              "      <th>acy_avl_bal</th>\n",
              "    </tr>\n",
              "    <tr>\n",
              "      <th>customer_unique_id</th>\n",
              "      <th></th>\n",
              "      <th></th>\n",
              "    </tr>\n",
              "  </thead>\n",
              "  <tbody>\n",
              "    <tr>\n",
              "      <th>69090004</th>\n",
              "      <td>O</td>\n",
              "      <td>89605.980</td>\n",
              "    </tr>\n",
              "    <tr>\n",
              "      <th>69090004</th>\n",
              "      <td>O</td>\n",
              "      <td>1262799.230</td>\n",
              "    </tr>\n",
              "    <tr>\n",
              "      <th>69090004</th>\n",
              "      <td>O</td>\n",
              "      <td>28.090</td>\n",
              "    </tr>\n",
              "    <tr>\n",
              "      <th>69090004</th>\n",
              "      <td>O</td>\n",
              "      <td>13717.215</td>\n",
              "    </tr>\n",
              "    <tr>\n",
              "      <th>69090004</th>\n",
              "      <td>O</td>\n",
              "      <td>37128.660</td>\n",
              "    </tr>\n",
              "  </tbody>\n",
              "</table>\n",
              "</div>"
            ],
            "text/plain": [
              "                   record_stat  acy_avl_bal\n",
              "customer_unique_id                         \n",
              "69090004                     O    89605.980\n",
              "69090004                     O  1262799.230\n",
              "69090004                     O       28.090\n",
              "69090004                     O    13717.215\n",
              "69090004                     O    37128.660"
            ]
          },
          "metadata": {
            "tags": []
          },
          "execution_count": 47
        }
      ]
    },
    {
      "cell_type": "code",
      "metadata": {
        "id": "xdJWS4860kzB",
        "colab_type": "code",
        "colab": {
          "base_uri": "https://localhost:8080/",
          "height": 34
        },
        "outputId": "05fd9014-154e-4f84-f09c-2035aac751f6"
      },
      "source": [
        "all_account.shape"
      ],
      "execution_count": 48,
      "outputs": [
        {
          "output_type": "execute_result",
          "data": {
            "text/plain": [
              "(16506, 2)"
            ]
          },
          "metadata": {
            "tags": []
          },
          "execution_count": 48
        }
      ]
    },
    {
      "cell_type": "code",
      "metadata": {
        "id": "O-sZ1x1Y0rDX",
        "colab_type": "code",
        "colab": {}
      },
      "source": [
        "all_account = all_account.groupby(all_account.index).agg({'acy_avl_bal':'sum'})"
      ],
      "execution_count": 0,
      "outputs": []
    },
    {
      "cell_type": "code",
      "metadata": {
        "id": "Zqqc3wg91qfh",
        "colab_type": "code",
        "colab": {
          "base_uri": "https://localhost:8080/",
          "height": 235
        },
        "outputId": "e3fbbabc-9689-4fc5-8153-2983cdf0d659"
      },
      "source": [
        "all_account.head()"
      ],
      "execution_count": 50,
      "outputs": [
        {
          "output_type": "execute_result",
          "data": {
            "text/html": [
              "<div>\n",
              "<style scoped>\n",
              "    .dataframe tbody tr th:only-of-type {\n",
              "        vertical-align: middle;\n",
              "    }\n",
              "\n",
              "    .dataframe tbody tr th {\n",
              "        vertical-align: top;\n",
              "    }\n",
              "\n",
              "    .dataframe thead th {\n",
              "        text-align: right;\n",
              "    }\n",
              "</style>\n",
              "<table border=\"1\" class=\"dataframe\">\n",
              "  <thead>\n",
              "    <tr style=\"text-align: right;\">\n",
              "      <th></th>\n",
              "      <th>acy_avl_bal</th>\n",
              "    </tr>\n",
              "    <tr>\n",
              "      <th>customer_unique_id</th>\n",
              "      <th></th>\n",
              "    </tr>\n",
              "  </thead>\n",
              "  <tbody>\n",
              "    <tr>\n",
              "      <th>56000</th>\n",
              "      <td>136043.480</td>\n",
              "    </tr>\n",
              "    <tr>\n",
              "      <th>62005</th>\n",
              "      <td>1541733.575</td>\n",
              "    </tr>\n",
              "    <tr>\n",
              "      <th>104008</th>\n",
              "      <td>12364.060</td>\n",
              "    </tr>\n",
              "    <tr>\n",
              "      <th>175007</th>\n",
              "      <td>20029.550</td>\n",
              "    </tr>\n",
              "    <tr>\n",
              "      <th>200006</th>\n",
              "      <td>61489.560</td>\n",
              "    </tr>\n",
              "  </tbody>\n",
              "</table>\n",
              "</div>"
            ],
            "text/plain": [
              "                    acy_avl_bal\n",
              "customer_unique_id             \n",
              "56000                136043.480\n",
              "62005               1541733.575\n",
              "104008                12364.060\n",
              "175007                20029.550\n",
              "200006                61489.560"
            ]
          },
          "metadata": {
            "tags": []
          },
          "execution_count": 50
        }
      ]
    },
    {
      "cell_type": "code",
      "metadata": {
        "id": "jroSgT0J1vxk",
        "colab_type": "code",
        "colab": {
          "base_uri": "https://localhost:8080/",
          "height": 34
        },
        "outputId": "44edbde4-1fcd-44e7-9b94-f810555abae2"
      },
      "source": [
        "all_account.shape"
      ],
      "execution_count": 51,
      "outputs": [
        {
          "output_type": "execute_result",
          "data": {
            "text/plain": [
              "(12994, 1)"
            ]
          },
          "metadata": {
            "tags": []
          },
          "execution_count": 51
        }
      ]
    },
    {
      "cell_type": "code",
      "metadata": {
        "id": "hTBSGrbT15Jk",
        "colab_type": "code",
        "colab": {}
      },
      "source": [
        "all_account.to_csv('df_account.csv', encoding = 'utf-8', index = True)"
      ],
      "execution_count": 0,
      "outputs": []
    },
    {
      "cell_type": "code",
      "metadata": {
        "id": "hoaLSdZR3F7i",
        "colab_type": "code",
        "colab": {}
      },
      "source": [
        "df = pd.read_csv('df_account.csv',skiprows = 0)"
      ],
      "execution_count": 0,
      "outputs": []
    },
    {
      "cell_type": "code",
      "metadata": {
        "id": "6dG75qv03VGp",
        "colab_type": "code",
        "colab": {
          "base_uri": "https://localhost:8080/",
          "height": 204
        },
        "outputId": "88d08122-e133-44fa-9812-34f8f9b3582a"
      },
      "source": [
        "df.head()"
      ],
      "execution_count": 60,
      "outputs": [
        {
          "output_type": "execute_result",
          "data": {
            "text/html": [
              "<div>\n",
              "<style scoped>\n",
              "    .dataframe tbody tr th:only-of-type {\n",
              "        vertical-align: middle;\n",
              "    }\n",
              "\n",
              "    .dataframe tbody tr th {\n",
              "        vertical-align: top;\n",
              "    }\n",
              "\n",
              "    .dataframe thead th {\n",
              "        text-align: right;\n",
              "    }\n",
              "</style>\n",
              "<table border=\"1\" class=\"dataframe\">\n",
              "  <thead>\n",
              "    <tr style=\"text-align: right;\">\n",
              "      <th></th>\n",
              "      <th>customer_unique_id</th>\n",
              "      <th>acy_avl_bal</th>\n",
              "    </tr>\n",
              "  </thead>\n",
              "  <tbody>\n",
              "    <tr>\n",
              "      <th>0</th>\n",
              "      <td>56000</td>\n",
              "      <td>136043.480</td>\n",
              "    </tr>\n",
              "    <tr>\n",
              "      <th>1</th>\n",
              "      <td>62005</td>\n",
              "      <td>1541733.575</td>\n",
              "    </tr>\n",
              "    <tr>\n",
              "      <th>2</th>\n",
              "      <td>104008</td>\n",
              "      <td>12364.060</td>\n",
              "    </tr>\n",
              "    <tr>\n",
              "      <th>3</th>\n",
              "      <td>175007</td>\n",
              "      <td>20029.550</td>\n",
              "    </tr>\n",
              "    <tr>\n",
              "      <th>4</th>\n",
              "      <td>200006</td>\n",
              "      <td>61489.560</td>\n",
              "    </tr>\n",
              "  </tbody>\n",
              "</table>\n",
              "</div>"
            ],
            "text/plain": [
              "   customer_unique_id  acy_avl_bal\n",
              "0               56000   136043.480\n",
              "1               62005  1541733.575\n",
              "2              104008    12364.060\n",
              "3              175007    20029.550\n",
              "4              200006    61489.560"
            ]
          },
          "metadata": {
            "tags": []
          },
          "execution_count": 60
        }
      ]
    },
    {
      "cell_type": "code",
      "metadata": {
        "id": "IvdcANcbDXhk",
        "colab_type": "code",
        "colab": {}
      },
      "source": [
        "##reading in the all balances dataset\n",
        "\n",
        "all_balances = pd.read_csv('all_balances.csv')"
      ],
      "execution_count": 0,
      "outputs": []
    },
    {
      "cell_type": "code",
      "metadata": {
        "id": "BGZYW4jujtct",
        "colab_type": "code",
        "outputId": "3a86c6d2-9152-42d1-f011-465c1adbedcd",
        "colab": {
          "base_uri": "https://localhost:8080/",
          "height": 359
        }
      },
      "source": [
        "all_balances.head(10)"
      ],
      "execution_count": 62,
      "outputs": [
        {
          "output_type": "execute_result",
          "data": {
            "text/html": [
              "<div>\n",
              "<style scoped>\n",
              "    .dataframe tbody tr th:only-of-type {\n",
              "        vertical-align: middle;\n",
              "    }\n",
              "\n",
              "    .dataframe tbody tr th {\n",
              "        vertical-align: top;\n",
              "    }\n",
              "\n",
              "    .dataframe thead th {\n",
              "        text-align: right;\n",
              "    }\n",
              "</style>\n",
              "<table border=\"1\" class=\"dataframe\">\n",
              "  <thead>\n",
              "    <tr style=\"text-align: right;\">\n",
              "      <th></th>\n",
              "      <th>CUSTOMER_UNIQUE_ID</th>\n",
              "      <th>MASKED_ACCOUNT</th>\n",
              "      <th>VAL_DT</th>\n",
              "      <th>BAL</th>\n",
              "    </tr>\n",
              "  </thead>\n",
              "  <tbody>\n",
              "    <tr>\n",
              "      <th>0</th>\n",
              "      <td>47222000</td>\n",
              "      <td>00******35</td>\n",
              "      <td>9/8/2019</td>\n",
              "      <td>8235177.02</td>\n",
              "    </tr>\n",
              "    <tr>\n",
              "      <th>1</th>\n",
              "      <td>47222000</td>\n",
              "      <td>00******35</td>\n",
              "      <td>9/9/2019</td>\n",
              "      <td>8087464.52</td>\n",
              "    </tr>\n",
              "    <tr>\n",
              "      <th>2</th>\n",
              "      <td>47222000</td>\n",
              "      <td>00******35</td>\n",
              "      <td>9/10/2019</td>\n",
              "      <td>9173359.52</td>\n",
              "    </tr>\n",
              "    <tr>\n",
              "      <th>3</th>\n",
              "      <td>47222000</td>\n",
              "      <td>00******35</td>\n",
              "      <td>9/11/2019</td>\n",
              "      <td>9148307.02</td>\n",
              "    </tr>\n",
              "    <tr>\n",
              "      <th>4</th>\n",
              "      <td>47222000</td>\n",
              "      <td>00******35</td>\n",
              "      <td>9/12/2019</td>\n",
              "      <td>9149437.02</td>\n",
              "    </tr>\n",
              "    <tr>\n",
              "      <th>5</th>\n",
              "      <td>47222000</td>\n",
              "      <td>00******35</td>\n",
              "      <td>9/13/2019</td>\n",
              "      <td>9067077.02</td>\n",
              "    </tr>\n",
              "    <tr>\n",
              "      <th>6</th>\n",
              "      <td>47222000</td>\n",
              "      <td>00******35</td>\n",
              "      <td>9/14/2019</td>\n",
              "      <td>9046165.68</td>\n",
              "    </tr>\n",
              "    <tr>\n",
              "      <th>7</th>\n",
              "      <td>47222000</td>\n",
              "      <td>00******35</td>\n",
              "      <td>9/16/2019</td>\n",
              "      <td>7674405.68</td>\n",
              "    </tr>\n",
              "    <tr>\n",
              "      <th>8</th>\n",
              "      <td>47222000</td>\n",
              "      <td>00******35</td>\n",
              "      <td>9/17/2019</td>\n",
              "      <td>7536900.68</td>\n",
              "    </tr>\n",
              "    <tr>\n",
              "      <th>9</th>\n",
              "      <td>47222000</td>\n",
              "      <td>00******35</td>\n",
              "      <td>9/18/2019</td>\n",
              "      <td>7496848.18</td>\n",
              "    </tr>\n",
              "  </tbody>\n",
              "</table>\n",
              "</div>"
            ],
            "text/plain": [
              "   CUSTOMER_UNIQUE_ID MASKED_ACCOUNT     VAL_DT         BAL\n",
              "0            47222000     00******35   9/8/2019  8235177.02\n",
              "1            47222000     00******35   9/9/2019  8087464.52\n",
              "2            47222000     00******35  9/10/2019  9173359.52\n",
              "3            47222000     00******35  9/11/2019  9148307.02\n",
              "4            47222000     00******35  9/12/2019  9149437.02\n",
              "5            47222000     00******35  9/13/2019  9067077.02\n",
              "6            47222000     00******35  9/14/2019  9046165.68\n",
              "7            47222000     00******35  9/16/2019  7674405.68\n",
              "8            47222000     00******35  9/17/2019  7536900.68\n",
              "9            47222000     00******35  9/18/2019  7496848.18"
            ]
          },
          "metadata": {
            "tags": []
          },
          "execution_count": 62
        }
      ]
    },
    {
      "cell_type": "code",
      "metadata": {
        "id": "Z1nqzKuL42lq",
        "colab_type": "code",
        "colab": {
          "base_uri": "https://localhost:8080/",
          "height": 34
        },
        "outputId": "7e067b71-8cb9-4c43-c769-4a1867f29292"
      },
      "source": [
        "all_balances.shape"
      ],
      "execution_count": 63,
      "outputs": [
        {
          "output_type": "execute_result",
          "data": {
            "text/plain": [
              "(1347678, 4)"
            ]
          },
          "metadata": {
            "tags": []
          },
          "execution_count": 63
        }
      ]
    },
    {
      "cell_type": "code",
      "metadata": {
        "id": "t31Hh1qQjtc3",
        "colab_type": "code",
        "outputId": "a66a4479-8f75-4c58-a93d-f5641a42564b",
        "colab": {
          "base_uri": "https://localhost:8080/",
          "height": 34
        }
      },
      "source": [
        "all_balances.columns"
      ],
      "execution_count": 64,
      "outputs": [
        {
          "output_type": "execute_result",
          "data": {
            "text/plain": [
              "Index(['CUSTOMER_UNIQUE_ID', 'MASKED_ACCOUNT', 'VAL_DT', 'BAL'], dtype='object')"
            ]
          },
          "metadata": {
            "tags": []
          },
          "execution_count": 64
        }
      ]
    },
    {
      "cell_type": "code",
      "metadata": {
        "id": "fnioJTtJjtdH",
        "colab_type": "code",
        "colab": {}
      },
      "source": [
        "all_balances.columns = all_balances.columns.str.lower()"
      ],
      "execution_count": 0,
      "outputs": []
    },
    {
      "cell_type": "code",
      "metadata": {
        "id": "_1WnRc6hjtde",
        "colab_type": "code",
        "outputId": "1d6a197a-3bd9-4dae-e45c-ee2b017cf943",
        "colab": {
          "base_uri": "https://localhost:8080/",
          "height": 34
        }
      },
      "source": [
        "all_balances.columns"
      ],
      "execution_count": 66,
      "outputs": [
        {
          "output_type": "execute_result",
          "data": {
            "text/plain": [
              "Index(['customer_unique_id', 'masked_account', 'val_dt', 'bal'], dtype='object')"
            ]
          },
          "metadata": {
            "tags": []
          },
          "execution_count": 66
        }
      ]
    },
    {
      "cell_type": "code",
      "metadata": {
        "id": "pAlyZOYgcj1n",
        "colab_type": "code",
        "colab": {}
      },
      "source": [
        "all_balances.set_index('customer_unique_id',inplace=True)\n"
      ],
      "execution_count": 0,
      "outputs": []
    },
    {
      "cell_type": "code",
      "metadata": {
        "id": "01stKbWLdEG6",
        "colab_type": "code",
        "colab": {}
      },
      "source": [
        "all_balances.index = all_balances.index.astype('int')"
      ],
      "execution_count": 0,
      "outputs": []
    },
    {
      "cell_type": "code",
      "metadata": {
        "id": "lsxKxhTyjtdx",
        "colab_type": "code",
        "outputId": "36c8bf88-abd0-43c2-b9d3-5dd770a4af56",
        "colab": {
          "base_uri": "https://localhost:8080/",
          "height": 153
        }
      },
      "source": [
        "all_balances.info()"
      ],
      "execution_count": 69,
      "outputs": [
        {
          "output_type": "stream",
          "text": [
            "<class 'pandas.core.frame.DataFrame'>\n",
            "Int64Index: 1347678 entries, 47222000 to 306042003\n",
            "Data columns (total 3 columns):\n",
            "masked_account    1347678 non-null object\n",
            "val_dt            1347678 non-null object\n",
            "bal               1347678 non-null float64\n",
            "dtypes: float64(1), object(2)\n",
            "memory usage: 41.1+ MB\n"
          ],
          "name": "stdout"
        }
      ]
    },
    {
      "cell_type": "code",
      "metadata": {
        "id": "vuqCyENGVoRN",
        "colab_type": "code",
        "outputId": "981ac17d-0305-4d31-9c6e-089428002492",
        "colab": {
          "base_uri": "https://localhost:8080/",
          "height": 34
        }
      },
      "source": [
        "all_balances.isnull().any(axis=1).sum()"
      ],
      "execution_count": 70,
      "outputs": [
        {
          "output_type": "execute_result",
          "data": {
            "text/plain": [
              "0"
            ]
          },
          "metadata": {
            "tags": []
          },
          "execution_count": 70
        }
      ]
    },
    {
      "cell_type": "code",
      "metadata": {
        "id": "cUmHAvBvjteG",
        "colab_type": "code",
        "outputId": "f08eab2b-54a2-4cc9-ddf4-94624ffdfed7",
        "colab": {
          "base_uri": "https://localhost:8080/",
          "height": 85
        }
      },
      "source": [
        "all_balances.isnull().sum()"
      ],
      "execution_count": 71,
      "outputs": [
        {
          "output_type": "execute_result",
          "data": {
            "text/plain": [
              "masked_account    0\n",
              "val_dt            0\n",
              "bal               0\n",
              "dtype: int64"
            ]
          },
          "metadata": {
            "tags": []
          },
          "execution_count": 71
        }
      ]
    },
    {
      "cell_type": "code",
      "metadata": {
        "id": "hrlLK8p2dfi-",
        "colab_type": "code",
        "colab": {}
      },
      "source": [
        "##applying a sort and groupby function to sort val by picking/grouping the last date of transaction for each unique customer balance\n",
        "\n",
        "all_balances = all_balances.sort_values('val_dt').groupby(all_balances.index).tail(1)"
      ],
      "execution_count": 0,
      "outputs": []
    },
    {
      "cell_type": "code",
      "metadata": {
        "id": "4pY9Xqe5dfHk",
        "colab_type": "code",
        "outputId": "cb33f3f4-3701-4e7a-9e95-2b2b775c1081",
        "colab": {
          "base_uri": "https://localhost:8080/",
          "height": 34
        }
      },
      "source": [
        "##shape of the dataset\n",
        "\n",
        "all_balances.shape"
      ],
      "execution_count": 73,
      "outputs": [
        {
          "output_type": "execute_result",
          "data": {
            "text/plain": [
              "(17496, 3)"
            ]
          },
          "metadata": {
            "tags": []
          },
          "execution_count": 73
        }
      ]
    },
    {
      "cell_type": "code",
      "metadata": {
        "id": "Cnx92Z1cjtej",
        "colab_type": "code",
        "outputId": "324dc1d1-a8d6-41ce-e818-46abe21e6864",
        "colab": {
          "base_uri": "https://localhost:8080/",
          "height": 34
        }
      },
      "source": [
        "##summary stats\n",
        "\n",
        "all_balances.bal.min()"
      ],
      "execution_count": 74,
      "outputs": [
        {
          "output_type": "execute_result",
          "data": {
            "text/plain": [
              "-971931.55"
            ]
          },
          "metadata": {
            "tags": []
          },
          "execution_count": 74
        }
      ]
    },
    {
      "cell_type": "code",
      "metadata": {
        "scrolled": true,
        "id": "zJ2c7NrAjtez",
        "colab_type": "code",
        "outputId": "502026af-10bc-4963-bb6e-7d07ebd6c159",
        "colab": {
          "base_uri": "https://localhost:8080/",
          "height": 34
        }
      },
      "source": [
        "all_balances.bal.max()"
      ],
      "execution_count": 75,
      "outputs": [
        {
          "output_type": "execute_result",
          "data": {
            "text/plain": [
              "23500099.97"
            ]
          },
          "metadata": {
            "tags": []
          },
          "execution_count": 75
        }
      ]
    },
    {
      "cell_type": "code",
      "metadata": {
        "id": "YUh21LIGjtfD",
        "colab_type": "code",
        "outputId": "3e070353-b10d-4054-c4ad-b3029aba424b",
        "colab": {
          "base_uri": "https://localhost:8080/",
          "height": 34
        }
      },
      "source": [
        "all_balances.bal.mean()"
      ],
      "execution_count": 76,
      "outputs": [
        {
          "output_type": "execute_result",
          "data": {
            "text/plain": [
              "60305.08157235931"
            ]
          },
          "metadata": {
            "tags": []
          },
          "execution_count": 76
        }
      ]
    },
    {
      "cell_type": "code",
      "metadata": {
        "id": "xpFJGZkejtfR",
        "colab_type": "code",
        "outputId": "4dc32738-8833-48dd-ccf7-4f96e8f86522",
        "colab": {
          "base_uri": "https://localhost:8080/",
          "height": 34
        }
      },
      "source": [
        "all_balances.bal.median()"
      ],
      "execution_count": 77,
      "outputs": [
        {
          "output_type": "execute_result",
          "data": {
            "text/plain": [
              "4766.665"
            ]
          },
          "metadata": {
            "tags": []
          },
          "execution_count": 77
        }
      ]
    },
    {
      "cell_type": "code",
      "metadata": {
        "id": "yVTZ4fUMjtfl",
        "colab_type": "code",
        "outputId": "9a5d5ac6-f84b-4483-fb85-4989316e7070",
        "colab": {
          "base_uri": "https://localhost:8080/",
          "height": 34
        }
      },
      "source": [
        "all_balances.bal.std()"
      ],
      "execution_count": 78,
      "outputs": [
        {
          "output_type": "execute_result",
          "data": {
            "text/plain": [
              "398449.6722271348"
            ]
          },
          "metadata": {
            "tags": []
          },
          "execution_count": 78
        }
      ]
    },
    {
      "cell_type": "code",
      "metadata": {
        "id": "SqIoc1J2jtfy",
        "colab_type": "code",
        "outputId": "6a139233-079a-45ed-abee-3573a19a758c",
        "colab": {
          "base_uri": "https://localhost:8080/",
          "height": 296
        }
      },
      "source": [
        "##distribution plot to see the distribution of the bal column in the dataset\n",
        "##I observed the data is skewwed to the left meaning it isn't a normal distribution\n",
        "\n",
        "sns.distplot(all_balances['bal'])"
      ],
      "execution_count": 79,
      "outputs": [
        {
          "output_type": "execute_result",
          "data": {
            "text/plain": [
              "<matplotlib.axes._subplots.AxesSubplot at 0x7f0a469cdf98>"
            ]
          },
          "metadata": {
            "tags": []
          },
          "execution_count": 79
        },
        {
          "output_type": "display_data",
          "data": {
            "image/png": "[encoded data removed]",
            "text/plain": [
              "<Figure size 432x288 with 1 Axes>"
            ]
          },
          "metadata": {
            "tags": []
          }
        }
      ]
    },
    {
      "cell_type": "code",
      "metadata": {
        "id": "t-FSbJ9GjtgA",
        "colab_type": "code",
        "outputId": "d4d3e616-1555-445d-c35b-19913300c4b9",
        "colab": {
          "base_uri": "https://localhost:8080/",
          "height": 34
        }
      },
      "source": [
        "##checking the minimum date and maximum date\n",
        "\n",
        "all_balances.val_dt.min()"
      ],
      "execution_count": 80,
      "outputs": [
        {
          "output_type": "execute_result",
          "data": {
            "text/plain": [
              "'10/1/2019'"
            ]
          },
          "metadata": {
            "tags": []
          },
          "execution_count": 80
        }
      ]
    },
    {
      "cell_type": "code",
      "metadata": {
        "id": "iJpywJHrjtgU",
        "colab_type": "code",
        "outputId": "adbc2220-9433-4698-a75f-8fa6960972c3",
        "colab": {
          "base_uri": "https://localhost:8080/",
          "height": 34
        }
      },
      "source": [
        "all_balances.val_dt.max()"
      ],
      "execution_count": 81,
      "outputs": [
        {
          "output_type": "execute_result",
          "data": {
            "text/plain": [
              "'9/9/2019'"
            ]
          },
          "metadata": {
            "tags": []
          },
          "execution_count": 81
        }
      ]
    },
    {
      "cell_type": "code",
      "metadata": {
        "id": "UmW0hPj6jtgt",
        "colab_type": "code",
        "colab": {}
      },
      "source": [
        "##dropping columns I do not need\n",
        "\n",
        "all_balances.drop(columns = 'masked_account', inplace = True)"
      ],
      "execution_count": 0,
      "outputs": []
    },
    {
      "cell_type": "code",
      "metadata": {
        "id": "qHHvXnWYjthK",
        "colab_type": "code",
        "outputId": "2bc4755e-a20b-4344-8a89-90f663d6c998",
        "colab": {
          "base_uri": "https://localhost:8080/",
          "height": 235
        }
      },
      "source": [
        "all_balances.head()"
      ],
      "execution_count": 83,
      "outputs": [
        {
          "output_type": "execute_result",
          "data": {
            "text/html": [
              "<div>\n",
              "<style scoped>\n",
              "    .dataframe tbody tr th:only-of-type {\n",
              "        vertical-align: middle;\n",
              "    }\n",
              "\n",
              "    .dataframe tbody tr th {\n",
              "        vertical-align: top;\n",
              "    }\n",
              "\n",
              "    .dataframe thead th {\n",
              "        text-align: right;\n",
              "    }\n",
              "</style>\n",
              "<table border=\"1\" class=\"dataframe\">\n",
              "  <thead>\n",
              "    <tr style=\"text-align: right;\">\n",
              "      <th></th>\n",
              "      <th>val_dt</th>\n",
              "      <th>bal</th>\n",
              "    </tr>\n",
              "    <tr>\n",
              "      <th>customer_unique_id</th>\n",
              "      <th></th>\n",
              "      <th></th>\n",
              "    </tr>\n",
              "  </thead>\n",
              "  <tbody>\n",
              "    <tr>\n",
              "      <th>278604001</th>\n",
              "      <td>10/1/2019</td>\n",
              "      <td>20017.89</td>\n",
              "    </tr>\n",
              "    <tr>\n",
              "      <th>936686000</th>\n",
              "      <td>10/1/2019</td>\n",
              "      <td>77327.98</td>\n",
              "    </tr>\n",
              "    <tr>\n",
              "      <th>344873019</th>\n",
              "      <td>10/1/2019</td>\n",
              "      <td>27.57</td>\n",
              "    </tr>\n",
              "    <tr>\n",
              "      <th>656653006</th>\n",
              "      <td>10/1/2019</td>\n",
              "      <td>1000.00</td>\n",
              "    </tr>\n",
              "    <tr>\n",
              "      <th>492905009</th>\n",
              "      <td>10/1/2019</td>\n",
              "      <td>17058.14</td>\n",
              "    </tr>\n",
              "  </tbody>\n",
              "</table>\n",
              "</div>"
            ],
            "text/plain": [
              "                       val_dt       bal\n",
              "customer_unique_id                     \n",
              "278604001           10/1/2019  20017.89\n",
              "936686000           10/1/2019  77327.98\n",
              "344873019           10/1/2019     27.57\n",
              "656653006           10/1/2019   1000.00\n",
              "492905009           10/1/2019  17058.14"
            ]
          },
          "metadata": {
            "tags": []
          },
          "execution_count": 83
        }
      ]
    },
    {
      "cell_type": "code",
      "metadata": {
        "id": "S3RXe5BNaIXm",
        "colab_type": "code",
        "outputId": "8472e86c-09fd-4ff1-dbfa-b4a8c8f730bf",
        "colab": {
          "base_uri": "https://localhost:8080/",
          "height": 34
        }
      },
      "source": [
        "all_balances.shape"
      ],
      "execution_count": 84,
      "outputs": [
        {
          "output_type": "execute_result",
          "data": {
            "text/plain": [
              "(17496, 2)"
            ]
          },
          "metadata": {
            "tags": []
          },
          "execution_count": 84
        }
      ]
    },
    {
      "cell_type": "code",
      "metadata": {
        "id": "fcpXg_9p6wyl",
        "colab_type": "code",
        "colab": {
          "base_uri": "https://localhost:8080/",
          "height": 34
        },
        "outputId": "79823107-90c5-44ed-ea07-e521e7f6b466"
      },
      "source": [
        "all_balances.index.min()"
      ],
      "execution_count": 85,
      "outputs": [
        {
          "output_type": "execute_result",
          "data": {
            "text/plain": [
              "62005"
            ]
          },
          "metadata": {
            "tags": []
          },
          "execution_count": 85
        }
      ]
    },
    {
      "cell_type": "code",
      "metadata": {
        "id": "smIkgseZ64P4",
        "colab_type": "code",
        "colab": {
          "base_uri": "https://localhost:8080/",
          "height": 34
        },
        "outputId": "0a4ac744-59f1-4c8e-b86a-fef03cf6a182"
      },
      "source": [
        "all_balances.index.max()"
      ],
      "execution_count": 86,
      "outputs": [
        {
          "output_type": "execute_result",
          "data": {
            "text/plain": [
              "999944001"
            ]
          },
          "metadata": {
            "tags": []
          },
          "execution_count": 86
        }
      ]
    },
    {
      "cell_type": "code",
      "metadata": {
        "id": "PWoh0qgN7Bq2",
        "colab_type": "code",
        "colab": {}
      },
      "source": [
        "all_balances.to_csv('df_balances.csv', encoding = 'utf-8', index = True)\n"
      ],
      "execution_count": 0,
      "outputs": []
    },
    {
      "cell_type": "code",
      "metadata": {
        "id": "m8GkaC3J7emV",
        "colab_type": "code",
        "colab": {}
      },
      "source": [
        " df_balances = pd.read_csv('df_balances.csv',skiprows = 0)"
      ],
      "execution_count": 0,
      "outputs": []
    },
    {
      "cell_type": "code",
      "metadata": {
        "id": "Eb3FzyiM7yIp",
        "colab_type": "code",
        "colab": {
          "base_uri": "https://localhost:8080/",
          "height": 204
        },
        "outputId": "a65444e9-2e5c-4966-e21d-cf1872208e12"
      },
      "source": [
        "df_balances.head()"
      ],
      "execution_count": 90,
      "outputs": [
        {
          "output_type": "execute_result",
          "data": {
            "text/html": [
              "<div>\n",
              "<style scoped>\n",
              "    .dataframe tbody tr th:only-of-type {\n",
              "        vertical-align: middle;\n",
              "    }\n",
              "\n",
              "    .dataframe tbody tr th {\n",
              "        vertical-align: top;\n",
              "    }\n",
              "\n",
              "    .dataframe thead th {\n",
              "        text-align: right;\n",
              "    }\n",
              "</style>\n",
              "<table border=\"1\" class=\"dataframe\">\n",
              "  <thead>\n",
              "    <tr style=\"text-align: right;\">\n",
              "      <th></th>\n",
              "      <th>customer_unique_id</th>\n",
              "      <th>val_dt</th>\n",
              "      <th>bal</th>\n",
              "    </tr>\n",
              "  </thead>\n",
              "  <tbody>\n",
              "    <tr>\n",
              "      <th>0</th>\n",
              "      <td>278604001</td>\n",
              "      <td>10/1/2019</td>\n",
              "      <td>20017.89</td>\n",
              "    </tr>\n",
              "    <tr>\n",
              "      <th>1</th>\n",
              "      <td>936686000</td>\n",
              "      <td>10/1/2019</td>\n",
              "      <td>77327.98</td>\n",
              "    </tr>\n",
              "    <tr>\n",
              "      <th>2</th>\n",
              "      <td>344873019</td>\n",
              "      <td>10/1/2019</td>\n",
              "      <td>27.57</td>\n",
              "    </tr>\n",
              "    <tr>\n",
              "      <th>3</th>\n",
              "      <td>656653006</td>\n",
              "      <td>10/1/2019</td>\n",
              "      <td>1000.00</td>\n",
              "    </tr>\n",
              "    <tr>\n",
              "      <th>4</th>\n",
              "      <td>492905009</td>\n",
              "      <td>10/1/2019</td>\n",
              "      <td>17058.14</td>\n",
              "    </tr>\n",
              "  </tbody>\n",
              "</table>\n",
              "</div>"
            ],
            "text/plain": [
              "   customer_unique_id     val_dt       bal\n",
              "0           278604001  10/1/2019  20017.89\n",
              "1           936686000  10/1/2019  77327.98\n",
              "2           344873019  10/1/2019     27.57\n",
              "3           656653006  10/1/2019   1000.00\n",
              "4           492905009  10/1/2019  17058.14"
            ]
          },
          "metadata": {
            "tags": []
          },
          "execution_count": 90
        }
      ]
    },
    {
      "cell_type": "code",
      "metadata": {
        "id": "BzjDVyQK5bp8",
        "colab_type": "code",
        "colab": {}
      },
      "source": [
        "##working with the demographics dataset\n",
        "\n",
        "all_demo = pd.read_csv('all_demographics.csv', sep = '|', low_memory=False)"
      ],
      "execution_count": 0,
      "outputs": []
    },
    {
      "cell_type": "code",
      "metadata": {
        "id": "7ODxFQ7ujthm",
        "colab_type": "code",
        "outputId": "2bd71a52-1158-4728-8cd1-d473b4eb76a5",
        "colab": {
          "base_uri": "https://localhost:8080/",
          "height": 612
        }
      },
      "source": [
        "all_demo.head(10)"
      ],
      "execution_count": 220,
      "outputs": [
        {
          "output_type": "execute_result",
          "data": {
            "text/html": [
              "<div>\n",
              "<style scoped>\n",
              "    .dataframe tbody tr th:only-of-type {\n",
              "        vertical-align: middle;\n",
              "    }\n",
              "\n",
              "    .dataframe tbody tr th {\n",
              "        vertical-align: top;\n",
              "    }\n",
              "\n",
              "    .dataframe thead th {\n",
              "        text-align: right;\n",
              "    }\n",
              "</style>\n",
              "<table border=\"1\" class=\"dataframe\">\n",
              "  <thead>\n",
              "    <tr style=\"text-align: right;\">\n",
              "      <th></th>\n",
              "      <th>CUSTOMER_UNIQUE_ID</th>\n",
              "      <th>CUSTOMER_TYPE</th>\n",
              "      <th>ADDRESS_LINE3</th>\n",
              "      <th>ADDRESS_LINE4</th>\n",
              "      <th>COUNTRY</th>\n",
              "      <th>NATIONALITY</th>\n",
              "      <th>LANGUAGE</th>\n",
              "      <th>EXPOSURE_COUNTRY</th>\n",
              "      <th>LOCAL_BRANCH</th>\n",
              "      <th>FROZEN</th>\n",
              "      <th>DECEASED</th>\n",
              "      <th>WHEREABOUTS_UNKNOWN</th>\n",
              "      <th>CUSTOMER_CATEGORY</th>\n",
              "      <th>HO_AC_NO</th>\n",
              "      <th>FX_CUST_CLEAN_RISK_LIMIT</th>\n",
              "      <th>OVERALL_LIMIT</th>\n",
              "      <th>FX_CLEAN_RISK_LIMIT</th>\n",
              "      <th>CREDIT_RATING</th>\n",
              "      <th>LIMIT_CCY</th>\n",
              "      <th>CAS_CUST</th>\n",
              "      <th>LIAB_NODE</th>\n",
              "      <th>SEC_CUST_CLEAN_RISK_LIMIT</th>\n",
              "      <th>SEC_CLEAN_RISK_LIMIT</th>\n",
              "      <th>SEC_CUST_PSTL_RISK_LIMIT</th>\n",
              "      <th>SEC_PSTL_RISK_LIMIT</th>\n",
              "      <th>LIAB_BR</th>\n",
              "      <th>PAST_DUE_FLAG</th>\n",
              "      <th>DEFAULT_MEDIA</th>\n",
              "      <th>SSN</th>\n",
              "      <th>SWIFT_CODE</th>\n",
              "      <th>LOC_CODE</th>\n",
              "      <th>UTILITY_PROVIDER</th>\n",
              "      <th>UTILITY_PROVIDER_ID</th>\n",
              "      <th>RISK_PROFILE</th>\n",
              "      <th>DEBTOR_CATEGORY</th>\n",
              "      <th>UDF_1</th>\n",
              "      <th>UDF_2</th>\n",
              "      <th>UDF_3</th>\n",
              "      <th>UDF_4</th>\n",
              "      <th>UDF_5</th>\n",
              "      <th>...</th>\n",
              "      <th>PINCODE</th>\n",
              "      <th>MFI_CUSTOMER</th>\n",
              "      <th>CUSTOMER_PREFIX</th>\n",
              "      <th>DATE_OF_BIRTH</th>\n",
              "      <th>MINOR</th>\n",
              "      <th>SEX</th>\n",
              "      <th>RESIDENT_STATUS</th>\n",
              "      <th>AGE_PROOF_SUBMITTED</th>\n",
              "      <th>CUST_COMM_MODE</th>\n",
              "      <th>PLACE_OF_BIRTH</th>\n",
              "      <th>BIRTH_COUNTRY</th>\n",
              "      <th>US_RES_STATUS</th>\n",
              "      <th>VST_US_PREV</th>\n",
              "      <th>P_PINCODE</th>\n",
              "      <th>PREF_CONTACT_DT</th>\n",
              "      <th>PREF_CONTACT_TIME</th>\n",
              "      <th>D_PINCODE</th>\n",
              "      <th>EDUCATIONAL_STATUS</th>\n",
              "      <th>MARITAL_STATUS</th>\n",
              "      <th>SPOUSE_NAME</th>\n",
              "      <th>SPOUSE_EMP_STATUS</th>\n",
              "      <th>DEPENDENT_CHILDREN</th>\n",
              "      <th>DEPENDENT_OTHERS</th>\n",
              "      <th>ACCOMODATION</th>\n",
              "      <th>EMPLOYMENT_STATUS</th>\n",
              "      <th>EMPLOYMENT_TENURE</th>\n",
              "      <th>RETIREMENT_AGE</th>\n",
              "      <th>PREV_DESIGNATION</th>\n",
              "      <th>PREV_EMPLOYER</th>\n",
              "      <th>DESIGNATION</th>\n",
              "      <th>SALARY</th>\n",
              "      <th>OTHER_INCOME</th>\n",
              "      <th>RENT</th>\n",
              "      <th>INSURANCE</th>\n",
              "      <th>LOAN_PAYMENT</th>\n",
              "      <th>OTHER_EXPENSES</th>\n",
              "      <th>HOUSE_VALUE</th>\n",
              "      <th>CREDIT_CARDS</th>\n",
              "      <th>E_COUNTRY</th>\n",
              "      <th>CCY_PERS_INCEXP</th>\n",
              "    </tr>\n",
              "  </thead>\n",
              "  <tbody>\n",
              "    <tr>\n",
              "      <th>0</th>\n",
              "      <td>18030000</td>\n",
              "      <td>I</td>\n",
              "      <td>,  IKOYI</td>\n",
              "      <td>LAGOS</td>\n",
              "      <td>NG</td>\n",
              "      <td>NG</td>\n",
              "      <td>ENG</td>\n",
              "      <td>NG</td>\n",
              "      <td>3</td>\n",
              "      <td>N</td>\n",
              "      <td>N</td>\n",
              "      <td>N</td>\n",
              "      <td>IND</td>\n",
              "      <td>NaN</td>\n",
              "      <td>0.0</td>\n",
              "      <td>0.0</td>\n",
              "      <td>0.0</td>\n",
              "      <td>NaN</td>\n",
              "      <td>NGN</td>\n",
              "      <td>NaN</td>\n",
              "      <td>FCUBSPAR</td>\n",
              "      <td>0.0</td>\n",
              "      <td>0.0</td>\n",
              "      <td>0.0</td>\n",
              "      <td>0.0</td>\n",
              "      <td>3</td>\n",
              "      <td>NaN</td>\n",
              "      <td>MAIL</td>\n",
              "      <td>NaN</td>\n",
              "      <td>NaN</td>\n",
              "      <td>NaN</td>\n",
              "      <td>N</td>\n",
              "      <td>NaN</td>\n",
              "      <td>NaN</td>\n",
              "      <td>NaN</td>\n",
              "      <td>NaN</td>\n",
              "      <td>NaN</td>\n",
              "      <td>NaN</td>\n",
              "      <td>NaN</td>\n",
              "      <td>NaN</td>\n",
              "      <td>...</td>\n",
              "      <td>23401</td>\n",
              "      <td>N</td>\n",
              "      <td>MR</td>\n",
              "      <td>1966-08-15 00:00:00</td>\n",
              "      <td>N</td>\n",
              "      <td>M</td>\n",
              "      <td>R</td>\n",
              "      <td>N</td>\n",
              "      <td>E</td>\n",
              "      <td>NaN</td>\n",
              "      <td>NG</td>\n",
              "      <td>N</td>\n",
              "      <td>N</td>\n",
              "      <td>NaN</td>\n",
              "      <td>NaN</td>\n",
              "      <td>0.0</td>\n",
              "      <td>NaN</td>\n",
              "      <td>NaN</td>\n",
              "      <td>M</td>\n",
              "      <td>NaN</td>\n",
              "      <td>NaN</td>\n",
              "      <td>0.0</td>\n",
              "      <td>0.0</td>\n",
              "      <td>NaN</td>\n",
              "      <td>NaN</td>\n",
              "      <td>NaN</td>\n",
              "      <td>NaN</td>\n",
              "      <td>NaN</td>\n",
              "      <td>NaN</td>\n",
              "      <td>NaN</td>\n",
              "      <td>NaN</td>\n",
              "      <td>NaN</td>\n",
              "      <td>NaN</td>\n",
              "      <td>NaN</td>\n",
              "      <td>NaN</td>\n",
              "      <td>NaN</td>\n",
              "      <td>NaN</td>\n",
              "      <td>NaN</td>\n",
              "      <td>NaN</td>\n",
              "      <td>NaN</td>\n",
              "    </tr>\n",
              "    <tr>\n",
              "      <th>1</th>\n",
              "      <td>33020001</td>\n",
              "      <td>I</td>\n",
              "      <td>,  IKORODU</td>\n",
              "      <td>LAGOS</td>\n",
              "      <td>NG</td>\n",
              "      <td>NG</td>\n",
              "      <td>ENG</td>\n",
              "      <td>NG</td>\n",
              "      <td>6</td>\n",
              "      <td>N</td>\n",
              "      <td>N</td>\n",
              "      <td>N</td>\n",
              "      <td>IND</td>\n",
              "      <td>NaN</td>\n",
              "      <td>0.0</td>\n",
              "      <td>0.0</td>\n",
              "      <td>0.0</td>\n",
              "      <td>NaN</td>\n",
              "      <td>NGN</td>\n",
              "      <td>NaN</td>\n",
              "      <td>FCUBSPAR</td>\n",
              "      <td>0.0</td>\n",
              "      <td>0.0</td>\n",
              "      <td>0.0</td>\n",
              "      <td>0.0</td>\n",
              "      <td>6</td>\n",
              "      <td>NaN</td>\n",
              "      <td>MAIL</td>\n",
              "      <td>NaN</td>\n",
              "      <td>NaN</td>\n",
              "      <td>NaN</td>\n",
              "      <td>N</td>\n",
              "      <td>NaN</td>\n",
              "      <td>NaN</td>\n",
              "      <td>NaN</td>\n",
              "      <td>NaN</td>\n",
              "      <td>NaN</td>\n",
              "      <td>NaN</td>\n",
              "      <td>NaN</td>\n",
              "      <td>NaN</td>\n",
              "      <td>...</td>\n",
              "      <td>NaN</td>\n",
              "      <td>NaN</td>\n",
              "      <td>MR</td>\n",
              "      <td>1950-01-01 00:00:00</td>\n",
              "      <td>N</td>\n",
              "      <td>M</td>\n",
              "      <td>R</td>\n",
              "      <td>N</td>\n",
              "      <td>NaN</td>\n",
              "      <td>NaN</td>\n",
              "      <td>NG</td>\n",
              "      <td>NaN</td>\n",
              "      <td>NaN</td>\n",
              "      <td>NaN</td>\n",
              "      <td>NaN</td>\n",
              "      <td>NaN</td>\n",
              "      <td>NaN</td>\n",
              "      <td>NaN</td>\n",
              "      <td>S</td>\n",
              "      <td>NaN</td>\n",
              "      <td>NaN</td>\n",
              "      <td>0.0</td>\n",
              "      <td>0.0</td>\n",
              "      <td>NaN</td>\n",
              "      <td>NaN</td>\n",
              "      <td>NaN</td>\n",
              "      <td>NaN</td>\n",
              "      <td>NaN</td>\n",
              "      <td>NaN</td>\n",
              "      <td>NaN</td>\n",
              "      <td>NaN</td>\n",
              "      <td>NaN</td>\n",
              "      <td>NaN</td>\n",
              "      <td>NaN</td>\n",
              "      <td>NaN</td>\n",
              "      <td>NaN</td>\n",
              "      <td>NaN</td>\n",
              "      <td>NaN</td>\n",
              "      <td>NaN</td>\n",
              "      <td>NaN</td>\n",
              "    </tr>\n",
              "    <tr>\n",
              "      <th>2</th>\n",
              "      <td>69090004</td>\n",
              "      <td>I</td>\n",
              "      <td>Lagos State</td>\n",
              "      <td>,  VICTORIA ISLAND</td>\n",
              "      <td>NG</td>\n",
              "      <td>NG</td>\n",
              "      <td>ENG</td>\n",
              "      <td>NG</td>\n",
              "      <td>14</td>\n",
              "      <td>N</td>\n",
              "      <td>N</td>\n",
              "      <td>N</td>\n",
              "      <td>IND</td>\n",
              "      <td>NaN</td>\n",
              "      <td>0.0</td>\n",
              "      <td>0.0</td>\n",
              "      <td>0.0</td>\n",
              "      <td>NaN</td>\n",
              "      <td>NGN</td>\n",
              "      <td>NaN</td>\n",
              "      <td>FCUBSPAR</td>\n",
              "      <td>0.0</td>\n",
              "      <td>0.0</td>\n",
              "      <td>0.0</td>\n",
              "      <td>0.0</td>\n",
              "      <td>14</td>\n",
              "      <td>NaN</td>\n",
              "      <td>MAIL</td>\n",
              "      <td>NaN</td>\n",
              "      <td>NaN</td>\n",
              "      <td>NaN</td>\n",
              "      <td>N</td>\n",
              "      <td>NaN</td>\n",
              "      <td>NaN</td>\n",
              "      <td>NaN</td>\n",
              "      <td>NaN</td>\n",
              "      <td>NaN</td>\n",
              "      <td>NaN</td>\n",
              "      <td>NaN</td>\n",
              "      <td>NaN</td>\n",
              "      <td>...</td>\n",
              "      <td>234</td>\n",
              "      <td>N</td>\n",
              "      <td>Ms.</td>\n",
              "      <td>1970-04-10 00:00:00</td>\n",
              "      <td>N</td>\n",
              "      <td>F</td>\n",
              "      <td>R</td>\n",
              "      <td>N</td>\n",
              "      <td>E</td>\n",
              "      <td>NaN</td>\n",
              "      <td>NG</td>\n",
              "      <td>N</td>\n",
              "      <td>N</td>\n",
              "      <td>NaN</td>\n",
              "      <td>NaN</td>\n",
              "      <td>0.0</td>\n",
              "      <td>NaN</td>\n",
              "      <td>NaN</td>\n",
              "      <td>M</td>\n",
              "      <td>NaN</td>\n",
              "      <td>NaN</td>\n",
              "      <td>0.0</td>\n",
              "      <td>0.0</td>\n",
              "      <td>NaN</td>\n",
              "      <td>NaN</td>\n",
              "      <td>NaN</td>\n",
              "      <td>NaN</td>\n",
              "      <td>NaN</td>\n",
              "      <td>NaN</td>\n",
              "      <td>NaN</td>\n",
              "      <td>NaN</td>\n",
              "      <td>NaN</td>\n",
              "      <td>NaN</td>\n",
              "      <td>NaN</td>\n",
              "      <td>NaN</td>\n",
              "      <td>NaN</td>\n",
              "      <td>NaN</td>\n",
              "      <td>NaN</td>\n",
              "      <td>NaN</td>\n",
              "      <td>NaN</td>\n",
              "    </tr>\n",
              "    <tr>\n",
              "      <th>3</th>\n",
              "      <td>81010006</td>\n",
              "      <td>I</td>\n",
              "      <td>SHAGAMU ROAD,  IKORODU</td>\n",
              "      <td>LAGOS</td>\n",
              "      <td>NG</td>\n",
              "      <td>NG</td>\n",
              "      <td>ENG</td>\n",
              "      <td>NG</td>\n",
              "      <td>6</td>\n",
              "      <td>N</td>\n",
              "      <td>N</td>\n",
              "      <td>N</td>\n",
              "      <td>IND</td>\n",
              "      <td>NaN</td>\n",
              "      <td>0.0</td>\n",
              "      <td>0.0</td>\n",
              "      <td>0.0</td>\n",
              "      <td>NaN</td>\n",
              "      <td>NGN</td>\n",
              "      <td>NaN</td>\n",
              "      <td>FCUBSPAR</td>\n",
              "      <td>0.0</td>\n",
              "      <td>0.0</td>\n",
              "      <td>0.0</td>\n",
              "      <td>0.0</td>\n",
              "      <td>6</td>\n",
              "      <td>NaN</td>\n",
              "      <td>MAIL</td>\n",
              "      <td>NaN</td>\n",
              "      <td>NaN</td>\n",
              "      <td>NaN</td>\n",
              "      <td>N</td>\n",
              "      <td>NaN</td>\n",
              "      <td>NaN</td>\n",
              "      <td>NaN</td>\n",
              "      <td>NaN</td>\n",
              "      <td>NaN</td>\n",
              "      <td>NaN</td>\n",
              "      <td>NaN</td>\n",
              "      <td>NaN</td>\n",
              "      <td>...</td>\n",
              "      <td>234</td>\n",
              "      <td>NaN</td>\n",
              "      <td>MR</td>\n",
              "      <td>1967-04-26 00:00:00</td>\n",
              "      <td>N</td>\n",
              "      <td>M</td>\n",
              "      <td>R</td>\n",
              "      <td>N</td>\n",
              "      <td>NaN</td>\n",
              "      <td>NaN</td>\n",
              "      <td>NG</td>\n",
              "      <td>NaN</td>\n",
              "      <td>NaN</td>\n",
              "      <td>NaN</td>\n",
              "      <td>NaN</td>\n",
              "      <td>NaN</td>\n",
              "      <td>NaN</td>\n",
              "      <td>NaN</td>\n",
              "      <td>M</td>\n",
              "      <td>NaN</td>\n",
              "      <td>NaN</td>\n",
              "      <td>0.0</td>\n",
              "      <td>0.0</td>\n",
              "      <td>NaN</td>\n",
              "      <td>NaN</td>\n",
              "      <td>NaN</td>\n",
              "      <td>NaN</td>\n",
              "      <td>NaN</td>\n",
              "      <td>NaN</td>\n",
              "      <td>NaN</td>\n",
              "      <td>NaN</td>\n",
              "      <td>NaN</td>\n",
              "      <td>NaN</td>\n",
              "      <td>NaN</td>\n",
              "      <td>NaN</td>\n",
              "      <td>NaN</td>\n",
              "      <td>NaN</td>\n",
              "      <td>NaN</td>\n",
              "      <td>NaN</td>\n",
              "      <td>NaN</td>\n",
              "    </tr>\n",
              "    <tr>\n",
              "      <th>4</th>\n",
              "      <td>71120007</td>\n",
              "      <td>I</td>\n",
              "      <td>,  SURULERE</td>\n",
              "      <td>LAGOS</td>\n",
              "      <td>NG</td>\n",
              "      <td>NG</td>\n",
              "      <td>ENG</td>\n",
              "      <td>NG</td>\n",
              "      <td>4</td>\n",
              "      <td>N</td>\n",
              "      <td>N</td>\n",
              "      <td>N</td>\n",
              "      <td>IND</td>\n",
              "      <td>NaN</td>\n",
              "      <td>0.0</td>\n",
              "      <td>0.0</td>\n",
              "      <td>0.0</td>\n",
              "      <td>NaN</td>\n",
              "      <td>NGN</td>\n",
              "      <td>NaN</td>\n",
              "      <td>FCUBSPAR</td>\n",
              "      <td>0.0</td>\n",
              "      <td>0.0</td>\n",
              "      <td>0.0</td>\n",
              "      <td>0.0</td>\n",
              "      <td>4</td>\n",
              "      <td>NaN</td>\n",
              "      <td>MAIL</td>\n",
              "      <td>NaN</td>\n",
              "      <td>NaN</td>\n",
              "      <td>NaN</td>\n",
              "      <td>N</td>\n",
              "      <td>NaN</td>\n",
              "      <td>NaN</td>\n",
              "      <td>NaN</td>\n",
              "      <td>NaN</td>\n",
              "      <td>NaN</td>\n",
              "      <td>NaN</td>\n",
              "      <td>NaN</td>\n",
              "      <td>NaN</td>\n",
              "      <td>...</td>\n",
              "      <td>234</td>\n",
              "      <td>N</td>\n",
              "      <td>MR</td>\n",
              "      <td>1965-09-24 00:00:00</td>\n",
              "      <td>N</td>\n",
              "      <td>M</td>\n",
              "      <td>R</td>\n",
              "      <td>N</td>\n",
              "      <td>M</td>\n",
              "      <td>NaN</td>\n",
              "      <td>NG</td>\n",
              "      <td>N</td>\n",
              "      <td>N</td>\n",
              "      <td>NaN</td>\n",
              "      <td>NaN</td>\n",
              "      <td>0.0</td>\n",
              "      <td>NaN</td>\n",
              "      <td>NaN</td>\n",
              "      <td>M</td>\n",
              "      <td>NaN</td>\n",
              "      <td>NaN</td>\n",
              "      <td>0.0</td>\n",
              "      <td>0.0</td>\n",
              "      <td>NaN</td>\n",
              "      <td>NaN</td>\n",
              "      <td>NaN</td>\n",
              "      <td>NaN</td>\n",
              "      <td>NaN</td>\n",
              "      <td>NaN</td>\n",
              "      <td>NaN</td>\n",
              "      <td>NaN</td>\n",
              "      <td>NaN</td>\n",
              "      <td>NaN</td>\n",
              "      <td>NaN</td>\n",
              "      <td>NaN</td>\n",
              "      <td>NaN</td>\n",
              "      <td>NaN</td>\n",
              "      <td>NaN</td>\n",
              "      <td>NaN</td>\n",
              "      <td>NaN</td>\n",
              "    </tr>\n",
              "    <tr>\n",
              "      <th>5</th>\n",
              "      <td>82150007</td>\n",
              "      <td>I</td>\n",
              "      <td>Lagos State</td>\n",
              "      <td>APAPA,  APAPA</td>\n",
              "      <td>NG</td>\n",
              "      <td>NG</td>\n",
              "      <td>ENG</td>\n",
              "      <td>NG</td>\n",
              "      <td>1</td>\n",
              "      <td>N</td>\n",
              "      <td>N</td>\n",
              "      <td>N</td>\n",
              "      <td>IND</td>\n",
              "      <td>NaN</td>\n",
              "      <td>0.0</td>\n",
              "      <td>0.0</td>\n",
              "      <td>0.0</td>\n",
              "      <td>NaN</td>\n",
              "      <td>NGN</td>\n",
              "      <td>NaN</td>\n",
              "      <td>FCUBSPAR</td>\n",
              "      <td>0.0</td>\n",
              "      <td>0.0</td>\n",
              "      <td>0.0</td>\n",
              "      <td>0.0</td>\n",
              "      <td>1</td>\n",
              "      <td>NaN</td>\n",
              "      <td>MAIL</td>\n",
              "      <td>NaN</td>\n",
              "      <td>NaN</td>\n",
              "      <td>NaN</td>\n",
              "      <td>N</td>\n",
              "      <td>NaN</td>\n",
              "      <td>NaN</td>\n",
              "      <td>NaN</td>\n",
              "      <td>NaN</td>\n",
              "      <td>NaN</td>\n",
              "      <td>NaN</td>\n",
              "      <td>NaN</td>\n",
              "      <td>NaN</td>\n",
              "      <td>...</td>\n",
              "      <td>234</td>\n",
              "      <td>N</td>\n",
              "      <td>MR</td>\n",
              "      <td>1962-12-01 00:00:00</td>\n",
              "      <td>N</td>\n",
              "      <td>M</td>\n",
              "      <td>R</td>\n",
              "      <td>N</td>\n",
              "      <td>M</td>\n",
              "      <td>NaN</td>\n",
              "      <td>NG</td>\n",
              "      <td>N</td>\n",
              "      <td>N</td>\n",
              "      <td>234</td>\n",
              "      <td>NaN</td>\n",
              "      <td>0.0</td>\n",
              "      <td>234</td>\n",
              "      <td>NaN</td>\n",
              "      <td>S</td>\n",
              "      <td>NaN</td>\n",
              "      <td>NaN</td>\n",
              "      <td>0.0</td>\n",
              "      <td>0.0</td>\n",
              "      <td>NaN</td>\n",
              "      <td>NaN</td>\n",
              "      <td>NaN</td>\n",
              "      <td>NaN</td>\n",
              "      <td>NaN</td>\n",
              "      <td>NaN</td>\n",
              "      <td>NaN</td>\n",
              "      <td>NaN</td>\n",
              "      <td>NaN</td>\n",
              "      <td>NaN</td>\n",
              "      <td>NaN</td>\n",
              "      <td>NaN</td>\n",
              "      <td>NaN</td>\n",
              "      <td>NaN</td>\n",
              "      <td>NaN</td>\n",
              "      <td>NaN</td>\n",
              "      <td>NaN</td>\n",
              "    </tr>\n",
              "    <tr>\n",
              "      <th>6</th>\n",
              "      <td>91290003</td>\n",
              "      <td>I</td>\n",
              "      <td>,  BENIN</td>\n",
              "      <td>EDO</td>\n",
              "      <td>NG</td>\n",
              "      <td>NG</td>\n",
              "      <td>ENG</td>\n",
              "      <td>NG</td>\n",
              "      <td>1</td>\n",
              "      <td>N</td>\n",
              "      <td>N</td>\n",
              "      <td>N</td>\n",
              "      <td>IND</td>\n",
              "      <td>NaN</td>\n",
              "      <td>0.0</td>\n",
              "      <td>0.0</td>\n",
              "      <td>0.0</td>\n",
              "      <td>NaN</td>\n",
              "      <td>NGN</td>\n",
              "      <td>NaN</td>\n",
              "      <td>FCUBSPAR</td>\n",
              "      <td>0.0</td>\n",
              "      <td>0.0</td>\n",
              "      <td>0.0</td>\n",
              "      <td>0.0</td>\n",
              "      <td>1</td>\n",
              "      <td>NaN</td>\n",
              "      <td>MAIL</td>\n",
              "      <td>NaN</td>\n",
              "      <td>NaN</td>\n",
              "      <td>NaN</td>\n",
              "      <td>N</td>\n",
              "      <td>NaN</td>\n",
              "      <td>NaN</td>\n",
              "      <td>NaN</td>\n",
              "      <td>NaN</td>\n",
              "      <td>NaN</td>\n",
              "      <td>NaN</td>\n",
              "      <td>NaN</td>\n",
              "      <td>NaN</td>\n",
              "      <td>...</td>\n",
              "      <td>234</td>\n",
              "      <td>NaN</td>\n",
              "      <td>MR</td>\n",
              "      <td>1958-10-14 00:00:00</td>\n",
              "      <td>N</td>\n",
              "      <td>M</td>\n",
              "      <td>R</td>\n",
              "      <td>N</td>\n",
              "      <td>NaN</td>\n",
              "      <td>NaN</td>\n",
              "      <td>NG</td>\n",
              "      <td>NaN</td>\n",
              "      <td>NaN</td>\n",
              "      <td>NaN</td>\n",
              "      <td>NaN</td>\n",
              "      <td>NaN</td>\n",
              "      <td>NaN</td>\n",
              "      <td>NaN</td>\n",
              "      <td>S</td>\n",
              "      <td>NaN</td>\n",
              "      <td>NaN</td>\n",
              "      <td>0.0</td>\n",
              "      <td>0.0</td>\n",
              "      <td>NaN</td>\n",
              "      <td>NaN</td>\n",
              "      <td>NaN</td>\n",
              "      <td>NaN</td>\n",
              "      <td>NaN</td>\n",
              "      <td>NaN</td>\n",
              "      <td>NaN</td>\n",
              "      <td>NaN</td>\n",
              "      <td>NaN</td>\n",
              "      <td>NaN</td>\n",
              "      <td>NaN</td>\n",
              "      <td>NaN</td>\n",
              "      <td>NaN</td>\n",
              "      <td>NaN</td>\n",
              "      <td>NaN</td>\n",
              "      <td>NaN</td>\n",
              "      <td>NaN</td>\n",
              "    </tr>\n",
              "    <tr>\n",
              "      <th>7</th>\n",
              "      <td>92240003</td>\n",
              "      <td>I</td>\n",
              "      <td>BADAGRY EXPRESSWAY,,  BADAGRY</td>\n",
              "      <td>LAGOS</td>\n",
              "      <td>NG</td>\n",
              "      <td>NG</td>\n",
              "      <td>ENG</td>\n",
              "      <td>NG</td>\n",
              "      <td>1</td>\n",
              "      <td>N</td>\n",
              "      <td>N</td>\n",
              "      <td>N</td>\n",
              "      <td>IND</td>\n",
              "      <td>NaN</td>\n",
              "      <td>0.0</td>\n",
              "      <td>0.0</td>\n",
              "      <td>0.0</td>\n",
              "      <td>NaN</td>\n",
              "      <td>NGN</td>\n",
              "      <td>NaN</td>\n",
              "      <td>FCUBSPAR</td>\n",
              "      <td>0.0</td>\n",
              "      <td>0.0</td>\n",
              "      <td>0.0</td>\n",
              "      <td>0.0</td>\n",
              "      <td>1</td>\n",
              "      <td>NaN</td>\n",
              "      <td>MAIL</td>\n",
              "      <td>NaN</td>\n",
              "      <td>NaN</td>\n",
              "      <td>NaN</td>\n",
              "      <td>N</td>\n",
              "      <td>NaN</td>\n",
              "      <td>NaN</td>\n",
              "      <td>NaN</td>\n",
              "      <td>NaN</td>\n",
              "      <td>NaN</td>\n",
              "      <td>NaN</td>\n",
              "      <td>NaN</td>\n",
              "      <td>NaN</td>\n",
              "      <td>...</td>\n",
              "      <td>234</td>\n",
              "      <td>NaN</td>\n",
              "      <td>MR</td>\n",
              "      <td>1947-11-30 00:00:00</td>\n",
              "      <td>N</td>\n",
              "      <td>M</td>\n",
              "      <td>R</td>\n",
              "      <td>N</td>\n",
              "      <td>NaN</td>\n",
              "      <td>NaN</td>\n",
              "      <td>NG</td>\n",
              "      <td>NaN</td>\n",
              "      <td>NaN</td>\n",
              "      <td>NaN</td>\n",
              "      <td>NaN</td>\n",
              "      <td>NaN</td>\n",
              "      <td>NaN</td>\n",
              "      <td>NaN</td>\n",
              "      <td>S</td>\n",
              "      <td>NaN</td>\n",
              "      <td>NaN</td>\n",
              "      <td>0.0</td>\n",
              "      <td>0.0</td>\n",
              "      <td>NaN</td>\n",
              "      <td>NaN</td>\n",
              "      <td>NaN</td>\n",
              "      <td>NaN</td>\n",
              "      <td>NaN</td>\n",
              "      <td>NaN</td>\n",
              "      <td>NaN</td>\n",
              "      <td>NaN</td>\n",
              "      <td>NaN</td>\n",
              "      <td>NaN</td>\n",
              "      <td>NaN</td>\n",
              "      <td>NaN</td>\n",
              "      <td>NaN</td>\n",
              "      <td>NaN</td>\n",
              "      <td>NaN</td>\n",
              "      <td>NaN</td>\n",
              "      <td>NaN</td>\n",
              "    </tr>\n",
              "    <tr>\n",
              "      <th>8</th>\n",
              "      <td>200006</td>\n",
              "      <td>I</td>\n",
              "      <td>,  FESTAC TOWN</td>\n",
              "      <td>LAGOS</td>\n",
              "      <td>NG</td>\n",
              "      <td>NG</td>\n",
              "      <td>ENG</td>\n",
              "      <td>NG</td>\n",
              "      <td>1</td>\n",
              "      <td>N</td>\n",
              "      <td>N</td>\n",
              "      <td>N</td>\n",
              "      <td>IND</td>\n",
              "      <td>NaN</td>\n",
              "      <td>0.0</td>\n",
              "      <td>0.0</td>\n",
              "      <td>0.0</td>\n",
              "      <td>NaN</td>\n",
              "      <td>NGN</td>\n",
              "      <td>NaN</td>\n",
              "      <td>FCUBSPAR</td>\n",
              "      <td>0.0</td>\n",
              "      <td>0.0</td>\n",
              "      <td>0.0</td>\n",
              "      <td>0.0</td>\n",
              "      <td>1</td>\n",
              "      <td>NaN</td>\n",
              "      <td>MAIL</td>\n",
              "      <td>NaN</td>\n",
              "      <td>NaN</td>\n",
              "      <td>NaN</td>\n",
              "      <td>N</td>\n",
              "      <td>NaN</td>\n",
              "      <td>NaN</td>\n",
              "      <td>NaN</td>\n",
              "      <td>NaN</td>\n",
              "      <td>NaN</td>\n",
              "      <td>NaN</td>\n",
              "      <td>NaN</td>\n",
              "      <td>NaN</td>\n",
              "      <td>...</td>\n",
              "      <td>234</td>\n",
              "      <td>NaN</td>\n",
              "      <td>Mrs.</td>\n",
              "      <td>1952-04-11 00:00:00</td>\n",
              "      <td>N</td>\n",
              "      <td>F</td>\n",
              "      <td>R</td>\n",
              "      <td>N</td>\n",
              "      <td>NaN</td>\n",
              "      <td>NaN</td>\n",
              "      <td>NG</td>\n",
              "      <td>NaN</td>\n",
              "      <td>NaN</td>\n",
              "      <td>NaN</td>\n",
              "      <td>NaN</td>\n",
              "      <td>NaN</td>\n",
              "      <td>NaN</td>\n",
              "      <td>NaN</td>\n",
              "      <td>M</td>\n",
              "      <td>NaN</td>\n",
              "      <td>NaN</td>\n",
              "      <td>0.0</td>\n",
              "      <td>0.0</td>\n",
              "      <td>NaN</td>\n",
              "      <td>NaN</td>\n",
              "      <td>NaN</td>\n",
              "      <td>NaN</td>\n",
              "      <td>NaN</td>\n",
              "      <td>NaN</td>\n",
              "      <td>NaN</td>\n",
              "      <td>NaN</td>\n",
              "      <td>NaN</td>\n",
              "      <td>NaN</td>\n",
              "      <td>NaN</td>\n",
              "      <td>NaN</td>\n",
              "      <td>NaN</td>\n",
              "      <td>NaN</td>\n",
              "      <td>NaN</td>\n",
              "      <td>NaN</td>\n",
              "      <td>NaN</td>\n",
              "    </tr>\n",
              "    <tr>\n",
              "      <th>9</th>\n",
              "      <td>16210006</td>\n",
              "      <td>I</td>\n",
              "      <td>,  PORT-HARCOURT</td>\n",
              "      <td>RIVERS</td>\n",
              "      <td>NG</td>\n",
              "      <td>NG</td>\n",
              "      <td>ENG</td>\n",
              "      <td>NG</td>\n",
              "      <td>10</td>\n",
              "      <td>N</td>\n",
              "      <td>N</td>\n",
              "      <td>N</td>\n",
              "      <td>IND</td>\n",
              "      <td>NaN</td>\n",
              "      <td>0.0</td>\n",
              "      <td>0.0</td>\n",
              "      <td>0.0</td>\n",
              "      <td>NaN</td>\n",
              "      <td>NGN</td>\n",
              "      <td>NaN</td>\n",
              "      <td>FCUBSPAR</td>\n",
              "      <td>0.0</td>\n",
              "      <td>0.0</td>\n",
              "      <td>0.0</td>\n",
              "      <td>0.0</td>\n",
              "      <td>10</td>\n",
              "      <td>NaN</td>\n",
              "      <td>MAIL</td>\n",
              "      <td>NaN</td>\n",
              "      <td>NaN</td>\n",
              "      <td>NaN</td>\n",
              "      <td>N</td>\n",
              "      <td>NaN</td>\n",
              "      <td>NaN</td>\n",
              "      <td>NaN</td>\n",
              "      <td>NaN</td>\n",
              "      <td>NaN</td>\n",
              "      <td>NaN</td>\n",
              "      <td>NaN</td>\n",
              "      <td>NaN</td>\n",
              "      <td>...</td>\n",
              "      <td>234</td>\n",
              "      <td>NaN</td>\n",
              "      <td>MR</td>\n",
              "      <td>1970-12-26 00:00:00</td>\n",
              "      <td>N</td>\n",
              "      <td>M</td>\n",
              "      <td>R</td>\n",
              "      <td>N</td>\n",
              "      <td>NaN</td>\n",
              "      <td>NaN</td>\n",
              "      <td>NG</td>\n",
              "      <td>NaN</td>\n",
              "      <td>NaN</td>\n",
              "      <td>NaN</td>\n",
              "      <td>NaN</td>\n",
              "      <td>NaN</td>\n",
              "      <td>NaN</td>\n",
              "      <td>NaN</td>\n",
              "      <td>M</td>\n",
              "      <td>NaN</td>\n",
              "      <td>NaN</td>\n",
              "      <td>0.0</td>\n",
              "      <td>0.0</td>\n",
              "      <td>NaN</td>\n",
              "      <td>NaN</td>\n",
              "      <td>NaN</td>\n",
              "      <td>NaN</td>\n",
              "      <td>NaN</td>\n",
              "      <td>NaN</td>\n",
              "      <td>NaN</td>\n",
              "      <td>NaN</td>\n",
              "      <td>NaN</td>\n",
              "      <td>NaN</td>\n",
              "      <td>NaN</td>\n",
              "      <td>NaN</td>\n",
              "      <td>NaN</td>\n",
              "      <td>NaN</td>\n",
              "      <td>NaN</td>\n",
              "      <td>NaN</td>\n",
              "      <td>NaN</td>\n",
              "    </tr>\n",
              "  </tbody>\n",
              "</table>\n",
              "<p>10 rows × 127 columns</p>\n",
              "</div>"
            ],
            "text/plain": [
              "   CUSTOMER_UNIQUE_ID CUSTOMER_TYPE  ... E_COUNTRY CCY_PERS_INCEXP\n",
              "0            18030000             I  ...       NaN             NaN\n",
              "1            33020001             I  ...       NaN             NaN\n",
              "2            69090004             I  ...       NaN             NaN\n",
              "3            81010006             I  ...       NaN             NaN\n",
              "4            71120007             I  ...       NaN             NaN\n",
              "5            82150007             I  ...       NaN             NaN\n",
              "6            91290003             I  ...       NaN             NaN\n",
              "7            92240003             I  ...       NaN             NaN\n",
              "8              200006             I  ...       NaN             NaN\n",
              "9            16210006             I  ...       NaN             NaN\n",
              "\n",
              "[10 rows x 127 columns]"
            ]
          },
          "metadata": {
            "tags": []
          },
          "execution_count": 220
        }
      ]
    },
    {
      "cell_type": "code",
      "metadata": {
        "id": "AWKhfXf-CTMd",
        "colab_type": "code",
        "colab": {
          "base_uri": "https://localhost:8080/",
          "height": 34
        },
        "outputId": "c0201252-7142-4bdf-fd25-b4b4b8deb5e5"
      },
      "source": [
        "all_demo.shape"
      ],
      "execution_count": 221,
      "outputs": [
        {
          "output_type": "execute_result",
          "data": {
            "text/plain": [
              "(17970, 127)"
            ]
          },
          "metadata": {
            "tags": []
          },
          "execution_count": 221
        }
      ]
    },
    {
      "cell_type": "code",
      "metadata": {
        "id": "9CLFa5sAjth1",
        "colab_type": "code",
        "outputId": "a957a196-798a-474f-d57d-21773227b135",
        "colab": {
          "base_uri": "https://localhost:8080/",
          "height": 1000
        }
      },
      "source": [
        "all_demo.columns.to_list()"
      ],
      "execution_count": 222,
      "outputs": [
        {
          "output_type": "execute_result",
          "data": {
            "text/plain": [
              "['CUSTOMER_UNIQUE_ID',\n",
              " 'CUSTOMER_TYPE',\n",
              " 'ADDRESS_LINE3',\n",
              " 'ADDRESS_LINE4',\n",
              " 'COUNTRY',\n",
              " 'NATIONALITY',\n",
              " 'LANGUAGE',\n",
              " 'EXPOSURE_COUNTRY',\n",
              " 'LOCAL_BRANCH',\n",
              " 'FROZEN',\n",
              " 'DECEASED',\n",
              " 'WHEREABOUTS_UNKNOWN',\n",
              " 'CUSTOMER_CATEGORY',\n",
              " 'HO_AC_NO',\n",
              " 'FX_CUST_CLEAN_RISK_LIMIT',\n",
              " 'OVERALL_LIMIT',\n",
              " 'FX_CLEAN_RISK_LIMIT',\n",
              " 'CREDIT_RATING',\n",
              " 'LIMIT_CCY',\n",
              " 'CAS_CUST',\n",
              " 'LIAB_NODE',\n",
              " 'SEC_CUST_CLEAN_RISK_LIMIT',\n",
              " 'SEC_CLEAN_RISK_LIMIT',\n",
              " 'SEC_CUST_PSTL_RISK_LIMIT',\n",
              " 'SEC_PSTL_RISK_LIMIT',\n",
              " 'LIAB_BR',\n",
              " 'PAST_DUE_FLAG',\n",
              " 'DEFAULT_MEDIA',\n",
              " 'SSN',\n",
              " 'SWIFT_CODE',\n",
              " 'LOC_CODE',\n",
              " 'UTILITY_PROVIDER',\n",
              " 'UTILITY_PROVIDER_ID',\n",
              " 'RISK_PROFILE',\n",
              " 'DEBTOR_CATEGORY',\n",
              " 'UDF_1',\n",
              " 'UDF_2',\n",
              " 'UDF_3',\n",
              " 'UDF_4',\n",
              " 'UDF_5',\n",
              " 'AML_REQUIRED',\n",
              " 'AML_CUSTOMER_GRP',\n",
              " 'MAILERS_REQUIRED',\n",
              " 'GROUP_CODE',\n",
              " 'EXPOSURE_CATEGORY',\n",
              " 'CUST_CLASSIFICATION',\n",
              " 'CIF_STATUS',\n",
              " 'CIF_STATUS_SINCE',\n",
              " 'CHARGE_GROUP',\n",
              " 'INTRODUCER',\n",
              " 'CUST_CLG_GROUP',\n",
              " 'CHK_DIGIT_VALID_REQD',\n",
              " 'ALG_ID',\n",
              " 'FT_ACCTING_AS_OF',\n",
              " 'UNADVISED',\n",
              " 'TAX_GROUP',\n",
              " 'CONSOL_TAX_CERT_REQD',\n",
              " 'INDIVIDUAL_TAX_CERT_REQD',\n",
              " 'CLS_CCY_ALLOWED',\n",
              " 'CLS_PARTICIPANT',\n",
              " 'RISK_CATEGORY',\n",
              " 'EXT_REF_NO',\n",
              " 'CRM_CUSTOMER',\n",
              " 'ISSUER_CUSTOMER',\n",
              " 'TREASURY_CUSTOMER',\n",
              " 'CIF_CREATION_DATE',\n",
              " 'WHT_PCT',\n",
              " 'RP_CUSTOMER',\n",
              " 'GENERATE_MT920',\n",
              " 'KYC_DETAILS',\n",
              " 'STAFF',\n",
              " 'KYC_REF_NO',\n",
              " 'UTILITY_PROVIDER_TYPE',\n",
              " 'JOINT_VENTURE',\n",
              " 'JV_LIMIT_TRACKING',\n",
              " 'PRIVATE_CUSTOMER',\n",
              " 'LC_COLLATERAL_PCT',\n",
              " 'ELCM_CUSTOMER',\n",
              " 'ELCM_CUSTOMER_NO',\n",
              " 'AUTO_CREATE_ACCOUNT',\n",
              " 'AUTO_CUST_AC_NO',\n",
              " 'TRACK_LIMITS',\n",
              " 'AR_AP_TRACKING',\n",
              " 'RM_ID',\n",
              " 'AUTOGEN_STMTPLAN',\n",
              " 'FREQUENCY',\n",
              " 'STMT_DAY',\n",
              " 'PINCODE',\n",
              " 'MFI_CUSTOMER',\n",
              " 'CUSTOMER_PREFIX',\n",
              " 'DATE_OF_BIRTH',\n",
              " 'MINOR',\n",
              " 'SEX',\n",
              " 'RESIDENT_STATUS',\n",
              " 'AGE_PROOF_SUBMITTED',\n",
              " 'CUST_COMM_MODE',\n",
              " 'PLACE_OF_BIRTH',\n",
              " 'BIRTH_COUNTRY',\n",
              " 'US_RES_STATUS',\n",
              " 'VST_US_PREV',\n",
              " 'P_PINCODE',\n",
              " 'PREF_CONTACT_DT',\n",
              " 'PREF_CONTACT_TIME',\n",
              " 'D_PINCODE',\n",
              " 'EDUCATIONAL_STATUS',\n",
              " 'MARITAL_STATUS',\n",
              " 'SPOUSE_NAME',\n",
              " 'SPOUSE_EMP_STATUS',\n",
              " 'DEPENDENT_CHILDREN',\n",
              " 'DEPENDENT_OTHERS',\n",
              " 'ACCOMODATION',\n",
              " 'EMPLOYMENT_STATUS',\n",
              " 'EMPLOYMENT_TENURE',\n",
              " 'RETIREMENT_AGE',\n",
              " 'PREV_DESIGNATION',\n",
              " 'PREV_EMPLOYER',\n",
              " 'DESIGNATION',\n",
              " 'SALARY',\n",
              " 'OTHER_INCOME',\n",
              " 'RENT',\n",
              " 'INSURANCE',\n",
              " 'LOAN_PAYMENT',\n",
              " 'OTHER_EXPENSES',\n",
              " 'HOUSE_VALUE',\n",
              " 'CREDIT_CARDS',\n",
              " 'E_COUNTRY',\n",
              " 'CCY_PERS_INCEXP']"
            ]
          },
          "metadata": {
            "tags": []
          },
          "execution_count": 222
        }
      ]
    },
    {
      "cell_type": "code",
      "metadata": {
        "id": "6Qja3P7YCRRD",
        "colab_type": "code",
        "colab": {}
      },
      "source": [
        "all_demo.columns = all_demo.columns.str.lower()\n"
      ],
      "execution_count": 0,
      "outputs": []
    },
    {
      "cell_type": "code",
      "metadata": {
        "id": "ncJY24u5CQuY",
        "colab_type": "code",
        "colab": {}
      },
      "source": [
        "all_demo.set_index('customer_unique_id',inplace=True)\n"
      ],
      "execution_count": 0,
      "outputs": []
    },
    {
      "cell_type": "code",
      "metadata": {
        "id": "_C0lXaxPCPoT",
        "colab_type": "code",
        "colab": {}
      },
      "source": [
        "all_demo.index = all_demo.index.astype('int')"
      ],
      "execution_count": 0,
      "outputs": []
    },
    {
      "cell_type": "code",
      "metadata": {
        "id": "-rnFikHUjtiH",
        "colab_type": "code",
        "outputId": "d0eff71d-c784-4c73-c428-d053e96bd0aa",
        "colab": {
          "base_uri": "https://localhost:8080/",
          "height": 102
        }
      },
      "source": [
        "all_demo.info()"
      ],
      "execution_count": 226,
      "outputs": [
        {
          "output_type": "stream",
          "text": [
            "<class 'pandas.core.frame.DataFrame'>\n",
            "Int64Index: 17970 entries, 18030000 to 973140095\n",
            "Columns: 126 entries, customer_type to ccy_pers_incexp\n",
            "dtypes: float64(44), int64(2), object(80)\n",
            "memory usage: 17.4+ MB\n"
          ],
          "name": "stdout"
        }
      ]
    },
    {
      "cell_type": "code",
      "metadata": {
        "scrolled": false,
        "id": "mbZ9idx9jtig",
        "colab_type": "code",
        "outputId": "5963d2fe-cfb7-4fb4-c7da-53e30280ca6c",
        "colab": {
          "base_uri": "https://localhost:8080/",
          "height": 221
        }
      },
      "source": [
        "##checking for missing values\n",
        "\n",
        "all_demo.isnull().sum()"
      ],
      "execution_count": 227,
      "outputs": [
        {
          "output_type": "execute_result",
          "data": {
            "text/plain": [
              "customer_type          0\n",
              "address_line3        459\n",
              "address_line4       2719\n",
              "country                0\n",
              "nationality            0\n",
              "                   ...  \n",
              "other_expenses     17386\n",
              "house_value        17386\n",
              "credit_cards       17965\n",
              "e_country          17744\n",
              "ccy_pers_incexp    17961\n",
              "Length: 126, dtype: int64"
            ]
          },
          "metadata": {
            "tags": []
          },
          "execution_count": 227
        }
      ]
    },
    {
      "cell_type": "code",
      "metadata": {
        "id": "c4MXYVerNQ53",
        "colab_type": "code",
        "colab": {}
      },
      "source": [
        "all_demo.dropna(thresh=.9 * len(all_demo), axis=1, inplace=True)"
      ],
      "execution_count": 0,
      "outputs": []
    },
    {
      "cell_type": "code",
      "metadata": {
        "id": "U5sNGgp3NbpB",
        "colab_type": "code",
        "colab": {
          "base_uri": "https://localhost:8080/",
          "height": 34
        },
        "outputId": "5ce809fc-c04c-422a-8d55-426bbaa87f20"
      },
      "source": [
        "all_demo.shape"
      ],
      "execution_count": 229,
      "outputs": [
        {
          "output_type": "execute_result",
          "data": {
            "text/plain": [
              "(17970, 35)"
            ]
          },
          "metadata": {
            "tags": []
          },
          "execution_count": 229
        }
      ]
    },
    {
      "cell_type": "code",
      "metadata": {
        "id": "5ZTuA6eBNnTT",
        "colab_type": "code",
        "colab": {
          "base_uri": "https://localhost:8080/",
          "height": 629
        },
        "outputId": "0609a6b3-8528-495f-dc31-de378bd9c004"
      },
      "source": [
        "all_demo.isnull().sum()"
      ],
      "execution_count": 230,
      "outputs": [
        {
          "output_type": "execute_result",
          "data": {
            "text/plain": [
              "customer_type                  0\n",
              "address_line3                459\n",
              "country                        0\n",
              "nationality                    0\n",
              "language                       0\n",
              "exposure_country               0\n",
              "local_branch                   0\n",
              "frozen                         0\n",
              "deceased                       0\n",
              "whereabouts_unknown            0\n",
              "customer_category              0\n",
              "limit_ccy                      5\n",
              "liab_node                      0\n",
              "liab_br                        0\n",
              "default_media                  6\n",
              "utility_provider               0\n",
              "aml_required                   0\n",
              "ft_accting_as_of               4\n",
              "unadvised                      0\n",
              "consol_tax_cert_reqd           0\n",
              "individual_tax_cert_reqd       0\n",
              "cls_ccy_allowed                0\n",
              "cls_participant                0\n",
              "ext_ref_no                  1600\n",
              "cif_creation_date              5\n",
              "rp_customer                    0\n",
              "private_customer             510\n",
              "auto_create_account            0\n",
              "track_limits                   0\n",
              "customer_prefix              534\n",
              "date_of_birth                  5\n",
              "minor                         35\n",
              "sex                           20\n",
              "birth_country                 69\n",
              "marital_status               134\n",
              "dtype: int64"
            ]
          },
          "metadata": {
            "tags": []
          },
          "execution_count": 230
        }
      ]
    },
    {
      "cell_type": "code",
      "metadata": {
        "id": "KMGJXb2Cjti_",
        "colab_type": "code",
        "outputId": "bbb95e79-a6b6-4354-fb49-18c8549811d4",
        "colab": {
          "base_uri": "https://localhost:8080/",
          "height": 34
        }
      },
      "source": [
        "##shape of the dataset\n",
        "\n",
        "all_demo.shape"
      ],
      "execution_count": 231,
      "outputs": [
        {
          "output_type": "execute_result",
          "data": {
            "text/plain": [
              "(17970, 35)"
            ]
          },
          "metadata": {
            "tags": []
          },
          "execution_count": 231
        }
      ]
    },
    {
      "cell_type": "code",
      "metadata": {
        "id": "0SVZaslnjtke",
        "colab_type": "code",
        "outputId": "c2981af9-63ed-4930-cb34-eac94147aed5",
        "colab": {
          "base_uri": "https://localhost:8080/",
          "height": 697
        }
      },
      "source": [
        "all_demo.info()"
      ],
      "execution_count": 232,
      "outputs": [
        {
          "output_type": "stream",
          "text": [
            "<class 'pandas.core.frame.DataFrame'>\n",
            "Int64Index: 17970 entries, 18030000 to 973140095\n",
            "Data columns (total 35 columns):\n",
            "customer_type               17970 non-null object\n",
            "address_line3               17511 non-null object\n",
            "country                     17970 non-null object\n",
            "nationality                 17970 non-null object\n",
            "language                    17970 non-null object\n",
            "exposure_country            17970 non-null object\n",
            "local_branch                17970 non-null int64\n",
            "frozen                      17970 non-null object\n",
            "deceased                    17970 non-null object\n",
            "whereabouts_unknown         17970 non-null object\n",
            "customer_category           17970 non-null object\n",
            "limit_ccy                   17965 non-null object\n",
            "liab_node                   17970 non-null object\n",
            "liab_br                     17970 non-null int64\n",
            "default_media               17964 non-null object\n",
            "utility_provider            17970 non-null object\n",
            "aml_required                17970 non-null object\n",
            "ft_accting_as_of            17966 non-null object\n",
            "unadvised                   17970 non-null object\n",
            "consol_tax_cert_reqd        17970 non-null object\n",
            "individual_tax_cert_reqd    17970 non-null object\n",
            "cls_ccy_allowed             17970 non-null object\n",
            "cls_participant             17970 non-null object\n",
            "ext_ref_no                  16370 non-null object\n",
            "cif_creation_date           17965 non-null object\n",
            "rp_customer                 17970 non-null object\n",
            "private_customer            17460 non-null object\n",
            "auto_create_account         17970 non-null object\n",
            "track_limits                17970 non-null object\n",
            "customer_prefix             17436 non-null object\n",
            "date_of_birth               17965 non-null object\n",
            "minor                       17935 non-null object\n",
            "sex                         17950 non-null object\n",
            "birth_country               17901 non-null object\n",
            "marital_status              17836 non-null object\n",
            "dtypes: int64(2), object(33)\n",
            "memory usage: 4.9+ MB\n"
          ],
          "name": "stdout"
        }
      ]
    },
    {
      "cell_type": "code",
      "metadata": {
        "id": "Q9IyHknGJfRw",
        "colab_type": "code",
        "colab": {
          "base_uri": "https://localhost:8080/",
          "height": 612
        },
        "outputId": "4aab047e-cf41-4682-eeed-ae89f2c70cab"
      },
      "source": [
        "all_demo.columns.to_list()"
      ],
      "execution_count": 233,
      "outputs": [
        {
          "output_type": "execute_result",
          "data": {
            "text/plain": [
              "['customer_type',\n",
              " 'address_line3',\n",
              " 'country',\n",
              " 'nationality',\n",
              " 'language',\n",
              " 'exposure_country',\n",
              " 'local_branch',\n",
              " 'frozen',\n",
              " 'deceased',\n",
              " 'whereabouts_unknown',\n",
              " 'customer_category',\n",
              " 'limit_ccy',\n",
              " 'liab_node',\n",
              " 'liab_br',\n",
              " 'default_media',\n",
              " 'utility_provider',\n",
              " 'aml_required',\n",
              " 'ft_accting_as_of',\n",
              " 'unadvised',\n",
              " 'consol_tax_cert_reqd',\n",
              " 'individual_tax_cert_reqd',\n",
              " 'cls_ccy_allowed',\n",
              " 'cls_participant',\n",
              " 'ext_ref_no',\n",
              " 'cif_creation_date',\n",
              " 'rp_customer',\n",
              " 'private_customer',\n",
              " 'auto_create_account',\n",
              " 'track_limits',\n",
              " 'customer_prefix',\n",
              " 'date_of_birth',\n",
              " 'minor',\n",
              " 'sex',\n",
              " 'birth_country',\n",
              " 'marital_status']"
            ]
          },
          "metadata": {
            "tags": []
          },
          "execution_count": 233
        }
      ]
    },
    {
      "cell_type": "code",
      "metadata": {
        "id": "UqvrnHBJjtlZ",
        "colab_type": "code",
        "colab": {}
      },
      "source": [
        "##dropping more columns\n",
        "\n",
        "all_demo = all_demo.drop(columns = ['address_line3',\n",
        " 'country',\n",
        " 'nationality',\n",
        " 'exposure_country',\n",
        " 'local_branch',\n",
        " 'frozen',\n",
        " 'deceased',\n",
        " 'whereabouts_unknown',\n",
        " 'limit_ccy',\n",
        " 'liab_node',\n",
        " 'liab_br',\n",
        " 'default_media',\n",
        " 'utility_provider',\n",
        " 'aml_required',\n",
        " 'ft_accting_as_of',\n",
        " 'unadvised',\n",
        " 'consol_tax_cert_reqd',\n",
        " 'individual_tax_cert_reqd',\n",
        " 'cls_ccy_allowed',\n",
        " 'cls_participant',\n",
        " 'ext_ref_no',\n",
        " 'cif_creation_date','rp_customer',\n",
        " 'private_customer',\n",
        " 'auto_create_account',\n",
        " 'track_limits',\n",
        " 'customer_prefix',\n",
        " 'birth_country'])"
      ],
      "execution_count": 0,
      "outputs": []
    },
    {
      "cell_type": "code",
      "metadata": {
        "id": "9q6YqlfNjtl3",
        "colab_type": "code",
        "outputId": "a2303531-a7d7-4550-cb92-de86b0974bed",
        "colab": {
          "base_uri": "https://localhost:8080/",
          "height": 235
        }
      },
      "source": [
        "all_demo.head()"
      ],
      "execution_count": 235,
      "outputs": [
        {
          "output_type": "execute_result",
          "data": {
            "text/html": [
              "<div>\n",
              "<style scoped>\n",
              "    .dataframe tbody tr th:only-of-type {\n",
              "        vertical-align: middle;\n",
              "    }\n",
              "\n",
              "    .dataframe tbody tr th {\n",
              "        vertical-align: top;\n",
              "    }\n",
              "\n",
              "    .dataframe thead th {\n",
              "        text-align: right;\n",
              "    }\n",
              "</style>\n",
              "<table border=\"1\" class=\"dataframe\">\n",
              "  <thead>\n",
              "    <tr style=\"text-align: right;\">\n",
              "      <th></th>\n",
              "      <th>customer_type</th>\n",
              "      <th>language</th>\n",
              "      <th>customer_category</th>\n",
              "      <th>date_of_birth</th>\n",
              "      <th>minor</th>\n",
              "      <th>sex</th>\n",
              "      <th>marital_status</th>\n",
              "    </tr>\n",
              "    <tr>\n",
              "      <th>customer_unique_id</th>\n",
              "      <th></th>\n",
              "      <th></th>\n",
              "      <th></th>\n",
              "      <th></th>\n",
              "      <th></th>\n",
              "      <th></th>\n",
              "      <th></th>\n",
              "    </tr>\n",
              "  </thead>\n",
              "  <tbody>\n",
              "    <tr>\n",
              "      <th>18030000</th>\n",
              "      <td>I</td>\n",
              "      <td>ENG</td>\n",
              "      <td>IND</td>\n",
              "      <td>1966-08-15 00:00:00</td>\n",
              "      <td>N</td>\n",
              "      <td>M</td>\n",
              "      <td>M</td>\n",
              "    </tr>\n",
              "    <tr>\n",
              "      <th>33020001</th>\n",
              "      <td>I</td>\n",
              "      <td>ENG</td>\n",
              "      <td>IND</td>\n",
              "      <td>1950-01-01 00:00:00</td>\n",
              "      <td>N</td>\n",
              "      <td>M</td>\n",
              "      <td>S</td>\n",
              "    </tr>\n",
              "    <tr>\n",
              "      <th>69090004</th>\n",
              "      <td>I</td>\n",
              "      <td>ENG</td>\n",
              "      <td>IND</td>\n",
              "      <td>1970-04-10 00:00:00</td>\n",
              "      <td>N</td>\n",
              "      <td>F</td>\n",
              "      <td>M</td>\n",
              "    </tr>\n",
              "    <tr>\n",
              "      <th>81010006</th>\n",
              "      <td>I</td>\n",
              "      <td>ENG</td>\n",
              "      <td>IND</td>\n",
              "      <td>1967-04-26 00:00:00</td>\n",
              "      <td>N</td>\n",
              "      <td>M</td>\n",
              "      <td>M</td>\n",
              "    </tr>\n",
              "    <tr>\n",
              "      <th>71120007</th>\n",
              "      <td>I</td>\n",
              "      <td>ENG</td>\n",
              "      <td>IND</td>\n",
              "      <td>1965-09-24 00:00:00</td>\n",
              "      <td>N</td>\n",
              "      <td>M</td>\n",
              "      <td>M</td>\n",
              "    </tr>\n",
              "  </tbody>\n",
              "</table>\n",
              "</div>"
            ],
            "text/plain": [
              "                   customer_type language  ... sex marital_status\n",
              "customer_unique_id                         ...                   \n",
              "18030000                       I      ENG  ...   M              M\n",
              "33020001                       I      ENG  ...   M              S\n",
              "69090004                       I      ENG  ...   F              M\n",
              "81010006                       I      ENG  ...   M              M\n",
              "71120007                       I      ENG  ...   M              M\n",
              "\n",
              "[5 rows x 7 columns]"
            ]
          },
          "metadata": {
            "tags": []
          },
          "execution_count": 235
        }
      ]
    },
    {
      "cell_type": "code",
      "metadata": {
        "id": "oHuKFdhtPqqb",
        "colab_type": "code",
        "colab": {
          "base_uri": "https://localhost:8080/",
          "height": 153
        },
        "outputId": "5b5793fd-57f8-4642-9d36-c2b1f484ee72"
      },
      "source": [
        "all_demo.isnull().sum()"
      ],
      "execution_count": 236,
      "outputs": [
        {
          "output_type": "execute_result",
          "data": {
            "text/plain": [
              "customer_type          0\n",
              "language               0\n",
              "customer_category      0\n",
              "date_of_birth          5\n",
              "minor                 35\n",
              "sex                   20\n",
              "marital_status       134\n",
              "dtype: int64"
            ]
          },
          "metadata": {
            "tags": []
          },
          "execution_count": 236
        }
      ]
    },
    {
      "cell_type": "code",
      "metadata": {
        "id": "8VxXwE5pPwHm",
        "colab_type": "code",
        "colab": {}
      },
      "source": [
        "all_demo = all_demo.ffill(axis = 0)"
      ],
      "execution_count": 0,
      "outputs": []
    },
    {
      "cell_type": "code",
      "metadata": {
        "id": "zgSxhJw1UFhN",
        "colab_type": "code",
        "colab": {
          "base_uri": "https://localhost:8080/",
          "height": 153
        },
        "outputId": "61ad06d3-f131-40b1-add5-d1b8a179a330"
      },
      "source": [
        "all_demo.isnull().sum()"
      ],
      "execution_count": 238,
      "outputs": [
        {
          "output_type": "execute_result",
          "data": {
            "text/plain": [
              "customer_type        0\n",
              "language             0\n",
              "customer_category    0\n",
              "date_of_birth        0\n",
              "minor                0\n",
              "sex                  0\n",
              "marital_status       0\n",
              "dtype: int64"
            ]
          },
          "metadata": {
            "tags": []
          },
          "execution_count": 238
        }
      ]
    },
    {
      "cell_type": "code",
      "metadata": {
        "id": "rzVVhubeUv6j",
        "colab_type": "code",
        "colab": {
          "base_uri": "https://localhost:8080/",
          "height": 153
        },
        "outputId": "fe9e5022-5bbb-4515-cf46-190b6f6bae97"
      },
      "source": [
        "all_demo.isnull().sum()"
      ],
      "execution_count": 239,
      "outputs": [
        {
          "output_type": "execute_result",
          "data": {
            "text/plain": [
              "customer_type        0\n",
              "language             0\n",
              "customer_category    0\n",
              "date_of_birth        0\n",
              "minor                0\n",
              "sex                  0\n",
              "marital_status       0\n",
              "dtype: int64"
            ]
          },
          "metadata": {
            "tags": []
          },
          "execution_count": 239
        }
      ]
    },
    {
      "cell_type": "code",
      "metadata": {
        "id": "DC22CSkXjtmS",
        "colab_type": "code",
        "outputId": "7bcdacc5-db4a-4706-b4fd-c36ab0870c02",
        "colab": {
          "base_uri": "https://localhost:8080/",
          "height": 102
        }
      },
      "source": [
        "all_demo['sex'].value_counts()"
      ],
      "execution_count": 240,
      "outputs": [
        {
          "output_type": "execute_result",
          "data": {
            "text/plain": [
              "M    15228\n",
              "F     2740\n",
              "         1\n",
              "P        1\n",
              "Name: sex, dtype: int64"
            ]
          },
          "metadata": {
            "tags": []
          },
          "execution_count": 240
        }
      ]
    },
    {
      "cell_type": "code",
      "metadata": {
        "id": "RBRMpnAWjtmt",
        "colab_type": "code",
        "outputId": "e174539a-2a52-4b46-b9fc-21eb3471ce39",
        "colab": {
          "base_uri": "https://localhost:8080/",
          "height": 119
        }
      },
      "source": [
        "all_demo['marital_status'].value_coun"
      ],
      "execution_count": 241,
      "outputs": [
        {
          "output_type": "execute_result",
          "data": {
            "text/plain": [
              "S    9676\n",
              "M    8270\n",
              "P      14\n",
              "D       7\n",
              "E       3\n",
              "Name: marital_status, dtype: int64"
            ]
          },
          "metadata": {
            "tags": []
          },
          "execution_count": 241
        }
      ]
    },
    {
      "cell_type": "code",
      "metadata": {
        "id": "_nb-Ad_YWFmr",
        "colab_type": "code",
        "colab": {}
      },
      "source": [
        "all_demo.to_csv('df_demo.csv', encoding = 'utf-8', index = True)\n"
      ],
      "execution_count": 0,
      "outputs": []
    },
    {
      "cell_type": "code",
      "metadata": {
        "colab_type": "code",
        "id": "VRWPIV0qWYH6",
        "colab": {}
      },
      "source": [
        "df_demo = pd.read_csv('df_demo.csv',skiprows = 0)"
      ],
      "execution_count": 0,
      "outputs": []
    },
    {
      "cell_type": "code",
      "metadata": {
        "id": "fGUu3qk7Waar",
        "colab_type": "code",
        "colab": {
          "base_uri": "https://localhost:8080/",
          "height": 204
        },
        "outputId": "9155e82c-aa94-4728-8e07-f473d1fc2847"
      },
      "source": [
        "df_demo.head()"
      ],
      "execution_count": 244,
      "outputs": [
        {
          "output_type": "execute_result",
          "data": {
            "text/html": [
              "<div>\n",
              "<style scoped>\n",
              "    .dataframe tbody tr th:only-of-type {\n",
              "        vertical-align: middle;\n",
              "    }\n",
              "\n",
              "    .dataframe tbody tr th {\n",
              "        vertical-align: top;\n",
              "    }\n",
              "\n",
              "    .dataframe thead th {\n",
              "        text-align: right;\n",
              "    }\n",
              "</style>\n",
              "<table border=\"1\" class=\"dataframe\">\n",
              "  <thead>\n",
              "    <tr style=\"text-align: right;\">\n",
              "      <th></th>\n",
              "      <th>customer_unique_id</th>\n",
              "      <th>customer_type</th>\n",
              "      <th>language</th>\n",
              "      <th>customer_category</th>\n",
              "      <th>date_of_birth</th>\n",
              "      <th>minor</th>\n",
              "      <th>sex</th>\n",
              "      <th>marital_status</th>\n",
              "    </tr>\n",
              "  </thead>\n",
              "  <tbody>\n",
              "    <tr>\n",
              "      <th>0</th>\n",
              "      <td>18030000</td>\n",
              "      <td>I</td>\n",
              "      <td>ENG</td>\n",
              "      <td>IND</td>\n",
              "      <td>1966-08-15 00:00:00</td>\n",
              "      <td>N</td>\n",
              "      <td>M</td>\n",
              "      <td>M</td>\n",
              "    </tr>\n",
              "    <tr>\n",
              "      <th>1</th>\n",
              "      <td>33020001</td>\n",
              "      <td>I</td>\n",
              "      <td>ENG</td>\n",
              "      <td>IND</td>\n",
              "      <td>1950-01-01 00:00:00</td>\n",
              "      <td>N</td>\n",
              "      <td>M</td>\n",
              "      <td>S</td>\n",
              "    </tr>\n",
              "    <tr>\n",
              "      <th>2</th>\n",
              "      <td>69090004</td>\n",
              "      <td>I</td>\n",
              "      <td>ENG</td>\n",
              "      <td>IND</td>\n",
              "      <td>1970-04-10 00:00:00</td>\n",
              "      <td>N</td>\n",
              "      <td>F</td>\n",
              "      <td>M</td>\n",
              "    </tr>\n",
              "    <tr>\n",
              "      <th>3</th>\n",
              "      <td>81010006</td>\n",
              "      <td>I</td>\n",
              "      <td>ENG</td>\n",
              "      <td>IND</td>\n",
              "      <td>1967-04-26 00:00:00</td>\n",
              "      <td>N</td>\n",
              "      <td>M</td>\n",
              "      <td>M</td>\n",
              "    </tr>\n",
              "    <tr>\n",
              "      <th>4</th>\n",
              "      <td>71120007</td>\n",
              "      <td>I</td>\n",
              "      <td>ENG</td>\n",
              "      <td>IND</td>\n",
              "      <td>1965-09-24 00:00:00</td>\n",
              "      <td>N</td>\n",
              "      <td>M</td>\n",
              "      <td>M</td>\n",
              "    </tr>\n",
              "  </tbody>\n",
              "</table>\n",
              "</div>"
            ],
            "text/plain": [
              "   customer_unique_id customer_type language  ... minor sex marital_status\n",
              "0            18030000             I      ENG  ...     N   M              M\n",
              "1            33020001             I      ENG  ...     N   M              S\n",
              "2            69090004             I      ENG  ...     N   F              M\n",
              "3            81010006             I      ENG  ...     N   M              M\n",
              "4            71120007             I      ENG  ...     N   M              M\n",
              "\n",
              "[5 rows x 8 columns]"
            ]
          },
          "metadata": {
            "tags": []
          },
          "execution_count": 244
        }
      ]
    },
    {
      "cell_type": "code",
      "metadata": {
        "id": "C45Px8X_EPAy",
        "colab_type": "code",
        "colab": {}
      },
      "source": [
        "all_invest = pd.read_csv('all_investments.csv')"
      ],
      "execution_count": 0,
      "outputs": []
    },
    {
      "cell_type": "code",
      "metadata": {
        "id": "-MVeGpDTjtm-",
        "colab_type": "code",
        "outputId": "50516f42-98c7-453f-a32c-7bb82a889942",
        "colab": {
          "base_uri": "https://localhost:8080/",
          "height": 651
        }
      },
      "source": [
        "all_invest.head(10)"
      ],
      "execution_count": 246,
      "outputs": [
        {
          "output_type": "execute_result",
          "data": {
            "text/html": [
              "<div>\n",
              "<style scoped>\n",
              "    .dataframe tbody tr th:only-of-type {\n",
              "        vertical-align: middle;\n",
              "    }\n",
              "\n",
              "    .dataframe tbody tr th {\n",
              "        vertical-align: top;\n",
              "    }\n",
              "\n",
              "    .dataframe thead th {\n",
              "        text-align: right;\n",
              "    }\n",
              "</style>\n",
              "<table border=\"1\" class=\"dataframe\">\n",
              "  <thead>\n",
              "    <tr style=\"text-align: right;\">\n",
              "      <th></th>\n",
              "      <th>CUSTOMER_UNIQUE_ID</th>\n",
              "      <th>CONTRACT_REF_NO</th>\n",
              "      <th>PRODUCT</th>\n",
              "      <th>PRODUCT_NAME</th>\n",
              "      <th>PAYMENT_METHOD</th>\n",
              "      <th>CURRENCY</th>\n",
              "      <th>AMOUNT</th>\n",
              "      <th>LCY_AMOUNT</th>\n",
              "      <th>BOOKING_DATE</th>\n",
              "      <th>MATURITY_DATE</th>\n",
              "      <th>ROLLOVER_ALLOWED</th>\n",
              "      <th>TENOR</th>\n",
              "      <th>ROLLOVER_COUNT</th>\n",
              "      <th>CONTRACT_STATUS</th>\n",
              "      <th>MAIN_COMP_RATE</th>\n",
              "      <th>MASKED_ACCOUNT</th>\n",
              "    </tr>\n",
              "  </thead>\n",
              "  <tbody>\n",
              "    <tr>\n",
              "      <th>0</th>\n",
              "      <td>376921008</td>\n",
              "      <td>099FRDC151670009</td>\n",
              "      <td>FRDC</td>\n",
              "      <td>FIXED RATE DEPOSIT CLASSIC</td>\n",
              "      <td>B</td>\n",
              "      <td>NGN</td>\n",
              "      <td>2000000.00</td>\n",
              "      <td>2000000.00</td>\n",
              "      <td>9/30/2015</td>\n",
              "      <td>12/14/2015</td>\n",
              "      <td>N</td>\n",
              "      <td>182.0</td>\n",
              "      <td>0</td>\n",
              "      <td>L</td>\n",
              "      <td>11.0</td>\n",
              "      <td>00******30</td>\n",
              "    </tr>\n",
              "    <tr>\n",
              "      <th>1</th>\n",
              "      <td>637314002</td>\n",
              "      <td>099MTDB151770100</td>\n",
              "      <td>MTDB</td>\n",
              "      <td>TERM DEPOSITS</td>\n",
              "      <td>B</td>\n",
              "      <td>NGN</td>\n",
              "      <td>3025647.62</td>\n",
              "      <td>3025647.62</td>\n",
              "      <td>9/30/2015</td>\n",
              "      <td>12/23/2015</td>\n",
              "      <td>Y</td>\n",
              "      <td>180.0</td>\n",
              "      <td>0</td>\n",
              "      <td>L</td>\n",
              "      <td>11.0</td>\n",
              "      <td>00******72</td>\n",
              "    </tr>\n",
              "    <tr>\n",
              "      <th>2</th>\n",
              "      <td>523013005</td>\n",
              "      <td>099MTDB151910117</td>\n",
              "      <td>MTDB</td>\n",
              "      <td>TERM DEPOSITS</td>\n",
              "      <td>B</td>\n",
              "      <td>NGN</td>\n",
              "      <td>20000000.00</td>\n",
              "      <td>20000000.00</td>\n",
              "      <td>9/30/2015</td>\n",
              "      <td>10/5/2015</td>\n",
              "      <td>Y</td>\n",
              "      <td>91.0</td>\n",
              "      <td>0</td>\n",
              "      <td>A</td>\n",
              "      <td>11.0</td>\n",
              "      <td>00******42</td>\n",
              "    </tr>\n",
              "    <tr>\n",
              "      <th>3</th>\n",
              "      <td>18030000</td>\n",
              "      <td>099MTDB152660054</td>\n",
              "      <td>MTDB</td>\n",
              "      <td>TERM DEPOSITS</td>\n",
              "      <td>B</td>\n",
              "      <td>NGN</td>\n",
              "      <td>35408906.65</td>\n",
              "      <td>35408906.65</td>\n",
              "      <td>9/30/2015</td>\n",
              "      <td>10/23/2015</td>\n",
              "      <td>N</td>\n",
              "      <td>30.0</td>\n",
              "      <td>0</td>\n",
              "      <td>L</td>\n",
              "      <td>7.5</td>\n",
              "      <td>00******08</td>\n",
              "    </tr>\n",
              "    <tr>\n",
              "      <th>4</th>\n",
              "      <td>143966005</td>\n",
              "      <td>099MTDB152220012</td>\n",
              "      <td>MTDB</td>\n",
              "      <td>TERM DEPOSITS</td>\n",
              "      <td>B</td>\n",
              "      <td>NGN</td>\n",
              "      <td>400000.00</td>\n",
              "      <td>400000.00</td>\n",
              "      <td>9/30/2015</td>\n",
              "      <td>2/2/2016</td>\n",
              "      <td>Y</td>\n",
              "      <td>180.0</td>\n",
              "      <td>0</td>\n",
              "      <td>L</td>\n",
              "      <td>9.0</td>\n",
              "      <td>00******99</td>\n",
              "    </tr>\n",
              "    <tr>\n",
              "      <th>5</th>\n",
              "      <td>383381000</td>\n",
              "      <td>099TBCS152190039</td>\n",
              "      <td>TBCS</td>\n",
              "      <td>TBILLS INVT. FOR CUSTOMER</td>\n",
              "      <td>D</td>\n",
              "      <td>NGN</td>\n",
              "      <td>300000.00</td>\n",
              "      <td>300000.00</td>\n",
              "      <td>9/30/2015</td>\n",
              "      <td>10/29/2015</td>\n",
              "      <td>Y</td>\n",
              "      <td>83.0</td>\n",
              "      <td>0</td>\n",
              "      <td>L</td>\n",
              "      <td>10.0</td>\n",
              "      <td>00******10</td>\n",
              "    </tr>\n",
              "    <tr>\n",
              "      <th>6</th>\n",
              "      <td>11256006</td>\n",
              "      <td>099TBCS151390015</td>\n",
              "      <td>TBCS</td>\n",
              "      <td>TBILLS INVT. FOR CUSTOMER</td>\n",
              "      <td>D</td>\n",
              "      <td>NGN</td>\n",
              "      <td>500000.00</td>\n",
              "      <td>500000.00</td>\n",
              "      <td>9/30/2015</td>\n",
              "      <td>10/29/2015</td>\n",
              "      <td>Y</td>\n",
              "      <td>164.0</td>\n",
              "      <td>0</td>\n",
              "      <td>L</td>\n",
              "      <td>12.5</td>\n",
              "      <td>00******65</td>\n",
              "    </tr>\n",
              "    <tr>\n",
              "      <th>7</th>\n",
              "      <td>11256006</td>\n",
              "      <td>099TBCS151190035</td>\n",
              "      <td>TBCS</td>\n",
              "      <td>TBILLS INVT. FOR CUSTOMER</td>\n",
              "      <td>D</td>\n",
              "      <td>NGN</td>\n",
              "      <td>650000.00</td>\n",
              "      <td>650000.00</td>\n",
              "      <td>9/30/2015</td>\n",
              "      <td>10/22/2015</td>\n",
              "      <td>Y</td>\n",
              "      <td>176.0</td>\n",
              "      <td>0</td>\n",
              "      <td>L</td>\n",
              "      <td>12.0</td>\n",
              "      <td>00******65</td>\n",
              "    </tr>\n",
              "    <tr>\n",
              "      <th>8</th>\n",
              "      <td>610436003</td>\n",
              "      <td>099TBCS152120016</td>\n",
              "      <td>TBCS</td>\n",
              "      <td>TBILLS INVT. FOR CUSTOMER</td>\n",
              "      <td>D</td>\n",
              "      <td>NGN</td>\n",
              "      <td>200000.00</td>\n",
              "      <td>200000.00</td>\n",
              "      <td>9/30/2015</td>\n",
              "      <td>10/29/2015</td>\n",
              "      <td>Y</td>\n",
              "      <td>90.0</td>\n",
              "      <td>0</td>\n",
              "      <td>L</td>\n",
              "      <td>10.0</td>\n",
              "      <td>06******83</td>\n",
              "    </tr>\n",
              "    <tr>\n",
              "      <th>9</th>\n",
              "      <td>681708002</td>\n",
              "      <td>099TBCS152040032</td>\n",
              "      <td>TBCS</td>\n",
              "      <td>TBILLS INVT. FOR CUSTOMER</td>\n",
              "      <td>D</td>\n",
              "      <td>NGN</td>\n",
              "      <td>1545000.00</td>\n",
              "      <td>1545000.00</td>\n",
              "      <td>9/30/2015</td>\n",
              "      <td>10/15/2015</td>\n",
              "      <td>Y</td>\n",
              "      <td>85.0</td>\n",
              "      <td>0</td>\n",
              "      <td>L</td>\n",
              "      <td>12.0</td>\n",
              "      <td>06******23</td>\n",
              "    </tr>\n",
              "  </tbody>\n",
              "</table>\n",
              "</div>"
            ],
            "text/plain": [
              "   CUSTOMER_UNIQUE_ID   CONTRACT_REF_NO  ... MAIN_COMP_RATE MASKED_ACCOUNT\n",
              "0           376921008  099FRDC151670009  ...           11.0     00******30\n",
              "1           637314002  099MTDB151770100  ...           11.0     00******72\n",
              "2           523013005  099MTDB151910117  ...           11.0     00******42\n",
              "3            18030000  099MTDB152660054  ...            7.5     00******08\n",
              "4           143966005  099MTDB152220012  ...            9.0     00******99\n",
              "5           383381000  099TBCS152190039  ...           10.0     00******10\n",
              "6            11256006  099TBCS151390015  ...           12.5     00******65\n",
              "7            11256006  099TBCS151190035  ...           12.0     00******65\n",
              "8           610436003  099TBCS152120016  ...           10.0     06******83\n",
              "9           681708002  099TBCS152040032  ...           12.0     06******23\n",
              "\n",
              "[10 rows x 16 columns]"
            ]
          },
          "metadata": {
            "tags": []
          },
          "execution_count": 246
        }
      ]
    },
    {
      "cell_type": "code",
      "metadata": {
        "id": "vdy0u5REjtnK",
        "colab_type": "code",
        "outputId": "748bddd2-1b89-444d-8c28-c5e177586e9f",
        "colab": {
          "base_uri": "https://localhost:8080/",
          "height": 289
        }
      },
      "source": [
        "all_invest.columns.to_list()"
      ],
      "execution_count": 247,
      "outputs": [
        {
          "output_type": "execute_result",
          "data": {
            "text/plain": [
              "['CUSTOMER_UNIQUE_ID',\n",
              " 'CONTRACT_REF_NO',\n",
              " 'PRODUCT',\n",
              " 'PRODUCT_NAME',\n",
              " 'PAYMENT_METHOD',\n",
              " 'CURRENCY',\n",
              " 'AMOUNT',\n",
              " 'LCY_AMOUNT',\n",
              " 'BOOKING_DATE',\n",
              " 'MATURITY_DATE',\n",
              " 'ROLLOVER_ALLOWED',\n",
              " 'TENOR',\n",
              " 'ROLLOVER_COUNT',\n",
              " 'CONTRACT_STATUS',\n",
              " 'MAIN_COMP_RATE',\n",
              " 'MASKED_ACCOUNT']"
            ]
          },
          "metadata": {
            "tags": []
          },
          "execution_count": 247
        }
      ]
    },
    {
      "cell_type": "code",
      "metadata": {
        "id": "q7wOGYXmjtng",
        "colab_type": "code",
        "colab": {}
      },
      "source": [
        "all_invest.columns = all_invest.columns.str.lower()"
      ],
      "execution_count": 0,
      "outputs": []
    },
    {
      "cell_type": "code",
      "metadata": {
        "id": "laINW_k5EZDG",
        "colab_type": "code",
        "colab": {}
      },
      "source": [
        "all_invest.set_index('customer_unique_id',inplace=True)"
      ],
      "execution_count": 0,
      "outputs": []
    },
    {
      "cell_type": "code",
      "metadata": {
        "id": "YVTDzgbXEqcX",
        "colab_type": "code",
        "colab": {}
      },
      "source": [
        "all_invest.index = all_invest.index.astype('int')"
      ],
      "execution_count": 0,
      "outputs": []
    },
    {
      "cell_type": "code",
      "metadata": {
        "id": "wsXXLBzyjtnv",
        "colab_type": "code",
        "outputId": "8a4ff6af-3205-4e88-d20b-a748f661d056",
        "colab": {
          "base_uri": "https://localhost:8080/",
          "height": 289
        }
      },
      "source": [
        "all_invest.isnull().sum()"
      ],
      "execution_count": 251,
      "outputs": [
        {
          "output_type": "execute_result",
          "data": {
            "text/plain": [
              "contract_ref_no     0\n",
              "product             0\n",
              "product_name        0\n",
              "payment_method      0\n",
              "currency            0\n",
              "amount              0\n",
              "lcy_amount          0\n",
              "booking_date        0\n",
              "maturity_date       1\n",
              "rollover_allowed    0\n",
              "tenor               1\n",
              "rollover_count      0\n",
              "contract_status     0\n",
              "main_comp_rate      0\n",
              "masked_account      0\n",
              "dtype: int64"
            ]
          },
          "metadata": {
            "tags": []
          },
          "execution_count": 251
        }
      ]
    },
    {
      "cell_type": "code",
      "metadata": {
        "id": "S9p-CXNKjtn_",
        "colab_type": "code",
        "outputId": "82b796d9-27ab-4480-fb92-e01901fb2fd3",
        "colab": {
          "base_uri": "https://localhost:8080/",
          "height": 357
        }
      },
      "source": [
        "all_invest.info()"
      ],
      "execution_count": 252,
      "outputs": [
        {
          "output_type": "stream",
          "text": [
            "<class 'pandas.core.frame.DataFrame'>\n",
            "Int64Index: 1535 entries, 376921008 to 36326009\n",
            "Data columns (total 15 columns):\n",
            "contract_ref_no     1535 non-null object\n",
            "product             1535 non-null object\n",
            "product_name        1535 non-null object\n",
            "payment_method      1535 non-null object\n",
            "currency            1535 non-null object\n",
            "amount              1535 non-null float64\n",
            "lcy_amount          1535 non-null float64\n",
            "booking_date        1535 non-null object\n",
            "maturity_date       1534 non-null object\n",
            "rollover_allowed    1535 non-null object\n",
            "tenor               1534 non-null float64\n",
            "rollover_count      1535 non-null int64\n",
            "contract_status     1535 non-null object\n",
            "main_comp_rate      1535 non-null float64\n",
            "masked_account      1535 non-null object\n",
            "dtypes: float64(4), int64(1), object(10)\n",
            "memory usage: 191.9+ KB\n"
          ],
          "name": "stdout"
        }
      ]
    },
    {
      "cell_type": "code",
      "metadata": {
        "id": "fEoJ4aJ1jtoK",
        "colab_type": "code",
        "outputId": "883c09f0-4338-48f6-f6bb-2844d8b988ca",
        "colab": {
          "base_uri": "https://localhost:8080/",
          "height": 297
        }
      },
      "source": [
        "all_invest.describe()"
      ],
      "execution_count": 253,
      "outputs": [
        {
          "output_type": "execute_result",
          "data": {
            "text/html": [
              "<div>\n",
              "<style scoped>\n",
              "    .dataframe tbody tr th:only-of-type {\n",
              "        vertical-align: middle;\n",
              "    }\n",
              "\n",
              "    .dataframe tbody tr th {\n",
              "        vertical-align: top;\n",
              "    }\n",
              "\n",
              "    .dataframe thead th {\n",
              "        text-align: right;\n",
              "    }\n",
              "</style>\n",
              "<table border=\"1\" class=\"dataframe\">\n",
              "  <thead>\n",
              "    <tr style=\"text-align: right;\">\n",
              "      <th></th>\n",
              "      <th>amount</th>\n",
              "      <th>lcy_amount</th>\n",
              "      <th>tenor</th>\n",
              "      <th>rollover_count</th>\n",
              "      <th>main_comp_rate</th>\n",
              "    </tr>\n",
              "  </thead>\n",
              "  <tbody>\n",
              "    <tr>\n",
              "      <th>count</th>\n",
              "      <td>1.535000e+03</td>\n",
              "      <td>1.535000e+03</td>\n",
              "      <td>1534.000000</td>\n",
              "      <td>1535.000000</td>\n",
              "      <td>1535.000000</td>\n",
              "    </tr>\n",
              "    <tr>\n",
              "      <th>mean</th>\n",
              "      <td>4.554151e+06</td>\n",
              "      <td>4.558497e+06</td>\n",
              "      <td>107.812256</td>\n",
              "      <td>0.000651</td>\n",
              "      <td>9.841707</td>\n",
              "    </tr>\n",
              "    <tr>\n",
              "      <th>std</th>\n",
              "      <td>1.348463e+07</td>\n",
              "      <td>1.348371e+07</td>\n",
              "      <td>82.692121</td>\n",
              "      <td>0.025524</td>\n",
              "      <td>3.368007</td>\n",
              "    </tr>\n",
              "    <tr>\n",
              "      <th>min</th>\n",
              "      <td>1.000000e+03</td>\n",
              "      <td>1.000000e+03</td>\n",
              "      <td>1.000000</td>\n",
              "      <td>0.000000</td>\n",
              "      <td>0.050000</td>\n",
              "    </tr>\n",
              "    <tr>\n",
              "      <th>25%</th>\n",
              "      <td>3.000000e+05</td>\n",
              "      <td>3.000000e+05</td>\n",
              "      <td>43.000000</td>\n",
              "      <td>0.000000</td>\n",
              "      <td>7.125000</td>\n",
              "    </tr>\n",
              "    <tr>\n",
              "      <th>50%</th>\n",
              "      <td>9.500000e+05</td>\n",
              "      <td>9.620000e+05</td>\n",
              "      <td>90.000000</td>\n",
              "      <td>0.000000</td>\n",
              "      <td>10.000000</td>\n",
              "    </tr>\n",
              "    <tr>\n",
              "      <th>75%</th>\n",
              "      <td>2.900000e+06</td>\n",
              "      <td>2.900000e+06</td>\n",
              "      <td>156.000000</td>\n",
              "      <td>0.000000</td>\n",
              "      <td>12.000000</td>\n",
              "    </tr>\n",
              "    <tr>\n",
              "      <th>max</th>\n",
              "      <td>1.600001e+08</td>\n",
              "      <td>1.600001e+08</td>\n",
              "      <td>486.000000</td>\n",
              "      <td>1.000000</td>\n",
              "      <td>18.500000</td>\n",
              "    </tr>\n",
              "  </tbody>\n",
              "</table>\n",
              "</div>"
            ],
            "text/plain": [
              "             amount    lcy_amount        tenor  rollover_count  main_comp_rate\n",
              "count  1.535000e+03  1.535000e+03  1534.000000     1535.000000     1535.000000\n",
              "mean   4.554151e+06  4.558497e+06   107.812256        0.000651        9.841707\n",
              "std    1.348463e+07  1.348371e+07    82.692121        0.025524        3.368007\n",
              "min    1.000000e+03  1.000000e+03     1.000000        0.000000        0.050000\n",
              "25%    3.000000e+05  3.000000e+05    43.000000        0.000000        7.125000\n",
              "50%    9.500000e+05  9.620000e+05    90.000000        0.000000       10.000000\n",
              "75%    2.900000e+06  2.900000e+06   156.000000        0.000000       12.000000\n",
              "max    1.600001e+08  1.600001e+08   486.000000        1.000000       18.500000"
            ]
          },
          "metadata": {
            "tags": []
          },
          "execution_count": 253
        }
      ]
    },
    {
      "cell_type": "code",
      "metadata": {
        "id": "4RvDQyuJjtoU",
        "colab_type": "code",
        "outputId": "8bbd0c1b-577b-4660-f30b-cd07b5d1760e",
        "colab": {
          "base_uri": "https://localhost:8080/",
          "height": 307
        }
      },
      "source": [
        "sns.distplot(all_invest['amount'])"
      ],
      "execution_count": 254,
      "outputs": [
        {
          "output_type": "execute_result",
          "data": {
            "text/plain": [
              "<matplotlib.axes._subplots.AxesSubplot at 0x7f0a44192908>"
            ]
          },
          "metadata": {
            "tags": []
          },
          "execution_count": 254
        },
        {
          "output_type": "display_data",
          "data": {
            "image/png": "[encoded data removed]",
            "text/plain": [
              "<Figure size 432x288 with 1 Axes>"
            ]
          },
          "metadata": {
            "tags": []
          }
        }
      ]
    },
    {
      "cell_type": "code",
      "metadata": {
        "id": "M2hEIkptjtof",
        "colab_type": "code",
        "outputId": "714068e5-36f7-4baf-fd74-7e1e35f89825",
        "colab": {
          "base_uri": "https://localhost:8080/",
          "height": 308
        }
      },
      "source": [
        "sns.distplot(all_invest['lcy_amount'])"
      ],
      "execution_count": 255,
      "outputs": [
        {
          "output_type": "execute_result",
          "data": {
            "text/plain": [
              "<matplotlib.axes._subplots.AxesSubplot at 0x7f0a4408bc88>"
            ]
          },
          "metadata": {
            "tags": []
          },
          "execution_count": 255
        },
        {
          "output_type": "display_data",
          "data": {
            "image/png": "[encoded data removed]",
            "text/plain": [
              "<Figure size 432x288 with 1 Axes>"
            ]
          },
          "metadata": {
            "tags": []
          }
        }
      ]
    },
    {
      "cell_type": "code",
      "metadata": {
        "id": "63AzpYyLF5Ru",
        "colab_type": "code",
        "colab": {}
      },
      "source": [
        "all_invest.booking_date = pd.to_datetime(all_invest.booking_date)\n",
        "all_invest.maturity_date = pd.to_datetime(all_invest.maturity_date)"
      ],
      "execution_count": 0,
      "outputs": []
    },
    {
      "cell_type": "code",
      "metadata": {
        "id": "ERvCijISGNK3",
        "colab_type": "code",
        "colab": {}
      },
      "source": [
        "all_invest['date_difference']=(all_invest.maturity_date - all_invest.booking_date)/np.timedelta64(1,'D')"
      ],
      "execution_count": 0,
      "outputs": []
    },
    {
      "cell_type": "code",
      "metadata": {
        "id": "En7Q0NxcGtTp",
        "colab_type": "code",
        "outputId": "c0e428cd-d23b-46e5-b190-a14dfeeae451",
        "colab": {
          "base_uri": "https://localhost:8080/",
          "height": 357
        }
      },
      "source": [
        "all_invest.head()"
      ],
      "execution_count": 258,
      "outputs": [
        {
          "output_type": "execute_result",
          "data": {
            "text/html": [
              "<div>\n",
              "<style scoped>\n",
              "    .dataframe tbody tr th:only-of-type {\n",
              "        vertical-align: middle;\n",
              "    }\n",
              "\n",
              "    .dataframe tbody tr th {\n",
              "        vertical-align: top;\n",
              "    }\n",
              "\n",
              "    .dataframe thead th {\n",
              "        text-align: right;\n",
              "    }\n",
              "</style>\n",
              "<table border=\"1\" class=\"dataframe\">\n",
              "  <thead>\n",
              "    <tr style=\"text-align: right;\">\n",
              "      <th></th>\n",
              "      <th>contract_ref_no</th>\n",
              "      <th>product</th>\n",
              "      <th>product_name</th>\n",
              "      <th>payment_method</th>\n",
              "      <th>currency</th>\n",
              "      <th>amount</th>\n",
              "      <th>lcy_amount</th>\n",
              "      <th>booking_date</th>\n",
              "      <th>maturity_date</th>\n",
              "      <th>rollover_allowed</th>\n",
              "      <th>tenor</th>\n",
              "      <th>rollover_count</th>\n",
              "      <th>contract_status</th>\n",
              "      <th>main_comp_rate</th>\n",
              "      <th>masked_account</th>\n",
              "      <th>date_difference</th>\n",
              "    </tr>\n",
              "    <tr>\n",
              "      <th>customer_unique_id</th>\n",
              "      <th></th>\n",
              "      <th></th>\n",
              "      <th></th>\n",
              "      <th></th>\n",
              "      <th></th>\n",
              "      <th></th>\n",
              "      <th></th>\n",
              "      <th></th>\n",
              "      <th></th>\n",
              "      <th></th>\n",
              "      <th></th>\n",
              "      <th></th>\n",
              "      <th></th>\n",
              "      <th></th>\n",
              "      <th></th>\n",
              "      <th></th>\n",
              "    </tr>\n",
              "  </thead>\n",
              "  <tbody>\n",
              "    <tr>\n",
              "      <th>376921008</th>\n",
              "      <td>099FRDC151670009</td>\n",
              "      <td>FRDC</td>\n",
              "      <td>FIXED RATE DEPOSIT CLASSIC</td>\n",
              "      <td>B</td>\n",
              "      <td>NGN</td>\n",
              "      <td>2000000.00</td>\n",
              "      <td>2000000.00</td>\n",
              "      <td>2015-09-30</td>\n",
              "      <td>2015-12-14</td>\n",
              "      <td>N</td>\n",
              "      <td>182.0</td>\n",
              "      <td>0</td>\n",
              "      <td>L</td>\n",
              "      <td>11.0</td>\n",
              "      <td>00******30</td>\n",
              "      <td>75.0</td>\n",
              "    </tr>\n",
              "    <tr>\n",
              "      <th>637314002</th>\n",
              "      <td>099MTDB151770100</td>\n",
              "      <td>MTDB</td>\n",
              "      <td>TERM DEPOSITS</td>\n",
              "      <td>B</td>\n",
              "      <td>NGN</td>\n",
              "      <td>3025647.62</td>\n",
              "      <td>3025647.62</td>\n",
              "      <td>2015-09-30</td>\n",
              "      <td>2015-12-23</td>\n",
              "      <td>Y</td>\n",
              "      <td>180.0</td>\n",
              "      <td>0</td>\n",
              "      <td>L</td>\n",
              "      <td>11.0</td>\n",
              "      <td>00******72</td>\n",
              "      <td>84.0</td>\n",
              "    </tr>\n",
              "    <tr>\n",
              "      <th>523013005</th>\n",
              "      <td>099MTDB151910117</td>\n",
              "      <td>MTDB</td>\n",
              "      <td>TERM DEPOSITS</td>\n",
              "      <td>B</td>\n",
              "      <td>NGN</td>\n",
              "      <td>20000000.00</td>\n",
              "      <td>20000000.00</td>\n",
              "      <td>2015-09-30</td>\n",
              "      <td>2015-10-05</td>\n",
              "      <td>Y</td>\n",
              "      <td>91.0</td>\n",
              "      <td>0</td>\n",
              "      <td>A</td>\n",
              "      <td>11.0</td>\n",
              "      <td>00******42</td>\n",
              "      <td>5.0</td>\n",
              "    </tr>\n",
              "    <tr>\n",
              "      <th>18030000</th>\n",
              "      <td>099MTDB152660054</td>\n",
              "      <td>MTDB</td>\n",
              "      <td>TERM DEPOSITS</td>\n",
              "      <td>B</td>\n",
              "      <td>NGN</td>\n",
              "      <td>35408906.65</td>\n",
              "      <td>35408906.65</td>\n",
              "      <td>2015-09-30</td>\n",
              "      <td>2015-10-23</td>\n",
              "      <td>N</td>\n",
              "      <td>30.0</td>\n",
              "      <td>0</td>\n",
              "      <td>L</td>\n",
              "      <td>7.5</td>\n",
              "      <td>00******08</td>\n",
              "      <td>23.0</td>\n",
              "    </tr>\n",
              "    <tr>\n",
              "      <th>143966005</th>\n",
              "      <td>099MTDB152220012</td>\n",
              "      <td>MTDB</td>\n",
              "      <td>TERM DEPOSITS</td>\n",
              "      <td>B</td>\n",
              "      <td>NGN</td>\n",
              "      <td>400000.00</td>\n",
              "      <td>400000.00</td>\n",
              "      <td>2015-09-30</td>\n",
              "      <td>2016-02-02</td>\n",
              "      <td>Y</td>\n",
              "      <td>180.0</td>\n",
              "      <td>0</td>\n",
              "      <td>L</td>\n",
              "      <td>9.0</td>\n",
              "      <td>00******99</td>\n",
              "      <td>125.0</td>\n",
              "    </tr>\n",
              "  </tbody>\n",
              "</table>\n",
              "</div>"
            ],
            "text/plain": [
              "                     contract_ref_no product  ... masked_account date_difference\n",
              "customer_unique_id                            ...                               \n",
              "376921008           099FRDC151670009    FRDC  ...     00******30            75.0\n",
              "637314002           099MTDB151770100    MTDB  ...     00******72            84.0\n",
              "523013005           099MTDB151910117    MTDB  ...     00******42             5.0\n",
              "18030000            099MTDB152660054    MTDB  ...     00******08            23.0\n",
              "143966005           099MTDB152220012    MTDB  ...     00******99           125.0\n",
              "\n",
              "[5 rows x 16 columns]"
            ]
          },
          "metadata": {
            "tags": []
          },
          "execution_count": 258
        }
      ]
    },
    {
      "cell_type": "code",
      "metadata": {
        "id": "GUylpY0iHGgo",
        "colab_type": "code",
        "outputId": "67046f6f-f2f2-49a4-9a92-adeead4cd1a3",
        "colab": {
          "base_uri": "https://localhost:8080/",
          "height": 170
        }
      },
      "source": [
        "all_invest['product'].value_counts()"
      ],
      "execution_count": 259,
      "outputs": [
        {
          "output_type": "execute_result",
          "data": {
            "text/plain": [
              "TBCS    905\n",
              "MTDB    593\n",
              "BAAC     26\n",
              "MMCD      4\n",
              "COMP      3\n",
              "FRDC      2\n",
              "ACSP      1\n",
              "FRDB      1\n",
              "Name: product, dtype: int64"
            ]
          },
          "metadata": {
            "tags": []
          },
          "execution_count": 259
        }
      ]
    },
    {
      "cell_type": "code",
      "metadata": {
        "id": "g6w4Vz4SHeYt",
        "colab_type": "code",
        "outputId": "2a0d6525-416e-4b50-b028-61222e4ea7a7",
        "colab": {
          "base_uri": "https://localhost:8080/",
          "height": 296
        }
      },
      "source": [
        "sns.countplot( x= 'product', data = all_invest)"
      ],
      "execution_count": 260,
      "outputs": [
        {
          "output_type": "execute_result",
          "data": {
            "text/plain": [
              "<matplotlib.axes._subplots.AxesSubplot at 0x7f0a441f4ef0>"
            ]
          },
          "metadata": {
            "tags": []
          },
          "execution_count": 260
        },
        {
          "output_type": "display_data",
          "data": {
            "image/png": "[encoded data removed]",
            "text/plain": [
              "<Figure size 432x288 with 1 Axes>"
            ]
          },
          "metadata": {
            "tags": []
          }
        }
      ]
    },
    {
      "cell_type": "code",
      "metadata": {
        "id": "rsoUR7UAIC9L",
        "colab_type": "code",
        "outputId": "80336431-daa2-4b24-ce97-319c4dbf9863",
        "colab": {
          "base_uri": "https://localhost:8080/",
          "height": 307
        }
      },
      "source": [
        "sns.boxplot( x ='product', y = 'amount', data = all_invest, palette = 'rainbow')"
      ],
      "execution_count": 261,
      "outputs": [
        {
          "output_type": "execute_result",
          "data": {
            "text/plain": [
              "<matplotlib.axes._subplots.AxesSubplot at 0x7f0a43f9b630>"
            ]
          },
          "metadata": {
            "tags": []
          },
          "execution_count": 261
        },
        {
          "output_type": "display_data",
          "data": {
            "image/png": "[encoded data removed]",
            "text/plain": [
              "<Figure size 432x288 with 1 Axes>"
            ]
          },
          "metadata": {
            "tags": []
          }
        }
      ]
    },
    {
      "cell_type": "code",
      "metadata": {
        "id": "x9MuEuSGJqpc",
        "colab_type": "code",
        "outputId": "24e6c9cb-c8e1-4ca8-df61-2017ed019f1d",
        "colab": {
          "base_uri": "https://localhost:8080/",
          "height": 85
        }
      },
      "source": [
        "all_invest['contract_status'].value_counts()"
      ],
      "execution_count": 262,
      "outputs": [
        {
          "output_type": "execute_result",
          "data": {
            "text/plain": [
              "L    1281\n",
              "A     226\n",
              "V      28\n",
              "Name: contract_status, dtype: int64"
            ]
          },
          "metadata": {
            "tags": []
          },
          "execution_count": 262
        }
      ]
    },
    {
      "cell_type": "code",
      "metadata": {
        "id": "oAu0GoXoJ3pl",
        "colab_type": "code",
        "outputId": "633517e6-6aa0-4166-f185-c6c122cbcdcd",
        "colab": {
          "base_uri": "https://localhost:8080/",
          "height": 308
        }
      },
      "source": [
        "sns.boxplot( x ='contract_status', y = 'amount', data = all_invest, palette = 'rainbow')"
      ],
      "execution_count": 263,
      "outputs": [
        {
          "output_type": "execute_result",
          "data": {
            "text/plain": [
              "<matplotlib.axes._subplots.AxesSubplot at 0x7f0a43f7e6d8>"
            ]
          },
          "metadata": {
            "tags": []
          },
          "execution_count": 263
        },
        {
          "output_type": "display_data",
          "data": {
            "image/png": "[encoded data removed]",
            "text/plain": [
              "<Figure size 432x288 with 1 Axes>"
            ]
          },
          "metadata": {
            "tags": []
          }
        }
      ]
    },
    {
      "cell_type": "code",
      "metadata": {
        "id": "bTKMgD7FK7Eu",
        "colab_type": "code",
        "colab": {}
      },
      "source": [
        "all_invest = all_invest.groupby(all_invest.index).agg({'amount':'mean','tenor':'mean','date_difference':'mean'})"
      ],
      "execution_count": 0,
      "outputs": []
    },
    {
      "cell_type": "code",
      "metadata": {
        "id": "JcOqpET9LNQo",
        "colab_type": "code",
        "outputId": "76ada4cc-be87-4271-b783-6b8a42624439",
        "colab": {
          "base_uri": "https://localhost:8080/",
          "height": 235
        }
      },
      "source": [
        "all_invest.head()"
      ],
      "execution_count": 265,
      "outputs": [
        {
          "output_type": "execute_result",
          "data": {
            "text/html": [
              "<div>\n",
              "<style scoped>\n",
              "    .dataframe tbody tr th:only-of-type {\n",
              "        vertical-align: middle;\n",
              "    }\n",
              "\n",
              "    .dataframe tbody tr th {\n",
              "        vertical-align: top;\n",
              "    }\n",
              "\n",
              "    .dataframe thead th {\n",
              "        text-align: right;\n",
              "    }\n",
              "</style>\n",
              "<table border=\"1\" class=\"dataframe\">\n",
              "  <thead>\n",
              "    <tr style=\"text-align: right;\">\n",
              "      <th></th>\n",
              "      <th>amount</th>\n",
              "      <th>tenor</th>\n",
              "      <th>date_difference</th>\n",
              "    </tr>\n",
              "    <tr>\n",
              "      <th>customer_unique_id</th>\n",
              "      <th></th>\n",
              "      <th></th>\n",
              "      <th></th>\n",
              "    </tr>\n",
              "  </thead>\n",
              "  <tbody>\n",
              "    <tr>\n",
              "      <th>226008</th>\n",
              "      <td>600000.0</td>\n",
              "      <td>45.0</td>\n",
              "      <td>45.0</td>\n",
              "    </tr>\n",
              "    <tr>\n",
              "      <th>1321003</th>\n",
              "      <td>1100000.0</td>\n",
              "      <td>364.0</td>\n",
              "      <td>364.0</td>\n",
              "    </tr>\n",
              "    <tr>\n",
              "      <th>1352000</th>\n",
              "      <td>450000.0</td>\n",
              "      <td>31.0</td>\n",
              "      <td>28.0</td>\n",
              "    </tr>\n",
              "    <tr>\n",
              "      <th>2366007</th>\n",
              "      <td>150000.0</td>\n",
              "      <td>30.0</td>\n",
              "      <td>30.0</td>\n",
              "    </tr>\n",
              "    <tr>\n",
              "      <th>2471001</th>\n",
              "      <td>1000000.0</td>\n",
              "      <td>247.0</td>\n",
              "      <td>247.0</td>\n",
              "    </tr>\n",
              "  </tbody>\n",
              "</table>\n",
              "</div>"
            ],
            "text/plain": [
              "                       amount  tenor  date_difference\n",
              "customer_unique_id                                   \n",
              "226008               600000.0   45.0             45.0\n",
              "1321003             1100000.0  364.0            364.0\n",
              "1352000              450000.0   31.0             28.0\n",
              "2366007              150000.0   30.0             30.0\n",
              "2471001             1000000.0  247.0            247.0"
            ]
          },
          "metadata": {
            "tags": []
          },
          "execution_count": 265
        }
      ]
    },
    {
      "cell_type": "code",
      "metadata": {
        "id": "kbJ7NC5JLhDA",
        "colab_type": "code",
        "outputId": "a856d3ba-e941-4d8c-dba1-47177d4158d7",
        "colab": {
          "base_uri": "https://localhost:8080/",
          "height": 34
        }
      },
      "source": [
        "all_invest.shape"
      ],
      "execution_count": 266,
      "outputs": [
        {
          "output_type": "execute_result",
          "data": {
            "text/plain": [
              "(377, 3)"
            ]
          },
          "metadata": {
            "tags": []
          },
          "execution_count": 266
        }
      ]
    },
    {
      "cell_type": "code",
      "metadata": {
        "id": "QQU8pmOHXhcs",
        "colab_type": "code",
        "colab": {}
      },
      "source": [
        "all_invest.to_csv('df_invest.csv', encoding = 'utf-8', index = True)\n"
      ],
      "execution_count": 0,
      "outputs": []
    },
    {
      "cell_type": "code",
      "metadata": {
        "id": "H3-75sYHXzQN",
        "colab_type": "code",
        "colab": {
          "base_uri": "https://localhost:8080/",
          "height": 204
        },
        "outputId": "d67944a2-23b9-45a6-dc51-bc49f0d2bc93"
      },
      "source": [
        "df_invest = pd.read_csv('df_invest.csv',skiprows = 0)\n",
        "df_invest.head()"
      ],
      "execution_count": 268,
      "outputs": [
        {
          "output_type": "execute_result",
          "data": {
            "text/html": [
              "<div>\n",
              "<style scoped>\n",
              "    .dataframe tbody tr th:only-of-type {\n",
              "        vertical-align: middle;\n",
              "    }\n",
              "\n",
              "    .dataframe tbody tr th {\n",
              "        vertical-align: top;\n",
              "    }\n",
              "\n",
              "    .dataframe thead th {\n",
              "        text-align: right;\n",
              "    }\n",
              "</style>\n",
              "<table border=\"1\" class=\"dataframe\">\n",
              "  <thead>\n",
              "    <tr style=\"text-align: right;\">\n",
              "      <th></th>\n",
              "      <th>customer_unique_id</th>\n",
              "      <th>amount</th>\n",
              "      <th>tenor</th>\n",
              "      <th>date_difference</th>\n",
              "    </tr>\n",
              "  </thead>\n",
              "  <tbody>\n",
              "    <tr>\n",
              "      <th>0</th>\n",
              "      <td>226008</td>\n",
              "      <td>600000.0</td>\n",
              "      <td>45.0</td>\n",
              "      <td>45.0</td>\n",
              "    </tr>\n",
              "    <tr>\n",
              "      <th>1</th>\n",
              "      <td>1321003</td>\n",
              "      <td>1100000.0</td>\n",
              "      <td>364.0</td>\n",
              "      <td>364.0</td>\n",
              "    </tr>\n",
              "    <tr>\n",
              "      <th>2</th>\n",
              "      <td>1352000</td>\n",
              "      <td>450000.0</td>\n",
              "      <td>31.0</td>\n",
              "      <td>28.0</td>\n",
              "    </tr>\n",
              "    <tr>\n",
              "      <th>3</th>\n",
              "      <td>2366007</td>\n",
              "      <td>150000.0</td>\n",
              "      <td>30.0</td>\n",
              "      <td>30.0</td>\n",
              "    </tr>\n",
              "    <tr>\n",
              "      <th>4</th>\n",
              "      <td>2471001</td>\n",
              "      <td>1000000.0</td>\n",
              "      <td>247.0</td>\n",
              "      <td>247.0</td>\n",
              "    </tr>\n",
              "  </tbody>\n",
              "</table>\n",
              "</div>"
            ],
            "text/plain": [
              "   customer_unique_id     amount  tenor  date_difference\n",
              "0              226008   600000.0   45.0             45.0\n",
              "1             1321003  1100000.0  364.0            364.0\n",
              "2             1352000   450000.0   31.0             28.0\n",
              "3             2366007   150000.0   30.0             30.0\n",
              "4             2471001  1000000.0  247.0            247.0"
            ]
          },
          "metadata": {
            "tags": []
          },
          "execution_count": 268
        }
      ]
    },
    {
      "cell_type": "code",
      "metadata": {
        "id": "oYC75wg5gwD1",
        "colab_type": "code",
        "colab": {}
      },
      "source": [
        "all_loans = pd.read_csv('all_loans.csv')"
      ],
      "execution_count": 0,
      "outputs": []
    },
    {
      "cell_type": "code",
      "metadata": {
        "id": "Z5EQLuOfjtoo",
        "colab_type": "code",
        "outputId": "f47191db-bbc2-4c96-8bcd-aab75a9b4190",
        "colab": {
          "base_uri": "https://localhost:8080/",
          "height": 821
        }
      },
      "source": [
        "all_loans.head(10)"
      ],
      "execution_count": 270,
      "outputs": [
        {
          "output_type": "execute_result",
          "data": {
            "text/html": [
              "<div>\n",
              "<style scoped>\n",
              "    .dataframe tbody tr th:only-of-type {\n",
              "        vertical-align: middle;\n",
              "    }\n",
              "\n",
              "    .dataframe tbody tr th {\n",
              "        vertical-align: top;\n",
              "    }\n",
              "\n",
              "    .dataframe thead th {\n",
              "        text-align: right;\n",
              "    }\n",
              "</style>\n",
              "<table border=\"1\" class=\"dataframe\">\n",
              "  <thead>\n",
              "    <tr style=\"text-align: right;\">\n",
              "      <th></th>\n",
              "      <th>CUSTOMER_UNIQUE_ID</th>\n",
              "      <th>LOAN_REF</th>\n",
              "      <th>PRODUCT_CODE</th>\n",
              "      <th>PRODUCT_NAME</th>\n",
              "      <th>BOOK_DATE</th>\n",
              "      <th>MATURITY_DATE</th>\n",
              "      <th>AMOUNT_FINANCED</th>\n",
              "      <th>CURRENCY</th>\n",
              "      <th>ACCOUNT_STATUS</th>\n",
              "      <th>MASKED_ACCOUNT</th>\n",
              "    </tr>\n",
              "  </thead>\n",
              "  <tbody>\n",
              "    <tr>\n",
              "      <th>0</th>\n",
              "      <td>705881005</td>\n",
              "      <td>099AMPC182150644</td>\n",
              "      <td>AMPC</td>\n",
              "      <td>ACCESS MONEY PAYDAY ADVANCE</td>\n",
              "      <td>8/3/2018</td>\n",
              "      <td>9/2/2018</td>\n",
              "      <td>7000.0</td>\n",
              "      <td>NGN</td>\n",
              "      <td>L</td>\n",
              "      <td>06******98</td>\n",
              "    </tr>\n",
              "    <tr>\n",
              "      <th>1</th>\n",
              "      <td>569019008</td>\n",
              "      <td>099AMPC183111412</td>\n",
              "      <td>AMPC</td>\n",
              "      <td>ACCESS MONEY PAYDAY ADVANCE</td>\n",
              "      <td>11/7/2018</td>\n",
              "      <td>12/7/2018</td>\n",
              "      <td>1000.0</td>\n",
              "      <td>NGN</td>\n",
              "      <td>L</td>\n",
              "      <td>00******48</td>\n",
              "    </tr>\n",
              "    <tr>\n",
              "      <th>2</th>\n",
              "      <td>340884012</td>\n",
              "      <td>099AMPC183111143</td>\n",
              "      <td>AMPC</td>\n",
              "      <td>ACCESS MONEY PAYDAY ADVANCE</td>\n",
              "      <td>11/7/2018</td>\n",
              "      <td>12/7/2018</td>\n",
              "      <td>10000.0</td>\n",
              "      <td>NGN</td>\n",
              "      <td>L</td>\n",
              "      <td>07******49</td>\n",
              "    </tr>\n",
              "    <tr>\n",
              "      <th>3</th>\n",
              "      <td>19400009</td>\n",
              "      <td>099AMPC183110916</td>\n",
              "      <td>AMPC</td>\n",
              "      <td>ACCESS MONEY PAYDAY ADVANCE</td>\n",
              "      <td>11/7/2018</td>\n",
              "      <td>12/7/2018</td>\n",
              "      <td>200000.0</td>\n",
              "      <td>NGN</td>\n",
              "      <td>L</td>\n",
              "      <td>00******53</td>\n",
              "    </tr>\n",
              "    <tr>\n",
              "      <th>4</th>\n",
              "      <td>83585009</td>\n",
              "      <td>099AMPC183110921</td>\n",
              "      <td>AMPC</td>\n",
              "      <td>ACCESS MONEY PAYDAY ADVANCE</td>\n",
              "      <td>11/7/2018</td>\n",
              "      <td>12/7/2018</td>\n",
              "      <td>14000.0</td>\n",
              "      <td>NGN</td>\n",
              "      <td>L</td>\n",
              "      <td>00******76</td>\n",
              "    </tr>\n",
              "    <tr>\n",
              "      <th>5</th>\n",
              "      <td>169099007</td>\n",
              "      <td>099AMPC190291665</td>\n",
              "      <td>AMPC</td>\n",
              "      <td>ACCESS MONEY PAYDAY ADVANCE</td>\n",
              "      <td>1/29/2019</td>\n",
              "      <td>2/28/2019</td>\n",
              "      <td>1500.0</td>\n",
              "      <td>NGN</td>\n",
              "      <td>L</td>\n",
              "      <td>00******51</td>\n",
              "    </tr>\n",
              "    <tr>\n",
              "      <th>6</th>\n",
              "      <td>616026000</td>\n",
              "      <td>099PDLP191069189</td>\n",
              "      <td>PDLP</td>\n",
              "      <td>PAYDAY ADVANCE</td>\n",
              "      <td>4/16/2019</td>\n",
              "      <td>5/16/2019</td>\n",
              "      <td>10000.0</td>\n",
              "      <td>NGN</td>\n",
              "      <td>L</td>\n",
              "      <td>06******68</td>\n",
              "    </tr>\n",
              "    <tr>\n",
              "      <th>7</th>\n",
              "      <td>91354010</td>\n",
              "      <td>099PDLP191625905</td>\n",
              "      <td>PDLP</td>\n",
              "      <td>PAYDAY ADVANCE</td>\n",
              "      <td>6/11/2019</td>\n",
              "      <td>7/11/2019</td>\n",
              "      <td>14000.0</td>\n",
              "      <td>NGN</td>\n",
              "      <td>L</td>\n",
              "      <td>07******17</td>\n",
              "    </tr>\n",
              "    <tr>\n",
              "      <th>8</th>\n",
              "      <td>312055003</td>\n",
              "      <td>099AMPC190282726</td>\n",
              "      <td>AMPC</td>\n",
              "      <td>ACCESS MONEY PAYDAY ADVANCE</td>\n",
              "      <td>1/28/2019</td>\n",
              "      <td>2/27/2019</td>\n",
              "      <td>124000.0</td>\n",
              "      <td>NGN</td>\n",
              "      <td>L</td>\n",
              "      <td>00******00</td>\n",
              "    </tr>\n",
              "    <tr>\n",
              "      <th>9</th>\n",
              "      <td>644154000</td>\n",
              "      <td>099AMPC181522469</td>\n",
              "      <td>AMPC</td>\n",
              "      <td>ACCESS MONEY PAYDAY ADVANCE</td>\n",
              "      <td>6/1/2018</td>\n",
              "      <td>7/1/2018</td>\n",
              "      <td>5000.0</td>\n",
              "      <td>NGN</td>\n",
              "      <td>L</td>\n",
              "      <td>00******04</td>\n",
              "    </tr>\n",
              "  </tbody>\n",
              "</table>\n",
              "</div>"
            ],
            "text/plain": [
              "   CUSTOMER_UNIQUE_ID          LOAN_REF  ... ACCOUNT_STATUS MASKED_ACCOUNT\n",
              "0           705881005  099AMPC182150644  ...              L     06******98\n",
              "1           569019008  099AMPC183111412  ...              L     00******48\n",
              "2           340884012  099AMPC183111143  ...              L     07******49\n",
              "3            19400009  099AMPC183110916  ...              L     00******53\n",
              "4            83585009  099AMPC183110921  ...              L     00******76\n",
              "5           169099007  099AMPC190291665  ...              L     00******51\n",
              "6           616026000  099PDLP191069189  ...              L     06******68\n",
              "7            91354010  099PDLP191625905  ...              L     07******17\n",
              "8           312055003  099AMPC190282726  ...              L     00******00\n",
              "9           644154000  099AMPC181522469  ...              L     00******04\n",
              "\n",
              "[10 rows x 10 columns]"
            ]
          },
          "metadata": {
            "tags": []
          },
          "execution_count": 270
        }
      ]
    },
    {
      "cell_type": "code",
      "metadata": {
        "id": "esDEYWZfjtoz",
        "colab_type": "code",
        "outputId": "65774701-7efd-4ce8-9ff4-d9123ddffef7",
        "colab": {
          "base_uri": "https://localhost:8080/",
          "height": 187
        }
      },
      "source": [
        "all_loans.columns.to_list()"
      ],
      "execution_count": 271,
      "outputs": [
        {
          "output_type": "execute_result",
          "data": {
            "text/plain": [
              "['CUSTOMER_UNIQUE_ID',\n",
              " 'LOAN_REF',\n",
              " 'PRODUCT_CODE',\n",
              " 'PRODUCT_NAME',\n",
              " 'BOOK_DATE',\n",
              " 'MATURITY_DATE',\n",
              " 'AMOUNT_FINANCED',\n",
              " 'CURRENCY',\n",
              " 'ACCOUNT_STATUS',\n",
              " 'MASKED_ACCOUNT']"
            ]
          },
          "metadata": {
            "tags": []
          },
          "execution_count": 271
        }
      ]
    },
    {
      "cell_type": "code",
      "metadata": {
        "id": "N8enSL0kjtpB",
        "colab_type": "code",
        "colab": {}
      },
      "source": [
        "all_loans.columns = all_loans.columns.str.lower()\n"
      ],
      "execution_count": 0,
      "outputs": []
    },
    {
      "cell_type": "code",
      "metadata": {
        "id": "473scdT-jtpO",
        "colab_type": "code",
        "colab": {}
      },
      "source": [
        "all_loans.set_index('customer_unique_id',inplace=True)"
      ],
      "execution_count": 0,
      "outputs": []
    },
    {
      "cell_type": "code",
      "metadata": {
        "id": "hy76qQgwjtpg",
        "colab_type": "code",
        "colab": {}
      },
      "source": [
        "all_loans.index=all_loans.index.astype('int')"
      ],
      "execution_count": 0,
      "outputs": []
    },
    {
      "cell_type": "code",
      "metadata": {
        "id": "Y9GR11IOjtpu",
        "colab_type": "code",
        "outputId": "4dbcc59f-0c27-41fc-bda9-e387f65582e7",
        "colab": {
          "base_uri": "https://localhost:8080/",
          "height": 187
        }
      },
      "source": [
        "all_loans.isnull().sum()"
      ],
      "execution_count": 275,
      "outputs": [
        {
          "output_type": "execute_result",
          "data": {
            "text/plain": [
              "loan_ref           0\n",
              "product_code       0\n",
              "product_name       0\n",
              "book_date          0\n",
              "maturity_date      0\n",
              "amount_financed    0\n",
              "currency           0\n",
              "account_status     0\n",
              "masked_account     0\n",
              "dtype: int64"
            ]
          },
          "metadata": {
            "tags": []
          },
          "execution_count": 275
        }
      ]
    },
    {
      "cell_type": "code",
      "metadata": {
        "id": "cJ83CC0yjtqC",
        "colab_type": "code",
        "outputId": "82177b74-470f-48c2-8ef2-9ad7817d6308",
        "colab": {
          "base_uri": "https://localhost:8080/",
          "height": 34
        }
      },
      "source": [
        "all_loans.shape"
      ],
      "execution_count": 276,
      "outputs": [
        {
          "output_type": "execute_result",
          "data": {
            "text/plain": [
              "(278505, 9)"
            ]
          },
          "metadata": {
            "tags": []
          },
          "execution_count": 276
        }
      ]
    },
    {
      "cell_type": "code",
      "metadata": {
        "id": "QHCOgz74jtqQ",
        "colab_type": "code",
        "outputId": "54664d60-2543-4b25-82df-03cbe924f982",
        "colab": {
          "base_uri": "https://localhost:8080/",
          "height": 187
        }
      },
      "source": [
        "all_loans.dtypes"
      ],
      "execution_count": 277,
      "outputs": [
        {
          "output_type": "execute_result",
          "data": {
            "text/plain": [
              "loan_ref            object\n",
              "product_code        object\n",
              "product_name        object\n",
              "book_date           object\n",
              "maturity_date       object\n",
              "amount_financed    float64\n",
              "currency            object\n",
              "account_status      object\n",
              "masked_account      object\n",
              "dtype: object"
            ]
          },
          "metadata": {
            "tags": []
          },
          "execution_count": 277
        }
      ]
    },
    {
      "cell_type": "code",
      "metadata": {
        "id": "cJDw_9hgjtqd",
        "colab_type": "code",
        "colab": {}
      },
      "source": [
        "all_loans.book_date = pd.to_datetime(all_loans.book_date)\n",
        "all_loans.maturity_date = pd.to_datetime(all_loans.maturity_date)"
      ],
      "execution_count": 0,
      "outputs": []
    },
    {
      "cell_type": "code",
      "metadata": {
        "id": "-NdX2Hxajtqm",
        "colab_type": "code",
        "colab": {}
      },
      "source": [
        "all_loans['date_difference']=(all_loans.maturity_date - all_loans.book_date)/np.timedelta64(1,'D')"
      ],
      "execution_count": 0,
      "outputs": []
    },
    {
      "cell_type": "code",
      "metadata": {
        "id": "VydG_l-Bjtq2",
        "colab_type": "code",
        "outputId": "0674e39c-f711-4f32-f876-6ffc465b9cfe",
        "colab": {
          "base_uri": "https://localhost:8080/",
          "height": 510
        }
      },
      "source": [
        "all_loans.head()"
      ],
      "execution_count": 280,
      "outputs": [
        {
          "output_type": "execute_result",
          "data": {
            "text/html": [
              "<div>\n",
              "<style scoped>\n",
              "    .dataframe tbody tr th:only-of-type {\n",
              "        vertical-align: middle;\n",
              "    }\n",
              "\n",
              "    .dataframe tbody tr th {\n",
              "        vertical-align: top;\n",
              "    }\n",
              "\n",
              "    .dataframe thead th {\n",
              "        text-align: right;\n",
              "    }\n",
              "</style>\n",
              "<table border=\"1\" class=\"dataframe\">\n",
              "  <thead>\n",
              "    <tr style=\"text-align: right;\">\n",
              "      <th></th>\n",
              "      <th>loan_ref</th>\n",
              "      <th>product_code</th>\n",
              "      <th>product_name</th>\n",
              "      <th>book_date</th>\n",
              "      <th>maturity_date</th>\n",
              "      <th>amount_financed</th>\n",
              "      <th>currency</th>\n",
              "      <th>account_status</th>\n",
              "      <th>masked_account</th>\n",
              "      <th>date_difference</th>\n",
              "    </tr>\n",
              "    <tr>\n",
              "      <th>customer_unique_id</th>\n",
              "      <th></th>\n",
              "      <th></th>\n",
              "      <th></th>\n",
              "      <th></th>\n",
              "      <th></th>\n",
              "      <th></th>\n",
              "      <th></th>\n",
              "      <th></th>\n",
              "      <th></th>\n",
              "      <th></th>\n",
              "    </tr>\n",
              "  </thead>\n",
              "  <tbody>\n",
              "    <tr>\n",
              "      <th>705881005</th>\n",
              "      <td>099AMPC182150644</td>\n",
              "      <td>AMPC</td>\n",
              "      <td>ACCESS MONEY PAYDAY ADVANCE</td>\n",
              "      <td>2018-08-03</td>\n",
              "      <td>2018-09-02</td>\n",
              "      <td>7000.0</td>\n",
              "      <td>NGN</td>\n",
              "      <td>L</td>\n",
              "      <td>06******98</td>\n",
              "      <td>30.0</td>\n",
              "    </tr>\n",
              "    <tr>\n",
              "      <th>569019008</th>\n",
              "      <td>099AMPC183111412</td>\n",
              "      <td>AMPC</td>\n",
              "      <td>ACCESS MONEY PAYDAY ADVANCE</td>\n",
              "      <td>2018-11-07</td>\n",
              "      <td>2018-12-07</td>\n",
              "      <td>1000.0</td>\n",
              "      <td>NGN</td>\n",
              "      <td>L</td>\n",
              "      <td>00******48</td>\n",
              "      <td>30.0</td>\n",
              "    </tr>\n",
              "    <tr>\n",
              "      <th>340884012</th>\n",
              "      <td>099AMPC183111143</td>\n",
              "      <td>AMPC</td>\n",
              "      <td>ACCESS MONEY PAYDAY ADVANCE</td>\n",
              "      <td>2018-11-07</td>\n",
              "      <td>2018-12-07</td>\n",
              "      <td>10000.0</td>\n",
              "      <td>NGN</td>\n",
              "      <td>L</td>\n",
              "      <td>07******49</td>\n",
              "      <td>30.0</td>\n",
              "    </tr>\n",
              "    <tr>\n",
              "      <th>19400009</th>\n",
              "      <td>099AMPC183110916</td>\n",
              "      <td>AMPC</td>\n",
              "      <td>ACCESS MONEY PAYDAY ADVANCE</td>\n",
              "      <td>2018-11-07</td>\n",
              "      <td>2018-12-07</td>\n",
              "      <td>200000.0</td>\n",
              "      <td>NGN</td>\n",
              "      <td>L</td>\n",
              "      <td>00******53</td>\n",
              "      <td>30.0</td>\n",
              "    </tr>\n",
              "    <tr>\n",
              "      <th>83585009</th>\n",
              "      <td>099AMPC183110921</td>\n",
              "      <td>AMPC</td>\n",
              "      <td>ACCESS MONEY PAYDAY ADVANCE</td>\n",
              "      <td>2018-11-07</td>\n",
              "      <td>2018-12-07</td>\n",
              "      <td>14000.0</td>\n",
              "      <td>NGN</td>\n",
              "      <td>L</td>\n",
              "      <td>00******76</td>\n",
              "      <td>30.0</td>\n",
              "    </tr>\n",
              "  </tbody>\n",
              "</table>\n",
              "</div>"
            ],
            "text/plain": [
              "                            loan_ref  ... date_difference\n",
              "customer_unique_id                    ...                \n",
              "705881005           099AMPC182150644  ...            30.0\n",
              "569019008           099AMPC183111412  ...            30.0\n",
              "340884012           099AMPC183111143  ...            30.0\n",
              "19400009            099AMPC183110916  ...            30.0\n",
              "83585009            099AMPC183110921  ...            30.0\n",
              "\n",
              "[5 rows x 10 columns]"
            ]
          },
          "metadata": {
            "tags": []
          },
          "execution_count": 280
        }
      ]
    },
    {
      "cell_type": "code",
      "metadata": {
        "id": "DwQ_c6UJjtrA",
        "colab_type": "code",
        "outputId": "4864d729-b10a-425e-c2e0-152ad7b9c118",
        "colab": {
          "base_uri": "https://localhost:8080/",
          "height": 204
        }
      },
      "source": [
        "all_loans.dtypes"
      ],
      "execution_count": 281,
      "outputs": [
        {
          "output_type": "execute_result",
          "data": {
            "text/plain": [
              "loan_ref                   object\n",
              "product_code               object\n",
              "product_name               object\n",
              "book_date          datetime64[ns]\n",
              "maturity_date      datetime64[ns]\n",
              "amount_financed           float64\n",
              "currency                   object\n",
              "account_status             object\n",
              "masked_account             object\n",
              "date_difference           float64\n",
              "dtype: object"
            ]
          },
          "metadata": {
            "tags": []
          },
          "execution_count": 281
        }
      ]
    },
    {
      "cell_type": "code",
      "metadata": {
        "id": "6reC3aFjjtrb",
        "colab_type": "code",
        "colab": {}
      },
      "source": [
        "all_loans = all_loans.drop(columns = ['masked_account', 'loan_ref', 'product_name', 'currency'])"
      ],
      "execution_count": 0,
      "outputs": []
    },
    {
      "cell_type": "code",
      "metadata": {
        "id": "UerEUbvLjtrq",
        "colab_type": "code",
        "outputId": "f3c3eb6c-a606-4e59-8332-fd54f8083b86",
        "colab": {
          "base_uri": "https://localhost:8080/",
          "height": 235
        }
      },
      "source": [
        "all_loans.head()"
      ],
      "execution_count": 283,
      "outputs": [
        {
          "output_type": "execute_result",
          "data": {
            "text/html": [
              "<div>\n",
              "<style scoped>\n",
              "    .dataframe tbody tr th:only-of-type {\n",
              "        vertical-align: middle;\n",
              "    }\n",
              "\n",
              "    .dataframe tbody tr th {\n",
              "        vertical-align: top;\n",
              "    }\n",
              "\n",
              "    .dataframe thead th {\n",
              "        text-align: right;\n",
              "    }\n",
              "</style>\n",
              "<table border=\"1\" class=\"dataframe\">\n",
              "  <thead>\n",
              "    <tr style=\"text-align: right;\">\n",
              "      <th></th>\n",
              "      <th>product_code</th>\n",
              "      <th>book_date</th>\n",
              "      <th>maturity_date</th>\n",
              "      <th>amount_financed</th>\n",
              "      <th>account_status</th>\n",
              "      <th>date_difference</th>\n",
              "    </tr>\n",
              "    <tr>\n",
              "      <th>customer_unique_id</th>\n",
              "      <th></th>\n",
              "      <th></th>\n",
              "      <th></th>\n",
              "      <th></th>\n",
              "      <th></th>\n",
              "      <th></th>\n",
              "    </tr>\n",
              "  </thead>\n",
              "  <tbody>\n",
              "    <tr>\n",
              "      <th>705881005</th>\n",
              "      <td>AMPC</td>\n",
              "      <td>2018-08-03</td>\n",
              "      <td>2018-09-02</td>\n",
              "      <td>7000.0</td>\n",
              "      <td>L</td>\n",
              "      <td>30.0</td>\n",
              "    </tr>\n",
              "    <tr>\n",
              "      <th>569019008</th>\n",
              "      <td>AMPC</td>\n",
              "      <td>2018-11-07</td>\n",
              "      <td>2018-12-07</td>\n",
              "      <td>1000.0</td>\n",
              "      <td>L</td>\n",
              "      <td>30.0</td>\n",
              "    </tr>\n",
              "    <tr>\n",
              "      <th>340884012</th>\n",
              "      <td>AMPC</td>\n",
              "      <td>2018-11-07</td>\n",
              "      <td>2018-12-07</td>\n",
              "      <td>10000.0</td>\n",
              "      <td>L</td>\n",
              "      <td>30.0</td>\n",
              "    </tr>\n",
              "    <tr>\n",
              "      <th>19400009</th>\n",
              "      <td>AMPC</td>\n",
              "      <td>2018-11-07</td>\n",
              "      <td>2018-12-07</td>\n",
              "      <td>200000.0</td>\n",
              "      <td>L</td>\n",
              "      <td>30.0</td>\n",
              "    </tr>\n",
              "    <tr>\n",
              "      <th>83585009</th>\n",
              "      <td>AMPC</td>\n",
              "      <td>2018-11-07</td>\n",
              "      <td>2018-12-07</td>\n",
              "      <td>14000.0</td>\n",
              "      <td>L</td>\n",
              "      <td>30.0</td>\n",
              "    </tr>\n",
              "  </tbody>\n",
              "</table>\n",
              "</div>"
            ],
            "text/plain": [
              "                   product_code  book_date  ... account_status  date_difference\n",
              "customer_unique_id                          ...                                \n",
              "705881005                  AMPC 2018-08-03  ...              L             30.0\n",
              "569019008                  AMPC 2018-11-07  ...              L             30.0\n",
              "340884012                  AMPC 2018-11-07  ...              L             30.0\n",
              "19400009                   AMPC 2018-11-07  ...              L             30.0\n",
              "83585009                   AMPC 2018-11-07  ...              L             30.0\n",
              "\n",
              "[5 rows x 6 columns]"
            ]
          },
          "metadata": {
            "tags": []
          },
          "execution_count": 283
        }
      ]
    },
    {
      "cell_type": "code",
      "metadata": {
        "id": "KJ-cc6HVjtr1",
        "colab_type": "code",
        "outputId": "6727ef58-b876-4340-d058-fbce9e7ccc22",
        "colab": {
          "base_uri": "https://localhost:8080/",
          "height": 136
        }
      },
      "source": [
        "all_loans.isnull().sum()"
      ],
      "execution_count": 284,
      "outputs": [
        {
          "output_type": "execute_result",
          "data": {
            "text/plain": [
              "product_code       0\n",
              "book_date          0\n",
              "maturity_date      0\n",
              "amount_financed    0\n",
              "account_status     0\n",
              "date_difference    0\n",
              "dtype: int64"
            ]
          },
          "metadata": {
            "tags": []
          },
          "execution_count": 284
        }
      ]
    },
    {
      "cell_type": "code",
      "metadata": {
        "id": "CpGZ4gRah9SM",
        "colab_type": "code",
        "colab": {}
      },
      "source": [
        "product_code = all_loans.groupby(all_loans.index).product_code.apply(pd.Series.mode).sort_index().to_frame()\n",
        "frame = pd.DataFrame(product_code)\n"
      ],
      "execution_count": 0,
      "outputs": []
    },
    {
      "cell_type": "code",
      "metadata": {
        "id": "7doMSYIXhVY7",
        "colab_type": "code",
        "outputId": "f5d23524-5bc3-4106-e25d-40f86ffd5de4",
        "colab": {
          "base_uri": "https://localhost:8080/",
          "height": 235
        }
      },
      "source": [
        "frame.head()"
      ],
      "execution_count": 286,
      "outputs": [
        {
          "output_type": "execute_result",
          "data": {
            "text/html": [
              "<div>\n",
              "<style scoped>\n",
              "    .dataframe tbody tr th:only-of-type {\n",
              "        vertical-align: middle;\n",
              "    }\n",
              "\n",
              "    .dataframe tbody tr th {\n",
              "        vertical-align: top;\n",
              "    }\n",
              "\n",
              "    .dataframe thead th {\n",
              "        text-align: right;\n",
              "    }\n",
              "</style>\n",
              "<table border=\"1\" class=\"dataframe\">\n",
              "  <thead>\n",
              "    <tr style=\"text-align: right;\">\n",
              "      <th></th>\n",
              "      <th></th>\n",
              "      <th>product_code</th>\n",
              "    </tr>\n",
              "    <tr>\n",
              "      <th>customer_unique_id</th>\n",
              "      <th></th>\n",
              "      <th></th>\n",
              "    </tr>\n",
              "  </thead>\n",
              "  <tbody>\n",
              "    <tr>\n",
              "      <th>56000</th>\n",
              "      <th>0</th>\n",
              "      <td>AMPC</td>\n",
              "    </tr>\n",
              "    <tr>\n",
              "      <th>62005</th>\n",
              "      <th>0</th>\n",
              "      <td>PDLP</td>\n",
              "    </tr>\n",
              "    <tr>\n",
              "      <th>104008</th>\n",
              "      <th>0</th>\n",
              "      <td>AMPC</td>\n",
              "    </tr>\n",
              "    <tr>\n",
              "      <th>175007</th>\n",
              "      <th>0</th>\n",
              "      <td>PDLP</td>\n",
              "    </tr>\n",
              "    <tr>\n",
              "      <th>200006</th>\n",
              "      <th>0</th>\n",
              "      <td>AMPC</td>\n",
              "    </tr>\n",
              "  </tbody>\n",
              "</table>\n",
              "</div>"
            ],
            "text/plain": [
              "                     product_code\n",
              "customer_unique_id               \n",
              "56000              0         AMPC\n",
              "62005              0         PDLP\n",
              "104008             0         AMPC\n",
              "175007             0         PDLP\n",
              "200006             0         AMPC"
            ]
          },
          "metadata": {
            "tags": []
          },
          "execution_count": 286
        }
      ]
    },
    {
      "cell_type": "code",
      "metadata": {
        "colab_type": "code",
        "outputId": "9d532d0c-2217-482f-e557-7b7e4aaf1efc",
        "id": "VAaKL6EllF_S",
        "colab": {
          "base_uri": "https://localhost:8080/",
          "height": 34
        }
      },
      "source": [
        "frame.shape"
      ],
      "execution_count": 287,
      "outputs": [
        {
          "output_type": "execute_result",
          "data": {
            "text/plain": [
              "(18896, 1)"
            ]
          },
          "metadata": {
            "tags": []
          },
          "execution_count": 287
        }
      ]
    },
    {
      "cell_type": "code",
      "metadata": {
        "id": "v60cOhBQlHZ7",
        "colab_type": "code",
        "outputId": "c250524f-f8ab-4f49-d560-d578f185605d",
        "colab": {
          "base_uri": "https://localhost:8080/",
          "height": 419
        }
      },
      "source": [
        "frame.reset_index(drop = True)"
      ],
      "execution_count": 288,
      "outputs": [
        {
          "output_type": "execute_result",
          "data": {
            "text/html": [
              "<div>\n",
              "<style scoped>\n",
              "    .dataframe tbody tr th:only-of-type {\n",
              "        vertical-align: middle;\n",
              "    }\n",
              "\n",
              "    .dataframe tbody tr th {\n",
              "        vertical-align: top;\n",
              "    }\n",
              "\n",
              "    .dataframe thead th {\n",
              "        text-align: right;\n",
              "    }\n",
              "</style>\n",
              "<table border=\"1\" class=\"dataframe\">\n",
              "  <thead>\n",
              "    <tr style=\"text-align: right;\">\n",
              "      <th></th>\n",
              "      <th>product_code</th>\n",
              "    </tr>\n",
              "  </thead>\n",
              "  <tbody>\n",
              "    <tr>\n",
              "      <th>0</th>\n",
              "      <td>AMPC</td>\n",
              "    </tr>\n",
              "    <tr>\n",
              "      <th>1</th>\n",
              "      <td>PDLP</td>\n",
              "    </tr>\n",
              "    <tr>\n",
              "      <th>2</th>\n",
              "      <td>AMPC</td>\n",
              "    </tr>\n",
              "    <tr>\n",
              "      <th>3</th>\n",
              "      <td>PDLP</td>\n",
              "    </tr>\n",
              "    <tr>\n",
              "      <th>4</th>\n",
              "      <td>AMPC</td>\n",
              "    </tr>\n",
              "    <tr>\n",
              "      <th>...</th>\n",
              "      <td>...</td>\n",
              "    </tr>\n",
              "    <tr>\n",
              "      <th>18891</th>\n",
              "      <td>AMPC</td>\n",
              "    </tr>\n",
              "    <tr>\n",
              "      <th>18892</th>\n",
              "      <td>PDLP</td>\n",
              "    </tr>\n",
              "    <tr>\n",
              "      <th>18893</th>\n",
              "      <td>PDLP</td>\n",
              "    </tr>\n",
              "    <tr>\n",
              "      <th>18894</th>\n",
              "      <td>PDLP</td>\n",
              "    </tr>\n",
              "    <tr>\n",
              "      <th>18895</th>\n",
              "      <td>AMPC</td>\n",
              "    </tr>\n",
              "  </tbody>\n",
              "</table>\n",
              "<p>18896 rows × 1 columns</p>\n",
              "</div>"
            ],
            "text/plain": [
              "      product_code\n",
              "0             AMPC\n",
              "1             PDLP\n",
              "2             AMPC\n",
              "3             PDLP\n",
              "4             AMPC\n",
              "...            ...\n",
              "18891         AMPC\n",
              "18892         PDLP\n",
              "18893         PDLP\n",
              "18894         PDLP\n",
              "18895         AMPC\n",
              "\n",
              "[18896 rows x 1 columns]"
            ]
          },
          "metadata": {
            "tags": []
          },
          "execution_count": 288
        }
      ]
    },
    {
      "cell_type": "code",
      "metadata": {
        "scrolled": true,
        "id": "a819nk5ajtsI",
        "colab_type": "code",
        "colab": {}
      },
      "source": [
        "amount = all_loans.groupby(all_loans.index).amount_financed.mean().sort_index().to_frame()\n",
        "frame1 = pd.DataFrame(amount)"
      ],
      "execution_count": 0,
      "outputs": []
    },
    {
      "cell_type": "code",
      "metadata": {
        "id": "E4WpsrmYjqHY",
        "colab_type": "code",
        "outputId": "448f2c6f-f1fb-4ec1-a3a4-cb8af4dc2595",
        "colab": {
          "base_uri": "https://localhost:8080/",
          "height": 34
        }
      },
      "source": [
        "frame1.shape"
      ],
      "execution_count": 290,
      "outputs": [
        {
          "output_type": "execute_result",
          "data": {
            "text/plain": [
              "(17986, 1)"
            ]
          },
          "metadata": {
            "tags": []
          },
          "execution_count": 290
        }
      ]
    },
    {
      "cell_type": "code",
      "metadata": {
        "id": "T_A1FKthliOW",
        "colab_type": "code",
        "outputId": "371951a1-f878-43c2-f1fc-38d9e9a12d1a",
        "colab": {
          "base_uri": "https://localhost:8080/",
          "height": 419
        }
      },
      "source": [
        "frame1.reset_index(drop = True)"
      ],
      "execution_count": 291,
      "outputs": [
        {
          "output_type": "execute_result",
          "data": {
            "text/html": [
              "<div>\n",
              "<style scoped>\n",
              "    .dataframe tbody tr th:only-of-type {\n",
              "        vertical-align: middle;\n",
              "    }\n",
              "\n",
              "    .dataframe tbody tr th {\n",
              "        vertical-align: top;\n",
              "    }\n",
              "\n",
              "    .dataframe thead th {\n",
              "        text-align: right;\n",
              "    }\n",
              "</style>\n",
              "<table border=\"1\" class=\"dataframe\">\n",
              "  <thead>\n",
              "    <tr style=\"text-align: right;\">\n",
              "      <th></th>\n",
              "      <th>amount_financed</th>\n",
              "    </tr>\n",
              "  </thead>\n",
              "  <tbody>\n",
              "    <tr>\n",
              "      <th>0</th>\n",
              "      <td>56827.586207</td>\n",
              "    </tr>\n",
              "    <tr>\n",
              "      <th>1</th>\n",
              "      <td>72074.074074</td>\n",
              "    </tr>\n",
              "    <tr>\n",
              "      <th>2</th>\n",
              "      <td>46111.111111</td>\n",
              "    </tr>\n",
              "    <tr>\n",
              "      <th>3</th>\n",
              "      <td>5235.294118</td>\n",
              "    </tr>\n",
              "    <tr>\n",
              "      <th>4</th>\n",
              "      <td>74937.500000</td>\n",
              "    </tr>\n",
              "    <tr>\n",
              "      <th>...</th>\n",
              "      <td>...</td>\n",
              "    </tr>\n",
              "    <tr>\n",
              "      <th>17981</th>\n",
              "      <td>2323.529412</td>\n",
              "    </tr>\n",
              "    <tr>\n",
              "      <th>17982</th>\n",
              "      <td>8500.000000</td>\n",
              "    </tr>\n",
              "    <tr>\n",
              "      <th>17983</th>\n",
              "      <td>137183.874000</td>\n",
              "    </tr>\n",
              "    <tr>\n",
              "      <th>17984</th>\n",
              "      <td>18000.000000</td>\n",
              "    </tr>\n",
              "    <tr>\n",
              "      <th>17985</th>\n",
              "      <td>9500.000000</td>\n",
              "    </tr>\n",
              "  </tbody>\n",
              "</table>\n",
              "<p>17986 rows × 1 columns</p>\n",
              "</div>"
            ],
            "text/plain": [
              "       amount_financed\n",
              "0         56827.586207\n",
              "1         72074.074074\n",
              "2         46111.111111\n",
              "3          5235.294118\n",
              "4         74937.500000\n",
              "...                ...\n",
              "17981      2323.529412\n",
              "17982      8500.000000\n",
              "17983    137183.874000\n",
              "17984     18000.000000\n",
              "17985      9500.000000\n",
              "\n",
              "[17986 rows x 1 columns]"
            ]
          },
          "metadata": {
            "tags": []
          },
          "execution_count": 291
        }
      ]
    },
    {
      "cell_type": "code",
      "metadata": {
        "id": "frf4NPVnjtsS",
        "colab_type": "code",
        "colab": {}
      },
      "source": [
        "account_status = all_loans.groupby(all_loans.index).account_status.apply(pd.Series.mode).sort_index().to_frame()\n",
        "frame2 = pd.DataFrame(account_status)"
      ],
      "execution_count": 0,
      "outputs": []
    },
    {
      "cell_type": "code",
      "metadata": {
        "id": "GBdaji6jlpap",
        "colab_type": "code",
        "outputId": "a52afdaa-c477-491f-b455-474a52caa9d7",
        "colab": {
          "base_uri": "https://localhost:8080/",
          "height": 419
        }
      },
      "source": [
        "frame2.reset_index(drop = True)"
      ],
      "execution_count": 293,
      "outputs": [
        {
          "output_type": "execute_result",
          "data": {
            "text/html": [
              "<div>\n",
              "<style scoped>\n",
              "    .dataframe tbody tr th:only-of-type {\n",
              "        vertical-align: middle;\n",
              "    }\n",
              "\n",
              "    .dataframe tbody tr th {\n",
              "        vertical-align: top;\n",
              "    }\n",
              "\n",
              "    .dataframe thead th {\n",
              "        text-align: right;\n",
              "    }\n",
              "</style>\n",
              "<table border=\"1\" class=\"dataframe\">\n",
              "  <thead>\n",
              "    <tr style=\"text-align: right;\">\n",
              "      <th></th>\n",
              "      <th>account_status</th>\n",
              "    </tr>\n",
              "  </thead>\n",
              "  <tbody>\n",
              "    <tr>\n",
              "      <th>0</th>\n",
              "      <td>L</td>\n",
              "    </tr>\n",
              "    <tr>\n",
              "      <th>1</th>\n",
              "      <td>L</td>\n",
              "    </tr>\n",
              "    <tr>\n",
              "      <th>2</th>\n",
              "      <td>L</td>\n",
              "    </tr>\n",
              "    <tr>\n",
              "      <th>3</th>\n",
              "      <td>L</td>\n",
              "    </tr>\n",
              "    <tr>\n",
              "      <th>4</th>\n",
              "      <td>L</td>\n",
              "    </tr>\n",
              "    <tr>\n",
              "      <th>...</th>\n",
              "      <td>...</td>\n",
              "    </tr>\n",
              "    <tr>\n",
              "      <th>18754</th>\n",
              "      <td>L</td>\n",
              "    </tr>\n",
              "    <tr>\n",
              "      <th>18755</th>\n",
              "      <td>L</td>\n",
              "    </tr>\n",
              "    <tr>\n",
              "      <th>18756</th>\n",
              "      <td>L</td>\n",
              "    </tr>\n",
              "    <tr>\n",
              "      <th>18757</th>\n",
              "      <td>L</td>\n",
              "    </tr>\n",
              "    <tr>\n",
              "      <th>18758</th>\n",
              "      <td>L</td>\n",
              "    </tr>\n",
              "  </tbody>\n",
              "</table>\n",
              "<p>18759 rows × 1 columns</p>\n",
              "</div>"
            ],
            "text/plain": [
              "      account_status\n",
              "0                  L\n",
              "1                  L\n",
              "2                  L\n",
              "3                  L\n",
              "4                  L\n",
              "...              ...\n",
              "18754              L\n",
              "18755              L\n",
              "18756              L\n",
              "18757              L\n",
              "18758              L\n",
              "\n",
              "[18759 rows x 1 columns]"
            ]
          },
          "metadata": {
            "tags": []
          },
          "execution_count": 293
        }
      ]
    },
    {
      "cell_type": "code",
      "metadata": {
        "id": "VON9FIKtjtsw",
        "colab_type": "code",
        "colab": {}
      },
      "source": [
        "date_difference = all_loans.groupby(all_loans.index).date_difference.mean().sort_index().to_frame()\n",
        "frame3 = pd.DataFrame(date_difference)"
      ],
      "execution_count": 0,
      "outputs": []
    },
    {
      "cell_type": "code",
      "metadata": {
        "id": "b2srpXrvlvgj",
        "colab_type": "code",
        "outputId": "1f1e001c-6a82-49a1-dc9b-7e8b4395fe13",
        "colab": {
          "base_uri": "https://localhost:8080/",
          "height": 419
        }
      },
      "source": [
        "frame3.reset_index(drop = True)"
      ],
      "execution_count": 295,
      "outputs": [
        {
          "output_type": "execute_result",
          "data": {
            "text/html": [
              "<div>\n",
              "<style scoped>\n",
              "    .dataframe tbody tr th:only-of-type {\n",
              "        vertical-align: middle;\n",
              "    }\n",
              "\n",
              "    .dataframe tbody tr th {\n",
              "        vertical-align: top;\n",
              "    }\n",
              "\n",
              "    .dataframe thead th {\n",
              "        text-align: right;\n",
              "    }\n",
              "</style>\n",
              "<table border=\"1\" class=\"dataframe\">\n",
              "  <thead>\n",
              "    <tr style=\"text-align: right;\">\n",
              "      <th></th>\n",
              "      <th>date_difference</th>\n",
              "    </tr>\n",
              "  </thead>\n",
              "  <tbody>\n",
              "    <tr>\n",
              "      <th>0</th>\n",
              "      <td>30.0</td>\n",
              "    </tr>\n",
              "    <tr>\n",
              "      <th>1</th>\n",
              "      <td>30.0</td>\n",
              "    </tr>\n",
              "    <tr>\n",
              "      <th>2</th>\n",
              "      <td>40.0</td>\n",
              "    </tr>\n",
              "    <tr>\n",
              "      <th>3</th>\n",
              "      <td>30.0</td>\n",
              "    </tr>\n",
              "    <tr>\n",
              "      <th>4</th>\n",
              "      <td>30.0</td>\n",
              "    </tr>\n",
              "    <tr>\n",
              "      <th>...</th>\n",
              "      <td>...</td>\n",
              "    </tr>\n",
              "    <tr>\n",
              "      <th>17981</th>\n",
              "      <td>30.0</td>\n",
              "    </tr>\n",
              "    <tr>\n",
              "      <th>17982</th>\n",
              "      <td>30.0</td>\n",
              "    </tr>\n",
              "    <tr>\n",
              "      <th>17983</th>\n",
              "      <td>149.4</td>\n",
              "    </tr>\n",
              "    <tr>\n",
              "      <th>17984</th>\n",
              "      <td>30.0</td>\n",
              "    </tr>\n",
              "    <tr>\n",
              "      <th>17985</th>\n",
              "      <td>30.0</td>\n",
              "    </tr>\n",
              "  </tbody>\n",
              "</table>\n",
              "<p>17986 rows × 1 columns</p>\n",
              "</div>"
            ],
            "text/plain": [
              "       date_difference\n",
              "0                 30.0\n",
              "1                 30.0\n",
              "2                 40.0\n",
              "3                 30.0\n",
              "4                 30.0\n",
              "...                ...\n",
              "17981             30.0\n",
              "17982             30.0\n",
              "17983            149.4\n",
              "17984             30.0\n",
              "17985             30.0\n",
              "\n",
              "[17986 rows x 1 columns]"
            ]
          },
          "metadata": {
            "tags": []
          },
          "execution_count": 295
        }
      ]
    },
    {
      "cell_type": "code",
      "metadata": {
        "id": "U9PvK5rVl8zR",
        "colab_type": "code",
        "colab": {}
      },
      "source": [
        "dfr = pd.concat([frame, frame2], axis = 1)"
      ],
      "execution_count": 0,
      "outputs": []
    },
    {
      "cell_type": "code",
      "metadata": {
        "id": "3xg5aZjhoSff",
        "colab_type": "code",
        "outputId": "95e0d892-ed60-4763-97ef-e873720b1f9d",
        "colab": {
          "base_uri": "https://localhost:8080/",
          "height": 419
        }
      },
      "source": [
        "dfr.reset_index(drop = True)"
      ],
      "execution_count": 297,
      "outputs": [
        {
          "output_type": "execute_result",
          "data": {
            "text/html": [
              "<div>\n",
              "<style scoped>\n",
              "    .dataframe tbody tr th:only-of-type {\n",
              "        vertical-align: middle;\n",
              "    }\n",
              "\n",
              "    .dataframe tbody tr th {\n",
              "        vertical-align: top;\n",
              "    }\n",
              "\n",
              "    .dataframe thead th {\n",
              "        text-align: right;\n",
              "    }\n",
              "</style>\n",
              "<table border=\"1\" class=\"dataframe\">\n",
              "  <thead>\n",
              "    <tr style=\"text-align: right;\">\n",
              "      <th></th>\n",
              "      <th>product_code</th>\n",
              "      <th>account_status</th>\n",
              "    </tr>\n",
              "  </thead>\n",
              "  <tbody>\n",
              "    <tr>\n",
              "      <th>0</th>\n",
              "      <td>AMPC</td>\n",
              "      <td>L</td>\n",
              "    </tr>\n",
              "    <tr>\n",
              "      <th>1</th>\n",
              "      <td>PDLP</td>\n",
              "      <td>L</td>\n",
              "    </tr>\n",
              "    <tr>\n",
              "      <th>2</th>\n",
              "      <td>AMPC</td>\n",
              "      <td>L</td>\n",
              "    </tr>\n",
              "    <tr>\n",
              "      <th>3</th>\n",
              "      <td>PDLP</td>\n",
              "      <td>L</td>\n",
              "    </tr>\n",
              "    <tr>\n",
              "      <th>4</th>\n",
              "      <td>AMPC</td>\n",
              "      <td>L</td>\n",
              "    </tr>\n",
              "    <tr>\n",
              "      <th>...</th>\n",
              "      <td>...</td>\n",
              "      <td>...</td>\n",
              "    </tr>\n",
              "    <tr>\n",
              "      <th>19583</th>\n",
              "      <td>AMPC</td>\n",
              "      <td>L</td>\n",
              "    </tr>\n",
              "    <tr>\n",
              "      <th>19584</th>\n",
              "      <td>PDLP</td>\n",
              "      <td>L</td>\n",
              "    </tr>\n",
              "    <tr>\n",
              "      <th>19585</th>\n",
              "      <td>PDLP</td>\n",
              "      <td>L</td>\n",
              "    </tr>\n",
              "    <tr>\n",
              "      <th>19586</th>\n",
              "      <td>PDLP</td>\n",
              "      <td>L</td>\n",
              "    </tr>\n",
              "    <tr>\n",
              "      <th>19587</th>\n",
              "      <td>AMPC</td>\n",
              "      <td>L</td>\n",
              "    </tr>\n",
              "  </tbody>\n",
              "</table>\n",
              "<p>19588 rows × 2 columns</p>\n",
              "</div>"
            ],
            "text/plain": [
              "      product_code account_status\n",
              "0             AMPC              L\n",
              "1             PDLP              L\n",
              "2             AMPC              L\n",
              "3             PDLP              L\n",
              "4             AMPC              L\n",
              "...            ...            ...\n",
              "19583         AMPC              L\n",
              "19584         PDLP              L\n",
              "19585         PDLP              L\n",
              "19586         PDLP              L\n",
              "19587         AMPC              L\n",
              "\n",
              "[19588 rows x 2 columns]"
            ]
          },
          "metadata": {
            "tags": []
          },
          "execution_count": 297
        }
      ]
    },
    {
      "cell_type": "code",
      "metadata": {
        "id": "_bjUKp03maNc",
        "colab_type": "code",
        "outputId": "d7f337b1-379e-40c2-f31e-daec615e2e90",
        "colab": {
          "base_uri": "https://localhost:8080/",
          "height": 235
        }
      },
      "source": [
        "dfr.head()"
      ],
      "execution_count": 298,
      "outputs": [
        {
          "output_type": "execute_result",
          "data": {
            "text/html": [
              "<div>\n",
              "<style scoped>\n",
              "    .dataframe tbody tr th:only-of-type {\n",
              "        vertical-align: middle;\n",
              "    }\n",
              "\n",
              "    .dataframe tbody tr th {\n",
              "        vertical-align: top;\n",
              "    }\n",
              "\n",
              "    .dataframe thead th {\n",
              "        text-align: right;\n",
              "    }\n",
              "</style>\n",
              "<table border=\"1\" class=\"dataframe\">\n",
              "  <thead>\n",
              "    <tr style=\"text-align: right;\">\n",
              "      <th></th>\n",
              "      <th></th>\n",
              "      <th>product_code</th>\n",
              "      <th>account_status</th>\n",
              "    </tr>\n",
              "    <tr>\n",
              "      <th>customer_unique_id</th>\n",
              "      <th></th>\n",
              "      <th></th>\n",
              "      <th></th>\n",
              "    </tr>\n",
              "  </thead>\n",
              "  <tbody>\n",
              "    <tr>\n",
              "      <th>56000</th>\n",
              "      <th>0</th>\n",
              "      <td>AMPC</td>\n",
              "      <td>L</td>\n",
              "    </tr>\n",
              "    <tr>\n",
              "      <th>62005</th>\n",
              "      <th>0</th>\n",
              "      <td>PDLP</td>\n",
              "      <td>L</td>\n",
              "    </tr>\n",
              "    <tr>\n",
              "      <th>104008</th>\n",
              "      <th>0</th>\n",
              "      <td>AMPC</td>\n",
              "      <td>L</td>\n",
              "    </tr>\n",
              "    <tr>\n",
              "      <th>175007</th>\n",
              "      <th>0</th>\n",
              "      <td>PDLP</td>\n",
              "      <td>L</td>\n",
              "    </tr>\n",
              "    <tr>\n",
              "      <th>200006</th>\n",
              "      <th>0</th>\n",
              "      <td>AMPC</td>\n",
              "      <td>L</td>\n",
              "    </tr>\n",
              "  </tbody>\n",
              "</table>\n",
              "</div>"
            ],
            "text/plain": [
              "                     product_code account_status\n",
              "customer_unique_id                              \n",
              "56000              0         AMPC              L\n",
              "62005              0         PDLP              L\n",
              "104008             0         AMPC              L\n",
              "175007             0         PDLP              L\n",
              "200006             0         AMPC              L"
            ]
          },
          "metadata": {
            "tags": []
          },
          "execution_count": 298
        }
      ]
    },
    {
      "cell_type": "code",
      "metadata": {
        "id": "sZcA4tmrjtvN",
        "colab_type": "code",
        "colab": {}
      },
      "source": [
        "loan_df1 = pd.concat([frame, frame2], axis = 1)\n",
        "\n"
      ],
      "execution_count": 0,
      "outputs": []
    },
    {
      "cell_type": "code",
      "metadata": {
        "id": "UjtTSBP2uOpy",
        "colab_type": "code",
        "colab": {}
      },
      "source": [
        "loan_df2 = pd.concat([frame3, frame1], axis = 1)\n"
      ],
      "execution_count": 0,
      "outputs": []
    },
    {
      "cell_type": "code",
      "metadata": {
        "id": "jdrlG10-uQ8r",
        "colab_type": "code",
        "colab": {}
      },
      "source": [
        "loan_df = pd.merge(loan_df1, loan_df2, on = 'customer_unique_id')"
      ],
      "execution_count": 0,
      "outputs": []
    },
    {
      "cell_type": "code",
      "metadata": {
        "id": "sAqeqz01jtvu",
        "colab_type": "code",
        "outputId": "1a38ef22-06a6-492a-e4bf-3743b6b0a1de",
        "colab": {
          "base_uri": "https://localhost:8080/",
          "height": 34
        }
      },
      "source": [
        "loan_df.shape"
      ],
      "execution_count": 302,
      "outputs": [
        {
          "output_type": "execute_result",
          "data": {
            "text/plain": [
              "(19588, 4)"
            ]
          },
          "metadata": {
            "tags": []
          },
          "execution_count": 302
        }
      ]
    },
    {
      "cell_type": "code",
      "metadata": {
        "id": "adzt4QMgjtv6",
        "colab_type": "code",
        "outputId": "2ee6f41f-0be0-4837-e067-fa6e75134ee2",
        "colab": {
          "base_uri": "https://localhost:8080/",
          "height": 235
        }
      },
      "source": [
        "loan_df.head()"
      ],
      "execution_count": 303,
      "outputs": [
        {
          "output_type": "execute_result",
          "data": {
            "text/html": [
              "<div>\n",
              "<style scoped>\n",
              "    .dataframe tbody tr th:only-of-type {\n",
              "        vertical-align: middle;\n",
              "    }\n",
              "\n",
              "    .dataframe tbody tr th {\n",
              "        vertical-align: top;\n",
              "    }\n",
              "\n",
              "    .dataframe thead th {\n",
              "        text-align: right;\n",
              "    }\n",
              "</style>\n",
              "<table border=\"1\" class=\"dataframe\">\n",
              "  <thead>\n",
              "    <tr style=\"text-align: right;\">\n",
              "      <th></th>\n",
              "      <th>product_code</th>\n",
              "      <th>account_status</th>\n",
              "      <th>date_difference</th>\n",
              "      <th>amount_financed</th>\n",
              "    </tr>\n",
              "    <tr>\n",
              "      <th>customer_unique_id</th>\n",
              "      <th></th>\n",
              "      <th></th>\n",
              "      <th></th>\n",
              "      <th></th>\n",
              "    </tr>\n",
              "  </thead>\n",
              "  <tbody>\n",
              "    <tr>\n",
              "      <th>56000</th>\n",
              "      <td>AMPC</td>\n",
              "      <td>L</td>\n",
              "      <td>30.0</td>\n",
              "      <td>56827.586207</td>\n",
              "    </tr>\n",
              "    <tr>\n",
              "      <th>62005</th>\n",
              "      <td>PDLP</td>\n",
              "      <td>L</td>\n",
              "      <td>30.0</td>\n",
              "      <td>72074.074074</td>\n",
              "    </tr>\n",
              "    <tr>\n",
              "      <th>104008</th>\n",
              "      <td>AMPC</td>\n",
              "      <td>L</td>\n",
              "      <td>40.0</td>\n",
              "      <td>46111.111111</td>\n",
              "    </tr>\n",
              "    <tr>\n",
              "      <th>175007</th>\n",
              "      <td>PDLP</td>\n",
              "      <td>L</td>\n",
              "      <td>30.0</td>\n",
              "      <td>5235.294118</td>\n",
              "    </tr>\n",
              "    <tr>\n",
              "      <th>200006</th>\n",
              "      <td>AMPC</td>\n",
              "      <td>L</td>\n",
              "      <td>30.0</td>\n",
              "      <td>74937.500000</td>\n",
              "    </tr>\n",
              "  </tbody>\n",
              "</table>\n",
              "</div>"
            ],
            "text/plain": [
              "                   product_code  ... amount_financed\n",
              "customer_unique_id               ...                \n",
              "56000                      AMPC  ...    56827.586207\n",
              "62005                      PDLP  ...    72074.074074\n",
              "104008                     AMPC  ...    46111.111111\n",
              "175007                     PDLP  ...     5235.294118\n",
              "200006                     AMPC  ...    74937.500000\n",
              "\n",
              "[5 rows x 4 columns]"
            ]
          },
          "metadata": {
            "tags": []
          },
          "execution_count": 303
        }
      ]
    },
    {
      "cell_type": "code",
      "metadata": {
        "id": "1h9SYFYFjtwB",
        "colab_type": "code",
        "outputId": "afaedf84-870f-49e9-9f74-15b2d1cef9e6",
        "colab": {
          "base_uri": "https://localhost:8080/",
          "height": 102
        }
      },
      "source": [
        "loan_df.isnull().sum()"
      ],
      "execution_count": 304,
      "outputs": [
        {
          "output_type": "execute_result",
          "data": {
            "text/plain": [
              "product_code       692\n",
              "account_status     829\n",
              "date_difference      0\n",
              "amount_financed      0\n",
              "dtype: int64"
            ]
          },
          "metadata": {
            "tags": []
          },
          "execution_count": 304
        }
      ]
    },
    {
      "cell_type": "code",
      "metadata": {
        "id": "xid8DuvejtwS",
        "colab_type": "code",
        "colab": {}
      },
      "source": [
        "loan_df = loan_df.dropna(axis = 0)"
      ],
      "execution_count": 0,
      "outputs": []
    },
    {
      "cell_type": "code",
      "metadata": {
        "id": "i2bZeR-UsCbc",
        "colab_type": "code",
        "outputId": "b434f6c4-2d0e-4398-b44a-9195823e0ce9",
        "colab": {
          "base_uri": "https://localhost:8080/",
          "height": 102
        }
      },
      "source": [
        "loan_df.isnull().sum()"
      ],
      "execution_count": 306,
      "outputs": [
        {
          "output_type": "execute_result",
          "data": {
            "text/plain": [
              "product_code       0\n",
              "account_status     0\n",
              "date_difference    0\n",
              "amount_financed    0\n",
              "dtype: int64"
            ]
          },
          "metadata": {
            "tags": []
          },
          "execution_count": 306
        }
      ]
    },
    {
      "cell_type": "code",
      "metadata": {
        "id": "0zAjSRQvjtw6",
        "colab_type": "code",
        "outputId": "7f5e9938-8245-4a76-d4ab-2bd68860ec11",
        "colab": {
          "base_uri": "https://localhost:8080/",
          "height": 34
        }
      },
      "source": [
        "loan_df.shape"
      ],
      "execution_count": 307,
      "outputs": [
        {
          "output_type": "execute_result",
          "data": {
            "text/plain": [
              "(18067, 4)"
            ]
          },
          "metadata": {
            "tags": []
          },
          "execution_count": 307
        }
      ]
    },
    {
      "cell_type": "code",
      "metadata": {
        "id": "PE9ROLHJjtx0",
        "colab_type": "code",
        "outputId": "0fbeb8a5-9a20-4fce-8c1d-8023613036d6",
        "colab": {
          "base_uri": "https://localhost:8080/",
          "height": 235
        }
      },
      "source": [
        "loan_df.head()"
      ],
      "execution_count": 308,
      "outputs": [
        {
          "output_type": "execute_result",
          "data": {
            "text/html": [
              "<div>\n",
              "<style scoped>\n",
              "    .dataframe tbody tr th:only-of-type {\n",
              "        vertical-align: middle;\n",
              "    }\n",
              "\n",
              "    .dataframe tbody tr th {\n",
              "        vertical-align: top;\n",
              "    }\n",
              "\n",
              "    .dataframe thead th {\n",
              "        text-align: right;\n",
              "    }\n",
              "</style>\n",
              "<table border=\"1\" class=\"dataframe\">\n",
              "  <thead>\n",
              "    <tr style=\"text-align: right;\">\n",
              "      <th></th>\n",
              "      <th>product_code</th>\n",
              "      <th>account_status</th>\n",
              "      <th>date_difference</th>\n",
              "      <th>amount_financed</th>\n",
              "    </tr>\n",
              "    <tr>\n",
              "      <th>customer_unique_id</th>\n",
              "      <th></th>\n",
              "      <th></th>\n",
              "      <th></th>\n",
              "      <th></th>\n",
              "    </tr>\n",
              "  </thead>\n",
              "  <tbody>\n",
              "    <tr>\n",
              "      <th>56000</th>\n",
              "      <td>AMPC</td>\n",
              "      <td>L</td>\n",
              "      <td>30.0</td>\n",
              "      <td>56827.586207</td>\n",
              "    </tr>\n",
              "    <tr>\n",
              "      <th>62005</th>\n",
              "      <td>PDLP</td>\n",
              "      <td>L</td>\n",
              "      <td>30.0</td>\n",
              "      <td>72074.074074</td>\n",
              "    </tr>\n",
              "    <tr>\n",
              "      <th>104008</th>\n",
              "      <td>AMPC</td>\n",
              "      <td>L</td>\n",
              "      <td>40.0</td>\n",
              "      <td>46111.111111</td>\n",
              "    </tr>\n",
              "    <tr>\n",
              "      <th>175007</th>\n",
              "      <td>PDLP</td>\n",
              "      <td>L</td>\n",
              "      <td>30.0</td>\n",
              "      <td>5235.294118</td>\n",
              "    </tr>\n",
              "    <tr>\n",
              "      <th>200006</th>\n",
              "      <td>AMPC</td>\n",
              "      <td>L</td>\n",
              "      <td>30.0</td>\n",
              "      <td>74937.500000</td>\n",
              "    </tr>\n",
              "  </tbody>\n",
              "</table>\n",
              "</div>"
            ],
            "text/plain": [
              "                   product_code  ... amount_financed\n",
              "customer_unique_id               ...                \n",
              "56000                      AMPC  ...    56827.586207\n",
              "62005                      PDLP  ...    72074.074074\n",
              "104008                     AMPC  ...    46111.111111\n",
              "175007                     PDLP  ...     5235.294118\n",
              "200006                     AMPC  ...    74937.500000\n",
              "\n",
              "[5 rows x 4 columns]"
            ]
          },
          "metadata": {
            "tags": []
          },
          "execution_count": 308
        }
      ]
    },
    {
      "cell_type": "code",
      "metadata": {
        "id": "9MVHPwyLjtyT",
        "colab_type": "code",
        "outputId": "7530042f-8b47-4808-f9c8-1959750d3275",
        "colab": {
          "base_uri": "https://localhost:8080/",
          "height": 238
        }
      },
      "source": [
        "loan_df['product_code'].value_counts()"
      ],
      "execution_count": 309,
      "outputs": [
        {
          "output_type": "execute_result",
          "data": {
            "text/plain": [
              "PDLP    9852\n",
              "AMPC    7905\n",
              "STPL     210\n",
              "DFPS      40\n",
              "SADV      20\n",
              "PDSS      20\n",
              "KPLA      10\n",
              "MPTA       4\n",
              "MPTL       3\n",
              "STLP       1\n",
              "KPLS       1\n",
              "STLM       1\n",
              "Name: product_code, dtype: int64"
            ]
          },
          "metadata": {
            "tags": []
          },
          "execution_count": 309
        }
      ]
    },
    {
      "cell_type": "code",
      "metadata": {
        "id": "Aojs-YP_jtyl",
        "colab_type": "code",
        "outputId": "61a7595b-80f8-4251-8556-a1c825abc739",
        "colab": {
          "base_uri": "https://localhost:8080/",
          "height": 85
        }
      },
      "source": [
        "loan_df['account_status'].value_counts()"
      ],
      "execution_count": 310,
      "outputs": [
        {
          "output_type": "execute_result",
          "data": {
            "text/plain": [
              "L    15419\n",
              "A     2647\n",
              "V        1\n",
              "Name: account_status, dtype: int64"
            ]
          },
          "metadata": {
            "tags": []
          },
          "execution_count": 310
        }
      ]
    },
    {
      "cell_type": "code",
      "metadata": {
        "id": "Vb4EWdfujt0H",
        "colab_type": "code",
        "outputId": "198d2545-7aa8-4d38-8b3b-a77ab3b2d124",
        "colab": {
          "base_uri": "https://localhost:8080/",
          "height": 298
        }
      },
      "source": [
        "sns.countplot( x= 'account_status', data = loan_df)"
      ],
      "execution_count": 311,
      "outputs": [
        {
          "output_type": "execute_result",
          "data": {
            "text/plain": [
              "<matplotlib.axes._subplots.AxesSubplot at 0x7f0a40ad2470>"
            ]
          },
          "metadata": {
            "tags": []
          },
          "execution_count": 311
        },
        {
          "output_type": "display_data",
          "data": {
            "image/png": "[encoded data removed]",
            "text/plain": [
              "<Figure size 432x288 with 1 Axes>"
            ]
          },
          "metadata": {
            "tags": []
          }
        }
      ]
    },
    {
      "cell_type": "code",
      "metadata": {
        "id": "pkQkdV3ljt0S",
        "colab_type": "code",
        "outputId": "eaf2298c-daba-4350-dc89-37341ad8d24b",
        "colab": {
          "base_uri": "https://localhost:8080/",
          "height": 308
        }
      },
      "source": [
        "sns.distplot(loan_df['amount_financed'])"
      ],
      "execution_count": 312,
      "outputs": [
        {
          "output_type": "execute_result",
          "data": {
            "text/plain": [
              "<matplotlib.axes._subplots.AxesSubplot at 0x7f0a40e60c18>"
            ]
          },
          "metadata": {
            "tags": []
          },
          "execution_count": 312
        },
        {
          "output_type": "display_data",
          "data": {
            "image/png": "[encoded data removed]",
            "text/plain": [
              "<Figure size 432x288 with 1 Axes>"
            ]
          },
          "metadata": {
            "tags": []
          }
        }
      ]
    },
    {
      "cell_type": "code",
      "metadata": {
        "id": "MwClTjqgjt05",
        "colab_type": "code",
        "outputId": "68dd5b37-9908-4c30-ca59-bfe1b542ca0d",
        "colab": {
          "base_uri": "https://localhost:8080/",
          "height": 308
        }
      },
      "source": [
        "sns.stripplot(x = 'account_status', y = 'amount_financed', data = loan_df, jitter = True, palette = 'binary', split = True)"
      ],
      "execution_count": 313,
      "outputs": [
        {
          "output_type": "execute_result",
          "data": {
            "text/plain": [
              "<matplotlib.axes._subplots.AxesSubplot at 0x7f0a4269c748>"
            ]
          },
          "metadata": {
            "tags": []
          },
          "execution_count": 313
        },
        {
          "output_type": "display_data",
          "data": {
            "image/png": "[encoded data removed]",
            "text/plain": [
              "<Figure size 432x288 with 1 Axes>"
            ]
          },
          "metadata": {
            "tags": []
          }
        }
      ]
    },
    {
      "cell_type": "code",
      "metadata": {
        "id": "dp19p3mhtdoq",
        "colab_type": "code",
        "outputId": "327d4ee3-fc48-4a21-f5ef-5e105fb9ba34",
        "colab": {
          "base_uri": "https://localhost:8080/",
          "height": 308
        }
      },
      "source": [
        "sns.boxplot( x ='account_status', y = 'amount_financed', data = loan_df, palette = 'rainbow')"
      ],
      "execution_count": 314,
      "outputs": [
        {
          "output_type": "execute_result",
          "data": {
            "text/plain": [
              "<matplotlib.axes._subplots.AxesSubplot at 0x7f0a43e1ef98>"
            ]
          },
          "metadata": {
            "tags": []
          },
          "execution_count": 314
        },
        {
          "output_type": "display_data",
          "data": {
            "image/png": "[encoded data removed]",
            "text/plain": [
              "<Figure size 432x288 with 1 Axes>"
            ]
          },
          "metadata": {
            "tags": []
          }
        }
      ]
    },
    {
      "cell_type": "code",
      "metadata": {
        "id": "ldoYztijYisr",
        "colab_type": "code",
        "colab": {}
      },
      "source": [
        "loan_df.to_csv('df_loan.csv', encoding = 'utf-8', index = True)\n"
      ],
      "execution_count": 0,
      "outputs": []
    },
    {
      "cell_type": "code",
      "metadata": {
        "id": "dQLpZBX9YiJr",
        "colab_type": "code",
        "colab": {
          "base_uri": "https://localhost:8080/",
          "height": 204
        },
        "outputId": "c621a308-5048-4866-d996-b3a855fe1a5e"
      },
      "source": [
        "df_loan = pd.read_csv('df_loan.csv',skiprows = 0)\n",
        "df_loan.head()"
      ],
      "execution_count": 316,
      "outputs": [
        {
          "output_type": "execute_result",
          "data": {
            "text/html": [
              "<div>\n",
              "<style scoped>\n",
              "    .dataframe tbody tr th:only-of-type {\n",
              "        vertical-align: middle;\n",
              "    }\n",
              "\n",
              "    .dataframe tbody tr th {\n",
              "        vertical-align: top;\n",
              "    }\n",
              "\n",
              "    .dataframe thead th {\n",
              "        text-align: right;\n",
              "    }\n",
              "</style>\n",
              "<table border=\"1\" class=\"dataframe\">\n",
              "  <thead>\n",
              "    <tr style=\"text-align: right;\">\n",
              "      <th></th>\n",
              "      <th>customer_unique_id</th>\n",
              "      <th>product_code</th>\n",
              "      <th>account_status</th>\n",
              "      <th>date_difference</th>\n",
              "      <th>amount_financed</th>\n",
              "    </tr>\n",
              "  </thead>\n",
              "  <tbody>\n",
              "    <tr>\n",
              "      <th>0</th>\n",
              "      <td>56000</td>\n",
              "      <td>AMPC</td>\n",
              "      <td>L</td>\n",
              "      <td>30.0</td>\n",
              "      <td>56827.586207</td>\n",
              "    </tr>\n",
              "    <tr>\n",
              "      <th>1</th>\n",
              "      <td>62005</td>\n",
              "      <td>PDLP</td>\n",
              "      <td>L</td>\n",
              "      <td>30.0</td>\n",
              "      <td>72074.074074</td>\n",
              "    </tr>\n",
              "    <tr>\n",
              "      <th>2</th>\n",
              "      <td>104008</td>\n",
              "      <td>AMPC</td>\n",
              "      <td>L</td>\n",
              "      <td>40.0</td>\n",
              "      <td>46111.111111</td>\n",
              "    </tr>\n",
              "    <tr>\n",
              "      <th>3</th>\n",
              "      <td>175007</td>\n",
              "      <td>PDLP</td>\n",
              "      <td>L</td>\n",
              "      <td>30.0</td>\n",
              "      <td>5235.294118</td>\n",
              "    </tr>\n",
              "    <tr>\n",
              "      <th>4</th>\n",
              "      <td>200006</td>\n",
              "      <td>AMPC</td>\n",
              "      <td>L</td>\n",
              "      <td>30.0</td>\n",
              "      <td>74937.500000</td>\n",
              "    </tr>\n",
              "  </tbody>\n",
              "</table>\n",
              "</div>"
            ],
            "text/plain": [
              "   customer_unique_id product_code  ... date_difference  amount_financed\n",
              "0               56000         AMPC  ...            30.0     56827.586207\n",
              "1               62005         PDLP  ...            30.0     72074.074074\n",
              "2              104008         AMPC  ...            40.0     46111.111111\n",
              "3              175007         PDLP  ...            30.0      5235.294118\n",
              "4              200006         AMPC  ...            30.0     74937.500000\n",
              "\n",
              "[5 rows x 5 columns]"
            ]
          },
          "metadata": {
            "tags": []
          },
          "execution_count": 316
        }
      ]
    },
    {
      "cell_type": "code",
      "metadata": {
        "id": "Iw6mAToIt9mz",
        "colab_type": "code",
        "colab": {}
      },
      "source": [
        "all_loanapp = pd.read_csv('all_loans_application.csv')"
      ],
      "execution_count": 0,
      "outputs": []
    },
    {
      "cell_type": "code",
      "metadata": {
        "id": "1ZCUnJR6jt4u",
        "colab_type": "code",
        "outputId": "deb7fa8e-21fa-4f49-e099-febbabcc04b6",
        "colab": {
          "base_uri": "https://localhost:8080/",
          "height": 549
        }
      },
      "source": [
        "all_loanapp.head(10)"
      ],
      "execution_count": 318,
      "outputs": [
        {
          "output_type": "execute_result",
          "data": {
            "text/html": [
              "<div>\n",
              "<style scoped>\n",
              "    .dataframe tbody tr th:only-of-type {\n",
              "        vertical-align: middle;\n",
              "    }\n",
              "\n",
              "    .dataframe tbody tr th {\n",
              "        vertical-align: top;\n",
              "    }\n",
              "\n",
              "    .dataframe thead th {\n",
              "        text-align: right;\n",
              "    }\n",
              "</style>\n",
              "<table border=\"1\" class=\"dataframe\">\n",
              "  <thead>\n",
              "    <tr style=\"text-align: right;\">\n",
              "      <th></th>\n",
              "      <th>CUSTOMER_UNIQUE_ID</th>\n",
              "      <th>OFFERID</th>\n",
              "      <th>INCR_ALLOWED</th>\n",
              "      <th>APPLIED_AMOUNT</th>\n",
              "      <th>DATE_OF_APPLY</th>\n",
              "      <th>APPLICATION_STATUS</th>\n",
              "      <th>MODULE</th>\n",
              "      <th>LOAN_CLASSIFICATION</th>\n",
              "    </tr>\n",
              "  </thead>\n",
              "  <tbody>\n",
              "    <tr>\n",
              "      <th>0</th>\n",
              "      <td>562966000</td>\n",
              "      <td>099AMPC173040537</td>\n",
              "      <td>370803.43</td>\n",
              "      <td>1040.0</td>\n",
              "      <td>10/31/2017 10:36:23 AM</td>\n",
              "      <td>D</td>\n",
              "      <td>AMPC</td>\n",
              "      <td>PERFORMING</td>\n",
              "    </tr>\n",
              "    <tr>\n",
              "      <th>1</th>\n",
              "      <td>562966000</td>\n",
              "      <td>099AMPC173040537</td>\n",
              "      <td>370803.43</td>\n",
              "      <td>1040.0</td>\n",
              "      <td>10/31/2017 10:37:10 AM</td>\n",
              "      <td>D</td>\n",
              "      <td>AMPC</td>\n",
              "      <td>PERFORMING</td>\n",
              "    </tr>\n",
              "    <tr>\n",
              "      <th>2</th>\n",
              "      <td>562966000</td>\n",
              "      <td>099AMPC173040539</td>\n",
              "      <td>370803.43</td>\n",
              "      <td>1040.0</td>\n",
              "      <td>10/31/2017 10:39:06 AM</td>\n",
              "      <td>D</td>\n",
              "      <td>AMPC</td>\n",
              "      <td>PERFORMING</td>\n",
              "    </tr>\n",
              "    <tr>\n",
              "      <th>3</th>\n",
              "      <td>867156003</td>\n",
              "      <td>099AMPC173040543</td>\n",
              "      <td>15278.69</td>\n",
              "      <td>13000.0</td>\n",
              "      <td>10/31/2017 10:44:39 AM</td>\n",
              "      <td>D</td>\n",
              "      <td>AMPC</td>\n",
              "      <td>PERFORMING</td>\n",
              "    </tr>\n",
              "    <tr>\n",
              "      <th>4</th>\n",
              "      <td>747196003</td>\n",
              "      <td>099AMPC173040545</td>\n",
              "      <td>136863.90</td>\n",
              "      <td>1000.0</td>\n",
              "      <td>10/31/2017 10:44:58 AM</td>\n",
              "      <td>D</td>\n",
              "      <td>AMPC</td>\n",
              "      <td>PERFORMING</td>\n",
              "    </tr>\n",
              "    <tr>\n",
              "      <th>5</th>\n",
              "      <td>867176003</td>\n",
              "      <td>099AMPC173040546</td>\n",
              "      <td>30248.31</td>\n",
              "      <td>27000.0</td>\n",
              "      <td>10/31/2017 10:46:16 AM</td>\n",
              "      <td>D</td>\n",
              "      <td>AMPC</td>\n",
              "      <td>PERFORMING</td>\n",
              "    </tr>\n",
              "    <tr>\n",
              "      <th>6</th>\n",
              "      <td>562966000</td>\n",
              "      <td>099AMPC173040547</td>\n",
              "      <td>370803.43</td>\n",
              "      <td>1234.0</td>\n",
              "      <td>10/31/2017 10:46:23 AM</td>\n",
              "      <td>D</td>\n",
              "      <td>AMPC</td>\n",
              "      <td>PERFORMING</td>\n",
              "    </tr>\n",
              "    <tr>\n",
              "      <th>7</th>\n",
              "      <td>830958004</td>\n",
              "      <td>099AMPC173040548</td>\n",
              "      <td>5832.44</td>\n",
              "      <td>7500.0</td>\n",
              "      <td>10/31/2017 10:47:21 AM</td>\n",
              "      <td>D</td>\n",
              "      <td>AMPC</td>\n",
              "      <td>PERFORMING</td>\n",
              "    </tr>\n",
              "    <tr>\n",
              "      <th>8</th>\n",
              "      <td>846122009</td>\n",
              "      <td>099AMPC173040549</td>\n",
              "      <td>37463.88</td>\n",
              "      <td>15000.0</td>\n",
              "      <td>10/31/2017 10:47:31 AM</td>\n",
              "      <td>D</td>\n",
              "      <td>AMPC</td>\n",
              "      <td>PERFORMING</td>\n",
              "    </tr>\n",
              "    <tr>\n",
              "      <th>9</th>\n",
              "      <td>886899001</td>\n",
              "      <td>099AMPC173040550</td>\n",
              "      <td>16665.00</td>\n",
              "      <td>15000.0</td>\n",
              "      <td>10/31/2017 10:48:01 AM</td>\n",
              "      <td>D</td>\n",
              "      <td>AMPC</td>\n",
              "      <td>PERFORMING</td>\n",
              "    </tr>\n",
              "  </tbody>\n",
              "</table>\n",
              "</div>"
            ],
            "text/plain": [
              "   CUSTOMER_UNIQUE_ID           OFFERID  ...  MODULE  LOAN_CLASSIFICATION\n",
              "0           562966000  099AMPC173040537  ...    AMPC           PERFORMING\n",
              "1           562966000  099AMPC173040537  ...    AMPC           PERFORMING\n",
              "2           562966000  099AMPC173040539  ...    AMPC           PERFORMING\n",
              "3           867156003  099AMPC173040543  ...    AMPC           PERFORMING\n",
              "4           747196003  099AMPC173040545  ...    AMPC           PERFORMING\n",
              "5           867176003  099AMPC173040546  ...    AMPC           PERFORMING\n",
              "6           562966000  099AMPC173040547  ...    AMPC           PERFORMING\n",
              "7           830958004  099AMPC173040548  ...    AMPC           PERFORMING\n",
              "8           846122009  099AMPC173040549  ...    AMPC           PERFORMING\n",
              "9           886899001  099AMPC173040550  ...    AMPC           PERFORMING\n",
              "\n",
              "[10 rows x 8 columns]"
            ]
          },
          "metadata": {
            "tags": []
          },
          "execution_count": 318
        }
      ]
    },
    {
      "cell_type": "code",
      "metadata": {
        "id": "ukfraJhKjt4z",
        "colab_type": "code",
        "outputId": "517b7195-42e4-4df4-ee3e-b1c4dd3e2b37",
        "colab": {
          "base_uri": "https://localhost:8080/",
          "height": 170
        }
      },
      "source": [
        "all_loanapp.isnull().sum()"
      ],
      "execution_count": 319,
      "outputs": [
        {
          "output_type": "execute_result",
          "data": {
            "text/plain": [
              "CUSTOMER_UNIQUE_ID     0\n",
              "OFFERID                0\n",
              "INCR_ALLOWED           0\n",
              "APPLIED_AMOUNT         0\n",
              "DATE_OF_APPLY          0\n",
              "APPLICATION_STATUS     0\n",
              "MODULE                 0\n",
              "LOAN_CLASSIFICATION    0\n",
              "dtype: int64"
            ]
          },
          "metadata": {
            "tags": []
          },
          "execution_count": 319
        }
      ]
    },
    {
      "cell_type": "code",
      "metadata": {
        "id": "JbT5BbY4jt5B",
        "colab_type": "code",
        "outputId": "9b8d3e44-2691-4e09-9d23-eb30d21418e7",
        "colab": {
          "base_uri": "https://localhost:8080/",
          "height": 153
        }
      },
      "source": [
        "all_loanapp.columns.to_list()"
      ],
      "execution_count": 320,
      "outputs": [
        {
          "output_type": "execute_result",
          "data": {
            "text/plain": [
              "['CUSTOMER_UNIQUE_ID',\n",
              " 'OFFERID',\n",
              " 'INCR_ALLOWED',\n",
              " 'APPLIED_AMOUNT',\n",
              " 'DATE_OF_APPLY',\n",
              " 'APPLICATION_STATUS',\n",
              " 'MODULE',\n",
              " 'LOAN_CLASSIFICATION']"
            ]
          },
          "metadata": {
            "tags": []
          },
          "execution_count": 320
        }
      ]
    },
    {
      "cell_type": "code",
      "metadata": {
        "id": "AUqoP7PvukRq",
        "colab_type": "code",
        "colab": {}
      },
      "source": [
        "all_loanapp.columns = all_loanapp.columns.str.lower()"
      ],
      "execution_count": 0,
      "outputs": []
    },
    {
      "cell_type": "code",
      "metadata": {
        "id": "uPEK7krpGjJM",
        "colab_type": "code",
        "colab": {}
      },
      "source": [
        "\n",
        "all_loanapp.set_index('customer_unique_id',inplace=True)\n"
      ],
      "execution_count": 0,
      "outputs": []
    },
    {
      "cell_type": "code",
      "metadata": {
        "id": "NSCBGnz9GiSl",
        "colab_type": "code",
        "colab": {}
      },
      "source": [
        "all_loanapp.index=all_loanapp.index.astype('int')"
      ],
      "execution_count": 0,
      "outputs": []
    },
    {
      "cell_type": "code",
      "metadata": {
        "id": "xG9FgDe7yrPu",
        "colab_type": "code",
        "outputId": "1d5b8a31-b024-4f37-9cd5-6ac708da156b",
        "colab": {
          "base_uri": "https://localhost:8080/",
          "height": 340
        }
      },
      "source": [
        "all_loanapp.head()"
      ],
      "execution_count": 324,
      "outputs": [
        {
          "output_type": "execute_result",
          "data": {
            "text/html": [
              "<div>\n",
              "<style scoped>\n",
              "    .dataframe tbody tr th:only-of-type {\n",
              "        vertical-align: middle;\n",
              "    }\n",
              "\n",
              "    .dataframe tbody tr th {\n",
              "        vertical-align: top;\n",
              "    }\n",
              "\n",
              "    .dataframe thead th {\n",
              "        text-align: right;\n",
              "    }\n",
              "</style>\n",
              "<table border=\"1\" class=\"dataframe\">\n",
              "  <thead>\n",
              "    <tr style=\"text-align: right;\">\n",
              "      <th></th>\n",
              "      <th>offerid</th>\n",
              "      <th>incr_allowed</th>\n",
              "      <th>applied_amount</th>\n",
              "      <th>date_of_apply</th>\n",
              "      <th>application_status</th>\n",
              "      <th>module</th>\n",
              "      <th>loan_classification</th>\n",
              "    </tr>\n",
              "    <tr>\n",
              "      <th>customer_unique_id</th>\n",
              "      <th></th>\n",
              "      <th></th>\n",
              "      <th></th>\n",
              "      <th></th>\n",
              "      <th></th>\n",
              "      <th></th>\n",
              "      <th></th>\n",
              "    </tr>\n",
              "  </thead>\n",
              "  <tbody>\n",
              "    <tr>\n",
              "      <th>562966000</th>\n",
              "      <td>099AMPC173040537</td>\n",
              "      <td>370803.43</td>\n",
              "      <td>1040.0</td>\n",
              "      <td>10/31/2017 10:36:23 AM</td>\n",
              "      <td>D</td>\n",
              "      <td>AMPC</td>\n",
              "      <td>PERFORMING</td>\n",
              "    </tr>\n",
              "    <tr>\n",
              "      <th>562966000</th>\n",
              "      <td>099AMPC173040537</td>\n",
              "      <td>370803.43</td>\n",
              "      <td>1040.0</td>\n",
              "      <td>10/31/2017 10:37:10 AM</td>\n",
              "      <td>D</td>\n",
              "      <td>AMPC</td>\n",
              "      <td>PERFORMING</td>\n",
              "    </tr>\n",
              "    <tr>\n",
              "      <th>562966000</th>\n",
              "      <td>099AMPC173040539</td>\n",
              "      <td>370803.43</td>\n",
              "      <td>1040.0</td>\n",
              "      <td>10/31/2017 10:39:06 AM</td>\n",
              "      <td>D</td>\n",
              "      <td>AMPC</td>\n",
              "      <td>PERFORMING</td>\n",
              "    </tr>\n",
              "    <tr>\n",
              "      <th>867156003</th>\n",
              "      <td>099AMPC173040543</td>\n",
              "      <td>15278.69</td>\n",
              "      <td>13000.0</td>\n",
              "      <td>10/31/2017 10:44:39 AM</td>\n",
              "      <td>D</td>\n",
              "      <td>AMPC</td>\n",
              "      <td>PERFORMING</td>\n",
              "    </tr>\n",
              "    <tr>\n",
              "      <th>747196003</th>\n",
              "      <td>099AMPC173040545</td>\n",
              "      <td>136863.90</td>\n",
              "      <td>1000.0</td>\n",
              "      <td>10/31/2017 10:44:58 AM</td>\n",
              "      <td>D</td>\n",
              "      <td>AMPC</td>\n",
              "      <td>PERFORMING</td>\n",
              "    </tr>\n",
              "  </tbody>\n",
              "</table>\n",
              "</div>"
            ],
            "text/plain": [
              "                             offerid  incr_allowed  ...  module loan_classification\n",
              "customer_unique_id                                  ...                            \n",
              "562966000           099AMPC173040537     370803.43  ...    AMPC          PERFORMING\n",
              "562966000           099AMPC173040537     370803.43  ...    AMPC          PERFORMING\n",
              "562966000           099AMPC173040539     370803.43  ...    AMPC          PERFORMING\n",
              "867156003           099AMPC173040543      15278.69  ...    AMPC          PERFORMING\n",
              "747196003           099AMPC173040545     136863.90  ...    AMPC          PERFORMING\n",
              "\n",
              "[5 rows x 7 columns]"
            ]
          },
          "metadata": {
            "tags": []
          },
          "execution_count": 324
        }
      ]
    },
    {
      "cell_type": "code",
      "metadata": {
        "id": "W2zF-s9K19d9",
        "colab_type": "code",
        "outputId": "478d3025-a3c1-4de3-9fc6-4c2bbe8a7cd0",
        "colab": {
          "base_uri": "https://localhost:8080/",
          "height": 297
        }
      },
      "source": [
        "all_loanapp.describe()"
      ],
      "execution_count": 325,
      "outputs": [
        {
          "output_type": "execute_result",
          "data": {
            "text/html": [
              "<div>\n",
              "<style scoped>\n",
              "    .dataframe tbody tr th:only-of-type {\n",
              "        vertical-align: middle;\n",
              "    }\n",
              "\n",
              "    .dataframe tbody tr th {\n",
              "        vertical-align: top;\n",
              "    }\n",
              "\n",
              "    .dataframe thead th {\n",
              "        text-align: right;\n",
              "    }\n",
              "</style>\n",
              "<table border=\"1\" class=\"dataframe\">\n",
              "  <thead>\n",
              "    <tr style=\"text-align: right;\">\n",
              "      <th></th>\n",
              "      <th>incr_allowed</th>\n",
              "      <th>applied_amount</th>\n",
              "    </tr>\n",
              "  </thead>\n",
              "  <tbody>\n",
              "    <tr>\n",
              "      <th>count</th>\n",
              "      <td>2.317200e+04</td>\n",
              "      <td>2.317200e+04</td>\n",
              "    </tr>\n",
              "    <tr>\n",
              "      <th>mean</th>\n",
              "      <td>1.030203e+04</td>\n",
              "      <td>4.983853e+04</td>\n",
              "    </tr>\n",
              "    <tr>\n",
              "      <th>std</th>\n",
              "      <td>2.693845e+05</td>\n",
              "      <td>1.270509e+05</td>\n",
              "    </tr>\n",
              "    <tr>\n",
              "      <th>min</th>\n",
              "      <td>-3.961407e+07</td>\n",
              "      <td>1.000000e+03</td>\n",
              "    </tr>\n",
              "    <tr>\n",
              "      <th>25%</th>\n",
              "      <td>0.000000e+00</td>\n",
              "      <td>6.000000e+03</td>\n",
              "    </tr>\n",
              "    <tr>\n",
              "      <th>50%</th>\n",
              "      <td>0.000000e+00</td>\n",
              "      <td>1.300000e+04</td>\n",
              "    </tr>\n",
              "    <tr>\n",
              "      <th>75%</th>\n",
              "      <td>1.726870e+04</td>\n",
              "      <td>3.200000e+04</td>\n",
              "    </tr>\n",
              "    <tr>\n",
              "      <th>max</th>\n",
              "      <td>1.716254e+06</td>\n",
              "      <td>3.500000e+06</td>\n",
              "    </tr>\n",
              "  </tbody>\n",
              "</table>\n",
              "</div>"
            ],
            "text/plain": [
              "       incr_allowed  applied_amount\n",
              "count  2.317200e+04    2.317200e+04\n",
              "mean   1.030203e+04    4.983853e+04\n",
              "std    2.693845e+05    1.270509e+05\n",
              "min   -3.961407e+07    1.000000e+03\n",
              "25%    0.000000e+00    6.000000e+03\n",
              "50%    0.000000e+00    1.300000e+04\n",
              "75%    1.726870e+04    3.200000e+04\n",
              "max    1.716254e+06    3.500000e+06"
            ]
          },
          "metadata": {
            "tags": []
          },
          "execution_count": 325
        }
      ]
    },
    {
      "cell_type": "code",
      "metadata": {
        "id": "QQtbx7Zo18hF",
        "colab_type": "code",
        "outputId": "cee45dd2-83bd-4c33-afa0-0e161138880e",
        "colab": {
          "base_uri": "https://localhost:8080/",
          "height": 221
        }
      },
      "source": [
        "all_loanapp.info()"
      ],
      "execution_count": 326,
      "outputs": [
        {
          "output_type": "stream",
          "text": [
            "<class 'pandas.core.frame.DataFrame'>\n",
            "Int64Index: 23172 entries, 562966000 to 65167007\n",
            "Data columns (total 7 columns):\n",
            "offerid                23172 non-null object\n",
            "incr_allowed           23172 non-null float64\n",
            "applied_amount         23172 non-null float64\n",
            "date_of_apply          23172 non-null object\n",
            "application_status     23172 non-null object\n",
            "module                 23172 non-null object\n",
            "loan_classification    23172 non-null object\n",
            "dtypes: float64(2), object(5)\n",
            "memory usage: 1.4+ MB\n"
          ],
          "name": "stdout"
        }
      ]
    },
    {
      "cell_type": "code",
      "metadata": {
        "id": "IAluQx2Fyqzq",
        "colab_type": "code",
        "outputId": "3afef16f-6546-4b66-8749-8c9836d42934",
        "colab": {
          "base_uri": "https://localhost:8080/",
          "height": 102
        }
      },
      "source": [
        "all_loanapp['module'].value_counts()"
      ],
      "execution_count": 327,
      "outputs": [
        {
          "output_type": "execute_result",
          "data": {
            "text/plain": [
              "AMPC    10000\n",
              "LATO    10000\n",
              "STP      2602\n",
              "DFPS      570\n",
              "Name: module, dtype: int64"
            ]
          },
          "metadata": {
            "tags": []
          },
          "execution_count": 327
        }
      ]
    },
    {
      "cell_type": "code",
      "metadata": {
        "id": "nQw7MB08ypLp",
        "colab_type": "code",
        "outputId": "ea7d35a1-4ab6-42f6-c31e-09fecc5c2170",
        "colab": {
          "base_uri": "https://localhost:8080/",
          "height": 51
        }
      },
      "source": [
        "all_loanapp['application_status'].value_counts()"
      ],
      "execution_count": 328,
      "outputs": [
        {
          "output_type": "execute_result",
          "data": {
            "text/plain": [
              "D    23172\n",
              "Name: application_status, dtype: int64"
            ]
          },
          "metadata": {
            "tags": []
          },
          "execution_count": 328
        }
      ]
    },
    {
      "cell_type": "code",
      "metadata": {
        "id": "LqC1V3Ov0Ixq",
        "colab_type": "code",
        "outputId": "5fae233b-7671-491e-98de-6c7120fd3e1b",
        "colab": {
          "base_uri": "https://localhost:8080/",
          "height": 296
        }
      },
      "source": [
        "sns.countplot( x= 'module', data = all_loanapp)"
      ],
      "execution_count": 329,
      "outputs": [
        {
          "output_type": "execute_result",
          "data": {
            "text/plain": [
              "<matplotlib.axes._subplots.AxesSubplot at 0x7f0a46377a58>"
            ]
          },
          "metadata": {
            "tags": []
          },
          "execution_count": 329
        },
        {
          "output_type": "display_data",
          "data": {
            "image/png": "[encoded data removed]",
            "text/plain": [
              "<Figure size 432x288 with 1 Axes>"
            ]
          },
          "metadata": {
            "tags": []
          }
        }
      ]
    },
    {
      "cell_type": "code",
      "metadata": {
        "id": "v2n_T_sy0IdC",
        "colab_type": "code",
        "outputId": "58b79569-b24f-4fe7-d7b4-f52c86cc224a",
        "colab": {
          "base_uri": "https://localhost:8080/",
          "height": 296
        }
      },
      "source": [
        "sns.boxplot( x ='module', y = 'applied_amount', data = all_loanapp, palette = 'rainbow')"
      ],
      "execution_count": 330,
      "outputs": [
        {
          "output_type": "execute_result",
          "data": {
            "text/plain": [
              "<matplotlib.axes._subplots.AxesSubplot at 0x7f0a41a031d0>"
            ]
          },
          "metadata": {
            "tags": []
          },
          "execution_count": 330
        },
        {
          "output_type": "display_data",
          "data": {
            "image/png": "[encoded data removed]",
            "text/plain": [
              "<Figure size 432x288 with 1 Axes>"
            ]
          },
          "metadata": {
            "tags": []
          }
        }
      ]
    },
    {
      "cell_type": "code",
      "metadata": {
        "id": "MtYJTjdt0IJE",
        "colab_type": "code",
        "outputId": "9d8d3eab-2cea-49f6-8926-c15252d712f3",
        "colab": {
          "base_uri": "https://localhost:8080/",
          "height": 337
        }
      },
      "source": [
        "plt.figure(figsize=(10,5))\n",
        "all_loanapp['applied_amount'].hist(bins = 40)"
      ],
      "execution_count": 331,
      "outputs": [
        {
          "output_type": "execute_result",
          "data": {
            "text/plain": [
              "<matplotlib.axes._subplots.AxesSubplot at 0x7f0a419197b8>"
            ]
          },
          "metadata": {
            "tags": []
          },
          "execution_count": 331
        },
        {
          "output_type": "display_data",
          "data": {
            "image/png": "[encoded data removed]",
            "text/plain": [
              "<Figure size 720x360 with 1 Axes>"
            ]
          },
          "metadata": {
            "tags": []
          }
        }
      ]
    },
    {
      "cell_type": "code",
      "metadata": {
        "id": "wf226MFs0Hzh",
        "colab_type": "code",
        "outputId": "d51aaf65-2411-4631-c35c-603cec4dcaa5",
        "colab": {
          "base_uri": "https://localhost:8080/",
          "height": 350
        }
      },
      "source": [
        "plt.figure(figsize=(10,5))\n",
        "all_loanapp['incr_allowed'].hist(bins = 40)"
      ],
      "execution_count": 338,
      "outputs": [
        {
          "output_type": "execute_result",
          "data": {
            "text/plain": [
              "<matplotlib.axes._subplots.AxesSubplot at 0x7f0a40f85550>"
            ]
          },
          "metadata": {
            "tags": []
          },
          "execution_count": 338
        },
        {
          "output_type": "display_data",
          "data": {
            "image/png": "[encoded data removed]",
            "text/plain": [
              "<Figure size 720x360 with 1 Axes>"
            ]
          },
          "metadata": {
            "tags": []
          }
        }
      ]
    },
    {
      "cell_type": "code",
      "metadata": {
        "id": "6wTOus2n0HNP",
        "colab_type": "code",
        "outputId": "74d0a150-0325-4dd4-e821-c2d859e34f48",
        "colab": {
          "base_uri": "https://localhost:8080/",
          "height": 280
        }
      },
      "source": [
        "sns.boxplot(y = 'incr_allowed', data = all_loanapp)"
      ],
      "execution_count": 339,
      "outputs": [
        {
          "output_type": "execute_result",
          "data": {
            "text/plain": [
              "<matplotlib.axes._subplots.AxesSubplot at 0x7f0a40eac240>"
            ]
          },
          "metadata": {
            "tags": []
          },
          "execution_count": 339
        },
        {
          "output_type": "display_data",
          "data": {
            "image/png": "[encoded data removed]",
            "text/plain": [
              "<Figure size 432x288 with 1 Axes>"
            ]
          },
          "metadata": {
            "tags": []
          }
        }
      ]
    },
    {
      "cell_type": "code",
      "metadata": {
        "id": "Rwui9GPY3DsA",
        "colab_type": "code",
        "colab": {
          "base_uri": "https://localhost:8080/",
          "height": 318
        },
        "outputId": "157cbb40-7532-4de2-ad27-0b66a736c5ba"
      },
      "source": [
        "all_loanapp.boxplot(column = 'incr_allowed', by = 'module')"
      ],
      "execution_count": 340,
      "outputs": [
        {
          "output_type": "execute_result",
          "data": {
            "text/plain": [
              "<matplotlib.axes._subplots.AxesSubplot at 0x7f0a40b95cf8>"
            ]
          },
          "metadata": {
            "tags": []
          },
          "execution_count": 340
        },
        {
          "output_type": "display_data",
          "data": {
            "image/png": "[encoded data removed]",
            "text/plain": [
              "<Figure size 432x288 with 1 Axes>"
            ]
          },
          "metadata": {
            "tags": []
          }
        }
      ]
    },
    {
      "cell_type": "code",
      "metadata": {
        "id": "EHutTMTT3DPJ",
        "colab_type": "code",
        "colab": {
          "base_uri": "https://localhost:8080/",
          "height": 318
        },
        "outputId": "3346a722-9f7b-48b2-8549-cf7738a29f2d"
      },
      "source": [
        "all_loanapp.boxplot(column = 'applied_amount', by = 'module')"
      ],
      "execution_count": 341,
      "outputs": [
        {
          "output_type": "execute_result",
          "data": {
            "text/plain": [
              "<matplotlib.axes._subplots.AxesSubplot at 0x7f0a40b72198>"
            ]
          },
          "metadata": {
            "tags": []
          },
          "execution_count": 341
        },
        {
          "output_type": "display_data",
          "data": {
            "image/png": "[encoded data removed]",
            "text/plain": [
              "<Figure size 432x288 with 1 Axes>"
            ]
          },
          "metadata": {
            "tags": []
          }
        }
      ]
    },
    {
      "cell_type": "code",
      "metadata": {
        "id": "rbU5m-LE3Ctq",
        "colab_type": "code",
        "outputId": "45717644-9324-4fe8-cc6c-3679f1d45e9b",
        "colab": {
          "base_uri": "https://localhost:8080/",
          "height": 415
        }
      },
      "source": [
        "sns.pairplot(all_loanapp, palette = 'Dark2')"
      ],
      "execution_count": 342,
      "outputs": [
        {
          "output_type": "execute_result",
          "data": {
            "text/plain": [
              "<seaborn.axisgrid.PairGrid at 0x7f0a40992208>"
            ]
          },
          "metadata": {
            "tags": []
          },
          "execution_count": 342
        },
        {
          "output_type": "display_data",
          "data": {
            "image/png": "[encoded data removed]",
            "text/plain": [
              "<Figure size 360x360 with 6 Axes>"
            ]
          },
          "metadata": {
            "tags": []
          }
        }
      ]
    },
    {
      "cell_type": "code",
      "metadata": {
        "id": "t3JDsU353pNE",
        "colab_type": "code",
        "outputId": "bf9026b6-0822-486c-cbd7-2768d77e9770",
        "colab": {
          "base_uri": "https://localhost:8080/",
          "height": 291
        }
      },
      "source": [
        "sns.heatmap(all_loanapp.corr(), annot = True)"
      ],
      "execution_count": 343,
      "outputs": [
        {
          "output_type": "execute_result",
          "data": {
            "text/plain": [
              "<matplotlib.axes._subplots.AxesSubplot at 0x7f0a3d6ffeb8>"
            ]
          },
          "metadata": {
            "tags": []
          },
          "execution_count": 343
        },
        {
          "output_type": "display_data",
          "data": {
            "image/png": "[encoded data removed]",
            "text/plain": [
              "<Figure size 432x288 with 2 Axes>"
            ]
          },
          "metadata": {
            "tags": []
          }
        }
      ]
    },
    {
      "cell_type": "code",
      "metadata": {
        "id": "X2WP3hhM3oeU",
        "colab_type": "code",
        "outputId": "aeff759d-9d7a-45da-eb5c-765faec22257",
        "colab": {
          "base_uri": "https://localhost:8080/",
          "height": 297
        }
      },
      "source": [
        "sns.countplot( x= 'loan_classification', data = all_loanapp)"
      ],
      "execution_count": 344,
      "outputs": [
        {
          "output_type": "execute_result",
          "data": {
            "text/plain": [
              "<matplotlib.axes._subplots.AxesSubplot at 0x7f0a3d6988d0>"
            ]
          },
          "metadata": {
            "tags": []
          },
          "execution_count": 344
        },
        {
          "output_type": "display_data",
          "data": {
            "image/png": "[encoded data removed]",
            "text/plain": [
              "<Figure size 432x288 with 1 Axes>"
            ]
          },
          "metadata": {
            "tags": []
          }
        }
      ]
    },
    {
      "cell_type": "code",
      "metadata": {
        "id": "qSTys1TR4nxb",
        "colab_type": "code",
        "outputId": "b1b62403-1cc6-4ea3-e133-7c207dacdfb2",
        "colab": {
          "base_uri": "https://localhost:8080/",
          "height": 297
        }
      },
      "source": [
        "sns.boxplot( x ='loan_classification', y = 'applied_amount', data = all_loanapp, palette = 'rainbow')"
      ],
      "execution_count": 345,
      "outputs": [
        {
          "output_type": "execute_result",
          "data": {
            "text/plain": [
              "<matplotlib.axes._subplots.AxesSubplot at 0x7f0a3d65dc88>"
            ]
          },
          "metadata": {
            "tags": []
          },
          "execution_count": 345
        },
        {
          "output_type": "display_data",
          "data": {
            "image/png": "[encoded data removed]",
            "text/plain": [
              "<Figure size 432x288 with 1 Axes>"
            ]
          },
          "metadata": {
            "tags": []
          }
        }
      ]
    },
    {
      "cell_type": "code",
      "metadata": {
        "id": "WDStYhig4p0y",
        "colab_type": "code",
        "outputId": "239f4f29-ece9-48ba-a2cd-3b84c57c283d",
        "colab": {
          "base_uri": "https://localhost:8080/",
          "height": 308
        }
      },
      "source": [
        "sns.boxplot( x ='loan_classification', y = 'incr_allowed', data = all_loanapp, palette = 'rainbow')"
      ],
      "execution_count": 346,
      "outputs": [
        {
          "output_type": "execute_result",
          "data": {
            "text/plain": [
              "<matplotlib.axes._subplots.AxesSubplot at 0x7f0a3d56bef0>"
            ]
          },
          "metadata": {
            "tags": []
          },
          "execution_count": 346
        },
        {
          "output_type": "display_data",
          "data": {
            "image/png": "[encoded data removed]",
            "text/plain": [
              "<Figure size 432x288 with 1 Axes>"
            ]
          },
          "metadata": {
            "tags": []
          }
        }
      ]
    },
    {
      "cell_type": "code",
      "metadata": {
        "id": "x2ZQlVzRZ0aV",
        "colab_type": "code",
        "colab": {
          "base_uri": "https://localhost:8080/",
          "height": 34
        },
        "outputId": "574465ec-b9e1-41a9-e68f-d903ea2004d4"
      },
      "source": [
        "all_loanapp.shape"
      ],
      "execution_count": 349,
      "outputs": [
        {
          "output_type": "execute_result",
          "data": {
            "text/plain": [
              "(23172, 7)"
            ]
          },
          "metadata": {
            "tags": []
          },
          "execution_count": 349
        }
      ]
    },
    {
      "cell_type": "code",
      "metadata": {
        "id": "E00RBxJTZz_I",
        "colab_type": "code",
        "colab": {}
      },
      "source": [
        "all_loanapp.to_csv('df_loanapp.csv', encoding = 'utf-8', index = True)\n"
      ],
      "execution_count": 0,
      "outputs": []
    },
    {
      "cell_type": "code",
      "metadata": {
        "id": "_eCwmam4ZzW8",
        "colab_type": "code",
        "colab": {
          "base_uri": "https://localhost:8080/",
          "height": 309
        },
        "outputId": "557e54ef-1a15-48b0-d6eb-822d10948da7"
      },
      "source": [
        "df_loanapp = pd.read_csv('df_loanapp.csv')\n",
        "df_loanapp.head()"
      ],
      "execution_count": 435,
      "outputs": [
        {
          "output_type": "execute_result",
          "data": {
            "text/html": [
              "<div>\n",
              "<style scoped>\n",
              "    .dataframe tbody tr th:only-of-type {\n",
              "        vertical-align: middle;\n",
              "    }\n",
              "\n",
              "    .dataframe tbody tr th {\n",
              "        vertical-align: top;\n",
              "    }\n",
              "\n",
              "    .dataframe thead th {\n",
              "        text-align: right;\n",
              "    }\n",
              "</style>\n",
              "<table border=\"1\" class=\"dataframe\">\n",
              "  <thead>\n",
              "    <tr style=\"text-align: right;\">\n",
              "      <th></th>\n",
              "      <th>customer_unique_id</th>\n",
              "      <th>offerid</th>\n",
              "      <th>incr_allowed</th>\n",
              "      <th>applied_amount</th>\n",
              "      <th>date_of_apply</th>\n",
              "      <th>application_status</th>\n",
              "      <th>module</th>\n",
              "      <th>loan_classification</th>\n",
              "    </tr>\n",
              "  </thead>\n",
              "  <tbody>\n",
              "    <tr>\n",
              "      <th>0</th>\n",
              "      <td>562966000</td>\n",
              "      <td>099AMPC173040537</td>\n",
              "      <td>370803.43</td>\n",
              "      <td>1040.0</td>\n",
              "      <td>10/31/2017 10:36:23 AM</td>\n",
              "      <td>D</td>\n",
              "      <td>AMPC</td>\n",
              "      <td>PERFORMING</td>\n",
              "    </tr>\n",
              "    <tr>\n",
              "      <th>1</th>\n",
              "      <td>562966000</td>\n",
              "      <td>099AMPC173040537</td>\n",
              "      <td>370803.43</td>\n",
              "      <td>1040.0</td>\n",
              "      <td>10/31/2017 10:37:10 AM</td>\n",
              "      <td>D</td>\n",
              "      <td>AMPC</td>\n",
              "      <td>PERFORMING</td>\n",
              "    </tr>\n",
              "    <tr>\n",
              "      <th>2</th>\n",
              "      <td>562966000</td>\n",
              "      <td>099AMPC173040539</td>\n",
              "      <td>370803.43</td>\n",
              "      <td>1040.0</td>\n",
              "      <td>10/31/2017 10:39:06 AM</td>\n",
              "      <td>D</td>\n",
              "      <td>AMPC</td>\n",
              "      <td>PERFORMING</td>\n",
              "    </tr>\n",
              "    <tr>\n",
              "      <th>3</th>\n",
              "      <td>867156003</td>\n",
              "      <td>099AMPC173040543</td>\n",
              "      <td>15278.69</td>\n",
              "      <td>13000.0</td>\n",
              "      <td>10/31/2017 10:44:39 AM</td>\n",
              "      <td>D</td>\n",
              "      <td>AMPC</td>\n",
              "      <td>PERFORMING</td>\n",
              "    </tr>\n",
              "    <tr>\n",
              "      <th>4</th>\n",
              "      <td>747196003</td>\n",
              "      <td>099AMPC173040545</td>\n",
              "      <td>136863.90</td>\n",
              "      <td>1000.0</td>\n",
              "      <td>10/31/2017 10:44:58 AM</td>\n",
              "      <td>D</td>\n",
              "      <td>AMPC</td>\n",
              "      <td>PERFORMING</td>\n",
              "    </tr>\n",
              "  </tbody>\n",
              "</table>\n",
              "</div>"
            ],
            "text/plain": [
              "   customer_unique_id           offerid  ...  module  loan_classification\n",
              "0           562966000  099AMPC173040537  ...    AMPC           PERFORMING\n",
              "1           562966000  099AMPC173040537  ...    AMPC           PERFORMING\n",
              "2           562966000  099AMPC173040539  ...    AMPC           PERFORMING\n",
              "3           867156003  099AMPC173040543  ...    AMPC           PERFORMING\n",
              "4           747196003  099AMPC173040545  ...    AMPC           PERFORMING\n",
              "\n",
              "[5 rows x 8 columns]"
            ]
          },
          "metadata": {
            "tags": []
          },
          "execution_count": 435
        }
      ]
    },
    {
      "cell_type": "code",
      "metadata": {
        "id": "QJjDBM-d4mx_",
        "colab_type": "code",
        "colab": {}
      },
      "source": [
        "all_transc = pd.read_csv('all_transactions_digital.csv', low_memory=False)"
      ],
      "execution_count": 0,
      "outputs": []
    },
    {
      "cell_type": "code",
      "metadata": {
        "id": "Sg22lwKrjt5I",
        "colab_type": "code",
        "outputId": "3fdf9185-65df-48f0-a056-69b8239e8c25",
        "colab": {
          "base_uri": "https://localhost:8080/",
          "height": 719
        }
      },
      "source": [
        "\n",
        "all_transc.head(10)"
      ],
      "execution_count": 404,
      "outputs": [
        {
          "output_type": "execute_result",
          "data": {
            "text/html": [
              "<div>\n",
              "<style scoped>\n",
              "    .dataframe tbody tr th:only-of-type {\n",
              "        vertical-align: middle;\n",
              "    }\n",
              "\n",
              "    .dataframe tbody tr th {\n",
              "        vertical-align: top;\n",
              "    }\n",
              "\n",
              "    .dataframe thead th {\n",
              "        text-align: right;\n",
              "    }\n",
              "</style>\n",
              "<table border=\"1\" class=\"dataframe\">\n",
              "  <thead>\n",
              "    <tr style=\"text-align: right;\">\n",
              "      <th></th>\n",
              "      <th>CUSTOMER_UNIQUE_ID</th>\n",
              "      <th>MASKED_ACCT</th>\n",
              "      <th>TRN_REF_NO</th>\n",
              "      <th>AC_CCY</th>\n",
              "      <th>DRCR_IND</th>\n",
              "      <th>TRN_CODE</th>\n",
              "      <th>FCY_AMOUNT</th>\n",
              "      <th>EXCH_RATE</th>\n",
              "      <th>LCY_AMOUNT</th>\n",
              "      <th>TRN_DT</th>\n",
              "    </tr>\n",
              "  </thead>\n",
              "  <tbody>\n",
              "    <tr>\n",
              "      <th>0</th>\n",
              "      <td>639103002</td>\n",
              "      <td>00******23</td>\n",
              "      <td>133ICEBNGN 00002</td>\n",
              "      <td>NGN</td>\n",
              "      <td>C</td>\n",
              "      <td>CIN</td>\n",
              "      <td>NaN</td>\n",
              "      <td>NaN</td>\n",
              "      <td>0.01</td>\n",
              "      <td>2019-09-30 00:00:00</td>\n",
              "    </tr>\n",
              "    <tr>\n",
              "      <th>1</th>\n",
              "      <td>563391007</td>\n",
              "      <td>00******98</td>\n",
              "      <td>0981356192730075</td>\n",
              "      <td>NGN</td>\n",
              "      <td>D</td>\n",
              "      <td>CWR</td>\n",
              "      <td>NaN</td>\n",
              "      <td>NaN</td>\n",
              "      <td>2000.00</td>\n",
              "      <td>2019-09-30 00:00:00</td>\n",
              "    </tr>\n",
              "    <tr>\n",
              "      <th>2</th>\n",
              "      <td>563391007</td>\n",
              "      <td>00******98</td>\n",
              "      <td>098AWRI801180wJs</td>\n",
              "      <td>NGN</td>\n",
              "      <td>D</td>\n",
              "      <td>CWR</td>\n",
              "      <td>NaN</td>\n",
              "      <td>NaN</td>\n",
              "      <td>2000.00</td>\n",
              "      <td>2019-09-30 00:00:00</td>\n",
              "    </tr>\n",
              "    <tr>\n",
              "      <th>3</th>\n",
              "      <td>563391007</td>\n",
              "      <td>00******98</td>\n",
              "      <td>098AWRI801180wKb</td>\n",
              "      <td>NGN</td>\n",
              "      <td>D</td>\n",
              "      <td>CWR</td>\n",
              "      <td>NaN</td>\n",
              "      <td>NaN</td>\n",
              "      <td>2000.00</td>\n",
              "      <td>2019-09-30 00:00:00</td>\n",
              "    </tr>\n",
              "    <tr>\n",
              "      <th>4</th>\n",
              "      <td>563391007</td>\n",
              "      <td>00******98</td>\n",
              "      <td>098AWRI801180dLN</td>\n",
              "      <td>NGN</td>\n",
              "      <td>D</td>\n",
              "      <td>CWR</td>\n",
              "      <td>NaN</td>\n",
              "      <td>NaN</td>\n",
              "      <td>2000.00</td>\n",
              "      <td>2019-09-30 00:00:00</td>\n",
              "    </tr>\n",
              "    <tr>\n",
              "      <th>5</th>\n",
              "      <td>563391007</td>\n",
              "      <td>00******98</td>\n",
              "      <td>098AWRI801180dLN</td>\n",
              "      <td>NGN</td>\n",
              "      <td>D</td>\n",
              "      <td>FFR</td>\n",
              "      <td>NaN</td>\n",
              "      <td>NaN</td>\n",
              "      <td>65.00</td>\n",
              "      <td>2019-09-30 00:00:00</td>\n",
              "    </tr>\n",
              "    <tr>\n",
              "      <th>6</th>\n",
              "      <td>563391007</td>\n",
              "      <td>00******98</td>\n",
              "      <td>099ZTRF19273DE9D</td>\n",
              "      <td>NGN</td>\n",
              "      <td>D</td>\n",
              "      <td>MLL</td>\n",
              "      <td>0.0</td>\n",
              "      <td>NaN</td>\n",
              "      <td>7000.00</td>\n",
              "      <td>2019-09-30 00:00:00</td>\n",
              "    </tr>\n",
              "    <tr>\n",
              "      <th>7</th>\n",
              "      <td>563391007</td>\n",
              "      <td>00******98</td>\n",
              "      <td>099MJRL19273IG3J</td>\n",
              "      <td>NGN</td>\n",
              "      <td>D</td>\n",
              "      <td>QTM</td>\n",
              "      <td>NaN</td>\n",
              "      <td>NaN</td>\n",
              "      <td>200.00</td>\n",
              "      <td>2019-09-30 00:00:00</td>\n",
              "    </tr>\n",
              "    <tr>\n",
              "      <th>8</th>\n",
              "      <td>563391007</td>\n",
              "      <td>00******98</td>\n",
              "      <td>099MJRL19273AQp9</td>\n",
              "      <td>NGN</td>\n",
              "      <td>D</td>\n",
              "      <td>SAC</td>\n",
              "      <td>NaN</td>\n",
              "      <td>NaN</td>\n",
              "      <td>112.00</td>\n",
              "      <td>2019-09-30 00:00:00</td>\n",
              "    </tr>\n",
              "    <tr>\n",
              "      <th>9</th>\n",
              "      <td>393945004</td>\n",
              "      <td>00******04</td>\n",
              "      <td>239ACWO8011801OE</td>\n",
              "      <td>NGN</td>\n",
              "      <td>D</td>\n",
              "      <td>CWU</td>\n",
              "      <td>NaN</td>\n",
              "      <td>NaN</td>\n",
              "      <td>2000.00</td>\n",
              "      <td>2019-09-30 00:00:00</td>\n",
              "    </tr>\n",
              "  </tbody>\n",
              "</table>\n",
              "</div>"
            ],
            "text/plain": [
              "   CUSTOMER_UNIQUE_ID MASKED_ACCT  ... LCY_AMOUNT               TRN_DT\n",
              "0           639103002  00******23  ...       0.01  2019-09-30 00:00:00\n",
              "1           563391007  00******98  ...    2000.00  2019-09-30 00:00:00\n",
              "2           563391007  00******98  ...    2000.00  2019-09-30 00:00:00\n",
              "3           563391007  00******98  ...    2000.00  2019-09-30 00:00:00\n",
              "4           563391007  00******98  ...    2000.00  2019-09-30 00:00:00\n",
              "5           563391007  00******98  ...      65.00  2019-09-30 00:00:00\n",
              "6           563391007  00******98  ...    7000.00  2019-09-30 00:00:00\n",
              "7           563391007  00******98  ...     200.00  2019-09-30 00:00:00\n",
              "8           563391007  00******98  ...     112.00  2019-09-30 00:00:00\n",
              "9           393945004  00******04  ...    2000.00  2019-09-30 00:00:00\n",
              "\n",
              "[10 rows x 10 columns]"
            ]
          },
          "metadata": {
            "tags": []
          },
          "execution_count": 404
        }
      ]
    },
    {
      "cell_type": "code",
      "metadata": {
        "id": "dJ6gORW1jt5e",
        "colab_type": "code",
        "outputId": "896f36e9-9a51-46bd-e33a-6176f5870154",
        "colab": {
          "base_uri": "https://localhost:8080/",
          "height": 187
        }
      },
      "source": [
        "all_transc.columns.to_list()"
      ],
      "execution_count": 405,
      "outputs": [
        {
          "output_type": "execute_result",
          "data": {
            "text/plain": [
              "['CUSTOMER_UNIQUE_ID',\n",
              " 'MASKED_ACCT',\n",
              " 'TRN_REF_NO',\n",
              " 'AC_CCY',\n",
              " 'DRCR_IND',\n",
              " 'TRN_CODE',\n",
              " 'FCY_AMOUNT',\n",
              " 'EXCH_RATE',\n",
              " 'LCY_AMOUNT',\n",
              " 'TRN_DT']"
            ]
          },
          "metadata": {
            "tags": []
          },
          "execution_count": 405
        }
      ]
    },
    {
      "cell_type": "code",
      "metadata": {
        "colab_type": "code",
        "id": "k9wiv0uSee3a",
        "colab": {}
      },
      "source": [
        "all_transc.columns = all_transc.columns.str.lower()"
      ],
      "execution_count": 0,
      "outputs": []
    },
    {
      "cell_type": "code",
      "metadata": {
        "id": "vDPshcx5jt5t",
        "colab_type": "code",
        "colab": {}
      },
      "source": [
        "all_transc.set_index('customer_unique_id',inplace=True)"
      ],
      "execution_count": 0,
      "outputs": []
    },
    {
      "cell_type": "code",
      "metadata": {
        "id": "j7VDsVxQHVey",
        "colab_type": "code",
        "colab": {}
      },
      "source": [
        "all_transc.index=all_transc.index.astype('int')"
      ],
      "execution_count": 0,
      "outputs": []
    },
    {
      "cell_type": "code",
      "metadata": {
        "id": "iYAdJIi1jt5y",
        "colab_type": "code",
        "outputId": "dbbff4d2-d380-40fa-ae38-801dd940dba0",
        "colab": {
          "base_uri": "https://localhost:8080/",
          "height": 187
        }
      },
      "source": [
        "all_transc.isnull().sum()"
      ],
      "execution_count": 409,
      "outputs": [
        {
          "output_type": "execute_result",
          "data": {
            "text/plain": [
              "masked_acct        0\n",
              "trn_ref_no         0\n",
              "ac_ccy             0\n",
              "drcr_ind           0\n",
              "trn_code           0\n",
              "fcy_amount     22583\n",
              "exch_rate      26100\n",
              "lcy_amount         0\n",
              "trn_dt             0\n",
              "dtype: int64"
            ]
          },
          "metadata": {
            "tags": []
          },
          "execution_count": 409
        }
      ]
    },
    {
      "cell_type": "code",
      "metadata": {
        "id": "uacJxYBPjt53",
        "colab_type": "code",
        "outputId": "8ad30fa1-6664-4150-c5d2-6fc1a983c682",
        "colab": {
          "base_uri": "https://localhost:8080/",
          "height": 255
        }
      },
      "source": [
        "all_transc.info()"
      ],
      "execution_count": 410,
      "outputs": [
        {
          "output_type": "stream",
          "text": [
            "<class 'pandas.core.frame.DataFrame'>\n",
            "Int64Index: 26130 entries, 639103002 to 604416007\n",
            "Data columns (total 9 columns):\n",
            "masked_acct    26130 non-null object\n",
            "trn_ref_no     26130 non-null object\n",
            "ac_ccy         26130 non-null object\n",
            "drcr_ind       26130 non-null object\n",
            "trn_code       26130 non-null object\n",
            "fcy_amount     3547 non-null float64\n",
            "exch_rate      30 non-null float64\n",
            "lcy_amount     26130 non-null float64\n",
            "trn_dt         26130 non-null object\n",
            "dtypes: float64(3), object(6)\n",
            "memory usage: 2.0+ MB\n"
          ],
          "name": "stdout"
        }
      ]
    },
    {
      "cell_type": "code",
      "metadata": {
        "id": "ZLesBlY7jt6j",
        "colab_type": "code",
        "colab": {}
      },
      "source": [
        "\n",
        "all_transc = all_transc.loc[:,all_transc.isnull().mean() < 0.8]"
      ],
      "execution_count": 0,
      "outputs": []
    },
    {
      "cell_type": "code",
      "metadata": {
        "id": "4omPoolTjt6y",
        "colab_type": "code",
        "outputId": "4562752b-0444-4a41-b3aa-50d4a1140136",
        "colab": {
          "base_uri": "https://localhost:8080/",
          "height": 153
        }
      },
      "source": [
        "all_transc.isnull().sum()"
      ],
      "execution_count": 412,
      "outputs": [
        {
          "output_type": "execute_result",
          "data": {
            "text/plain": [
              "masked_acct    0\n",
              "trn_ref_no     0\n",
              "ac_ccy         0\n",
              "drcr_ind       0\n",
              "trn_code       0\n",
              "lcy_amount     0\n",
              "trn_dt         0\n",
              "dtype: int64"
            ]
          },
          "metadata": {
            "tags": []
          },
          "execution_count": 412
        }
      ]
    },
    {
      "cell_type": "code",
      "metadata": {
        "id": "msDJOHiEjt67",
        "colab_type": "code",
        "outputId": "e98fb429-9a5c-4bc9-d8b1-8023ee885f3f",
        "colab": {
          "base_uri": "https://localhost:8080/",
          "height": 221
        }
      },
      "source": [
        "all_transc.info()"
      ],
      "execution_count": 413,
      "outputs": [
        {
          "output_type": "stream",
          "text": [
            "<class 'pandas.core.frame.DataFrame'>\n",
            "Int64Index: 26130 entries, 639103002 to 604416007\n",
            "Data columns (total 7 columns):\n",
            "masked_acct    26130 non-null object\n",
            "trn_ref_no     26130 non-null object\n",
            "ac_ccy         26130 non-null object\n",
            "drcr_ind       26130 non-null object\n",
            "trn_code       26130 non-null object\n",
            "lcy_amount     26130 non-null float64\n",
            "trn_dt         26130 non-null object\n",
            "dtypes: float64(1), object(6)\n",
            "memory usage: 1.6+ MB\n"
          ],
          "name": "stdout"
        }
      ]
    },
    {
      "cell_type": "code",
      "metadata": {
        "id": "CqL2QWwAjt9e",
        "colab_type": "code",
        "outputId": "47eb9354-96e8-42c7-9904-aceb21a107ae",
        "colab": {
          "base_uri": "https://localhost:8080/",
          "height": 235
        }
      },
      "source": [
        "all_transc.head()"
      ],
      "execution_count": 414,
      "outputs": [
        {
          "output_type": "execute_result",
          "data": {
            "text/html": [
              "<div>\n",
              "<style scoped>\n",
              "    .dataframe tbody tr th:only-of-type {\n",
              "        vertical-align: middle;\n",
              "    }\n",
              "\n",
              "    .dataframe tbody tr th {\n",
              "        vertical-align: top;\n",
              "    }\n",
              "\n",
              "    .dataframe thead th {\n",
              "        text-align: right;\n",
              "    }\n",
              "</style>\n",
              "<table border=\"1\" class=\"dataframe\">\n",
              "  <thead>\n",
              "    <tr style=\"text-align: right;\">\n",
              "      <th></th>\n",
              "      <th>masked_acct</th>\n",
              "      <th>trn_ref_no</th>\n",
              "      <th>ac_ccy</th>\n",
              "      <th>drcr_ind</th>\n",
              "      <th>trn_code</th>\n",
              "      <th>lcy_amount</th>\n",
              "      <th>trn_dt</th>\n",
              "    </tr>\n",
              "    <tr>\n",
              "      <th>customer_unique_id</th>\n",
              "      <th></th>\n",
              "      <th></th>\n",
              "      <th></th>\n",
              "      <th></th>\n",
              "      <th></th>\n",
              "      <th></th>\n",
              "      <th></th>\n",
              "    </tr>\n",
              "  </thead>\n",
              "  <tbody>\n",
              "    <tr>\n",
              "      <th>639103002</th>\n",
              "      <td>00******23</td>\n",
              "      <td>133ICEBNGN 00002</td>\n",
              "      <td>NGN</td>\n",
              "      <td>C</td>\n",
              "      <td>CIN</td>\n",
              "      <td>0.01</td>\n",
              "      <td>2019-09-30 00:00:00</td>\n",
              "    </tr>\n",
              "    <tr>\n",
              "      <th>563391007</th>\n",
              "      <td>00******98</td>\n",
              "      <td>0981356192730075</td>\n",
              "      <td>NGN</td>\n",
              "      <td>D</td>\n",
              "      <td>CWR</td>\n",
              "      <td>2000.00</td>\n",
              "      <td>2019-09-30 00:00:00</td>\n",
              "    </tr>\n",
              "    <tr>\n",
              "      <th>563391007</th>\n",
              "      <td>00******98</td>\n",
              "      <td>098AWRI801180wJs</td>\n",
              "      <td>NGN</td>\n",
              "      <td>D</td>\n",
              "      <td>CWR</td>\n",
              "      <td>2000.00</td>\n",
              "      <td>2019-09-30 00:00:00</td>\n",
              "    </tr>\n",
              "    <tr>\n",
              "      <th>563391007</th>\n",
              "      <td>00******98</td>\n",
              "      <td>098AWRI801180wKb</td>\n",
              "      <td>NGN</td>\n",
              "      <td>D</td>\n",
              "      <td>CWR</td>\n",
              "      <td>2000.00</td>\n",
              "      <td>2019-09-30 00:00:00</td>\n",
              "    </tr>\n",
              "    <tr>\n",
              "      <th>563391007</th>\n",
              "      <td>00******98</td>\n",
              "      <td>098AWRI801180dLN</td>\n",
              "      <td>NGN</td>\n",
              "      <td>D</td>\n",
              "      <td>CWR</td>\n",
              "      <td>2000.00</td>\n",
              "      <td>2019-09-30 00:00:00</td>\n",
              "    </tr>\n",
              "  </tbody>\n",
              "</table>\n",
              "</div>"
            ],
            "text/plain": [
              "                   masked_acct  ...               trn_dt\n",
              "customer_unique_id              ...                     \n",
              "639103002           00******23  ...  2019-09-30 00:00:00\n",
              "563391007           00******98  ...  2019-09-30 00:00:00\n",
              "563391007           00******98  ...  2019-09-30 00:00:00\n",
              "563391007           00******98  ...  2019-09-30 00:00:00\n",
              "563391007           00******98  ...  2019-09-30 00:00:00\n",
              "\n",
              "[5 rows x 7 columns]"
            ]
          },
          "metadata": {
            "tags": []
          },
          "execution_count": 414
        }
      ]
    },
    {
      "cell_type": "code",
      "metadata": {
        "id": "0czkk19Ejt-N",
        "colab_type": "code",
        "colab": {}
      },
      "source": [
        "all_transc = all_transc.drop(columns = ['masked_acct', 'trn_ref_no', 'trn_dt'])"
      ],
      "execution_count": 0,
      "outputs": []
    },
    {
      "cell_type": "code",
      "metadata": {
        "id": "zFdxAiRZjt-f",
        "colab_type": "code",
        "outputId": "752ca0dd-b914-464d-fbb8-17e925db6299",
        "colab": {
          "base_uri": "https://localhost:8080/",
          "height": 235
        }
      },
      "source": [
        "all_transc.head()"
      ],
      "execution_count": 416,
      "outputs": [
        {
          "output_type": "execute_result",
          "data": {
            "text/html": [
              "<div>\n",
              "<style scoped>\n",
              "    .dataframe tbody tr th:only-of-type {\n",
              "        vertical-align: middle;\n",
              "    }\n",
              "\n",
              "    .dataframe tbody tr th {\n",
              "        vertical-align: top;\n",
              "    }\n",
              "\n",
              "    .dataframe thead th {\n",
              "        text-align: right;\n",
              "    }\n",
              "</style>\n",
              "<table border=\"1\" class=\"dataframe\">\n",
              "  <thead>\n",
              "    <tr style=\"text-align: right;\">\n",
              "      <th></th>\n",
              "      <th>ac_ccy</th>\n",
              "      <th>drcr_ind</th>\n",
              "      <th>trn_code</th>\n",
              "      <th>lcy_amount</th>\n",
              "    </tr>\n",
              "    <tr>\n",
              "      <th>customer_unique_id</th>\n",
              "      <th></th>\n",
              "      <th></th>\n",
              "      <th></th>\n",
              "      <th></th>\n",
              "    </tr>\n",
              "  </thead>\n",
              "  <tbody>\n",
              "    <tr>\n",
              "      <th>639103002</th>\n",
              "      <td>NGN</td>\n",
              "      <td>C</td>\n",
              "      <td>CIN</td>\n",
              "      <td>0.01</td>\n",
              "    </tr>\n",
              "    <tr>\n",
              "      <th>563391007</th>\n",
              "      <td>NGN</td>\n",
              "      <td>D</td>\n",
              "      <td>CWR</td>\n",
              "      <td>2000.00</td>\n",
              "    </tr>\n",
              "    <tr>\n",
              "      <th>563391007</th>\n",
              "      <td>NGN</td>\n",
              "      <td>D</td>\n",
              "      <td>CWR</td>\n",
              "      <td>2000.00</td>\n",
              "    </tr>\n",
              "    <tr>\n",
              "      <th>563391007</th>\n",
              "      <td>NGN</td>\n",
              "      <td>D</td>\n",
              "      <td>CWR</td>\n",
              "      <td>2000.00</td>\n",
              "    </tr>\n",
              "    <tr>\n",
              "      <th>563391007</th>\n",
              "      <td>NGN</td>\n",
              "      <td>D</td>\n",
              "      <td>CWR</td>\n",
              "      <td>2000.00</td>\n",
              "    </tr>\n",
              "  </tbody>\n",
              "</table>\n",
              "</div>"
            ],
            "text/plain": [
              "                   ac_ccy drcr_ind trn_code  lcy_amount\n",
              "customer_unique_id                                     \n",
              "639103002             NGN        C      CIN        0.01\n",
              "563391007             NGN        D      CWR     2000.00\n",
              "563391007             NGN        D      CWR     2000.00\n",
              "563391007             NGN        D      CWR     2000.00\n",
              "563391007             NGN        D      CWR     2000.00"
            ]
          },
          "metadata": {
            "tags": []
          },
          "execution_count": 416
        }
      ]
    },
    {
      "cell_type": "code",
      "metadata": {
        "id": "AVxe8lH2jt-s",
        "colab_type": "code",
        "outputId": "26fa0d4d-ba00-47c9-a3d8-7509f78ee9b9",
        "colab": {
          "base_uri": "https://localhost:8080/",
          "height": 221
        }
      },
      "source": [
        "all_transc['trn_code'].value_counts()"
      ],
      "execution_count": 417,
      "outputs": [
        {
          "output_type": "execute_result",
          "data": {
            "text/plain": [
              "FTM    5476\n",
              "QTM    2711\n",
              "FWR    2176\n",
              "NIP    1662\n",
              "CWR    1620\n",
              "       ... \n",
              "CNC       1\n",
              "FDC       1\n",
              "DTT       1\n",
              "FDB       1\n",
              "DIP       1\n",
              "Name: trn_code, Length: 101, dtype: int64"
            ]
          },
          "metadata": {
            "tags": []
          },
          "execution_count": 417
        }
      ]
    },
    {
      "cell_type": "code",
      "metadata": {
        "id": "N_LIctd_jt-y",
        "colab_type": "code",
        "outputId": "27c1ef0b-51a4-44ca-8eaa-6db749f03f50",
        "colab": {
          "base_uri": "https://localhost:8080/",
          "height": 68
        }
      },
      "source": [
        "all_transc['drcr_ind'].value_counts()"
      ],
      "execution_count": 418,
      "outputs": [
        {
          "output_type": "execute_result",
          "data": {
            "text/plain": [
              "D    21265\n",
              "C     4865\n",
              "Name: drcr_ind, dtype: int64"
            ]
          },
          "metadata": {
            "tags": []
          },
          "execution_count": 418
        }
      ]
    },
    {
      "cell_type": "code",
      "metadata": {
        "id": "dNx3Hkzgjt-7",
        "colab_type": "code",
        "outputId": "cd875c32-844f-4a0c-80fa-29f16782b450",
        "colab": {
          "base_uri": "https://localhost:8080/",
          "height": 102
        }
      },
      "source": [
        "all_transc['ac_ccy'].value_counts()"
      ],
      "execution_count": 419,
      "outputs": [
        {
          "output_type": "execute_result",
          "data": {
            "text/plain": [
              "NGN    25764\n",
              "USD      312\n",
              "GBP       34\n",
              "EUR       20\n",
              "Name: ac_ccy, dtype: int64"
            ]
          },
          "metadata": {
            "tags": []
          },
          "execution_count": 419
        }
      ]
    },
    {
      "cell_type": "code",
      "metadata": {
        "id": "LjJFKyInjt_L",
        "colab_type": "code",
        "outputId": "0c321c21-60a2-492e-e678-e6f96daaa377",
        "colab": {
          "base_uri": "https://localhost:8080/",
          "height": 296
        }
      },
      "source": [
        "sns.boxplot( x ='ac_ccy', y = 'lcy_amount', data = all_transc, palette = 'rainbow')"
      ],
      "execution_count": 420,
      "outputs": [
        {
          "output_type": "execute_result",
          "data": {
            "text/plain": [
              "<matplotlib.axes._subplots.AxesSubplot at 0x7f0a3c761d68>"
            ]
          },
          "metadata": {
            "tags": []
          },
          "execution_count": 420
        },
        {
          "output_type": "display_data",
          "data": {
            "image/png": "[encoded data removed]",
            "text/plain": [
              "<Figure size 432x288 with 1 Axes>"
            ]
          },
          "metadata": {
            "tags": []
          }
        }
      ]
    },
    {
      "cell_type": "code",
      "metadata": {
        "id": "0WH5i96gjt_S",
        "colab_type": "code",
        "outputId": "6dc4a539-8be9-4b7f-8937-1553a61960e1",
        "colab": {
          "base_uri": "https://localhost:8080/",
          "height": 297
        }
      },
      "source": [
        "sns.boxplot( x ='drcr_ind', y = 'lcy_amount', data = all_transc, palette = 'rainbow')"
      ],
      "execution_count": 421,
      "outputs": [
        {
          "output_type": "execute_result",
          "data": {
            "text/plain": [
              "<matplotlib.axes._subplots.AxesSubplot at 0x7f0a3c7616a0>"
            ]
          },
          "metadata": {
            "tags": []
          },
          "execution_count": 421
        },
        {
          "output_type": "display_data",
          "data": {
            "image/png": "[encoded data removed]",
            "text/plain": [
              "<Figure size 432x288 with 1 Axes>"
            ]
          },
          "metadata": {
            "tags": []
          }
        }
      ]
    },
    {
      "cell_type": "code",
      "metadata": {
        "id": "xQO_zmBJjt_h",
        "colab_type": "code",
        "outputId": "439d5b3c-5b4e-41d0-a81c-eb5bbba82393",
        "colab": {
          "base_uri": "https://localhost:8080/",
          "height": 282
        }
      },
      "source": [
        "all_transc['lcy_amount'].hist()"
      ],
      "execution_count": 422,
      "outputs": [
        {
          "output_type": "execute_result",
          "data": {
            "text/plain": [
              "<matplotlib.axes._subplots.AxesSubplot at 0x7f0a3c761710>"
            ]
          },
          "metadata": {
            "tags": []
          },
          "execution_count": 422
        },
        {
          "output_type": "display_data",
          "data": {
            "image/png": "[encoded data removed]",
            "text/plain": [
              "<Figure size 432x288 with 1 Axes>"
            ]
          },
          "metadata": {
            "tags": []
          }
        }
      ]
    },
    {
      "cell_type": "code",
      "metadata": {
        "id": "SB0fKs12jt_s",
        "colab_type": "code",
        "outputId": "e86a8fec-509e-4a51-b466-1bed3ca322b8",
        "colab": {
          "base_uri": "https://localhost:8080/",
          "height": 296
        }
      },
      "source": [
        "sns.violinplot(x = 'ac_ccy', y = 'lcy_amount', data = all_transc, hue = 'drcr_ind', palette = 'Dark2')"
      ],
      "execution_count": 423,
      "outputs": [
        {
          "output_type": "execute_result",
          "data": {
            "text/plain": [
              "<matplotlib.axes._subplots.AxesSubplot at 0x7f0a3c640a20>"
            ]
          },
          "metadata": {
            "tags": []
          },
          "execution_count": 423
        },
        {
          "output_type": "display_data",
          "data": {
            "image/png": "[encoded data removed]",
            "text/plain": [
              "<Figure size 432x288 with 1 Axes>"
            ]
          },
          "metadata": {
            "tags": []
          }
        }
      ]
    },
    {
      "cell_type": "code",
      "metadata": {
        "id": "Iv-QzJyTjt_-",
        "colab_type": "code",
        "outputId": "69f1a021-4ce6-4222-c980-9ed66ec00745",
        "colab": {
          "base_uri": "https://localhost:8080/",
          "height": 142
        }
      },
      "source": [
        "all_transc.loc[639103002]"
      ],
      "execution_count": 424,
      "outputs": [
        {
          "output_type": "execute_result",
          "data": {
            "text/html": [
              "<div>\n",
              "<style scoped>\n",
              "    .dataframe tbody tr th:only-of-type {\n",
              "        vertical-align: middle;\n",
              "    }\n",
              "\n",
              "    .dataframe tbody tr th {\n",
              "        vertical-align: top;\n",
              "    }\n",
              "\n",
              "    .dataframe thead th {\n",
              "        text-align: right;\n",
              "    }\n",
              "</style>\n",
              "<table border=\"1\" class=\"dataframe\">\n",
              "  <thead>\n",
              "    <tr style=\"text-align: right;\">\n",
              "      <th></th>\n",
              "      <th>ac_ccy</th>\n",
              "      <th>drcr_ind</th>\n",
              "      <th>trn_code</th>\n",
              "      <th>lcy_amount</th>\n",
              "    </tr>\n",
              "    <tr>\n",
              "      <th>customer_unique_id</th>\n",
              "      <th></th>\n",
              "      <th></th>\n",
              "      <th></th>\n",
              "      <th></th>\n",
              "    </tr>\n",
              "  </thead>\n",
              "  <tbody>\n",
              "    <tr>\n",
              "      <th>639103002</th>\n",
              "      <td>NGN</td>\n",
              "      <td>C</td>\n",
              "      <td>CIN</td>\n",
              "      <td>0.01</td>\n",
              "    </tr>\n",
              "    <tr>\n",
              "      <th>639103002</th>\n",
              "      <td>NGN</td>\n",
              "      <td>D</td>\n",
              "      <td>CWU</td>\n",
              "      <td>16000.00</td>\n",
              "    </tr>\n",
              "  </tbody>\n",
              "</table>\n",
              "</div>"
            ],
            "text/plain": [
              "                   ac_ccy drcr_ind trn_code  lcy_amount\n",
              "customer_unique_id                                     \n",
              "639103002             NGN        C      CIN        0.01\n",
              "639103002             NGN        D      CWU    16000.00"
            ]
          },
          "metadata": {
            "tags": []
          },
          "execution_count": 424
        }
      ]
    },
    {
      "cell_type": "code",
      "metadata": {
        "id": "BspJc0ARjuAN",
        "colab_type": "code",
        "outputId": "6095c0fc-9466-436d-f26f-1ad41f34fe2e",
        "colab": {
          "base_uri": "https://localhost:8080/",
          "height": 102
        }
      },
      "source": [
        "all_transc.loc[562966000]"
      ],
      "execution_count": 425,
      "outputs": [
        {
          "output_type": "execute_result",
          "data": {
            "text/plain": [
              "ac_ccy         NGN\n",
              "drcr_ind         D\n",
              "trn_code       FWR\n",
              "lcy_amount    6900\n",
              "Name: 562966000, dtype: object"
            ]
          },
          "metadata": {
            "tags": []
          },
          "execution_count": 425
        }
      ]
    },
    {
      "cell_type": "code",
      "metadata": {
        "id": "0VGgtDoAjuAX",
        "colab_type": "code",
        "outputId": "0401dc2c-0a0b-4996-e11c-d692e3a22b4e",
        "colab": {
          "base_uri": "https://localhost:8080/",
          "height": 328
        }
      },
      "source": [
        "all_transc.loc[563391007]"
      ],
      "execution_count": 426,
      "outputs": [
        {
          "output_type": "execute_result",
          "data": {
            "text/html": [
              "<div>\n",
              "<style scoped>\n",
              "    .dataframe tbody tr th:only-of-type {\n",
              "        vertical-align: middle;\n",
              "    }\n",
              "\n",
              "    .dataframe tbody tr th {\n",
              "        vertical-align: top;\n",
              "    }\n",
              "\n",
              "    .dataframe thead th {\n",
              "        text-align: right;\n",
              "    }\n",
              "</style>\n",
              "<table border=\"1\" class=\"dataframe\">\n",
              "  <thead>\n",
              "    <tr style=\"text-align: right;\">\n",
              "      <th></th>\n",
              "      <th>ac_ccy</th>\n",
              "      <th>drcr_ind</th>\n",
              "      <th>trn_code</th>\n",
              "      <th>lcy_amount</th>\n",
              "    </tr>\n",
              "    <tr>\n",
              "      <th>customer_unique_id</th>\n",
              "      <th></th>\n",
              "      <th></th>\n",
              "      <th></th>\n",
              "      <th></th>\n",
              "    </tr>\n",
              "  </thead>\n",
              "  <tbody>\n",
              "    <tr>\n",
              "      <th>563391007</th>\n",
              "      <td>NGN</td>\n",
              "      <td>D</td>\n",
              "      <td>CWR</td>\n",
              "      <td>2000.0</td>\n",
              "    </tr>\n",
              "    <tr>\n",
              "      <th>563391007</th>\n",
              "      <td>NGN</td>\n",
              "      <td>D</td>\n",
              "      <td>CWR</td>\n",
              "      <td>2000.0</td>\n",
              "    </tr>\n",
              "    <tr>\n",
              "      <th>563391007</th>\n",
              "      <td>NGN</td>\n",
              "      <td>D</td>\n",
              "      <td>CWR</td>\n",
              "      <td>2000.0</td>\n",
              "    </tr>\n",
              "    <tr>\n",
              "      <th>563391007</th>\n",
              "      <td>NGN</td>\n",
              "      <td>D</td>\n",
              "      <td>CWR</td>\n",
              "      <td>2000.0</td>\n",
              "    </tr>\n",
              "    <tr>\n",
              "      <th>563391007</th>\n",
              "      <td>NGN</td>\n",
              "      <td>D</td>\n",
              "      <td>FFR</td>\n",
              "      <td>65.0</td>\n",
              "    </tr>\n",
              "    <tr>\n",
              "      <th>563391007</th>\n",
              "      <td>NGN</td>\n",
              "      <td>D</td>\n",
              "      <td>MLL</td>\n",
              "      <td>7000.0</td>\n",
              "    </tr>\n",
              "    <tr>\n",
              "      <th>563391007</th>\n",
              "      <td>NGN</td>\n",
              "      <td>D</td>\n",
              "      <td>QTM</td>\n",
              "      <td>200.0</td>\n",
              "    </tr>\n",
              "    <tr>\n",
              "      <th>563391007</th>\n",
              "      <td>NGN</td>\n",
              "      <td>D</td>\n",
              "      <td>SAC</td>\n",
              "      <td>112.0</td>\n",
              "    </tr>\n",
              "  </tbody>\n",
              "</table>\n",
              "</div>"
            ],
            "text/plain": [
              "                   ac_ccy drcr_ind trn_code  lcy_amount\n",
              "customer_unique_id                                     \n",
              "563391007             NGN        D      CWR      2000.0\n",
              "563391007             NGN        D      CWR      2000.0\n",
              "563391007             NGN        D      CWR      2000.0\n",
              "563391007             NGN        D      CWR      2000.0\n",
              "563391007             NGN        D      FFR        65.0\n",
              "563391007             NGN        D      MLL      7000.0\n",
              "563391007             NGN        D      QTM       200.0\n",
              "563391007             NGN        D      SAC       112.0"
            ]
          },
          "metadata": {
            "tags": []
          },
          "execution_count": 426
        }
      ]
    },
    {
      "cell_type": "code",
      "metadata": {
        "id": "EtEm1qbejuAe",
        "colab_type": "code",
        "colab": {}
      },
      "source": [
        "all_transc = all_transc.groupby([all_transc.index, all_transc.drcr_ind])[['lcy_amount']].sum()"
      ],
      "execution_count": 0,
      "outputs": []
    },
    {
      "cell_type": "code",
      "metadata": {
        "id": "qvvNhNRSjuBO",
        "colab_type": "code",
        "outputId": "b5aafea7-695b-4b57-8766-78147cdbfa8f",
        "colab": {
          "base_uri": "https://localhost:8080/",
          "height": 235
        }
      },
      "source": [
        "all_transc.head()"
      ],
      "execution_count": 428,
      "outputs": [
        {
          "output_type": "execute_result",
          "data": {
            "text/html": [
              "<div>\n",
              "<style scoped>\n",
              "    .dataframe tbody tr th:only-of-type {\n",
              "        vertical-align: middle;\n",
              "    }\n",
              "\n",
              "    .dataframe tbody tr th {\n",
              "        vertical-align: top;\n",
              "    }\n",
              "\n",
              "    .dataframe thead th {\n",
              "        text-align: right;\n",
              "    }\n",
              "</style>\n",
              "<table border=\"1\" class=\"dataframe\">\n",
              "  <thead>\n",
              "    <tr style=\"text-align: right;\">\n",
              "      <th></th>\n",
              "      <th></th>\n",
              "      <th>lcy_amount</th>\n",
              "    </tr>\n",
              "    <tr>\n",
              "      <th>customer_unique_id</th>\n",
              "      <th>drcr_ind</th>\n",
              "      <th></th>\n",
              "    </tr>\n",
              "  </thead>\n",
              "  <tbody>\n",
              "    <tr>\n",
              "      <th>56000</th>\n",
              "      <th>D</th>\n",
              "      <td>20.0</td>\n",
              "    </tr>\n",
              "    <tr>\n",
              "      <th rowspan=\"2\" valign=\"top\">104008</th>\n",
              "      <th>C</th>\n",
              "      <td>50000.0</td>\n",
              "    </tr>\n",
              "    <tr>\n",
              "      <th>D</th>\n",
              "      <td>28000.0</td>\n",
              "    </tr>\n",
              "    <tr>\n",
              "      <th>200006</th>\n",
              "      <th>D</th>\n",
              "      <td>10000.0</td>\n",
              "    </tr>\n",
              "    <tr>\n",
              "      <th>233018</th>\n",
              "      <th>D</th>\n",
              "      <td>44.0</td>\n",
              "    </tr>\n",
              "  </tbody>\n",
              "</table>\n",
              "</div>"
            ],
            "text/plain": [
              "                             lcy_amount\n",
              "customer_unique_id drcr_ind            \n",
              "56000              D               20.0\n",
              "104008             C            50000.0\n",
              "                   D            28000.0\n",
              "200006             D            10000.0\n",
              "233018             D               44.0"
            ]
          },
          "metadata": {
            "tags": []
          },
          "execution_count": 428
        }
      ]
    },
    {
      "cell_type": "code",
      "metadata": {
        "id": "WwR-0z1ygvyk",
        "colab_type": "code",
        "colab": {}
      },
      "source": [
        "all_transc = pd.pivot_table(all_transc.reset_index(),index='customer_unique_id',columns='drcr_ind', values='lcy_amount',aggfunc=np.sum).reset_index()[['customer_unique_id', 'C', 'D']]"
      ],
      "execution_count": 0,
      "outputs": []
    },
    {
      "cell_type": "code",
      "metadata": {
        "id": "A9hpAC73jG4i",
        "colab_type": "code",
        "colab": {}
      },
      "source": [
        "all_transc.set_index('customer_unique_id',inplace=True)"
      ],
      "execution_count": 0,
      "outputs": []
    },
    {
      "cell_type": "code",
      "metadata": {
        "id": "773iQJAl67jx",
        "colab_type": "code",
        "colab": {
          "base_uri": "https://localhost:8080/",
          "height": 85
        },
        "outputId": "262a70b1-70af-4bb6-828d-db8aca24df93"
      },
      "source": [
        "all_transc1.isnull().sum()"
      ],
      "execution_count": 431,
      "outputs": [
        {
          "output_type": "execute_result",
          "data": {
            "text/plain": [
              "drcr_ind\n",
              "C    3726\n",
              "D     610\n",
              "dtype: int64"
            ]
          },
          "metadata": {
            "tags": []
          },
          "execution_count": 431
        }
      ]
    },
    {
      "cell_type": "code",
      "metadata": {
        "id": "aQdVPqDIhPo3",
        "colab_type": "code",
        "colab": {
          "base_uri": "https://localhost:8080/",
          "height": 34
        },
        "outputId": "be4f59c1-f0d2-41dc-97a2-bb3015342d81"
      },
      "source": [
        "all_transc1.shape"
      ],
      "execution_count": 432,
      "outputs": [
        {
          "output_type": "execute_result",
          "data": {
            "text/plain": [
              "(6788, 2)"
            ]
          },
          "metadata": {
            "tags": []
          },
          "execution_count": 432
        }
      ]
    },
    {
      "cell_type": "code",
      "metadata": {
        "id": "_p8CssLPhUHJ",
        "colab_type": "code",
        "colab": {
          "base_uri": "https://localhost:8080/",
          "height": 235
        },
        "outputId": "f52541c6-c79f-456f-ed71-2bd12c83e435"
      },
      "source": [
        "all_transc1.head()"
      ],
      "execution_count": 433,
      "outputs": [
        {
          "output_type": "execute_result",
          "data": {
            "text/html": [
              "<div>\n",
              "<style scoped>\n",
              "    .dataframe tbody tr th:only-of-type {\n",
              "        vertical-align: middle;\n",
              "    }\n",
              "\n",
              "    .dataframe tbody tr th {\n",
              "        vertical-align: top;\n",
              "    }\n",
              "\n",
              "    .dataframe thead th {\n",
              "        text-align: right;\n",
              "    }\n",
              "</style>\n",
              "<table border=\"1\" class=\"dataframe\">\n",
              "  <thead>\n",
              "    <tr style=\"text-align: right;\">\n",
              "      <th>drcr_ind</th>\n",
              "      <th>C</th>\n",
              "      <th>D</th>\n",
              "    </tr>\n",
              "    <tr>\n",
              "      <th>customer_unique_id</th>\n",
              "      <th></th>\n",
              "      <th></th>\n",
              "    </tr>\n",
              "  </thead>\n",
              "  <tbody>\n",
              "    <tr>\n",
              "      <th>56000</th>\n",
              "      <td>NaN</td>\n",
              "      <td>20.0</td>\n",
              "    </tr>\n",
              "    <tr>\n",
              "      <th>104008</th>\n",
              "      <td>50000.0</td>\n",
              "      <td>28000.0</td>\n",
              "    </tr>\n",
              "    <tr>\n",
              "      <th>200006</th>\n",
              "      <td>NaN</td>\n",
              "      <td>10000.0</td>\n",
              "    </tr>\n",
              "    <tr>\n",
              "      <th>233018</th>\n",
              "      <td>NaN</td>\n",
              "      <td>44.0</td>\n",
              "    </tr>\n",
              "    <tr>\n",
              "      <th>320010</th>\n",
              "      <td>NaN</td>\n",
              "      <td>2000.0</td>\n",
              "    </tr>\n",
              "  </tbody>\n",
              "</table>\n",
              "</div>"
            ],
            "text/plain": [
              "drcr_ind                  C        D\n",
              "customer_unique_id                  \n",
              "56000                   NaN     20.0\n",
              "104008              50000.0  28000.0\n",
              "200006                  NaN  10000.0\n",
              "233018                  NaN     44.0\n",
              "320010                  NaN   2000.0"
            ]
          },
          "metadata": {
            "tags": []
          },
          "execution_count": 433
        }
      ]
    },
    {
      "cell_type": "code",
      "metadata": {
        "id": "4e-KqzZPGmLa",
        "colab_type": "code",
        "colab": {}
      },
      "source": [
        "all_demo.to_csv('df_demo.csv', encoding = 'utf-8', index = True)\n",
        "df_demo = pd.read_csv('df_demo.csv',skiprows = 0)\n",
        "df_demo.head()"
      ],
      "execution_count": 0,
      "outputs": []
    },
    {
      "cell_type": "code",
      "metadata": {
        "id": "Xc__DI4hhw95",
        "colab_type": "code",
        "colab": {}
      },
      "source": [
        ""
      ],
      "execution_count": 0,
      "outputs": []
    }
  ]
}