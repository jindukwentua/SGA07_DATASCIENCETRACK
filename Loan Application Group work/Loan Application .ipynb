{
 "cells": [
  {
   "cell_type": "markdown",
   "metadata": {},
   "source": [
    "## LOAN PERFORMANCE FOR A FINANCIAL COMPANY"
   ]
  },
  {
   "cell_type": "markdown",
   "metadata": {},
   "source": [
    "### RESEARCH QUESTION"
   ]
  },
  {
   "cell_type": "markdown",
   "metadata": {},
   "source": [
    "Build a predicitve model to determine if a loan taken by a customer would be Performing or Non-performing"
   ]
  },
  {
   "cell_type": "markdown",
   "metadata": {},
   "source": [
    "## Metrics of Success\n",
    "*The accuracy score and f1 score will be used to measure and evaluate the predictive power the of models*"
   ]
  },
  {
   "cell_type": "markdown",
   "metadata": {},
   "source": [
    "## Importing libraries"
   ]
  },
  {
   "cell_type": "code",
   "execution_count": 1,
   "metadata": {},
   "outputs": [],
   "source": [
    "# Importing libraries\n",
    "# Pandas library will load data into a dataframe containing columns and rows\n",
    "# Matplotlib and seaborn will be used to make visualisations and graphs\n",
    "# The sklearn library is used to create a model that will do the prediction\n",
    "import pandas as pd\n",
    "import numpy as np\n",
    "import matplotlib.pyplot as plt\n",
    "import seaborn as sns\n",
    "import warnings\n",
    "import statsmodels.api as sm\n",
    "from sklearn.preprocessing import StandardScaler, LabelEncoder\n",
    "from sklearn.model_selection import train_test_split, GridSearchCV, RandomizedSearchCV, KFold, cross_val_score\n",
    "from sklearn.model_selection import train_test_split\n",
    "from sklearn.tree import DecisionTreeClassifier\n",
    "from sklearn.ensemble import RandomForestClassifier\n",
    "from sklearn.linear_model import LogisticRegression\n",
    "from sklearn.metrics import confusion_matrix, accuracy_score\n",
    "warnings.filterwarnings(\"ignore\")"
   ]
  },
  {
   "cell_type": "markdown",
   "metadata": {},
   "source": [
    "## Loading the data to a pandas dataframe"
   ]
  },
  {
   "cell_type": "code",
   "execution_count": 2,
   "metadata": {},
   "outputs": [],
   "source": [
    "##loading the cleaned datasets\n",
    "\n",
    "df_account = pd.read_csv('df_account.csv',skiprows = 0)\n",
    "df_balances = pd.read_csv('df_balances.csv',skiprows = 0)\n",
    "df_demo = pd.read_csv('df_demo.csv',skiprows = 0)\n",
    "df_invest = pd.read_csv('df_invest.csv',skiprows = 0)\n",
    "df_loan = pd.read_csv('df_loan.csv',skiprows = 0)\n",
    "df_loanapp = pd.read_csv('df_loanapp (1).csv')"
   ]
  },
  {
   "cell_type": "code",
   "execution_count": 3,
   "metadata": {},
   "outputs": [
    {
     "data": {
      "text/html": [
       "<div>\n",
       "<style scoped>\n",
       "    .dataframe tbody tr th:only-of-type {\n",
       "        vertical-align: middle;\n",
       "    }\n",
       "\n",
       "    .dataframe tbody tr th {\n",
       "        vertical-align: top;\n",
       "    }\n",
       "\n",
       "    .dataframe thead th {\n",
       "        text-align: right;\n",
       "    }\n",
       "</style>\n",
       "<table border=\"1\" class=\"dataframe\">\n",
       "  <thead>\n",
       "    <tr style=\"text-align: right;\">\n",
       "      <th></th>\n",
       "      <th>customer_unique_id</th>\n",
       "      <th>acy_avl_bal</th>\n",
       "    </tr>\n",
       "  </thead>\n",
       "  <tbody>\n",
       "    <tr>\n",
       "      <th>0</th>\n",
       "      <td>56000</td>\n",
       "      <td>136043.480</td>\n",
       "    </tr>\n",
       "    <tr>\n",
       "      <th>1</th>\n",
       "      <td>62005</td>\n",
       "      <td>1541733.575</td>\n",
       "    </tr>\n",
       "    <tr>\n",
       "      <th>2</th>\n",
       "      <td>104008</td>\n",
       "      <td>12364.060</td>\n",
       "    </tr>\n",
       "    <tr>\n",
       "      <th>3</th>\n",
       "      <td>175007</td>\n",
       "      <td>20029.550</td>\n",
       "    </tr>\n",
       "    <tr>\n",
       "      <th>4</th>\n",
       "      <td>200006</td>\n",
       "      <td>61489.560</td>\n",
       "    </tr>\n",
       "  </tbody>\n",
       "</table>\n",
       "</div>"
      ],
      "text/plain": [
       "   customer_unique_id  acy_avl_bal\n",
       "0               56000   136043.480\n",
       "1               62005  1541733.575\n",
       "2              104008    12364.060\n",
       "3              175007    20029.550\n",
       "4              200006    61489.560"
      ]
     },
     "execution_count": 3,
     "metadata": {},
     "output_type": "execute_result"
    }
   ],
   "source": [
    "df_account.head()"
   ]
  },
  {
   "cell_type": "code",
   "execution_count": 4,
   "metadata": {},
   "outputs": [
    {
     "data": {
      "text/html": [
       "<div>\n",
       "<style scoped>\n",
       "    .dataframe tbody tr th:only-of-type {\n",
       "        vertical-align: middle;\n",
       "    }\n",
       "\n",
       "    .dataframe tbody tr th {\n",
       "        vertical-align: top;\n",
       "    }\n",
       "\n",
       "    .dataframe thead th {\n",
       "        text-align: right;\n",
       "    }\n",
       "</style>\n",
       "<table border=\"1\" class=\"dataframe\">\n",
       "  <thead>\n",
       "    <tr style=\"text-align: right;\">\n",
       "      <th></th>\n",
       "      <th>customer_unique_id</th>\n",
       "      <th>val_dt</th>\n",
       "      <th>bal</th>\n",
       "    </tr>\n",
       "  </thead>\n",
       "  <tbody>\n",
       "    <tr>\n",
       "      <th>0</th>\n",
       "      <td>278604001</td>\n",
       "      <td>10/1/2019</td>\n",
       "      <td>20017.89</td>\n",
       "    </tr>\n",
       "    <tr>\n",
       "      <th>1</th>\n",
       "      <td>936686000</td>\n",
       "      <td>10/1/2019</td>\n",
       "      <td>77327.98</td>\n",
       "    </tr>\n",
       "    <tr>\n",
       "      <th>2</th>\n",
       "      <td>344873019</td>\n",
       "      <td>10/1/2019</td>\n",
       "      <td>27.57</td>\n",
       "    </tr>\n",
       "    <tr>\n",
       "      <th>3</th>\n",
       "      <td>656653006</td>\n",
       "      <td>10/1/2019</td>\n",
       "      <td>1000.00</td>\n",
       "    </tr>\n",
       "    <tr>\n",
       "      <th>4</th>\n",
       "      <td>492905009</td>\n",
       "      <td>10/1/2019</td>\n",
       "      <td>17058.14</td>\n",
       "    </tr>\n",
       "  </tbody>\n",
       "</table>\n",
       "</div>"
      ],
      "text/plain": [
       "   customer_unique_id     val_dt       bal\n",
       "0           278604001  10/1/2019  20017.89\n",
       "1           936686000  10/1/2019  77327.98\n",
       "2           344873019  10/1/2019     27.57\n",
       "3           656653006  10/1/2019   1000.00\n",
       "4           492905009  10/1/2019  17058.14"
      ]
     },
     "execution_count": 4,
     "metadata": {},
     "output_type": "execute_result"
    }
   ],
   "source": [
    "df_balances.head()"
   ]
  },
  {
   "cell_type": "code",
   "execution_count": 5,
   "metadata": {},
   "outputs": [
    {
     "data": {
      "text/html": [
       "<div>\n",
       "<style scoped>\n",
       "    .dataframe tbody tr th:only-of-type {\n",
       "        vertical-align: middle;\n",
       "    }\n",
       "\n",
       "    .dataframe tbody tr th {\n",
       "        vertical-align: top;\n",
       "    }\n",
       "\n",
       "    .dataframe thead th {\n",
       "        text-align: right;\n",
       "    }\n",
       "</style>\n",
       "<table border=\"1\" class=\"dataframe\">\n",
       "  <thead>\n",
       "    <tr style=\"text-align: right;\">\n",
       "      <th></th>\n",
       "      <th>customer_unique_id</th>\n",
       "      <th>customer_type</th>\n",
       "      <th>language</th>\n",
       "      <th>customer_category</th>\n",
       "      <th>date_of_birth</th>\n",
       "      <th>minor</th>\n",
       "      <th>sex</th>\n",
       "      <th>marital_status</th>\n",
       "    </tr>\n",
       "  </thead>\n",
       "  <tbody>\n",
       "    <tr>\n",
       "      <th>0</th>\n",
       "      <td>18030000</td>\n",
       "      <td>I</td>\n",
       "      <td>ENG</td>\n",
       "      <td>IND</td>\n",
       "      <td>1966-08-15 00:00:00</td>\n",
       "      <td>N</td>\n",
       "      <td>M</td>\n",
       "      <td>M</td>\n",
       "    </tr>\n",
       "    <tr>\n",
       "      <th>1</th>\n",
       "      <td>33020001</td>\n",
       "      <td>I</td>\n",
       "      <td>ENG</td>\n",
       "      <td>IND</td>\n",
       "      <td>1950-01-01 00:00:00</td>\n",
       "      <td>N</td>\n",
       "      <td>M</td>\n",
       "      <td>S</td>\n",
       "    </tr>\n",
       "    <tr>\n",
       "      <th>2</th>\n",
       "      <td>69090004</td>\n",
       "      <td>I</td>\n",
       "      <td>ENG</td>\n",
       "      <td>IND</td>\n",
       "      <td>1970-04-10 00:00:00</td>\n",
       "      <td>N</td>\n",
       "      <td>F</td>\n",
       "      <td>M</td>\n",
       "    </tr>\n",
       "    <tr>\n",
       "      <th>3</th>\n",
       "      <td>81010006</td>\n",
       "      <td>I</td>\n",
       "      <td>ENG</td>\n",
       "      <td>IND</td>\n",
       "      <td>1967-04-26 00:00:00</td>\n",
       "      <td>N</td>\n",
       "      <td>M</td>\n",
       "      <td>M</td>\n",
       "    </tr>\n",
       "    <tr>\n",
       "      <th>4</th>\n",
       "      <td>71120007</td>\n",
       "      <td>I</td>\n",
       "      <td>ENG</td>\n",
       "      <td>IND</td>\n",
       "      <td>1965-09-24 00:00:00</td>\n",
       "      <td>N</td>\n",
       "      <td>M</td>\n",
       "      <td>M</td>\n",
       "    </tr>\n",
       "  </tbody>\n",
       "</table>\n",
       "</div>"
      ],
      "text/plain": [
       "   customer_unique_id customer_type language customer_category  \\\n",
       "0            18030000             I      ENG               IND   \n",
       "1            33020001             I      ENG               IND   \n",
       "2            69090004             I      ENG               IND   \n",
       "3            81010006             I      ENG               IND   \n",
       "4            71120007             I      ENG               IND   \n",
       "\n",
       "         date_of_birth minor sex marital_status  \n",
       "0  1966-08-15 00:00:00     N   M              M  \n",
       "1  1950-01-01 00:00:00     N   M              S  \n",
       "2  1970-04-10 00:00:00     N   F              M  \n",
       "3  1967-04-26 00:00:00     N   M              M  \n",
       "4  1965-09-24 00:00:00     N   M              M  "
      ]
     },
     "execution_count": 5,
     "metadata": {},
     "output_type": "execute_result"
    }
   ],
   "source": [
    "df_demo.head()"
   ]
  },
  {
   "cell_type": "code",
   "execution_count": 6,
   "metadata": {},
   "outputs": [
    {
     "data": {
      "text/html": [
       "<div>\n",
       "<style scoped>\n",
       "    .dataframe tbody tr th:only-of-type {\n",
       "        vertical-align: middle;\n",
       "    }\n",
       "\n",
       "    .dataframe tbody tr th {\n",
       "        vertical-align: top;\n",
       "    }\n",
       "\n",
       "    .dataframe thead th {\n",
       "        text-align: right;\n",
       "    }\n",
       "</style>\n",
       "<table border=\"1\" class=\"dataframe\">\n",
       "  <thead>\n",
       "    <tr style=\"text-align: right;\">\n",
       "      <th></th>\n",
       "      <th>customer_unique_id</th>\n",
       "      <th>amount</th>\n",
       "      <th>tenor</th>\n",
       "      <th>date_difference</th>\n",
       "    </tr>\n",
       "  </thead>\n",
       "  <tbody>\n",
       "    <tr>\n",
       "      <th>0</th>\n",
       "      <td>226008</td>\n",
       "      <td>600000.0</td>\n",
       "      <td>45.0</td>\n",
       "      <td>45.0</td>\n",
       "    </tr>\n",
       "    <tr>\n",
       "      <th>1</th>\n",
       "      <td>1321003</td>\n",
       "      <td>1100000.0</td>\n",
       "      <td>364.0</td>\n",
       "      <td>364.0</td>\n",
       "    </tr>\n",
       "    <tr>\n",
       "      <th>2</th>\n",
       "      <td>1352000</td>\n",
       "      <td>450000.0</td>\n",
       "      <td>31.0</td>\n",
       "      <td>28.0</td>\n",
       "    </tr>\n",
       "    <tr>\n",
       "      <th>3</th>\n",
       "      <td>2366007</td>\n",
       "      <td>150000.0</td>\n",
       "      <td>30.0</td>\n",
       "      <td>30.0</td>\n",
       "    </tr>\n",
       "    <tr>\n",
       "      <th>4</th>\n",
       "      <td>2471001</td>\n",
       "      <td>1000000.0</td>\n",
       "      <td>247.0</td>\n",
       "      <td>247.0</td>\n",
       "    </tr>\n",
       "  </tbody>\n",
       "</table>\n",
       "</div>"
      ],
      "text/plain": [
       "   customer_unique_id     amount  tenor  date_difference\n",
       "0              226008   600000.0   45.0             45.0\n",
       "1             1321003  1100000.0  364.0            364.0\n",
       "2             1352000   450000.0   31.0             28.0\n",
       "3             2366007   150000.0   30.0             30.0\n",
       "4             2471001  1000000.0  247.0            247.0"
      ]
     },
     "execution_count": 6,
     "metadata": {},
     "output_type": "execute_result"
    }
   ],
   "source": [
    "df_invest.head()"
   ]
  },
  {
   "cell_type": "code",
   "execution_count": 7,
   "metadata": {},
   "outputs": [
    {
     "data": {
      "text/html": [
       "<div>\n",
       "<style scoped>\n",
       "    .dataframe tbody tr th:only-of-type {\n",
       "        vertical-align: middle;\n",
       "    }\n",
       "\n",
       "    .dataframe tbody tr th {\n",
       "        vertical-align: top;\n",
       "    }\n",
       "\n",
       "    .dataframe thead th {\n",
       "        text-align: right;\n",
       "    }\n",
       "</style>\n",
       "<table border=\"1\" class=\"dataframe\">\n",
       "  <thead>\n",
       "    <tr style=\"text-align: right;\">\n",
       "      <th></th>\n",
       "      <th>customer_unique_id</th>\n",
       "      <th>product_code</th>\n",
       "      <th>account_status</th>\n",
       "      <th>date_difference</th>\n",
       "      <th>amount_financed</th>\n",
       "    </tr>\n",
       "  </thead>\n",
       "  <tbody>\n",
       "    <tr>\n",
       "      <th>0</th>\n",
       "      <td>56000</td>\n",
       "      <td>AMPC</td>\n",
       "      <td>L</td>\n",
       "      <td>30.0</td>\n",
       "      <td>56827.586207</td>\n",
       "    </tr>\n",
       "    <tr>\n",
       "      <th>1</th>\n",
       "      <td>62005</td>\n",
       "      <td>PDLP</td>\n",
       "      <td>L</td>\n",
       "      <td>30.0</td>\n",
       "      <td>72074.074074</td>\n",
       "    </tr>\n",
       "    <tr>\n",
       "      <th>2</th>\n",
       "      <td>104008</td>\n",
       "      <td>AMPC</td>\n",
       "      <td>L</td>\n",
       "      <td>40.0</td>\n",
       "      <td>46111.111111</td>\n",
       "    </tr>\n",
       "    <tr>\n",
       "      <th>3</th>\n",
       "      <td>175007</td>\n",
       "      <td>PDLP</td>\n",
       "      <td>L</td>\n",
       "      <td>30.0</td>\n",
       "      <td>5235.294118</td>\n",
       "    </tr>\n",
       "    <tr>\n",
       "      <th>4</th>\n",
       "      <td>200006</td>\n",
       "      <td>AMPC</td>\n",
       "      <td>L</td>\n",
       "      <td>30.0</td>\n",
       "      <td>74937.500000</td>\n",
       "    </tr>\n",
       "  </tbody>\n",
       "</table>\n",
       "</div>"
      ],
      "text/plain": [
       "   customer_unique_id product_code account_status  date_difference  \\\n",
       "0               56000         AMPC              L             30.0   \n",
       "1               62005         PDLP              L             30.0   \n",
       "2              104008         AMPC              L             40.0   \n",
       "3              175007         PDLP              L             30.0   \n",
       "4              200006         AMPC              L             30.0   \n",
       "\n",
       "   amount_financed  \n",
       "0     56827.586207  \n",
       "1     72074.074074  \n",
       "2     46111.111111  \n",
       "3      5235.294118  \n",
       "4     74937.500000  "
      ]
     },
     "execution_count": 7,
     "metadata": {},
     "output_type": "execute_result"
    }
   ],
   "source": [
    "df_loan.head()"
   ]
  },
  {
   "cell_type": "code",
   "execution_count": 8,
   "metadata": {},
   "outputs": [
    {
     "data": {
      "text/html": [
       "<div>\n",
       "<style scoped>\n",
       "    .dataframe tbody tr th:only-of-type {\n",
       "        vertical-align: middle;\n",
       "    }\n",
       "\n",
       "    .dataframe tbody tr th {\n",
       "        vertical-align: top;\n",
       "    }\n",
       "\n",
       "    .dataframe thead th {\n",
       "        text-align: right;\n",
       "    }\n",
       "</style>\n",
       "<table border=\"1\" class=\"dataframe\">\n",
       "  <thead>\n",
       "    <tr style=\"text-align: right;\">\n",
       "      <th></th>\n",
       "      <th>customer_unique_id</th>\n",
       "      <th>offerid</th>\n",
       "      <th>incr_allowed</th>\n",
       "      <th>applied_amount</th>\n",
       "      <th>date_of_apply</th>\n",
       "      <th>application_status</th>\n",
       "      <th>module</th>\n",
       "      <th>loan_classification</th>\n",
       "    </tr>\n",
       "  </thead>\n",
       "  <tbody>\n",
       "    <tr>\n",
       "      <th>0</th>\n",
       "      <td>562966000</td>\n",
       "      <td>099AMPC173040537</td>\n",
       "      <td>370803.43</td>\n",
       "      <td>1040.0</td>\n",
       "      <td>10/31/2017 10:36:23 AM</td>\n",
       "      <td>D</td>\n",
       "      <td>AMPC</td>\n",
       "      <td>PERFORMING</td>\n",
       "    </tr>\n",
       "    <tr>\n",
       "      <th>1</th>\n",
       "      <td>562966000</td>\n",
       "      <td>099AMPC173040537</td>\n",
       "      <td>370803.43</td>\n",
       "      <td>1040.0</td>\n",
       "      <td>10/31/2017 10:37:10 AM</td>\n",
       "      <td>D</td>\n",
       "      <td>AMPC</td>\n",
       "      <td>PERFORMING</td>\n",
       "    </tr>\n",
       "    <tr>\n",
       "      <th>2</th>\n",
       "      <td>562966000</td>\n",
       "      <td>099AMPC173040539</td>\n",
       "      <td>370803.43</td>\n",
       "      <td>1040.0</td>\n",
       "      <td>10/31/2017 10:39:06 AM</td>\n",
       "      <td>D</td>\n",
       "      <td>AMPC</td>\n",
       "      <td>PERFORMING</td>\n",
       "    </tr>\n",
       "    <tr>\n",
       "      <th>3</th>\n",
       "      <td>867156003</td>\n",
       "      <td>099AMPC173040543</td>\n",
       "      <td>15278.69</td>\n",
       "      <td>13000.0</td>\n",
       "      <td>10/31/2017 10:44:39 AM</td>\n",
       "      <td>D</td>\n",
       "      <td>AMPC</td>\n",
       "      <td>PERFORMING</td>\n",
       "    </tr>\n",
       "    <tr>\n",
       "      <th>4</th>\n",
       "      <td>747196003</td>\n",
       "      <td>099AMPC173040545</td>\n",
       "      <td>136863.90</td>\n",
       "      <td>1000.0</td>\n",
       "      <td>10/31/2017 10:44:58 AM</td>\n",
       "      <td>D</td>\n",
       "      <td>AMPC</td>\n",
       "      <td>PERFORMING</td>\n",
       "    </tr>\n",
       "  </tbody>\n",
       "</table>\n",
       "</div>"
      ],
      "text/plain": [
       "   customer_unique_id           offerid  incr_allowed  applied_amount  \\\n",
       "0           562966000  099AMPC173040537     370803.43          1040.0   \n",
       "1           562966000  099AMPC173040537     370803.43          1040.0   \n",
       "2           562966000  099AMPC173040539     370803.43          1040.0   \n",
       "3           867156003  099AMPC173040543      15278.69         13000.0   \n",
       "4           747196003  099AMPC173040545     136863.90          1000.0   \n",
       "\n",
       "            date_of_apply application_status module loan_classification  \n",
       "0  10/31/2017 10:36:23 AM                  D   AMPC          PERFORMING  \n",
       "1  10/31/2017 10:37:10 AM                  D   AMPC          PERFORMING  \n",
       "2  10/31/2017 10:39:06 AM                  D   AMPC          PERFORMING  \n",
       "3  10/31/2017 10:44:39 AM                  D   AMPC          PERFORMING  \n",
       "4  10/31/2017 10:44:58 AM                  D   AMPC          PERFORMING  "
      ]
     },
     "execution_count": 8,
     "metadata": {},
     "output_type": "execute_result"
    }
   ],
   "source": [
    "df_loanapp.head()"
   ]
  },
  {
   "cell_type": "code",
   "execution_count": 9,
   "metadata": {},
   "outputs": [],
   "source": [
    "df_account.set_index('customer_unique_id',inplace=True)\n",
    "\n"
   ]
  },
  {
   "cell_type": "code",
   "execution_count": 10,
   "metadata": {},
   "outputs": [],
   "source": [
    "df_balances.set_index('customer_unique_id',inplace=True)\n"
   ]
  },
  {
   "cell_type": "code",
   "execution_count": 11,
   "metadata": {},
   "outputs": [],
   "source": [
    "df_demo.set_index('customer_unique_id',inplace=True)\n"
   ]
  },
  {
   "cell_type": "code",
   "execution_count": 12,
   "metadata": {},
   "outputs": [],
   "source": [
    "df_invest.set_index('customer_unique_id',inplace=True)\n"
   ]
  },
  {
   "cell_type": "code",
   "execution_count": 13,
   "metadata": {},
   "outputs": [],
   "source": [
    "df_loan.set_index('customer_unique_id',inplace=True)\n"
   ]
  },
  {
   "cell_type": "code",
   "execution_count": 14,
   "metadata": {},
   "outputs": [],
   "source": [
    "df_loanapp.set_index('customer_unique_id',inplace=True)"
   ]
  },
  {
   "cell_type": "code",
   "execution_count": 15,
   "metadata": {},
   "outputs": [],
   "source": [
    "loan_df = pd.merge(df_account,df_balances, on = 'customer_unique_id')"
   ]
  },
  {
   "cell_type": "code",
   "execution_count": 16,
   "metadata": {},
   "outputs": [
    {
     "data": {
      "text/html": [
       "<div>\n",
       "<style scoped>\n",
       "    .dataframe tbody tr th:only-of-type {\n",
       "        vertical-align: middle;\n",
       "    }\n",
       "\n",
       "    .dataframe tbody tr th {\n",
       "        vertical-align: top;\n",
       "    }\n",
       "\n",
       "    .dataframe thead th {\n",
       "        text-align: right;\n",
       "    }\n",
       "</style>\n",
       "<table border=\"1\" class=\"dataframe\">\n",
       "  <thead>\n",
       "    <tr style=\"text-align: right;\">\n",
       "      <th></th>\n",
       "      <th>acy_avl_bal</th>\n",
       "      <th>val_dt</th>\n",
       "      <th>bal</th>\n",
       "    </tr>\n",
       "    <tr>\n",
       "      <th>customer_unique_id</th>\n",
       "      <th></th>\n",
       "      <th></th>\n",
       "      <th></th>\n",
       "    </tr>\n",
       "  </thead>\n",
       "  <tbody>\n",
       "    <tr>\n",
       "      <th>62005</th>\n",
       "      <td>1541733.575</td>\n",
       "      <td>9/17/2019</td>\n",
       "      <td>27.25</td>\n",
       "    </tr>\n",
       "    <tr>\n",
       "      <th>104008</th>\n",
       "      <td>12364.060</td>\n",
       "      <td>8/15/2019</td>\n",
       "      <td>30678.07</td>\n",
       "    </tr>\n",
       "    <tr>\n",
       "      <th>104008</th>\n",
       "      <td>12364.060</td>\n",
       "      <td>9/21/2019</td>\n",
       "      <td>291.89</td>\n",
       "    </tr>\n",
       "    <tr>\n",
       "      <th>104008</th>\n",
       "      <td>12364.060</td>\n",
       "      <td>9/22/2019</td>\n",
       "      <td>191.89</td>\n",
       "    </tr>\n",
       "    <tr>\n",
       "      <th>104008</th>\n",
       "      <td>12364.060</td>\n",
       "      <td>9/30/2019</td>\n",
       "      <td>1350.77</td>\n",
       "    </tr>\n",
       "  </tbody>\n",
       "</table>\n",
       "</div>"
      ],
      "text/plain": [
       "                    acy_avl_bal     val_dt       bal\n",
       "customer_unique_id                                  \n",
       "62005               1541733.575  9/17/2019     27.25\n",
       "104008                12364.060  8/15/2019  30678.07\n",
       "104008                12364.060  9/21/2019    291.89\n",
       "104008                12364.060  9/22/2019    191.89\n",
       "104008                12364.060  9/30/2019   1350.77"
      ]
     },
     "execution_count": 16,
     "metadata": {},
     "output_type": "execute_result"
    }
   ],
   "source": [
    "loan_df.head()"
   ]
  },
  {
   "cell_type": "code",
   "execution_count": 17,
   "metadata": {},
   "outputs": [
    {
     "data": {
      "text/plain": [
       "(13630, 3)"
      ]
     },
     "execution_count": 17,
     "metadata": {},
     "output_type": "execute_result"
    }
   ],
   "source": [
    "loan_df.shape"
   ]
  },
  {
   "cell_type": "code",
   "execution_count": 18,
   "metadata": {},
   "outputs": [],
   "source": [
    "loan_dff = pd.merge(loan_df,df_loan, on = 'customer_unique_id')"
   ]
  },
  {
   "cell_type": "code",
   "execution_count": 19,
   "metadata": {},
   "outputs": [
    {
     "data": {
      "text/plain": [
       "(13671, 7)"
      ]
     },
     "execution_count": 19,
     "metadata": {},
     "output_type": "execute_result"
    }
   ],
   "source": [
    "loan_dff.shape"
   ]
  },
  {
   "cell_type": "code",
   "execution_count": 20,
   "metadata": {},
   "outputs": [],
   "source": [
    "df1 = pd.merge(df_loanapp,loan_dff, on = 'customer_unique_id')"
   ]
  },
  {
   "cell_type": "code",
   "execution_count": 21,
   "metadata": {},
   "outputs": [],
   "source": [
    "df = pd.merge(df_demo, df1, on = 'customer_unique_id')"
   ]
  },
  {
   "cell_type": "code",
   "execution_count": 22,
   "metadata": {},
   "outputs": [
    {
     "data": {
      "text/plain": [
       "(18277, 21)"
      ]
     },
     "execution_count": 22,
     "metadata": {},
     "output_type": "execute_result"
    }
   ],
   "source": [
    "df.shape"
   ]
  },
  {
   "cell_type": "code",
   "execution_count": 23,
   "metadata": {},
   "outputs": [
    {
     "data": {
      "text/html": [
       "<div>\n",
       "<style scoped>\n",
       "    .dataframe tbody tr th:only-of-type {\n",
       "        vertical-align: middle;\n",
       "    }\n",
       "\n",
       "    .dataframe tbody tr th {\n",
       "        vertical-align: top;\n",
       "    }\n",
       "\n",
       "    .dataframe thead th {\n",
       "        text-align: right;\n",
       "    }\n",
       "</style>\n",
       "<table border=\"1\" class=\"dataframe\">\n",
       "  <thead>\n",
       "    <tr style=\"text-align: right;\">\n",
       "      <th></th>\n",
       "      <th>customer_type</th>\n",
       "      <th>language</th>\n",
       "      <th>customer_category</th>\n",
       "      <th>date_of_birth</th>\n",
       "      <th>minor</th>\n",
       "      <th>sex</th>\n",
       "      <th>marital_status</th>\n",
       "      <th>offerid</th>\n",
       "      <th>incr_allowed</th>\n",
       "      <th>applied_amount</th>\n",
       "      <th>...</th>\n",
       "      <th>application_status</th>\n",
       "      <th>module</th>\n",
       "      <th>loan_classification</th>\n",
       "      <th>acy_avl_bal</th>\n",
       "      <th>val_dt</th>\n",
       "      <th>bal</th>\n",
       "      <th>product_code</th>\n",
       "      <th>account_status</th>\n",
       "      <th>date_difference</th>\n",
       "      <th>amount_financed</th>\n",
       "    </tr>\n",
       "    <tr>\n",
       "      <th>customer_unique_id</th>\n",
       "      <th></th>\n",
       "      <th></th>\n",
       "      <th></th>\n",
       "      <th></th>\n",
       "      <th></th>\n",
       "      <th></th>\n",
       "      <th></th>\n",
       "      <th></th>\n",
       "      <th></th>\n",
       "      <th></th>\n",
       "      <th></th>\n",
       "      <th></th>\n",
       "      <th></th>\n",
       "      <th></th>\n",
       "      <th></th>\n",
       "      <th></th>\n",
       "      <th></th>\n",
       "      <th></th>\n",
       "      <th></th>\n",
       "      <th></th>\n",
       "      <th></th>\n",
       "    </tr>\n",
       "  </thead>\n",
       "  <tbody>\n",
       "    <tr>\n",
       "      <th>18030000</th>\n",
       "      <td>I</td>\n",
       "      <td>ENG</td>\n",
       "      <td>IND</td>\n",
       "      <td>1966-08-15 00:00:00</td>\n",
       "      <td>N</td>\n",
       "      <td>M</td>\n",
       "      <td>M</td>\n",
       "      <td>099AMPC182461574</td>\n",
       "      <td>-4011851.27</td>\n",
       "      <td>10000.0</td>\n",
       "      <td>...</td>\n",
       "      <td>D</td>\n",
       "      <td>AMPC</td>\n",
       "      <td>PERFORMING</td>\n",
       "      <td>2.920749e+08</td>\n",
       "      <td>9/17/2019</td>\n",
       "      <td>186277.06</td>\n",
       "      <td>STLM</td>\n",
       "      <td>L</td>\n",
       "      <td>1979.0</td>\n",
       "      <td>3.039136e+08</td>\n",
       "    </tr>\n",
       "    <tr>\n",
       "      <th>18030000</th>\n",
       "      <td>I</td>\n",
       "      <td>ENG</td>\n",
       "      <td>IND</td>\n",
       "      <td>1966-08-15 00:00:00</td>\n",
       "      <td>N</td>\n",
       "      <td>M</td>\n",
       "      <td>M</td>\n",
       "      <td>099AMPC182461574</td>\n",
       "      <td>-4011851.27</td>\n",
       "      <td>10000.0</td>\n",
       "      <td>...</td>\n",
       "      <td>D</td>\n",
       "      <td>AMPC</td>\n",
       "      <td>PERFORMING</td>\n",
       "      <td>2.920749e+08</td>\n",
       "      <td>9/4/2019</td>\n",
       "      <td>-330883.59</td>\n",
       "      <td>STLM</td>\n",
       "      <td>L</td>\n",
       "      <td>1979.0</td>\n",
       "      <td>3.039136e+08</td>\n",
       "    </tr>\n",
       "    <tr>\n",
       "      <th>18030000</th>\n",
       "      <td>I</td>\n",
       "      <td>ENG</td>\n",
       "      <td>IND</td>\n",
       "      <td>1966-08-15 00:00:00</td>\n",
       "      <td>N</td>\n",
       "      <td>M</td>\n",
       "      <td>M</td>\n",
       "      <td>099AMPC182461574</td>\n",
       "      <td>-4011851.27</td>\n",
       "      <td>10000.0</td>\n",
       "      <td>...</td>\n",
       "      <td>D</td>\n",
       "      <td>AMPC</td>\n",
       "      <td>PERFORMING</td>\n",
       "      <td>2.920749e+08</td>\n",
       "      <td>9/4/2019</td>\n",
       "      <td>-836.44</td>\n",
       "      <td>STLM</td>\n",
       "      <td>L</td>\n",
       "      <td>1979.0</td>\n",
       "      <td>3.039136e+08</td>\n",
       "    </tr>\n",
       "    <tr>\n",
       "      <th>33020001</th>\n",
       "      <td>I</td>\n",
       "      <td>ENG</td>\n",
       "      <td>IND</td>\n",
       "      <td>1950-01-01 00:00:00</td>\n",
       "      <td>N</td>\n",
       "      <td>M</td>\n",
       "      <td>S</td>\n",
       "      <td>099AMPC182462479</td>\n",
       "      <td>47767.13</td>\n",
       "      <td>6000.0</td>\n",
       "      <td>...</td>\n",
       "      <td>D</td>\n",
       "      <td>AMPC</td>\n",
       "      <td>PERFORMING</td>\n",
       "      <td>3.730000e+00</td>\n",
       "      <td>11/11/2019</td>\n",
       "      <td>-17442.77</td>\n",
       "      <td>AMPC</td>\n",
       "      <td>L</td>\n",
       "      <td>30.0</td>\n",
       "      <td>3.570370e+04</td>\n",
       "    </tr>\n",
       "    <tr>\n",
       "      <th>33020001</th>\n",
       "      <td>I</td>\n",
       "      <td>ENG</td>\n",
       "      <td>IND</td>\n",
       "      <td>1950-01-01 00:00:00</td>\n",
       "      <td>N</td>\n",
       "      <td>M</td>\n",
       "      <td>S</td>\n",
       "      <td>099AMPC182462479</td>\n",
       "      <td>47767.13</td>\n",
       "      <td>6000.0</td>\n",
       "      <td>...</td>\n",
       "      <td>D</td>\n",
       "      <td>AMPC</td>\n",
       "      <td>PERFORMING</td>\n",
       "      <td>3.730000e+00</td>\n",
       "      <td>9/16/2019</td>\n",
       "      <td>232.07</td>\n",
       "      <td>AMPC</td>\n",
       "      <td>L</td>\n",
       "      <td>30.0</td>\n",
       "      <td>3.570370e+04</td>\n",
       "    </tr>\n",
       "  </tbody>\n",
       "</table>\n",
       "<p>5 rows × 21 columns</p>\n",
       "</div>"
      ],
      "text/plain": [
       "                   customer_type language customer_category  \\\n",
       "customer_unique_id                                            \n",
       "18030000                       I      ENG               IND   \n",
       "18030000                       I      ENG               IND   \n",
       "18030000                       I      ENG               IND   \n",
       "33020001                       I      ENG               IND   \n",
       "33020001                       I      ENG               IND   \n",
       "\n",
       "                          date_of_birth minor sex marital_status  \\\n",
       "customer_unique_id                                                 \n",
       "18030000            1966-08-15 00:00:00     N   M              M   \n",
       "18030000            1966-08-15 00:00:00     N   M              M   \n",
       "18030000            1966-08-15 00:00:00     N   M              M   \n",
       "33020001            1950-01-01 00:00:00     N   M              S   \n",
       "33020001            1950-01-01 00:00:00     N   M              S   \n",
       "\n",
       "                             offerid  incr_allowed  applied_amount  ...  \\\n",
       "customer_unique_id                                                  ...   \n",
       "18030000            099AMPC182461574   -4011851.27         10000.0  ...   \n",
       "18030000            099AMPC182461574   -4011851.27         10000.0  ...   \n",
       "18030000            099AMPC182461574   -4011851.27         10000.0  ...   \n",
       "33020001            099AMPC182462479      47767.13          6000.0  ...   \n",
       "33020001            099AMPC182462479      47767.13          6000.0  ...   \n",
       "\n",
       "                   application_status module loan_classification  \\\n",
       "customer_unique_id                                                 \n",
       "18030000                            D   AMPC          PERFORMING   \n",
       "18030000                            D   AMPC          PERFORMING   \n",
       "18030000                            D   AMPC          PERFORMING   \n",
       "33020001                            D   AMPC          PERFORMING   \n",
       "33020001                            D   AMPC          PERFORMING   \n",
       "\n",
       "                     acy_avl_bal      val_dt        bal  product_code  \\\n",
       "customer_unique_id                                                      \n",
       "18030000            2.920749e+08   9/17/2019  186277.06          STLM   \n",
       "18030000            2.920749e+08    9/4/2019 -330883.59          STLM   \n",
       "18030000            2.920749e+08    9/4/2019    -836.44          STLM   \n",
       "33020001            3.730000e+00  11/11/2019  -17442.77          AMPC   \n",
       "33020001            3.730000e+00   9/16/2019     232.07          AMPC   \n",
       "\n",
       "                   account_status date_difference  amount_financed  \n",
       "customer_unique_id                                                  \n",
       "18030000                        L          1979.0     3.039136e+08  \n",
       "18030000                        L          1979.0     3.039136e+08  \n",
       "18030000                        L          1979.0     3.039136e+08  \n",
       "33020001                        L            30.0     3.570370e+04  \n",
       "33020001                        L            30.0     3.570370e+04  \n",
       "\n",
       "[5 rows x 21 columns]"
      ]
     },
     "execution_count": 23,
     "metadata": {},
     "output_type": "execute_result"
    }
   ],
   "source": [
    "# Previewing the top of our dataset\n",
    "df.head()"
   ]
  },
  {
   "cell_type": "code",
   "execution_count": 24,
   "metadata": {},
   "outputs": [
    {
     "name": "stdout",
     "output_type": "stream",
     "text": [
      "<class 'pandas.core.frame.DataFrame'>\n",
      "Int64Index: 18277 entries, 18030000 to 973140095\n",
      "Data columns (total 21 columns):\n",
      "customer_type          18277 non-null object\n",
      "language               18277 non-null object\n",
      "customer_category      18277 non-null object\n",
      "date_of_birth          18277 non-null object\n",
      "minor                  18277 non-null object\n",
      "sex                    18277 non-null object\n",
      "marital_status         18277 non-null object\n",
      "offerid                18277 non-null object\n",
      "incr_allowed           18277 non-null float64\n",
      "applied_amount         18277 non-null float64\n",
      "date_of_apply          18277 non-null object\n",
      "application_status     18277 non-null object\n",
      "module                 18277 non-null object\n",
      "loan_classification    18277 non-null object\n",
      "acy_avl_bal            18277 non-null float64\n",
      "val_dt                 18277 non-null object\n",
      "bal                    18277 non-null float64\n",
      "product_code           18277 non-null object\n",
      "account_status         18277 non-null object\n",
      "date_difference        18277 non-null float64\n",
      "amount_financed        18277 non-null float64\n",
      "dtypes: float64(6), object(15)\n",
      "memory usage: 3.1+ MB\n"
     ]
    }
   ],
   "source": [
    "# Determining the no. of records together with some information in our dataset\n",
    "df.info()"
   ]
  },
  {
   "cell_type": "code",
   "execution_count": 25,
   "metadata": {},
   "outputs": [
    {
     "data": {
      "text/html": [
       "<div>\n",
       "<style scoped>\n",
       "    .dataframe tbody tr th:only-of-type {\n",
       "        vertical-align: middle;\n",
       "    }\n",
       "\n",
       "    .dataframe tbody tr th {\n",
       "        vertical-align: top;\n",
       "    }\n",
       "\n",
       "    .dataframe thead th {\n",
       "        text-align: right;\n",
       "    }\n",
       "</style>\n",
       "<table border=\"1\" class=\"dataframe\">\n",
       "  <thead>\n",
       "    <tr style=\"text-align: right;\">\n",
       "      <th></th>\n",
       "      <th>customer_type</th>\n",
       "      <th>language</th>\n",
       "      <th>customer_category</th>\n",
       "      <th>date_of_birth</th>\n",
       "      <th>minor</th>\n",
       "      <th>sex</th>\n",
       "      <th>marital_status</th>\n",
       "      <th>offerid</th>\n",
       "      <th>incr_allowed</th>\n",
       "      <th>applied_amount</th>\n",
       "      <th>...</th>\n",
       "      <th>application_status</th>\n",
       "      <th>module</th>\n",
       "      <th>loan_classification</th>\n",
       "      <th>acy_avl_bal</th>\n",
       "      <th>val_dt</th>\n",
       "      <th>bal</th>\n",
       "      <th>product_code</th>\n",
       "      <th>account_status</th>\n",
       "      <th>date_difference</th>\n",
       "      <th>amount_financed</th>\n",
       "    </tr>\n",
       "  </thead>\n",
       "  <tbody>\n",
       "    <tr>\n",
       "      <th>count</th>\n",
       "      <td>18277</td>\n",
       "      <td>18277</td>\n",
       "      <td>18277</td>\n",
       "      <td>18277</td>\n",
       "      <td>18277</td>\n",
       "      <td>18277</td>\n",
       "      <td>18277</td>\n",
       "      <td>18277</td>\n",
       "      <td>1.827700e+04</td>\n",
       "      <td>1.827700e+04</td>\n",
       "      <td>...</td>\n",
       "      <td>18277</td>\n",
       "      <td>18277</td>\n",
       "      <td>18277</td>\n",
       "      <td>1.827700e+04</td>\n",
       "      <td>18277</td>\n",
       "      <td>1.827700e+04</td>\n",
       "      <td>18277</td>\n",
       "      <td>18277</td>\n",
       "      <td>18277.000000</td>\n",
       "      <td>1.827700e+04</td>\n",
       "    </tr>\n",
       "    <tr>\n",
       "      <th>unique</th>\n",
       "      <td>2</td>\n",
       "      <td>2</td>\n",
       "      <td>10</td>\n",
       "      <td>5294</td>\n",
       "      <td>3</td>\n",
       "      <td>4</td>\n",
       "      <td>5</td>\n",
       "      <td>9386</td>\n",
       "      <td>NaN</td>\n",
       "      <td>NaN</td>\n",
       "      <td>...</td>\n",
       "      <td>1</td>\n",
       "      <td>4</td>\n",
       "      <td>2</td>\n",
       "      <td>NaN</td>\n",
       "      <td>180</td>\n",
       "      <td>NaN</td>\n",
       "      <td>11</td>\n",
       "      <td>2</td>\n",
       "      <td>NaN</td>\n",
       "      <td>NaN</td>\n",
       "    </tr>\n",
       "    <tr>\n",
       "      <th>top</th>\n",
       "      <td>I</td>\n",
       "      <td>ENG</td>\n",
       "      <td>IND</td>\n",
       "      <td>1988-03-31 00:00:00</td>\n",
       "      <td>N</td>\n",
       "      <td>M</td>\n",
       "      <td>S</td>\n",
       "      <td>099STPL182531519</td>\n",
       "      <td>NaN</td>\n",
       "      <td>NaN</td>\n",
       "      <td>...</td>\n",
       "      <td>D</td>\n",
       "      <td>LATO</td>\n",
       "      <td>PERFORMING</td>\n",
       "      <td>NaN</td>\n",
       "      <td>9/30/2019</td>\n",
       "      <td>NaN</td>\n",
       "      <td>PDLP</td>\n",
       "      <td>L</td>\n",
       "      <td>NaN</td>\n",
       "      <td>NaN</td>\n",
       "    </tr>\n",
       "    <tr>\n",
       "      <th>freq</th>\n",
       "      <td>18268</td>\n",
       "      <td>18274</td>\n",
       "      <td>17446</td>\n",
       "      <td>78</td>\n",
       "      <td>18150</td>\n",
       "      <td>14719</td>\n",
       "      <td>10550</td>\n",
       "      <td>16</td>\n",
       "      <td>NaN</td>\n",
       "      <td>NaN</td>\n",
       "      <td>...</td>\n",
       "      <td>18277</td>\n",
       "      <td>7303</td>\n",
       "      <td>17532</td>\n",
       "      <td>NaN</td>\n",
       "      <td>2016</td>\n",
       "      <td>NaN</td>\n",
       "      <td>10237</td>\n",
       "      <td>16799</td>\n",
       "      <td>NaN</td>\n",
       "      <td>NaN</td>\n",
       "    </tr>\n",
       "    <tr>\n",
       "      <th>mean</th>\n",
       "      <td>NaN</td>\n",
       "      <td>NaN</td>\n",
       "      <td>NaN</td>\n",
       "      <td>NaN</td>\n",
       "      <td>NaN</td>\n",
       "      <td>NaN</td>\n",
       "      <td>NaN</td>\n",
       "      <td>NaN</td>\n",
       "      <td>1.045507e+04</td>\n",
       "      <td>8.156685e+04</td>\n",
       "      <td>...</td>\n",
       "      <td>NaN</td>\n",
       "      <td>NaN</td>\n",
       "      <td>NaN</td>\n",
       "      <td>1.591178e+05</td>\n",
       "      <td>NaN</td>\n",
       "      <td>7.776264e+04</td>\n",
       "      <td>NaN</td>\n",
       "      <td>NaN</td>\n",
       "      <td>44.895434</td>\n",
       "      <td>1.273546e+05</td>\n",
       "    </tr>\n",
       "    <tr>\n",
       "      <th>std</th>\n",
       "      <td>NaN</td>\n",
       "      <td>NaN</td>\n",
       "      <td>NaN</td>\n",
       "      <td>NaN</td>\n",
       "      <td>NaN</td>\n",
       "      <td>NaN</td>\n",
       "      <td>NaN</td>\n",
       "      <td>NaN</td>\n",
       "      <td>3.147407e+05</td>\n",
       "      <td>1.755479e+05</td>\n",
       "      <td>...</td>\n",
       "      <td>NaN</td>\n",
       "      <td>NaN</td>\n",
       "      <td>NaN</td>\n",
       "      <td>3.849842e+06</td>\n",
       "      <td>NaN</td>\n",
       "      <td>5.710391e+05</td>\n",
       "      <td>NaN</td>\n",
       "      <td>NaN</td>\n",
       "      <td>51.935657</td>\n",
       "      <td>3.908776e+06</td>\n",
       "    </tr>\n",
       "    <tr>\n",
       "      <th>min</th>\n",
       "      <td>NaN</td>\n",
       "      <td>NaN</td>\n",
       "      <td>NaN</td>\n",
       "      <td>NaN</td>\n",
       "      <td>NaN</td>\n",
       "      <td>NaN</td>\n",
       "      <td>NaN</td>\n",
       "      <td>NaN</td>\n",
       "      <td>-3.961407e+07</td>\n",
       "      <td>1.000000e+03</td>\n",
       "      <td>...</td>\n",
       "      <td>NaN</td>\n",
       "      <td>NaN</td>\n",
       "      <td>NaN</td>\n",
       "      <td>-1.374736e+07</td>\n",
       "      <td>NaN</td>\n",
       "      <td>-9.719316e+05</td>\n",
       "      <td>NaN</td>\n",
       "      <td>NaN</td>\n",
       "      <td>20.000000</td>\n",
       "      <td>9.577778e+02</td>\n",
       "    </tr>\n",
       "    <tr>\n",
       "      <th>25%</th>\n",
       "      <td>NaN</td>\n",
       "      <td>NaN</td>\n",
       "      <td>NaN</td>\n",
       "      <td>NaN</td>\n",
       "      <td>NaN</td>\n",
       "      <td>NaN</td>\n",
       "      <td>NaN</td>\n",
       "      <td>NaN</td>\n",
       "      <td>0.000000e+00</td>\n",
       "      <td>8.000000e+03</td>\n",
       "      <td>...</td>\n",
       "      <td>NaN</td>\n",
       "      <td>NaN</td>\n",
       "      <td>NaN</td>\n",
       "      <td>2.850000e+01</td>\n",
       "      <td>NaN</td>\n",
       "      <td>1.766700e+02</td>\n",
       "      <td>NaN</td>\n",
       "      <td>NaN</td>\n",
       "      <td>30.000000</td>\n",
       "      <td>1.111111e+04</td>\n",
       "    </tr>\n",
       "    <tr>\n",
       "      <th>50%</th>\n",
       "      <td>NaN</td>\n",
       "      <td>NaN</td>\n",
       "      <td>NaN</td>\n",
       "      <td>NaN</td>\n",
       "      <td>NaN</td>\n",
       "      <td>NaN</td>\n",
       "      <td>NaN</td>\n",
       "      <td>NaN</td>\n",
       "      <td>3.739600e+02</td>\n",
       "      <td>2.000000e+04</td>\n",
       "      <td>...</td>\n",
       "      <td>NaN</td>\n",
       "      <td>NaN</td>\n",
       "      <td>NaN</td>\n",
       "      <td>1.432210e+03</td>\n",
       "      <td>NaN</td>\n",
       "      <td>5.097440e+03</td>\n",
       "      <td>NaN</td>\n",
       "      <td>NaN</td>\n",
       "      <td>30.000000</td>\n",
       "      <td>2.385000e+04</td>\n",
       "    </tr>\n",
       "    <tr>\n",
       "      <th>75%</th>\n",
       "      <td>NaN</td>\n",
       "      <td>NaN</td>\n",
       "      <td>NaN</td>\n",
       "      <td>NaN</td>\n",
       "      <td>NaN</td>\n",
       "      <td>NaN</td>\n",
       "      <td>NaN</td>\n",
       "      <td>NaN</td>\n",
       "      <td>2.526881e+04</td>\n",
       "      <td>7.000000e+04</td>\n",
       "      <td>...</td>\n",
       "      <td>NaN</td>\n",
       "      <td>NaN</td>\n",
       "      <td>NaN</td>\n",
       "      <td>3.511208e+04</td>\n",
       "      <td>NaN</td>\n",
       "      <td>3.303680e+04</td>\n",
       "      <td>NaN</td>\n",
       "      <td>NaN</td>\n",
       "      <td>41.211864</td>\n",
       "      <td>6.215833e+04</td>\n",
       "    </tr>\n",
       "    <tr>\n",
       "      <th>max</th>\n",
       "      <td>NaN</td>\n",
       "      <td>NaN</td>\n",
       "      <td>NaN</td>\n",
       "      <td>NaN</td>\n",
       "      <td>NaN</td>\n",
       "      <td>NaN</td>\n",
       "      <td>NaN</td>\n",
       "      <td>NaN</td>\n",
       "      <td>1.716254e+06</td>\n",
       "      <td>3.500000e+06</td>\n",
       "      <td>...</td>\n",
       "      <td>NaN</td>\n",
       "      <td>NaN</td>\n",
       "      <td>NaN</td>\n",
       "      <td>2.920749e+08</td>\n",
       "      <td>NaN</td>\n",
       "      <td>2.350010e+07</td>\n",
       "      <td>NaN</td>\n",
       "      <td>NaN</td>\n",
       "      <td>1979.000000</td>\n",
       "      <td>3.039136e+08</td>\n",
       "    </tr>\n",
       "  </tbody>\n",
       "</table>\n",
       "<p>11 rows × 21 columns</p>\n",
       "</div>"
      ],
      "text/plain": [
       "       customer_type language customer_category        date_of_birth  minor  \\\n",
       "count          18277    18277             18277                18277  18277   \n",
       "unique             2        2                10                 5294      3   \n",
       "top                I      ENG               IND  1988-03-31 00:00:00      N   \n",
       "freq           18268    18274             17446                   78  18150   \n",
       "mean             NaN      NaN               NaN                  NaN    NaN   \n",
       "std              NaN      NaN               NaN                  NaN    NaN   \n",
       "min              NaN      NaN               NaN                  NaN    NaN   \n",
       "25%              NaN      NaN               NaN                  NaN    NaN   \n",
       "50%              NaN      NaN               NaN                  NaN    NaN   \n",
       "75%              NaN      NaN               NaN                  NaN    NaN   \n",
       "max              NaN      NaN               NaN                  NaN    NaN   \n",
       "\n",
       "          sex marital_status           offerid  incr_allowed  applied_amount  \\\n",
       "count   18277          18277             18277  1.827700e+04    1.827700e+04   \n",
       "unique      4              5              9386           NaN             NaN   \n",
       "top         M              S  099STPL182531519           NaN             NaN   \n",
       "freq    14719          10550                16           NaN             NaN   \n",
       "mean      NaN            NaN               NaN  1.045507e+04    8.156685e+04   \n",
       "std       NaN            NaN               NaN  3.147407e+05    1.755479e+05   \n",
       "min       NaN            NaN               NaN -3.961407e+07    1.000000e+03   \n",
       "25%       NaN            NaN               NaN  0.000000e+00    8.000000e+03   \n",
       "50%       NaN            NaN               NaN  3.739600e+02    2.000000e+04   \n",
       "75%       NaN            NaN               NaN  2.526881e+04    7.000000e+04   \n",
       "max       NaN            NaN               NaN  1.716254e+06    3.500000e+06   \n",
       "\n",
       "        ... application_status module loan_classification   acy_avl_bal  \\\n",
       "count   ...              18277  18277               18277  1.827700e+04   \n",
       "unique  ...                  1      4                   2           NaN   \n",
       "top     ...                  D   LATO          PERFORMING           NaN   \n",
       "freq    ...              18277   7303               17532           NaN   \n",
       "mean    ...                NaN    NaN                 NaN  1.591178e+05   \n",
       "std     ...                NaN    NaN                 NaN  3.849842e+06   \n",
       "min     ...                NaN    NaN                 NaN -1.374736e+07   \n",
       "25%     ...                NaN    NaN                 NaN  2.850000e+01   \n",
       "50%     ...                NaN    NaN                 NaN  1.432210e+03   \n",
       "75%     ...                NaN    NaN                 NaN  3.511208e+04   \n",
       "max     ...                NaN    NaN                 NaN  2.920749e+08   \n",
       "\n",
       "           val_dt           bal  product_code account_status date_difference  \\\n",
       "count       18277  1.827700e+04         18277          18277    18277.000000   \n",
       "unique        180           NaN            11              2             NaN   \n",
       "top     9/30/2019           NaN          PDLP              L             NaN   \n",
       "freq         2016           NaN         10237          16799             NaN   \n",
       "mean          NaN  7.776264e+04           NaN            NaN       44.895434   \n",
       "std           NaN  5.710391e+05           NaN            NaN       51.935657   \n",
       "min           NaN -9.719316e+05           NaN            NaN       20.000000   \n",
       "25%           NaN  1.766700e+02           NaN            NaN       30.000000   \n",
       "50%           NaN  5.097440e+03           NaN            NaN       30.000000   \n",
       "75%           NaN  3.303680e+04           NaN            NaN       41.211864   \n",
       "max           NaN  2.350010e+07           NaN            NaN     1979.000000   \n",
       "\n",
       "        amount_financed  \n",
       "count      1.827700e+04  \n",
       "unique              NaN  \n",
       "top                 NaN  \n",
       "freq                NaN  \n",
       "mean       1.273546e+05  \n",
       "std        3.908776e+06  \n",
       "min        9.577778e+02  \n",
       "25%        1.111111e+04  \n",
       "50%        2.385000e+04  \n",
       "75%        6.215833e+04  \n",
       "max        3.039136e+08  \n",
       "\n",
       "[11 rows x 21 columns]"
      ]
     },
     "execution_count": 25,
     "metadata": {},
     "output_type": "execute_result"
    }
   ],
   "source": [
    "# Previewing statistical summary of the dataset\n",
    "df.describe(include = 'all')"
   ]
  },
  {
   "cell_type": "code",
   "execution_count": 26,
   "metadata": {},
   "outputs": [
    {
     "data": {
      "text/html": [
       "<div>\n",
       "<style scoped>\n",
       "    .dataframe tbody tr th:only-of-type {\n",
       "        vertical-align: middle;\n",
       "    }\n",
       "\n",
       "    .dataframe tbody tr th {\n",
       "        vertical-align: top;\n",
       "    }\n",
       "\n",
       "    .dataframe thead th {\n",
       "        text-align: right;\n",
       "    }\n",
       "</style>\n",
       "<table border=\"1\" class=\"dataframe\">\n",
       "  <thead>\n",
       "    <tr style=\"text-align: right;\">\n",
       "      <th></th>\n",
       "      <th>customer_type</th>\n",
       "      <th>language</th>\n",
       "      <th>customer_category</th>\n",
       "      <th>date_of_birth</th>\n",
       "      <th>minor</th>\n",
       "      <th>sex</th>\n",
       "      <th>marital_status</th>\n",
       "      <th>offerid</th>\n",
       "      <th>incr_allowed</th>\n",
       "      <th>applied_amount</th>\n",
       "      <th>...</th>\n",
       "      <th>application_status</th>\n",
       "      <th>module</th>\n",
       "      <th>loan_classification</th>\n",
       "      <th>acy_avl_bal</th>\n",
       "      <th>val_dt</th>\n",
       "      <th>bal</th>\n",
       "      <th>product_code</th>\n",
       "      <th>account_status</th>\n",
       "      <th>date_difference</th>\n",
       "      <th>amount_financed</th>\n",
       "    </tr>\n",
       "    <tr>\n",
       "      <th>customer_unique_id</th>\n",
       "      <th></th>\n",
       "      <th></th>\n",
       "      <th></th>\n",
       "      <th></th>\n",
       "      <th></th>\n",
       "      <th></th>\n",
       "      <th></th>\n",
       "      <th></th>\n",
       "      <th></th>\n",
       "      <th></th>\n",
       "      <th></th>\n",
       "      <th></th>\n",
       "      <th></th>\n",
       "      <th></th>\n",
       "      <th></th>\n",
       "      <th></th>\n",
       "      <th></th>\n",
       "      <th></th>\n",
       "      <th></th>\n",
       "      <th></th>\n",
       "      <th></th>\n",
       "    </tr>\n",
       "  </thead>\n",
       "  <tbody>\n",
       "    <tr>\n",
       "      <th>936170095</th>\n",
       "      <td>I</td>\n",
       "      <td>ENG</td>\n",
       "      <td>IND</td>\n",
       "      <td>1992-09-11 00:00:00</td>\n",
       "      <td>N</td>\n",
       "      <td>M</td>\n",
       "      <td>S</td>\n",
       "      <td>099PDLP19246A2KL</td>\n",
       "      <td>0.00</td>\n",
       "      <td>10000.0</td>\n",
       "      <td>...</td>\n",
       "      <td>D</td>\n",
       "      <td>LATO</td>\n",
       "      <td>PERFORMING</td>\n",
       "      <td>14.13</td>\n",
       "      <td>8/14/2019</td>\n",
       "      <td>12224.45</td>\n",
       "      <td>AMPC</td>\n",
       "      <td>L</td>\n",
       "      <td>30.0</td>\n",
       "      <td>12800.0</td>\n",
       "    </tr>\n",
       "    <tr>\n",
       "      <th>973140095</th>\n",
       "      <td>I</td>\n",
       "      <td>ENG</td>\n",
       "      <td>IND</td>\n",
       "      <td>1991-11-07 00:00:00</td>\n",
       "      <td>N</td>\n",
       "      <td>M</td>\n",
       "      <td>S</td>\n",
       "      <td>099AMPC182480099</td>\n",
       "      <td>8420.41</td>\n",
       "      <td>7000.0</td>\n",
       "      <td>...</td>\n",
       "      <td>D</td>\n",
       "      <td>AMPC</td>\n",
       "      <td>PERFORMING</td>\n",
       "      <td>1149.54</td>\n",
       "      <td>9/20/2019</td>\n",
       "      <td>450.00</td>\n",
       "      <td>AMPC</td>\n",
       "      <td>L</td>\n",
       "      <td>29.9</td>\n",
       "      <td>4568.5</td>\n",
       "    </tr>\n",
       "    <tr>\n",
       "      <th>973140095</th>\n",
       "      <td>I</td>\n",
       "      <td>ENG</td>\n",
       "      <td>IND</td>\n",
       "      <td>1991-11-07 00:00:00</td>\n",
       "      <td>N</td>\n",
       "      <td>M</td>\n",
       "      <td>S</td>\n",
       "      <td>099AMPC182480099</td>\n",
       "      <td>8420.41</td>\n",
       "      <td>7000.0</td>\n",
       "      <td>...</td>\n",
       "      <td>D</td>\n",
       "      <td>AMPC</td>\n",
       "      <td>PERFORMING</td>\n",
       "      <td>1149.54</td>\n",
       "      <td>9/30/2019</td>\n",
       "      <td>150.00</td>\n",
       "      <td>AMPC</td>\n",
       "      <td>L</td>\n",
       "      <td>29.9</td>\n",
       "      <td>4568.5</td>\n",
       "    </tr>\n",
       "    <tr>\n",
       "      <th>973140095</th>\n",
       "      <td>I</td>\n",
       "      <td>ENG</td>\n",
       "      <td>IND</td>\n",
       "      <td>1991-11-07 00:00:00</td>\n",
       "      <td>N</td>\n",
       "      <td>M</td>\n",
       "      <td>S</td>\n",
       "      <td>099AMPC182480099</td>\n",
       "      <td>8420.41</td>\n",
       "      <td>7000.0</td>\n",
       "      <td>...</td>\n",
       "      <td>D</td>\n",
       "      <td>AMPC</td>\n",
       "      <td>PERFORMING</td>\n",
       "      <td>1149.54</td>\n",
       "      <td>9/20/2019</td>\n",
       "      <td>450.00</td>\n",
       "      <td>AMPC</td>\n",
       "      <td>L</td>\n",
       "      <td>29.9</td>\n",
       "      <td>4568.5</td>\n",
       "    </tr>\n",
       "    <tr>\n",
       "      <th>973140095</th>\n",
       "      <td>I</td>\n",
       "      <td>ENG</td>\n",
       "      <td>IND</td>\n",
       "      <td>1991-11-07 00:00:00</td>\n",
       "      <td>N</td>\n",
       "      <td>M</td>\n",
       "      <td>S</td>\n",
       "      <td>099AMPC182480099</td>\n",
       "      <td>8420.41</td>\n",
       "      <td>7000.0</td>\n",
       "      <td>...</td>\n",
       "      <td>D</td>\n",
       "      <td>AMPC</td>\n",
       "      <td>PERFORMING</td>\n",
       "      <td>1149.54</td>\n",
       "      <td>9/30/2019</td>\n",
       "      <td>150.00</td>\n",
       "      <td>AMPC</td>\n",
       "      <td>L</td>\n",
       "      <td>29.9</td>\n",
       "      <td>4568.5</td>\n",
       "    </tr>\n",
       "  </tbody>\n",
       "</table>\n",
       "<p>5 rows × 21 columns</p>\n",
       "</div>"
      ],
      "text/plain": [
       "                   customer_type language customer_category  \\\n",
       "customer_unique_id                                            \n",
       "936170095                      I      ENG               IND   \n",
       "973140095                      I      ENG               IND   \n",
       "973140095                      I      ENG               IND   \n",
       "973140095                      I      ENG               IND   \n",
       "973140095                      I      ENG               IND   \n",
       "\n",
       "                          date_of_birth minor sex marital_status  \\\n",
       "customer_unique_id                                                 \n",
       "936170095           1992-09-11 00:00:00     N   M              S   \n",
       "973140095           1991-11-07 00:00:00     N   M              S   \n",
       "973140095           1991-11-07 00:00:00     N   M              S   \n",
       "973140095           1991-11-07 00:00:00     N   M              S   \n",
       "973140095           1991-11-07 00:00:00     N   M              S   \n",
       "\n",
       "                             offerid  incr_allowed  applied_amount  ...  \\\n",
       "customer_unique_id                                                  ...   \n",
       "936170095           099PDLP19246A2KL          0.00         10000.0  ...   \n",
       "973140095           099AMPC182480099       8420.41          7000.0  ...   \n",
       "973140095           099AMPC182480099       8420.41          7000.0  ...   \n",
       "973140095           099AMPC182480099       8420.41          7000.0  ...   \n",
       "973140095           099AMPC182480099       8420.41          7000.0  ...   \n",
       "\n",
       "                   application_status module loan_classification acy_avl_bal  \\\n",
       "customer_unique_id                                                             \n",
       "936170095                           D   LATO          PERFORMING       14.13   \n",
       "973140095                           D   AMPC          PERFORMING     1149.54   \n",
       "973140095                           D   AMPC          PERFORMING     1149.54   \n",
       "973140095                           D   AMPC          PERFORMING     1149.54   \n",
       "973140095                           D   AMPC          PERFORMING     1149.54   \n",
       "\n",
       "                       val_dt       bal  product_code account_status  \\\n",
       "customer_unique_id                                                     \n",
       "936170095           8/14/2019  12224.45          AMPC              L   \n",
       "973140095           9/20/2019    450.00          AMPC              L   \n",
       "973140095           9/30/2019    150.00          AMPC              L   \n",
       "973140095           9/20/2019    450.00          AMPC              L   \n",
       "973140095           9/30/2019    150.00          AMPC              L   \n",
       "\n",
       "                   date_difference  amount_financed  \n",
       "customer_unique_id                                   \n",
       "936170095                     30.0          12800.0  \n",
       "973140095                     29.9           4568.5  \n",
       "973140095                     29.9           4568.5  \n",
       "973140095                     29.9           4568.5  \n",
       "973140095                     29.9           4568.5  \n",
       "\n",
       "[5 rows x 21 columns]"
      ]
     },
     "execution_count": 26,
     "metadata": {},
     "output_type": "execute_result"
    }
   ],
   "source": [
    "# Previewing the bottom of our dataset\n",
    " \n",
    "df.tail()"
   ]
  },
  {
   "cell_type": "code",
   "execution_count": 27,
   "metadata": {},
   "outputs": [
    {
     "data": {
      "text/plain": [
       "(18277, 21)"
      ]
     },
     "execution_count": 27,
     "metadata": {},
     "output_type": "execute_result"
    }
   ],
   "source": [
    "# Checking the shape of the dataframe\n",
    "\n",
    "df.shape"
   ]
  },
  {
   "cell_type": "code",
   "execution_count": 28,
   "metadata": {},
   "outputs": [
    {
     "data": {
      "text/plain": [
       "383817"
      ]
     },
     "execution_count": 28,
     "metadata": {},
     "output_type": "execute_result"
    }
   ],
   "source": [
    "# Checking for the size of the dataframe\n",
    "\n",
    "df.size"
   ]
  },
  {
   "cell_type": "markdown",
   "metadata": {},
   "source": [
    "## Tidying the dataset"
   ]
  },
  {
   "cell_type": "code",
   "execution_count": 29,
   "metadata": {},
   "outputs": [
    {
     "data": {
      "text/plain": [
       "Index(['customer_type', 'language', 'customer_category', 'date_of_birth',\n",
       "       'minor', 'sex', 'marital_status', 'offerid', 'incr_allowed',\n",
       "       'applied_amount', 'date_of_apply', 'application_status', 'module',\n",
       "       'loan_classification', 'acy_avl_bal', 'val_dt', 'bal', 'product_code',\n",
       "       'account_status', 'date_difference', 'amount_financed'],\n",
       "      dtype='object')"
      ]
     },
     "execution_count": 29,
     "metadata": {},
     "output_type": "execute_result"
    }
   ],
   "source": [
    "# Previewing the column names to confirm whether they have been renamed successfully\n",
    "\n",
    "df.columns"
   ]
  },
  {
   "cell_type": "code",
   "execution_count": 30,
   "metadata": {},
   "outputs": [
    {
     "data": {
      "text/plain": [
       "Index(['customer_type', 'language', 'customer_category', 'date_of_birth',\n",
       "       'minor', 'sex', 'marital_status', 'offerid', 'incr_allowed',\n",
       "       'applied_amount', 'date_of_apply', 'application_status', 'module',\n",
       "       'loan_classification', 'acy_avl_bal', 'val_dt', 'balance',\n",
       "       'product_code', 'account_status', 'date_difference', 'amount_financed'],\n",
       "      dtype='object')"
      ]
     },
     "execution_count": 30,
     "metadata": {},
     "output_type": "execute_result"
    }
   ],
   "source": [
    "\n",
    "df.rename(columns={'bal':'balance' }, inplace=True)\n",
    "df.columns"
   ]
  },
  {
   "cell_type": "code",
   "execution_count": 31,
   "metadata": {},
   "outputs": [
    {
     "data": {
      "text/plain": [
       "customer_type           object\n",
       "language                object\n",
       "customer_category       object\n",
       "date_of_birth           object\n",
       "minor                   object\n",
       "sex                     object\n",
       "marital_status          object\n",
       "offerid                 object\n",
       "incr_allowed           float64\n",
       "applied_amount         float64\n",
       "date_of_apply           object\n",
       "application_status      object\n",
       "module                  object\n",
       "loan_classification     object\n",
       "acy_avl_bal            float64\n",
       "val_dt                  object\n",
       "balance                float64\n",
       "product_code            object\n",
       "account_status          object\n",
       "date_difference        float64\n",
       "amount_financed        float64\n",
       "dtype: object"
      ]
     },
     "execution_count": 31,
     "metadata": {},
     "output_type": "execute_result"
    }
   ],
   "source": [
    "# Checking whether each column has an appropriate datatype\n",
    "\n",
    "df.dtypes"
   ]
  },
  {
   "cell_type": "code",
   "execution_count": 32,
   "metadata": {},
   "outputs": [],
   "source": [
    "# Changing the column datatypes to the appriopriate datatypes\n",
    "# All the columns other than float datatypes are categorical\n",
    "# A for loop is used to iterate through the columns and changing them to categorical dtypes\n",
    "\n",
    "for column in df[df.columns.difference([ 'date_difference', 'amount_financed', 'balance','acy_avl_bal',\n",
    "                                       'incr_allowed', 'applied_amount' ])].columns: \n",
    "# selecting all the columns excluding the numerical columns\n",
    "  df[column] = df[column].astype('category') # Changing dtype each column to categorical datatype"
   ]
  },
  {
   "cell_type": "code",
   "execution_count": 33,
   "metadata": {},
   "outputs": [
    {
     "data": {
      "text/plain": [
       "customer_type          category\n",
       "language               category\n",
       "customer_category      category\n",
       "date_of_birth          category\n",
       "minor                  category\n",
       "sex                    category\n",
       "marital_status         category\n",
       "offerid                category\n",
       "incr_allowed            float64\n",
       "applied_amount          float64\n",
       "date_of_apply          category\n",
       "application_status     category\n",
       "module                 category\n",
       "loan_classification    category\n",
       "acy_avl_bal             float64\n",
       "val_dt                 category\n",
       "balance                 float64\n",
       "product_code           category\n",
       "account_status         category\n",
       "date_difference         float64\n",
       "amount_financed         float64\n",
       "dtype: object"
      ]
     },
     "execution_count": 33,
     "metadata": {},
     "output_type": "execute_result"
    }
   ],
   "source": [
    "# Previewing the datatypes to confirm whether the datatypes have been converted appriopriately\n",
    "\n",
    "df.dtypes"
   ]
  },
  {
   "cell_type": "code",
   "execution_count": 34,
   "metadata": {},
   "outputs": [],
   "source": [
    "all_columns = list(df.columns)         # Creating a list of all columns\n",
    "## Removing the float columns from the list\n",
    "all_columns.remove('date_difference')  \n",
    "all_columns.remove('amount_financed')  \n",
    "all_columns.remove('balance')\n",
    "all_columns.remove('acy_avl_bal')\n",
    "all_columns.remove('incr_allowed')\n",
    "all_columns.remove('applied_amount')                   "
   ]
  },
  {
   "cell_type": "code",
   "execution_count": 35,
   "metadata": {},
   "outputs": [],
   "source": [
    "categorical_columns = all_columns      # Creating a list of only categorical columns\n",
    "\n",
    "numerical_columns = [ 'date_difference', 'amount_financed', 'balance','acy_avl_bal',\n",
    "                                       'incr_allowed', 'applied_amount']"
   ]
  },
  {
   "cell_type": "markdown",
   "metadata": {},
   "source": [
    "### Checking for consistency and uniformity"
   ]
  },
  {
   "cell_type": "code",
   "execution_count": 36,
   "metadata": {},
   "outputs": [
    {
     "name": "stdout",
     "output_type": "stream",
     "text": [
      "\n",
      "\n",
      "2\n",
      "[I, C]\n",
      "Categories (2, object): [I, C]\n",
      "\n",
      "\n",
      "2\n",
      "[ENG, CHS]\n",
      "Categories (2, object): [ENG, CHS]\n",
      "\n",
      "\n",
      "10\n",
      "[IND, HNI, RSA, CORP, SUPERMARKT, SAL, WALKIN, TIER2, TIER1, STUDENTS]\n",
      "Categories (10, object): [IND, HNI, RSA, CORP, ..., WALKIN, TIER2, TIER1, STUDENTS]\n",
      "\n",
      "\n",
      "5294\n",
      "[1966-08-15 00:00:00, 1950-01-01 00:00:00, 1970-04-10 00:00:00, 1967-04-26 00:00:00, 1970-12-26 00:00:00, ..., 1972-03-12 00:00:00, 1972-06-26 00:00:00, 1979-08-23 00:00:00, 1987-05-10 00:00:00, 1980-12-31 00:00:00]\n",
      "Length: 5294\n",
      "Categories (5294, object): [1966-08-15 00:00:00, 1950-01-01 00:00:00, 1970-04-10 00:00:00, 1967-04-26 00:00:00, ..., 1972-06-26 00:00:00, 1979-08-23 00:00:00, 1987-05-10 00:00:00, 1980-12-31 00:00:00]\n",
      "\n",
      "\n",
      "3\n",
      "[N, Y, M]\n",
      "Categories (3, object): [N, Y, M]\n",
      "\n",
      "\n",
      "4\n",
      "[M, F, P, ]\n",
      "Categories (4, object): [M, F, P, ]\n",
      "\n",
      "\n",
      "5\n",
      "[M, S, D, P, E]\n",
      "Categories (5, object): [M, S, D, P, E]\n",
      "\n",
      "\n",
      "9386\n",
      "[099AMPC182461574, 099AMPC182462479, 099AMPC182431772, 099PDLP19245B2N1, 099PDLP192487919, ..., 099AMPC182433978, 099PDLP19245A4F9, 099AMPC182434337, 099PDLP19246A2KL, 099AMPC182480099]\n",
      "Length: 9386\n",
      "Categories (9386, object): [099AMPC182461574, 099AMPC182462479, 099AMPC182431772, 099PDLP19245B2N1, ..., 099PDLP19245A4F9, 099AMPC182434337, 099PDLP19246A2KL, 099AMPC182480099]\n",
      "\n",
      "\n",
      "4657\n",
      "[-4.01185127e+06  4.77671300e+04  2.89482050e+05 ...  2.92897000e+03\n",
      "  1.62446000e+04  8.42041000e+03]\n",
      "\n",
      "\n",
      "689\n",
      "[1.0000000e+04 6.0000000e+03 2.5000000e+05 2.0000000e+04 6.0000000e+04\n",
      " 8.4500000e+05 4.7000000e+05 1.0000000e+03 6.0000000e+05 4.0000000e+04\n",
      " 2.0000000e+05 3.0000000e+04 1.2550000e+03 3.0000000e+03 2.4600000e+05\n",
      " 2.7000000e+04 4.0000000e+03 2.2000000e+04 1.5000000e+04 3.6222600e+05\n",
      " 5.3000000e+04 9.6000000e+05 3.5000000e+04 8.5000000e+03 4.2000000e+03\n",
      " 5.0000000e+04 8.0000000e+05 3.1275700e+05 5.0000000e+03 1.0000000e+05\n",
      " 2.6000000e+05 4.8925000e+05 8.0000000e+03 9.4000000e+04 3.0000000e+05\n",
      " 1.2000000e+06 5.5000000e+04 2.5000000e+04 4.5000000e+05 4.0000000e+05\n",
      " 9.0000000e+03 2.0009000e+04 7.0000000e+04 5.0000000e+05 2.2000000e+05\n",
      " 8.0000000e+04 7.7000000e+04 4.3450000e+05 8.2000000e+04 6.9000000e+04\n",
      " 5.5000000e+05 1.1000000e+05 1.1800000e+05 2.7500000e+05 2.0000000e+03\n",
      " 1.3000000e+03 1.7000000e+04 4.4000000e+05 1.8000000e+04 7.9000000e+04\n",
      " 1.2000000e+04 1.9000000e+03 1.1000000e+04 1.3621100e+05 1.1950000e+06\n",
      " 3.2000000e+05 9.0000000e+04 3.5000000e+05 1.2500000e+03 1.5000000e+03\n",
      " 3.9000000e+05 6.7000000e+05 1.1500000e+05 7.0000000e+03 1.5600000e+04\n",
      " 2.3500000e+03 7.8000000e+03 1.1500000e+06 8.2000000e+05 6.2000000e+04\n",
      " 9.0257900e+05 6.1000000e+04 1.5000000e+05 1.3000000e+05 4.9000000e+05\n",
      " 9.9000000e+04 2.7000000e+05 1.9000000e+04 2.8300000e+05 1.0000000e+06\n",
      " 2.6000000e+04 4.5000000e+04 9.4000000e+03 1.3000000e+04 4.7386000e+05\n",
      " 1.0300000e+05 5.5000000e+03 3.0526300e+05 2.8000000e+04 3.1000000e+05\n",
      " 2.4500000e+05 1.3900000e+05 7.1000000e+04 1.0525300e+05 6.6813000e+04\n",
      " 1.8400000e+05 7.5000000e+04 2.3800000e+05 3.3800000e+05 5.3684000e+04\n",
      " 4.4431600e+05 8.3000000e+05 2.9000000e+04 3.2430000e+03 1.1000000e+06\n",
      " 8.1225900e+05 2.1000000e+04 5.1000000e+04 5.2677900e+05 1.6000000e+04\n",
      " 3.3000000e+04 3.4000000e+05 3.1000000e+04 3.0759200e+05 1.2657345e+05\n",
      " 4.9984700e+05 1.8041700e+05 4.9474000e+04 1.4400000e+04 1.4000000e+04\n",
      " 3.2000000e+04 1.2000000e+05 1.8000000e+05 2.6800000e+05 2.3200000e+05\n",
      " 4.5100000e+05 8.6000000e+04 5.2000000e+04 4.5000000e+03 1.3200000e+05\n",
      " 1.8800000e+05 3.7895000e+04 3.5000000e+06 3.4925000e+04 9.1500000e+05\n",
      " 8.8000000e+04 7.6568000e+04 4.7789000e+04 5.3000000e+03 4.1000000e+04\n",
      " 6.0994000e+04 1.5000000e+06 4.8900000e+05 5.6596000e+04 1.1300000e+05\n",
      " 4.6880000e+05 3.0710000e+05 6.6000000e+03 3.9000000e+04 1.1742000e+05\n",
      " 1.4500000e+04 3.7000000e+04 3.8000000e+04 2.3000000e+04 3.7000000e+05\n",
      " 6.4000000e+04 7.7000000e+03 5.4000000e+04 5.2000000e+05 6.3150000e+05\n",
      " 8.5000000e+04 1.7800000e+05 9.0311000e+04 6.3310320e+05 9.2041900e+05\n",
      " 9.5000000e+04 5.6000000e+05 4.6421100e+05 4.7715400e+05 7.0800000e+05\n",
      " 3.6000000e+04 4.6400000e+05 2.3600000e+05 2.1000000e+05 4.2000000e+04\n",
      " 4.2000000e+05 2.6100000e+05 3.7437000e+04 3.4000000e+04 7.3000000e+04\n",
      " 6.5000000e+04 2.1300000e+05 2.3900000e+05 4.6000000e+05 5.7000000e+05\n",
      " 1.6600000e+05 9.6000000e+04 6.0391000e+04 3.7269200e+05 4.4000000e+04\n",
      " 1.0500000e+04 2.2220000e+03 3.4211000e+04 3.6000000e+05 2.4000000e+04\n",
      " 6.6000000e+04 4.2631600e+05 4.3000000e+04 4.7000000e+04 4.6842000e+04\n",
      " 2.2000000e+03 1.9000000e+05 2.3000000e+03 2.1000000e+03 3.0900000e+05\n",
      " 1.5910000e+03 5.8000000e+05 7.6000000e+04 3.8700000e+05 5.6000000e+04\n",
      " 1.4000000e+05 3.3600000e+05 5.7000000e+03 7.8000000e+04 3.3467500e+05\n",
      " 2.5000000e+03 2.7578500e+05 5.8000000e+04 3.9000000e+03 1.0759600e+05\n",
      " 1.3238400e+05 2.2105300e+05 7.1579000e+04 9.7000000e+04 5.9000000e+04\n",
      " 5.6384000e+04 2.1400000e+05 2.0500000e+05 6.7000000e+04 7.3895000e+04\n",
      " 4.5700000e+05 4.8000000e+03 3.0200000e+05 6.8000000e+04 7.8550600e+05\n",
      " 7.6895000e+04 2.6500000e+05 9.8000000e+04 4.5999000e+04 3.0111800e+05\n",
      " 3.9474000e+04 1.2321200e+05 4.8000000e+04 1.3700000e+05 3.7910000e+03\n",
      " 5.9000000e+05 2.9900000e+05 3.3684000e+04 1.4800000e+05 8.1000000e+04\n",
      " 3.2500000e+05 5.7769900e+03 2.6400000e+05 1.6500000e+05 2.9000000e+05\n",
      " 4.1500000e+05 5.3000000e+05 6.4300000e+05 2.7004000e+04 3.1053000e+04\n",
      " 1.0400000e+05 3.5000000e+03 4.8000000e+05 5.2632000e+04 7.4379000e+04\n",
      " 5.7000000e+04 2.4000000e+05 5.3300000e+05 2.0100000e+05 2.0140000e+05\n",
      " 8.6900000e+03 8.9000000e+04 3.0024100e+05 1.5700000e+04 3.8000000e+05\n",
      " 1.0200000e+05 3.8900000e+05 1.4400000e+05 6.4900000e+05 1.2400000e+05\n",
      " 4.9000000e+04 1.3000000e+06 9.0697000e+05 1.3500000e+05 1.4800000e+04\n",
      " 1.6000000e+05 4.6000000e+04 6.9450000e+04 1.8421000e+04 7.0000000e+05\n",
      " 3.5593100e+05 8.7000000e+04 6.6110000e+03 1.6990500e+05 4.6800000e+05\n",
      " 1.1500000e+04 1.4751100e+05 9.2000000e+04 3.7500000e+05 5.5400000e+05\n",
      " 3.7700000e+05 5.6379000e+04 4.2071100e+05 3.3000000e+05 4.8200000e+05\n",
      " 4.3000000e+03 2.8500000e+05 1.2700000e+05 4.4737000e+04 1.2300000e+05\n",
      " 1.0800000e+05 1.5421100e+05 3.9900000e+05 1.0357260e+06 1.3877900e+05\n",
      " 2.5687500e+05 7.8900000e+05 2.1700000e+05 4.9895000e+04 7.8000000e+05\n",
      " 4.3421100e+05 2.3000000e+05 1.2800000e+04 9.5500000e+03 2.8400000e+05\n",
      " 6.3000000e+04 1.9900000e+04 7.4000000e+04 2.3500000e+05 7.5200000e+05\n",
      " 5.4982000e+04 5.2909100e+05 1.9400000e+05 7.5187000e+04 8.4549000e+04\n",
      " 2.2800000e+05 1.8121100e+05 4.8949100e+05 4.7943600e+05 1.0500000e+05\n",
      " 1.0700000e+05 1.4820000e+04 6.6916000e+04 7.3000000e+05 9.6421000e+04\n",
      " 8.1000000e+05 2.6775500e+05 3.1305800e+05 5.6440000e+03 2.7800000e+05\n",
      " 2.2400000e+05 3.0300000e+05 7.2000000e+04 4.8800000e+05 2.8700000e+05\n",
      " 2.5800000e+04 1.0009000e+04 4.0900000e+05 1.5900000e+05 3.1298000e+04\n",
      " 1.3400000e+05 9.1000000e+04 8.4813000e+04 5.1810000e+03 5.0416000e+04\n",
      " 1.6554460e+06 1.7000000e+05 3.2000000e+03 4.9361900e+05 2.4800000e+05\n",
      " 1.8342520e+06 1.7079400e+05 1.5800000e+05 1.9200000e+05 8.7300000e+05\n",
      " 1.2483200e+05 1.7800000e+04 1.5009000e+04 1.2000000e+03 5.5930000e+03\n",
      " 4.8838000e+04 6.5918500e+05 7.5000000e+05 2.1500000e+05 9.0000000e+05\n",
      " 3.0500000e+05 3.2297900e+05 3.8100000e+05 1.9830000e+03 1.9500000e+05\n",
      " 2.8500000e+04 3.5400000e+05 6.3530000e+05 1.5474000e+04 7.1000000e+05\n",
      " 1.3745700e+05 8.4000000e+04 9.7850000e+04 8.0270000e+03 1.9930000e+03\n",
      " 5.9250000e+03 7.2000000e+03 4.2300000e+05 2.2000000e+06 9.2000000e+03\n",
      " 6.7000000e+03 2.8154400e+05 1.0900000e+05 2.9080000e+03 5.3701000e+05\n",
      " 2.0000000e+06 3.0000000e+06 9.9000000e+05 1.4300000e+05 2.3956000e+04\n",
      " 2.9120000e+03 2.8387300e+05 4.1226700e+05 2.9999000e+04 3.3500000e+05\n",
      " 1.2900000e+04 5.7579000e+04 2.6700000e+05 5.6300000e+05 6.6000000e+05\n",
      " 3.2400000e+04 2.2300000e+05 1.2421100e+05 1.1600000e+05 7.7000000e+05\n",
      " 8.9000000e+03 1.1000000e+03 1.0400000e+03 1.2340000e+03 1.2120000e+03\n",
      " 6.2400000e+05 6.6550000e+03 2.9115500e+05 1.4000000e+06 2.8324100e+05\n",
      " 8.3000000e+04 1.1700000e+05 3.1984000e+04 4.1200000e+04 2.5300000e+05\n",
      " 3.0400000e+05 7.3789000e+04 5.1200000e+03 4.0211000e+04 1.1270000e+06\n",
      " 6.5000000e+03 2.4300000e+05 1.7300000e+05 3.1042300e+05 4.4277000e+04\n",
      " 6.4737000e+04 4.0200000e+05 1.7600000e+05 3.1100000e+05 9.0526000e+04\n",
      " 6.7890000e+03 1.8990000e+03 7.9925000e+04 2.7000000e+03 1.1000100e+05\n",
      " 2.9500000e+05 6.5000000e+05 1.1638000e+04 5.4000000e+05 1.2088000e+04\n",
      " 5.5800000e+05 6.0009000e+04 2.9310000e+03 2.8030000e+03 3.8600000e+05\n",
      " 4.7900000e+05 2.0549000e+04 1.8500000e+05 3.3200000e+05 1.6200000e+05\n",
      " 2.5800000e+05 1.6000000e+06 1.5480000e+05 3.9600000e+05 3.6500000e+05\n",
      " 1.7400000e+04 3.3332000e+05 4.6000000e+03 1.4100000e+04 1.5500000e+04\n",
      " 9.3068000e+04 5.2200000e+03 9.0500000e+04 2.5400000e+05 1.8600000e+05\n",
      " 3.4421100e+05 9.9900000e+04 2.3932000e+04 4.6316000e+04 1.5400000e+05\n",
      " 1.4000000e+03 4.6100000e+05 3.6900000e+05 2.0500000e+04 4.0880000e+03\n",
      " 3.5600000e+05 4.5500000e+04 1.8219500e+05 1.0257900e+05 1.0060000e+06\n",
      " 1.6900000e+05 1.2100000e+05 4.1100000e+05 1.2400000e+04 6.1500000e+04\n",
      " 3.1500000e+05 8.3000000e+03 6.9000000e+05 1.0400000e+06 6.5789000e+04\n",
      " 6.3000000e+05 3.2850000e+05 4.2500000e+05 3.0508400e+05 4.7955800e+05\n",
      " 7.5000000e+03 4.9500000e+05 6.2900000e+05 2.9800000e+05 2.1900000e+05\n",
      " 4.1000000e+03 5.7320000e+05 6.8000000e+03 8.8000000e+03 1.0200000e+04\n",
      " 1.8550000e+05 7.0184000e+04 2.0850000e+03 6.1601000e+04 3.6600000e+05\n",
      " 6.0500000e+05 2.7368400e+05 1.3500000e+06 3.4500000e+05 2.6300000e+05\n",
      " 2.9000000e+03 4.3400000e+05 6.3200000e+05 9.2480000e+03 9.2400000e+03\n",
      " 5.9000000e+03 1.7150000e+04 5.0185000e+04 2.0200000e+05 2.8000000e+05\n",
      " 3.3400000e+05 1.6000000e+03 2.4000000e+03 1.9500000e+04 3.9300000e+05\n",
      " 1.0600000e+06 4.6300000e+05 2.9660900e+05 6.0310000e+03 4.2306000e+04\n",
      " 4.3867600e+05 5.7460000e+04 9.7500000e+04 6.4200000e+05 1.4917100e+05\n",
      " 4.0421100e+05 1.5290600e+05 4.5789000e+04 4.8400000e+05 1.0920000e+05\n",
      " 2.1053000e+04 1.9200000e+04 1.9300000e+05 4.4808000e+05 1.3700000e+06\n",
      " 4.0800000e+05 7.9000000e+03 1.9350000e+05 6.9786000e+05 2.7893000e+04\n",
      " 1.0408400e+05 1.0828000e+04 9.6000000e+03 2.5500000e+05 2.5250000e+03\n",
      " 5.2000000e+03 1.5092100e+05 2.1525000e+04 3.1200000e+05 4.6900000e+05\n",
      " 4.3000000e+05 3.3320000e+05 5.2550000e+03 2.7657600e+05 1.1800000e+04\n",
      " 2.4500000e+04 5.6000000e+03 3.2914500e+05 4.6946000e+04 6.6950000e+03\n",
      " 8.9794000e+04 8.8905000e+04 2.7756900e+05 5.9500000e+05 4.9400000e+05\n",
      " 6.5080000e+03 3.3100000e+05 8.5200000e+03 5.1000000e+03 1.8421100e+05\n",
      " 6.7500000e+04 1.9600000e+05 2.7600000e+05 6.4000000e+05 3.1052600e+05\n",
      " 1.9242100e+05 7.3200000e+04 3.5700000e+05 2.9355000e+04 4.4980000e+05\n",
      " 6.2099000e+04 5.5500000e+03 2.0510000e+05 5.2600000e+03 1.8100000e+05\n",
      " 8.4700000e+05 4.6896100e+05 2.6798000e+05 1.2175300e+05 1.8000000e+03\n",
      " 8.1000000e+03 4.5889700e+05 1.0056800e+05 2.2600000e+05 5.3500000e+04\n",
      " 2.7000000e+06 1.5400000e+06 2.5500000e+04 2.7700000e+05 2.8900000e+05\n",
      " 3.0034500e+05 3.2300000e+05 7.4065000e+04 8.2000000e+03 4.7300000e+05\n",
      " 2.5768400e+05 4.8500000e+05 6.8650000e+03 5.8873000e+04 3.0748200e+05\n",
      " 2.6322900e+05 4.5082400e+05 3.4566100e+05 3.9700000e+05 3.0368400e+05\n",
      " 7.0526000e+04 2.5200000e+05 3.6276200e+05 3.4400000e+05 3.1000000e+03\n",
      " 8.4745700e+05 2.9217000e+05 5.9700000e+05 4.9950000e+05 3.1880000e+05\n",
      " 3.1681600e+05 7.8500000e+05 4.2559300e+05 1.7700000e+05 1.9460000e+04\n",
      " 4.0474400e+05 7.2400000e+05 1.0275300e+06 1.9000000e+06]\n",
      "\n",
      "\n",
      "9829\n",
      "[9/2/2018 10:33:07 PM, 9/3/2018 5:13:38 PM, 9/1/2018 12:03:45 AM, 9/2/2019 2:25:54 PM, 9/5/2019 3:46:27 PM, ..., 9/1/2019 7:52:50 PM, 9/1/2018 5:03:32 PM, 9/3/2019 8:08:55 PM, 9/5/2018 7:37:17 AM, 9/5/2018 7:37:16 AM]\n",
      "Length: 9829\n",
      "Categories (9829, object): [9/2/2018 10:33:07 PM, 9/3/2018 5:13:38 PM, 9/1/2018 12:03:45 AM, 9/2/2019 2:25:54 PM, ..., 9/1/2018 5:03:32 PM, 9/3/2019 8:08:55 PM, 9/5/2018 7:37:17 AM, 9/5/2018 7:37:16 AM]\n",
      "\n",
      "\n",
      "1\n",
      "[D]\n",
      "Categories (1, object): [D]\n",
      "\n",
      "\n",
      "4\n",
      "[AMPC, LATO, STP, DFPS]\n",
      "Categories (4, object): [AMPC, LATO, STP, DFPS]\n",
      "\n",
      "\n",
      "2\n",
      "[PERFORMING, NON-PERFORMING]\n",
      "Categories (2, object): [PERFORMING, NON-PERFORMING]\n",
      "\n",
      "\n",
      "7200\n",
      "[2.92074898e+08 3.73000000e+00 1.58569995e+06 ... 2.11846000e+03\n",
      " 1.41300000e+01 1.14954000e+03]\n",
      "\n",
      "\n",
      "180\n",
      "[9/17/2019, 9/4/2019, 11/11/2019, 9/16/2019, 9/3/2019, ..., 10/13/2019, 10/16/2019, 6/10/2019, 11/9/2019, 7/28/2019]\n",
      "Length: 180\n",
      "Categories (180, object): [9/17/2019, 9/4/2019, 11/11/2019, 9/16/2019, ..., 10/16/2019, 6/10/2019, 11/9/2019, 7/28/2019]\n",
      "\n",
      "\n",
      "12648\n",
      "[ 1.8627706e+05 -3.3088359e+05 -8.3644000e+02 ...  1.8771000e+02\n",
      "  1.2224450e+04  4.5000000e+02]\n",
      "\n",
      "\n",
      "11\n",
      "[STLM, AMPC, PDLP, STPL, SADV, ..., KPLA, PDSS, MPTL, STLP, MPTA]\n",
      "Length: 11\n",
      "Categories (11, object): [STLM, AMPC, PDLP, STPL, ..., PDSS, MPTL, STLP, MPTA]\n",
      "\n",
      "\n",
      "2\n",
      "[L, A]\n",
      "Categories (2, object): [L, A]\n",
      "\n",
      "\n",
      "1240\n",
      "[1979.           30.           51.42857143 ...  206.          114.66666667\n",
      "   69.42857143]\n",
      "\n",
      "\n",
      "4818\n",
      "[3.03913613e+08 3.57037037e+04 1.30000000e+05 ... 1.28669333e+04\n",
      " 8.32775000e+03 4.56850000e+03]\n"
     ]
    }
   ],
   "source": [
    "# Checking for consistency and uniformity\n",
    "# A for loop is used to print out the unique values for each column\n",
    "\n",
    "for column in df.columns:        # Iterating through each column in the dataframe\n",
    "  print('\\n')                    # Creating a new line for better readability\n",
    "  print(df[column].nunique())    # Printing the number of unique values in each column\n",
    "  print(df[column].unique())     # Printing only unique values in each column"
   ]
  },
  {
   "cell_type": "code",
   "execution_count": 37,
   "metadata": {},
   "outputs": [],
   "source": [
    "df = df.drop(['offerid', 'date_of_apply', 'val_dt','date_of_birth' ], axis = 1)"
   ]
  },
  {
   "cell_type": "markdown",
   "metadata": {},
   "source": [
    "### Checking for outliers"
   ]
  },
  {
   "cell_type": "code",
   "execution_count": 38,
   "metadata": {},
   "outputs": [
    {
     "data": {
      "text/plain": [
       "False    15875\n",
       "True      2402\n",
       "Name: applied_amount, dtype: int64"
      ]
     },
     "execution_count": 38,
     "metadata": {},
     "output_type": "execute_result"
    }
   ],
   "source": [
    "# Checking for outliers using the inter quantile range\n",
    "# Checking for outliers in the applied amount column\n",
    "\n",
    "Q1 = df.applied_amount.quantile(0.25)\n",
    "Q3 = df.applied_amount.quantile(0.75)\n",
    "\n",
    "IQR = Q3 - Q1\n",
    "\n",
    "amount_outliers = ((df.applied_amount < Q1 - 1.5 * IQR) | (df.applied_amount > Q3 + 1.5 * IQR))\n",
    "amount_outliers.value_counts()"
   ]
  },
  {
   "cell_type": "markdown",
   "metadata": {},
   "source": [
    "#### There are 2402 outliers in the applied amount column"
   ]
  },
  {
   "cell_type": "code",
   "execution_count": 39,
   "metadata": {},
   "outputs": [
    {
     "data": {
      "text/plain": [
       "False    15386\n",
       "True      2891\n",
       "Name: balance, dtype: int64"
      ]
     },
     "execution_count": 39,
     "metadata": {},
     "output_type": "execute_result"
    }
   ],
   "source": [
    "# Checking for outliers using the inter quantile range\n",
    "# Checking for outliers in the balance column\n",
    "\n",
    "Q1 = df.balance.quantile(0.25)\n",
    "Q3 = df.balance.quantile(0.75)\n",
    "\n",
    "IQR = Q3 - Q1\n",
    "\n",
    "bal_outliers = ((df.balance < Q1 - 1.5 * IQR) | (df.balance > Q3 + 1.5 * IQR))\n",
    "bal_outliers.value_counts()"
   ]
  },
  {
   "cell_type": "markdown",
   "metadata": {},
   "source": [
    "#### There are 2891 outliers in the balance column"
   ]
  },
  {
   "cell_type": "code",
   "execution_count": 40,
   "metadata": {},
   "outputs": [
    {
     "data": {
      "text/plain": [
       "False    13944\n",
       "True      4333\n",
       "Name: acy_avl_bal, dtype: int64"
      ]
     },
     "execution_count": 40,
     "metadata": {},
     "output_type": "execute_result"
    }
   ],
   "source": [
    "# Checking for outliers using the inter quantile range\n",
    "# Checking for outliers in the acy_avl_bal column\n",
    "\n",
    "Q1 = df.acy_avl_bal.quantile(0.25)\n",
    "Q3 = df.acy_avl_bal.quantile(0.75)\n",
    "\n",
    "IQR = Q3 - Q1\n",
    "\n",
    "acy_outliers = ((df.acy_avl_bal < Q1 - 1.5 * IQR) | (df.acy_avl_bal > Q3 + 1.5 * IQR))\n",
    "acy_outliers.value_counts()"
   ]
  },
  {
   "cell_type": "markdown",
   "metadata": {},
   "source": [
    "#### There are 4333 outliers in the acy_avl_bal column"
   ]
  },
  {
   "cell_type": "code",
   "execution_count": 41,
   "metadata": {},
   "outputs": [
    {
     "data": {
      "text/plain": [
       "False    16520\n",
       "True      1757\n",
       "Name: amount_financed, dtype: int64"
      ]
     },
     "execution_count": 41,
     "metadata": {},
     "output_type": "execute_result"
    }
   ],
   "source": [
    "# Checking for outliers using the inter quantile range\n",
    "# Checking for outliers in the amount_financed column\n",
    "\n",
    "Q1 = df.amount_financed.quantile(0.25)\n",
    "Q3 = df.amount_financed.quantile(0.75)\n",
    "\n",
    "IQR = Q3 - Q1\n",
    "\n",
    "amount_financed_outliers = ((df.amount_financed < Q1 - 1.5 * IQR) | (df.amount_financed > Q3 + 1.5 * IQR))\n",
    "amount_financed_outliers.value_counts()"
   ]
  },
  {
   "cell_type": "markdown",
   "metadata": {},
   "source": [
    "#### There are 1757 outliers in the amount_financed column"
   ]
  },
  {
   "cell_type": "code",
   "execution_count": 42,
   "metadata": {},
   "outputs": [
    {
     "data": {
      "text/plain": [
       "False    14823\n",
       "True      3454\n",
       "Name: incr_allowed, dtype: int64"
      ]
     },
     "execution_count": 42,
     "metadata": {},
     "output_type": "execute_result"
    }
   ],
   "source": [
    "# Checking for outliers using the inter quantile range\n",
    "# Checking for outliers in the incr_allowed column\n",
    "\n",
    "Q1 = df.incr_allowed.quantile(0.25)\n",
    "Q3 = df.incr_allowed.quantile(0.75)\n",
    "\n",
    "IQR = Q3 - Q1\n",
    "\n",
    "incr_allowed_outliers = ((df.incr_allowed < Q1 - 1.5 * IQR) | (df.incr_allowed > Q3 + 1.5 * IQR))\n",
    "incr_allowed_outliers.value_counts()"
   ]
  },
  {
   "cell_type": "code",
   "execution_count": 43,
   "metadata": {},
   "outputs": [],
   "source": [
    "### There are 3454 outliers in the incr_allowed column"
   ]
  },
  {
   "cell_type": "markdown",
   "metadata": {},
   "source": [
    "### Dealing with duplicated data"
   ]
  },
  {
   "cell_type": "code",
   "execution_count": 44,
   "metadata": {},
   "outputs": [
    {
     "data": {
      "text/html": [
       "<div>\n",
       "<style scoped>\n",
       "    .dataframe tbody tr th:only-of-type {\n",
       "        vertical-align: middle;\n",
       "    }\n",
       "\n",
       "    .dataframe tbody tr th {\n",
       "        vertical-align: top;\n",
       "    }\n",
       "\n",
       "    .dataframe thead th {\n",
       "        text-align: right;\n",
       "    }\n",
       "</style>\n",
       "<table border=\"1\" class=\"dataframe\">\n",
       "  <thead>\n",
       "    <tr style=\"text-align: right;\">\n",
       "      <th></th>\n",
       "      <th>customer_type</th>\n",
       "      <th>language</th>\n",
       "      <th>customer_category</th>\n",
       "      <th>minor</th>\n",
       "      <th>sex</th>\n",
       "      <th>marital_status</th>\n",
       "      <th>incr_allowed</th>\n",
       "      <th>applied_amount</th>\n",
       "      <th>application_status</th>\n",
       "      <th>module</th>\n",
       "      <th>loan_classification</th>\n",
       "      <th>acy_avl_bal</th>\n",
       "      <th>balance</th>\n",
       "      <th>product_code</th>\n",
       "      <th>account_status</th>\n",
       "      <th>date_difference</th>\n",
       "      <th>amount_financed</th>\n",
       "    </tr>\n",
       "    <tr>\n",
       "      <th>customer_unique_id</th>\n",
       "      <th></th>\n",
       "      <th></th>\n",
       "      <th></th>\n",
       "      <th></th>\n",
       "      <th></th>\n",
       "      <th></th>\n",
       "      <th></th>\n",
       "      <th></th>\n",
       "      <th></th>\n",
       "      <th></th>\n",
       "      <th></th>\n",
       "      <th></th>\n",
       "      <th></th>\n",
       "      <th></th>\n",
       "      <th></th>\n",
       "      <th></th>\n",
       "      <th></th>\n",
       "    </tr>\n",
       "  </thead>\n",
       "  <tbody>\n",
       "    <tr>\n",
       "      <th>69090004</th>\n",
       "      <td>I</td>\n",
       "      <td>ENG</td>\n",
       "      <td>IND</td>\n",
       "      <td>N</td>\n",
       "      <td>F</td>\n",
       "      <td>M</td>\n",
       "      <td>289482.05</td>\n",
       "      <td>250000.0</td>\n",
       "      <td>D</td>\n",
       "      <td>AMPC</td>\n",
       "      <td>PERFORMING</td>\n",
       "      <td>1585699.945</td>\n",
       "      <td>245.16</td>\n",
       "      <td>AMPC</td>\n",
       "      <td>L</td>\n",
       "      <td>30.000000</td>\n",
       "      <td>1.300000e+05</td>\n",
       "    </tr>\n",
       "    <tr>\n",
       "      <th>81010006</th>\n",
       "      <td>I</td>\n",
       "      <td>ENG</td>\n",
       "      <td>IND</td>\n",
       "      <td>N</td>\n",
       "      <td>M</td>\n",
       "      <td>M</td>\n",
       "      <td>0.00</td>\n",
       "      <td>20000.0</td>\n",
       "      <td>D</td>\n",
       "      <td>LATO</td>\n",
       "      <td>PERFORMING</td>\n",
       "      <td>39486.855</td>\n",
       "      <td>31.69</td>\n",
       "      <td>PDLP</td>\n",
       "      <td>L</td>\n",
       "      <td>30.000000</td>\n",
       "      <td>3.133333e+04</td>\n",
       "    </tr>\n",
       "    <tr>\n",
       "      <th>66370000</th>\n",
       "      <td>I</td>\n",
       "      <td>ENG</td>\n",
       "      <td>HNI</td>\n",
       "      <td>N</td>\n",
       "      <td>M</td>\n",
       "      <td>S</td>\n",
       "      <td>584719.35</td>\n",
       "      <td>470000.0</td>\n",
       "      <td>D</td>\n",
       "      <td>STP</td>\n",
       "      <td>PERFORMING</td>\n",
       "      <td>2440.010</td>\n",
       "      <td>39.42</td>\n",
       "      <td>PDLP</td>\n",
       "      <td>L</td>\n",
       "      <td>55.263158</td>\n",
       "      <td>1.380070e+05</td>\n",
       "    </tr>\n",
       "    <tr>\n",
       "      <th>66370000</th>\n",
       "      <td>I</td>\n",
       "      <td>ENG</td>\n",
       "      <td>HNI</td>\n",
       "      <td>N</td>\n",
       "      <td>M</td>\n",
       "      <td>S</td>\n",
       "      <td>100278.35</td>\n",
       "      <td>1000.0</td>\n",
       "      <td>D</td>\n",
       "      <td>STP</td>\n",
       "      <td>PERFORMING</td>\n",
       "      <td>2440.010</td>\n",
       "      <td>39.42</td>\n",
       "      <td>PDLP</td>\n",
       "      <td>L</td>\n",
       "      <td>55.263158</td>\n",
       "      <td>1.380070e+05</td>\n",
       "    </tr>\n",
       "    <tr>\n",
       "      <th>19400009</th>\n",
       "      <td>I</td>\n",
       "      <td>ENG</td>\n",
       "      <td>RSA</td>\n",
       "      <td>N</td>\n",
       "      <td>M</td>\n",
       "      <td>M</td>\n",
       "      <td>-1239955.71</td>\n",
       "      <td>200000.0</td>\n",
       "      <td>D</td>\n",
       "      <td>AMPC</td>\n",
       "      <td>PERFORMING</td>\n",
       "      <td>-76031.953</td>\n",
       "      <td>5.00</td>\n",
       "      <td>AMPC</td>\n",
       "      <td>L</td>\n",
       "      <td>274.388889</td>\n",
       "      <td>9.193648e+06</td>\n",
       "    </tr>\n",
       "  </tbody>\n",
       "</table>\n",
       "</div>"
      ],
      "text/plain": [
       "                   customer_type language customer_category minor sex  \\\n",
       "customer_unique_id                                                      \n",
       "69090004                       I      ENG               IND     N   F   \n",
       "81010006                       I      ENG               IND     N   M   \n",
       "66370000                       I      ENG               HNI     N   M   \n",
       "66370000                       I      ENG               HNI     N   M   \n",
       "19400009                       I      ENG               RSA     N   M   \n",
       "\n",
       "                   marital_status  incr_allowed  applied_amount  \\\n",
       "customer_unique_id                                                \n",
       "69090004                        M     289482.05        250000.0   \n",
       "81010006                        M          0.00         20000.0   \n",
       "66370000                        S     584719.35        470000.0   \n",
       "66370000                        S     100278.35          1000.0   \n",
       "19400009                        M   -1239955.71        200000.0   \n",
       "\n",
       "                   application_status module loan_classification  acy_avl_bal  \\\n",
       "customer_unique_id                                                              \n",
       "69090004                            D   AMPC          PERFORMING  1585699.945   \n",
       "81010006                            D   LATO          PERFORMING    39486.855   \n",
       "66370000                            D    STP          PERFORMING     2440.010   \n",
       "66370000                            D    STP          PERFORMING     2440.010   \n",
       "19400009                            D   AMPC          PERFORMING   -76031.953   \n",
       "\n",
       "                    balance product_code account_status  date_difference  \\\n",
       "customer_unique_id                                                         \n",
       "69090004             245.16         AMPC              L        30.000000   \n",
       "81010006              31.69         PDLP              L        30.000000   \n",
       "66370000              39.42         PDLP              L        55.263158   \n",
       "66370000              39.42         PDLP              L        55.263158   \n",
       "19400009               5.00         AMPC              L       274.388889   \n",
       "\n",
       "                    amount_financed  \n",
       "customer_unique_id                   \n",
       "69090004               1.300000e+05  \n",
       "81010006               3.133333e+04  \n",
       "66370000               1.380070e+05  \n",
       "66370000               1.380070e+05  \n",
       "19400009               9.193648e+06  "
      ]
     },
     "execution_count": 44,
     "metadata": {},
     "output_type": "execute_result"
    }
   ],
   "source": [
    "# Checking for and displaying duplicated rows\n",
    "\n",
    "df[df.duplicated()].head()"
   ]
  },
  {
   "cell_type": "code",
   "execution_count": 45,
   "metadata": {},
   "outputs": [
    {
     "data": {
      "text/plain": [
       "2032"
      ]
     },
     "execution_count": 45,
     "metadata": {},
     "output_type": "execute_result"
    }
   ],
   "source": [
    "# Checking for the number of duplicated rows\n",
    "\n",
    "len(df[df.duplicated()])"
   ]
  },
  {
   "cell_type": "code",
   "execution_count": 46,
   "metadata": {},
   "outputs": [],
   "source": [
    "# 2032 rows have been duplicated"
   ]
  },
  {
   "cell_type": "code",
   "execution_count": 47,
   "metadata": {},
   "outputs": [],
   "source": [
    "# Dropping Duplicates\n",
    "\n",
    "df.drop_duplicates(inplace = True)"
   ]
  },
  {
   "cell_type": "markdown",
   "metadata": {},
   "source": [
    "### EXPLORATORY DATA ANALYSIS"
   ]
  },
  {
   "cell_type": "markdown",
   "metadata": {},
   "source": [
    "#### MEAN"
   ]
  },
  {
   "cell_type": "code",
   "execution_count": 48,
   "metadata": {},
   "outputs": [
    {
     "name": "stdout",
     "output_type": "stream",
     "text": [
      "\n",
      "\n",
      "date_difference: 30.0\n",
      "\n",
      "\n",
      "amount_financed: 23000.0\n",
      "\n",
      "\n",
      "balance: 5472.25\n",
      "\n",
      "\n",
      "acy_avl_bal: 1419.815\n",
      "\n",
      "\n",
      "incr_allowed: 1305.68\n",
      "\n",
      "\n",
      "applied_amount: 20000.0\n"
     ]
    }
   ],
   "source": [
    "# Finding the mean of each numerical column\n",
    "\n",
    "\n",
    "for column in numerical_columns:\n",
    "  print('\\n')\n",
    "  print(column + ': ' + str(df[column].median()))"
   ]
  },
  {
   "cell_type": "markdown",
   "metadata": {},
   "source": [
    "#### MEDIAN"
   ]
  },
  {
   "cell_type": "code",
   "execution_count": 49,
   "metadata": {},
   "outputs": [
    {
     "name": "stdout",
     "output_type": "stream",
     "text": [
      "\n",
      "\n",
      "date_difference: 44.6057994886506\n",
      "\n",
      "\n",
      "amount_financed: 129076.2142781169\n",
      "\n",
      "\n",
      "balance: 76628.3649208982\n",
      "\n",
      "\n",
      "acy_avl_bal: 155365.48063779384\n",
      "\n",
      "\n",
      "incr_allowed: 11901.132095413874\n",
      "\n",
      "\n",
      "applied_amount: 80277.25227146815\n"
     ]
    }
   ],
   "source": [
    "# Finding the median of each numerical column\n",
    "\n",
    "\n",
    "for column in numerical_columns:\n",
    "  print('\\n')\n",
    "  print(column + ': ' + str(df[column].mean()))"
   ]
  },
  {
   "cell_type": "markdown",
   "metadata": {},
   "source": [
    "### Standard deviation, Variance, Skewness and Kurtosis"
   ]
  },
  {
   "cell_type": "code",
   "execution_count": 50,
   "metadata": {},
   "outputs": [
    {
     "name": "stdout",
     "output_type": "stream",
     "text": [
      "\n",
      "\n",
      "date_difference, std: 51.5736930043991\n",
      "date_difference, var: 2659.8458101120045\n",
      "date_difference, skew: 15.338675305930511\n",
      "date_difference, kurtosis: 446.17928777263563\n",
      "\n",
      "\n",
      "amount_financed, std: 4141160.0621046224\n",
      "amount_financed, var: 17149206659970.361\n",
      "amount_financed, skew: 72.92367107343607\n",
      "amount_financed, kurtosis: 5347.134908997755\n",
      "\n",
      "\n",
      "balance, std: 552056.076716518\n",
      "balance, var: 304765911839.6341\n",
      "balance, skew: 25.4485257913004\n",
      "balance, kurtosis: 900.8253064007827\n",
      "\n",
      "\n",
      "acy_avl_bal, std: 4060334.993012762\n",
      "acy_avl_bal, var: 16486320255483.947\n",
      "acy_avl_bal, skew: 68.78478116485893\n",
      "acy_avl_bal, kurtosis: 4933.77382906247\n",
      "\n",
      "\n",
      "incr_allowed, std: 329932.4568510471\n",
      "incr_allowed, var: 108855426083.76807\n",
      "incr_allowed, skew: -107.07930250469839\n",
      "incr_allowed, kurtosis: 12816.545280194818\n",
      "\n",
      "\n",
      "applied_amount, std: 175982.55935964742\n",
      "applied_amount, var: 30969861198.771828\n",
      "applied_amount, skew: 6.296712026214486\n",
      "applied_amount, kurtosis: 72.1569292723657\n"
     ]
    }
   ],
   "source": [
    "# Finding the standard deviation, variance, skewness and kurtosis of each numerical column\n",
    "\n",
    "for column in numerical_columns:\n",
    "  print('\\n')\n",
    "  print(column + ', std: '+ str(df[column].std()))\n",
    "  print(column + ', var: '+ str(df[column].var()))\n",
    "  print(column + ', skew: '+ str(df[column].skew()))\n",
    "  print(column + ', kurtosis: '+ str(df[column].kurt()))"
   ]
  },
  {
   "cell_type": "code",
   "execution_count": 51,
   "metadata": {},
   "outputs": [],
   "source": [
    "# A list of categirical and numerical columns have been created for convenience\n",
    "\n",
    "\n",
    "all_columns = list(df.columns)         # Creating a list of all columns\n",
    "## Removing the float columns from the list\n",
    "all_columns.remove('date_difference')  \n",
    "all_columns.remove('amount_financed')  \n",
    "all_columns.remove('balance')\n",
    "all_columns.remove('acy_avl_bal')\n",
    "all_columns.remove('incr_allowed')\n",
    "all_columns.remove('applied_amount')                   \n",
    "\n",
    "categorical_columns = all_columns      # Creating a list of only categorical columns"
   ]
  },
  {
   "cell_type": "code",
   "execution_count": 52,
   "metadata": {},
   "outputs": [
    {
     "data": {
      "image/png": "[encoded data removed]",
      "text/plain": [
       "<Figure size 864x792 with 6 Axes>"
      ]
     },
     "metadata": {},
     "output_type": "display_data"
    }
   ],
   "source": [
    "sns.set_style('darkgrid')\n",
    "fig, axes = plt.subplots(nrows=6, ncols = 1, figsize = (12, 11))\n",
    "fig.suptitle('Distributions of Numerical Features', y= 1.01, color = 'magenta', fontsize = 15)\n",
    "\n",
    "for ax, data, name in zip(axes.flatten(), df, numerical_columns):\n",
    "  sns.distplot(df[name], ax = ax, kde = False, color = 'maroon')\n",
    "plt.tight_layout()"
   ]
  },
  {
   "cell_type": "markdown",
   "metadata": {},
   "source": [
    "### BAR CHARTS"
   ]
  },
  {
   "cell_type": "code",
   "execution_count": 53,
   "metadata": {},
   "outputs": [
    {
     "data": {
      "image/png": "[encoded data removed]",
      "text/plain": [
       "<Figure size 864x720 with 12 Axes>"
      ]
     },
     "metadata": {},
     "output_type": "display_data"
    }
   ],
   "source": [
    "# Bar charts of categorical columns\n",
    "\n",
    "sns.set_style('darkgrid')                                             # Setting the grid style of plots to dark\n",
    "fig, axes = plt.subplots(nrows = 6, ncols = 2, figsize = (12, 10))     # Creating four subplots, in two rows and two columns\n",
    "fig.subplots_adjust(hspace=0.5)\n",
    "fig.suptitle('Bar Charts for Categorical Features', y = 1.05, color = 'magenta', fontsize = 15)\n",
    "\n",
    "for ax, data, name in zip(axes.flatten(), df, categorical_columns):   # Iterating through the subplots\n",
    "  sns.barplot(df[name], df.applied_amount, ax = ax)                   # Creating a barchart in each subplot\n",
    "  \n",
    "plt.tight_layout()  # Fitting the subplots to avoid overlapping"
   ]
  },
  {
   "cell_type": "code",
   "execution_count": 54,
   "metadata": {},
   "outputs": [
    {
     "data": {
      "image/png": "[encoded data removed]",
      "text/plain": [
       "<Figure size 1440x720 with 6 Axes>"
      ]
     },
     "metadata": {},
     "output_type": "display_data"
    }
   ],
   "source": [
    "fig, axes = plt.subplots(nrows = 3, ncols = 2, figsize = (20, 10))\n",
    "fig.suptitle('Box plot for numerical features', y= 1, color = 'magenta', fontsize = 15)\n",
    "\n",
    "for ax, data, name in zip(axes.flatten(), df, numerical_columns):\n",
    "  sns.boxplot(df[name], ax = ax)\n",
    "\n",
    "  ax.set_title('Box plot for '+ name)"
   ]
  },
  {
   "cell_type": "code",
   "execution_count": 55,
   "metadata": {},
   "outputs": [
    {
     "data": {
      "image/png": "[encoded data removed]",
      "text/plain": [
       "<Figure size 1080x720 with 12 Axes>"
      ]
     },
     "metadata": {},
     "output_type": "display_data"
    }
   ],
   "source": [
    "fig, axes = plt.subplots(nrows = 6, ncols = 2, figsize = (15, 10))\n",
    "fig.suptitle('Box plot for categorical features', y= 0.93, color = 'magenta', fontsize = 15)\n",
    "\n",
    "for ax, data, name in zip(axes.flatten(), df, categorical_columns):\n",
    "  sns.boxplot(df[name], df.applied_amount, ax = ax)"
   ]
  },
  {
   "cell_type": "code",
   "execution_count": 56,
   "metadata": {},
   "outputs": [
    {
     "data": {
      "text/html": [
       "<div>\n",
       "<style scoped>\n",
       "    .dataframe tbody tr th:only-of-type {\n",
       "        vertical-align: middle;\n",
       "    }\n",
       "\n",
       "    .dataframe tbody tr th {\n",
       "        vertical-align: top;\n",
       "    }\n",
       "\n",
       "    .dataframe thead th {\n",
       "        text-align: right;\n",
       "    }\n",
       "</style>\n",
       "<table border=\"1\" class=\"dataframe\">\n",
       "  <thead>\n",
       "    <tr style=\"text-align: right;\">\n",
       "      <th></th>\n",
       "      <th>incr_allowed</th>\n",
       "      <th>applied_amount</th>\n",
       "      <th>acy_avl_bal</th>\n",
       "      <th>balance</th>\n",
       "      <th>date_difference</th>\n",
       "      <th>amount_financed</th>\n",
       "    </tr>\n",
       "    <tr>\n",
       "      <th>loan_classification</th>\n",
       "      <th></th>\n",
       "      <th></th>\n",
       "      <th></th>\n",
       "      <th></th>\n",
       "      <th></th>\n",
       "      <th></th>\n",
       "    </tr>\n",
       "  </thead>\n",
       "  <tbody>\n",
       "    <tr>\n",
       "      <th>NON-PERFORMING</th>\n",
       "      <td>-370.308325</td>\n",
       "      <td>38497.046699</td>\n",
       "      <td>-14069.741783</td>\n",
       "      <td>27505.773768</td>\n",
       "      <td>32.461626</td>\n",
       "      <td>33166.342304</td>\n",
       "    </tr>\n",
       "    <tr>\n",
       "      <th>PERFORMING</th>\n",
       "      <td>12388.879439</td>\n",
       "      <td>81937.871041</td>\n",
       "      <td>162099.945123</td>\n",
       "      <td>78580.818141</td>\n",
       "      <td>45.088488</td>\n",
       "      <td>132888.300203</td>\n",
       "    </tr>\n",
       "  </tbody>\n",
       "</table>\n",
       "</div>"
      ],
      "text/plain": [
       "                     incr_allowed  applied_amount    acy_avl_bal  \\\n",
       "loan_classification                                                \n",
       "NON-PERFORMING        -370.308325    38497.046699  -14069.741783   \n",
       "PERFORMING           12388.879439    81937.871041  162099.945123   \n",
       "\n",
       "                          balance  date_difference  amount_financed  \n",
       "loan_classification                                                  \n",
       "NON-PERFORMING       27505.773768        32.461626     33166.342304  \n",
       "PERFORMING           78580.818141        45.088488    132888.300203  "
      ]
     },
     "execution_count": 56,
     "metadata": {},
     "output_type": "execute_result"
    }
   ],
   "source": [
    "# Overview of loan (performing vs non-performing)\n",
    "Loan_Summary = df.groupby('loan_classification')\n",
    "Loan_Summary.mean()"
   ]
  },
  {
   "cell_type": "code",
   "execution_count": 57,
   "metadata": {},
   "outputs": [
    {
     "data": {
      "text/plain": [
       "<matplotlib.axes._subplots.AxesSubplot at 0x1cdb4541160>"
      ]
     },
     "execution_count": 57,
     "metadata": {},
     "output_type": "execute_result"
    },
    {
     "data": {
      "image/png": "[encoded data removed]",
      "text/plain": [
       "<Figure size 432x288 with 1 Axes>"
      ]
     },
     "metadata": {},
     "output_type": "display_data"
    }
   ],
   "source": [
    "df['loan_classification'].value_counts().plot.bar()"
   ]
  },
  {
   "cell_type": "code",
   "execution_count": 58,
   "metadata": {},
   "outputs": [
    {
     "data": {
      "text/html": [
       "<div>\n",
       "<style scoped>\n",
       "    .dataframe tbody tr th:only-of-type {\n",
       "        vertical-align: middle;\n",
       "    }\n",
       "\n",
       "    .dataframe tbody tr th {\n",
       "        vertical-align: top;\n",
       "    }\n",
       "\n",
       "    .dataframe thead th {\n",
       "        text-align: right;\n",
       "    }\n",
       "</style>\n",
       "<table border=\"1\" class=\"dataframe\">\n",
       "  <thead>\n",
       "    <tr style=\"text-align: right;\">\n",
       "      <th>loan_classification</th>\n",
       "      <th>NON-PERFORMING</th>\n",
       "      <th>PERFORMING</th>\n",
       "    </tr>\n",
       "    <tr>\n",
       "      <th>account_status</th>\n",
       "      <th></th>\n",
       "      <th></th>\n",
       "    </tr>\n",
       "  </thead>\n",
       "  <tbody>\n",
       "    <tr>\n",
       "      <th>A</th>\n",
       "      <td>513</td>\n",
       "      <td>800</td>\n",
       "    </tr>\n",
       "    <tr>\n",
       "      <th>L</th>\n",
       "      <td>108</td>\n",
       "      <td>14824</td>\n",
       "    </tr>\n",
       "  </tbody>\n",
       "</table>\n",
       "</div>"
      ],
      "text/plain": [
       "loan_classification  NON-PERFORMING  PERFORMING\n",
       "account_status                                 \n",
       "A                               513         800\n",
       "L                               108       14824"
      ]
     },
     "execution_count": 58,
     "metadata": {},
     "output_type": "execute_result"
    }
   ],
   "source": [
    "pd.crosstab(df.account_status, df.loan_classification)"
   ]
  },
  {
   "cell_type": "code",
   "execution_count": 59,
   "metadata": {},
   "outputs": [
    {
     "data": {
      "text/plain": [
       "Text(0.5, 1.0, 'Account Status Distribution')"
      ]
     },
     "execution_count": 59,
     "metadata": {},
     "output_type": "execute_result"
    },
    {
     "data": {
      "image/png": "[encoded data removed]",
      "text/plain": [
       "<Figure size 792x216 with 1 Axes>"
      ]
     },
     "metadata": {},
     "output_type": "display_data"
    }
   ],
   "source": [
    "plt.figure(figsize= (11, 3))\n",
    "sns.countplot(x='account_status', data=df, palette = 'Dark2_r').set_title('Account Status Distribution')"
   ]
  },
  {
   "cell_type": "code",
   "execution_count": 60,
   "metadata": {},
   "outputs": [
    {
     "data": {
      "text/plain": [
       "Text(0.5, 1.0, 'Account Status Distribution')"
      ]
     },
     "execution_count": 60,
     "metadata": {},
     "output_type": "execute_result"
    },
    {
     "data": {
      "image/png": "[encoded data removed]",
      "text/plain": [
       "<Figure size 792x216 with 1 Axes>"
      ]
     },
     "metadata": {},
     "output_type": "display_data"
    }
   ],
   "source": [
    "plt.figure(figsize= (11, 3))\n",
    "sns.countplot(x='account_status', hue = 'loan_classification', data=df, palette = 'Dark2_r').set_title('Account Status Distribution')\n",
    "\n"
   ]
  },
  {
   "cell_type": "code",
   "execution_count": 61,
   "metadata": {},
   "outputs": [
    {
     "data": {
      "text/html": [
       "<div>\n",
       "<style scoped>\n",
       "    .dataframe tbody tr th:only-of-type {\n",
       "        vertical-align: middle;\n",
       "    }\n",
       "\n",
       "    .dataframe tbody tr th {\n",
       "        vertical-align: top;\n",
       "    }\n",
       "\n",
       "    .dataframe thead th {\n",
       "        text-align: right;\n",
       "    }\n",
       "</style>\n",
       "<table border=\"1\" class=\"dataframe\">\n",
       "  <thead>\n",
       "    <tr style=\"text-align: right;\">\n",
       "      <th>loan_classification</th>\n",
       "      <th>NON-PERFORMING</th>\n",
       "      <th>PERFORMING</th>\n",
       "    </tr>\n",
       "    <tr>\n",
       "      <th>customer_type</th>\n",
       "      <th></th>\n",
       "      <th></th>\n",
       "    </tr>\n",
       "  </thead>\n",
       "  <tbody>\n",
       "    <tr>\n",
       "      <th>C</th>\n",
       "      <td>1</td>\n",
       "      <td>5</td>\n",
       "    </tr>\n",
       "    <tr>\n",
       "      <th>I</th>\n",
       "      <td>620</td>\n",
       "      <td>15619</td>\n",
       "    </tr>\n",
       "  </tbody>\n",
       "</table>\n",
       "</div>"
      ],
      "text/plain": [
       "loan_classification  NON-PERFORMING  PERFORMING\n",
       "customer_type                                  \n",
       "C                                 1           5\n",
       "I                               620       15619"
      ]
     },
     "execution_count": 61,
     "metadata": {},
     "output_type": "execute_result"
    }
   ],
   "source": [
    "pd.crosstab(df.customer_type, df.loan_classification)"
   ]
  },
  {
   "cell_type": "code",
   "execution_count": 62,
   "metadata": {},
   "outputs": [
    {
     "data": {
      "text/plain": [
       "Text(0.5, 1.0, 'Customer Type Distribution')"
      ]
     },
     "execution_count": 62,
     "metadata": {},
     "output_type": "execute_result"
    },
    {
     "data": {
      "image/png": "[encoded data removed]",
      "text/plain": [
       "<Figure size 792x216 with 1 Axes>"
      ]
     },
     "metadata": {},
     "output_type": "display_data"
    }
   ],
   "source": [
    "plt.figure(figsize= (11, 3))\n",
    "sns.countplot(x='customer_type', data=df, palette = 'Dark2_r').set_title('Customer Type Distribution')"
   ]
  },
  {
   "cell_type": "code",
   "execution_count": 63,
   "metadata": {},
   "outputs": [
    {
     "data": {
      "text/html": [
       "<div>\n",
       "<style scoped>\n",
       "    .dataframe tbody tr th:only-of-type {\n",
       "        vertical-align: middle;\n",
       "    }\n",
       "\n",
       "    .dataframe tbody tr th {\n",
       "        vertical-align: top;\n",
       "    }\n",
       "\n",
       "    .dataframe thead th {\n",
       "        text-align: right;\n",
       "    }\n",
       "</style>\n",
       "<table border=\"1\" class=\"dataframe\">\n",
       "  <thead>\n",
       "    <tr style=\"text-align: right;\">\n",
       "      <th>loan_classification</th>\n",
       "      <th>NON-PERFORMING</th>\n",
       "      <th>PERFORMING</th>\n",
       "    </tr>\n",
       "    <tr>\n",
       "      <th>language</th>\n",
       "      <th></th>\n",
       "      <th></th>\n",
       "    </tr>\n",
       "  </thead>\n",
       "  <tbody>\n",
       "    <tr>\n",
       "      <th>CHS</th>\n",
       "      <td>0</td>\n",
       "      <td>3</td>\n",
       "    </tr>\n",
       "    <tr>\n",
       "      <th>ENG</th>\n",
       "      <td>621</td>\n",
       "      <td>15621</td>\n",
       "    </tr>\n",
       "  </tbody>\n",
       "</table>\n",
       "</div>"
      ],
      "text/plain": [
       "loan_classification  NON-PERFORMING  PERFORMING\n",
       "language                                       \n",
       "CHS                               0           3\n",
       "ENG                             621       15621"
      ]
     },
     "execution_count": 63,
     "metadata": {},
     "output_type": "execute_result"
    }
   ],
   "source": [
    "pd.crosstab(df.language, df.loan_classification)"
   ]
  },
  {
   "cell_type": "code",
   "execution_count": 64,
   "metadata": {},
   "outputs": [
    {
     "data": {
      "text/html": [
       "<div>\n",
       "<style scoped>\n",
       "    .dataframe tbody tr th:only-of-type {\n",
       "        vertical-align: middle;\n",
       "    }\n",
       "\n",
       "    .dataframe tbody tr th {\n",
       "        vertical-align: top;\n",
       "    }\n",
       "\n",
       "    .dataframe thead th {\n",
       "        text-align: right;\n",
       "    }\n",
       "</style>\n",
       "<table border=\"1\" class=\"dataframe\">\n",
       "  <thead>\n",
       "    <tr style=\"text-align: right;\">\n",
       "      <th>loan_classification</th>\n",
       "      <th>NON-PERFORMING</th>\n",
       "      <th>PERFORMING</th>\n",
       "    </tr>\n",
       "    <tr>\n",
       "      <th>customer_category</th>\n",
       "      <th></th>\n",
       "      <th></th>\n",
       "    </tr>\n",
       "  </thead>\n",
       "  <tbody>\n",
       "    <tr>\n",
       "      <th>CORP</th>\n",
       "      <td>1</td>\n",
       "      <td>5</td>\n",
       "    </tr>\n",
       "    <tr>\n",
       "      <th>HNI</th>\n",
       "      <td>6</td>\n",
       "      <td>114</td>\n",
       "    </tr>\n",
       "    <tr>\n",
       "      <th>IND</th>\n",
       "      <td>613</td>\n",
       "      <td>14912</td>\n",
       "    </tr>\n",
       "    <tr>\n",
       "      <th>RSA</th>\n",
       "      <td>0</td>\n",
       "      <td>464</td>\n",
       "    </tr>\n",
       "    <tr>\n",
       "      <th>SAL</th>\n",
       "      <td>0</td>\n",
       "      <td>76</td>\n",
       "    </tr>\n",
       "    <tr>\n",
       "      <th>STUDENTS</th>\n",
       "      <td>0</td>\n",
       "      <td>2</td>\n",
       "    </tr>\n",
       "    <tr>\n",
       "      <th>SUPERMARKT</th>\n",
       "      <td>0</td>\n",
       "      <td>3</td>\n",
       "    </tr>\n",
       "    <tr>\n",
       "      <th>TIER1</th>\n",
       "      <td>0</td>\n",
       "      <td>11</td>\n",
       "    </tr>\n",
       "    <tr>\n",
       "      <th>TIER2</th>\n",
       "      <td>1</td>\n",
       "      <td>9</td>\n",
       "    </tr>\n",
       "    <tr>\n",
       "      <th>WALKIN</th>\n",
       "      <td>0</td>\n",
       "      <td>28</td>\n",
       "    </tr>\n",
       "  </tbody>\n",
       "</table>\n",
       "</div>"
      ],
      "text/plain": [
       "loan_classification  NON-PERFORMING  PERFORMING\n",
       "customer_category                              \n",
       "CORP                              1           5\n",
       "HNI                               6         114\n",
       "IND                             613       14912\n",
       "RSA                               0         464\n",
       "SAL                               0          76\n",
       "STUDENTS                          0           2\n",
       "SUPERMARKT                        0           3\n",
       "TIER1                             0          11\n",
       "TIER2                             1           9\n",
       "WALKIN                            0          28"
      ]
     },
     "execution_count": 64,
     "metadata": {},
     "output_type": "execute_result"
    }
   ],
   "source": [
    "pd.crosstab(df.customer_category, df.loan_classification)    ###rsa = retired savings account, #sal = "
   ]
  },
  {
   "cell_type": "code",
   "execution_count": 65,
   "metadata": {},
   "outputs": [
    {
     "data": {
      "text/plain": [
       "Text(0.5, 1.0, 'Customer Category Distribution')"
      ]
     },
     "execution_count": 65,
     "metadata": {},
     "output_type": "execute_result"
    },
    {
     "data": {
      "image/png": "[encoded data removed]",
      "text/plain": [
       "<Figure size 792x216 with 1 Axes>"
      ]
     },
     "metadata": {},
     "output_type": "display_data"
    }
   ],
   "source": [
    "plt.figure(figsize= (11, 3))\n",
    "sns.countplot(x='customer_category', data=df, palette = 'Dark2_r').set_title('Customer Category Distribution')"
   ]
  },
  {
   "cell_type": "code",
   "execution_count": 66,
   "metadata": {},
   "outputs": [
    {
     "data": {
      "text/plain": [
       "Text(0.5, 1.0, 'Customer Category Distribution')"
      ]
     },
     "execution_count": 66,
     "metadata": {},
     "output_type": "execute_result"
    },
    {
     "data": {
      "image/png": "[encoded data removed]",
      "text/plain": [
       "<Figure size 792x216 with 1 Axes>"
      ]
     },
     "metadata": {},
     "output_type": "display_data"
    }
   ],
   "source": [
    "plt.figure(figsize= (11, 3))\n",
    "sns.countplot(x='customer_category', hue = 'loan_classification', data=df, palette = 'Dark2_r').set_title('Customer Category Distribution')"
   ]
  },
  {
   "cell_type": "code",
   "execution_count": 67,
   "metadata": {},
   "outputs": [
    {
     "data": {
      "text/html": [
       "<div>\n",
       "<style scoped>\n",
       "    .dataframe tbody tr th:only-of-type {\n",
       "        vertical-align: middle;\n",
       "    }\n",
       "\n",
       "    .dataframe tbody tr th {\n",
       "        vertical-align: top;\n",
       "    }\n",
       "\n",
       "    .dataframe thead th {\n",
       "        text-align: right;\n",
       "    }\n",
       "</style>\n",
       "<table border=\"1\" class=\"dataframe\">\n",
       "  <thead>\n",
       "    <tr style=\"text-align: right;\">\n",
       "      <th>loan_classification</th>\n",
       "      <th>NON-PERFORMING</th>\n",
       "      <th>PERFORMING</th>\n",
       "    </tr>\n",
       "    <tr>\n",
       "      <th>minor</th>\n",
       "      <th></th>\n",
       "      <th></th>\n",
       "    </tr>\n",
       "  </thead>\n",
       "  <tbody>\n",
       "    <tr>\n",
       "      <th>M</th>\n",
       "      <td>0</td>\n",
       "      <td>2</td>\n",
       "    </tr>\n",
       "    <tr>\n",
       "      <th>N</th>\n",
       "      <td>610</td>\n",
       "      <td>15516</td>\n",
       "    </tr>\n",
       "    <tr>\n",
       "      <th>Y</th>\n",
       "      <td>11</td>\n",
       "      <td>106</td>\n",
       "    </tr>\n",
       "  </tbody>\n",
       "</table>\n",
       "</div>"
      ],
      "text/plain": [
       "loan_classification  NON-PERFORMING  PERFORMING\n",
       "minor                                          \n",
       "M                                 0           2\n",
       "N                               610       15516\n",
       "Y                                11         106"
      ]
     },
     "execution_count": 67,
     "metadata": {},
     "output_type": "execute_result"
    }
   ],
   "source": [
    "pd.crosstab(df.minor, df.loan_classification)    "
   ]
  },
  {
   "cell_type": "code",
   "execution_count": 68,
   "metadata": {},
   "outputs": [
    {
     "data": {
      "text/html": [
       "<div>\n",
       "<style scoped>\n",
       "    .dataframe tbody tr th:only-of-type {\n",
       "        vertical-align: middle;\n",
       "    }\n",
       "\n",
       "    .dataframe tbody tr th {\n",
       "        vertical-align: top;\n",
       "    }\n",
       "\n",
       "    .dataframe thead th {\n",
       "        text-align: right;\n",
       "    }\n",
       "</style>\n",
       "<table border=\"1\" class=\"dataframe\">\n",
       "  <thead>\n",
       "    <tr style=\"text-align: right;\">\n",
       "      <th>loan_classification</th>\n",
       "      <th>NON-PERFORMING</th>\n",
       "      <th>PERFORMING</th>\n",
       "    </tr>\n",
       "    <tr>\n",
       "      <th>marital_status</th>\n",
       "      <th></th>\n",
       "      <th></th>\n",
       "    </tr>\n",
       "  </thead>\n",
       "  <tbody>\n",
       "    <tr>\n",
       "      <th>D</th>\n",
       "      <td>0</td>\n",
       "      <td>12</td>\n",
       "    </tr>\n",
       "    <tr>\n",
       "      <th>E</th>\n",
       "      <td>0</td>\n",
       "      <td>4</td>\n",
       "    </tr>\n",
       "    <tr>\n",
       "      <th>M</th>\n",
       "      <td>207</td>\n",
       "      <td>6631</td>\n",
       "    </tr>\n",
       "    <tr>\n",
       "      <th>P</th>\n",
       "      <td>0</td>\n",
       "      <td>10</td>\n",
       "    </tr>\n",
       "    <tr>\n",
       "      <th>S</th>\n",
       "      <td>414</td>\n",
       "      <td>8967</td>\n",
       "    </tr>\n",
       "  </tbody>\n",
       "</table>\n",
       "</div>"
      ],
      "text/plain": [
       "loan_classification  NON-PERFORMING  PERFORMING\n",
       "marital_status                                 \n",
       "D                                 0          12\n",
       "E                                 0           4\n",
       "M                               207        6631\n",
       "P                                 0          10\n",
       "S                               414        8967"
      ]
     },
     "execution_count": 68,
     "metadata": {},
     "output_type": "execute_result"
    }
   ],
   "source": [
    "pd.crosstab(df.marital_status, df.loan_classification)   "
   ]
  },
  {
   "cell_type": "code",
   "execution_count": 69,
   "metadata": {},
   "outputs": [
    {
     "data": {
      "text/plain": [
       "Text(0.5, 1.0, 'Marital Status Distribution')"
      ]
     },
     "execution_count": 69,
     "metadata": {},
     "output_type": "execute_result"
    },
    {
     "data": {
      "image/png": "[encoded data removed]",
      "text/plain": [
       "<Figure size 792x216 with 1 Axes>"
      ]
     },
     "metadata": {},
     "output_type": "display_data"
    }
   ],
   "source": [
    "plt.figure(figsize= (11, 3))\n",
    "sns.countplot(x='marital_status', data=df, palette = 'Dark2_r').set_title('Marital Status Distribution')"
   ]
  },
  {
   "cell_type": "code",
   "execution_count": 70,
   "metadata": {},
   "outputs": [
    {
     "data": {
      "text/plain": [
       "Text(0.5, 1.0, 'Marital Status Distribution')"
      ]
     },
     "execution_count": 70,
     "metadata": {},
     "output_type": "execute_result"
    },
    {
     "data": {
      "image/png": "[encoded data removed]",
      "text/plain": [
       "<Figure size 792x216 with 1 Axes>"
      ]
     },
     "metadata": {},
     "output_type": "display_data"
    }
   ],
   "source": [
    "plt.figure(figsize= (11, 3))\n",
    "sns.countplot(x='marital_status' , hue = 'loan_classification', data=df, palette = 'Dark2_r').set_title('Marital Status Distribution')\n"
   ]
  },
  {
   "cell_type": "code",
   "execution_count": 71,
   "metadata": {},
   "outputs": [
    {
     "data": {
      "text/html": [
       "<div>\n",
       "<style scoped>\n",
       "    .dataframe tbody tr th:only-of-type {\n",
       "        vertical-align: middle;\n",
       "    }\n",
       "\n",
       "    .dataframe tbody tr th {\n",
       "        vertical-align: top;\n",
       "    }\n",
       "\n",
       "    .dataframe thead th {\n",
       "        text-align: right;\n",
       "    }\n",
       "</style>\n",
       "<table border=\"1\" class=\"dataframe\">\n",
       "  <thead>\n",
       "    <tr style=\"text-align: right;\">\n",
       "      <th>loan_classification</th>\n",
       "      <th>NON-PERFORMING</th>\n",
       "      <th>PERFORMING</th>\n",
       "    </tr>\n",
       "    <tr>\n",
       "      <th>sex</th>\n",
       "      <th></th>\n",
       "      <th></th>\n",
       "    </tr>\n",
       "  </thead>\n",
       "  <tbody>\n",
       "    <tr>\n",
       "      <th></th>\n",
       "      <td>4</td>\n",
       "      <td>0</td>\n",
       "    </tr>\n",
       "    <tr>\n",
       "      <th>F</th>\n",
       "      <td>54</td>\n",
       "      <td>3061</td>\n",
       "    </tr>\n",
       "    <tr>\n",
       "      <th>M</th>\n",
       "      <td>561</td>\n",
       "      <td>12563</td>\n",
       "    </tr>\n",
       "    <tr>\n",
       "      <th>P</th>\n",
       "      <td>2</td>\n",
       "      <td>0</td>\n",
       "    </tr>\n",
       "  </tbody>\n",
       "</table>\n",
       "</div>"
      ],
      "text/plain": [
       "loan_classification  NON-PERFORMING  PERFORMING\n",
       "sex                                            \n",
       "                                  4           0\n",
       "F                                54        3061\n",
       "M                               561       12563\n",
       "P                                 2           0"
      ]
     },
     "execution_count": 71,
     "metadata": {},
     "output_type": "execute_result"
    }
   ],
   "source": [
    "pd.crosstab(df.sex, df.loan_classification)"
   ]
  },
  {
   "cell_type": "code",
   "execution_count": 72,
   "metadata": {},
   "outputs": [
    {
     "data": {
      "text/plain": [
       "Text(0.5, 1.0, 'Gender Distribution')"
      ]
     },
     "execution_count": 72,
     "metadata": {},
     "output_type": "execute_result"
    },
    {
     "data": {
      "image/png": "[encoded data removed]",
      "text/plain": [
       "<Figure size 792x216 with 1 Axes>"
      ]
     },
     "metadata": {},
     "output_type": "display_data"
    }
   ],
   "source": [
    "plt.figure(figsize= (11, 3))\n",
    "sns.countplot(x='sex' , data=df, palette = 'Dark2_r').set_title('Gender Distribution')\n"
   ]
  },
  {
   "cell_type": "code",
   "execution_count": 73,
   "metadata": {},
   "outputs": [
    {
     "data": {
      "text/plain": [
       "Text(0.5, 1.0, 'Gender Distribution')"
      ]
     },
     "execution_count": 73,
     "metadata": {},
     "output_type": "execute_result"
    },
    {
     "data": {
      "image/png": "[encoded data removed]",
      "text/plain": [
       "<Figure size 792x216 with 1 Axes>"
      ]
     },
     "metadata": {},
     "output_type": "display_data"
    }
   ],
   "source": [
    "plt.figure(figsize= (11, 3))\n",
    "sns.countplot(x='sex' , hue = 'loan_classification', data=df, palette = 'Dark2_r').set_title('Gender Distribution')\n"
   ]
  },
  {
   "cell_type": "code",
   "execution_count": 74,
   "metadata": {},
   "outputs": [
    {
     "data": {
      "text/html": [
       "<div>\n",
       "<style scoped>\n",
       "    .dataframe tbody tr th:only-of-type {\n",
       "        vertical-align: middle;\n",
       "    }\n",
       "\n",
       "    .dataframe tbody tr th {\n",
       "        vertical-align: top;\n",
       "    }\n",
       "\n",
       "    .dataframe thead th {\n",
       "        text-align: right;\n",
       "    }\n",
       "</style>\n",
       "<table border=\"1\" class=\"dataframe\">\n",
       "  <thead>\n",
       "    <tr style=\"text-align: right;\">\n",
       "      <th>loan_classification</th>\n",
       "      <th>NON-PERFORMING</th>\n",
       "      <th>PERFORMING</th>\n",
       "    </tr>\n",
       "    <tr>\n",
       "      <th>application_status</th>\n",
       "      <th></th>\n",
       "      <th></th>\n",
       "    </tr>\n",
       "  </thead>\n",
       "  <tbody>\n",
       "    <tr>\n",
       "      <th>D</th>\n",
       "      <td>621</td>\n",
       "      <td>15624</td>\n",
       "    </tr>\n",
       "  </tbody>\n",
       "</table>\n",
       "</div>"
      ],
      "text/plain": [
       "loan_classification  NON-PERFORMING  PERFORMING\n",
       "application_status                             \n",
       "D                               621       15624"
      ]
     },
     "execution_count": 74,
     "metadata": {},
     "output_type": "execute_result"
    }
   ],
   "source": [
    "pd.crosstab(df.application_status, df.loan_classification)"
   ]
  },
  {
   "cell_type": "code",
   "execution_count": 75,
   "metadata": {},
   "outputs": [
    {
     "data": {
      "text/plain": [
       "Text(0.5, 1.0, 'Application Status Distribution')"
      ]
     },
     "execution_count": 75,
     "metadata": {},
     "output_type": "execute_result"
    },
    {
     "data": {
      "image/png": "[encoded data removed]",
      "text/plain": [
       "<Figure size 792x216 with 1 Axes>"
      ]
     },
     "metadata": {},
     "output_type": "display_data"
    }
   ],
   "source": [
    "plt.figure(figsize= (11, 3))\n",
    "sns.countplot(x='application_status' , hue = 'loan_classification', data=df, palette = 'Dark2_r').set_title('Application Status Distribution')\n",
    "\n"
   ]
  },
  {
   "cell_type": "code",
   "execution_count": 76,
   "metadata": {},
   "outputs": [
    {
     "data": {
      "text/html": [
       "<div>\n",
       "<style scoped>\n",
       "    .dataframe tbody tr th:only-of-type {\n",
       "        vertical-align: middle;\n",
       "    }\n",
       "\n",
       "    .dataframe tbody tr th {\n",
       "        vertical-align: top;\n",
       "    }\n",
       "\n",
       "    .dataframe thead th {\n",
       "        text-align: right;\n",
       "    }\n",
       "</style>\n",
       "<table border=\"1\" class=\"dataframe\">\n",
       "  <thead>\n",
       "    <tr style=\"text-align: right;\">\n",
       "      <th>loan_classification</th>\n",
       "      <th>NON-PERFORMING</th>\n",
       "      <th>PERFORMING</th>\n",
       "    </tr>\n",
       "    <tr>\n",
       "      <th>module</th>\n",
       "      <th></th>\n",
       "      <th></th>\n",
       "    </tr>\n",
       "  </thead>\n",
       "  <tbody>\n",
       "    <tr>\n",
       "      <th>AMPC</th>\n",
       "      <td>0</td>\n",
       "      <td>6157</td>\n",
       "    </tr>\n",
       "    <tr>\n",
       "      <th>DFPS</th>\n",
       "      <td>0</td>\n",
       "      <td>523</td>\n",
       "    </tr>\n",
       "    <tr>\n",
       "      <th>LATO</th>\n",
       "      <td>616</td>\n",
       "      <td>5898</td>\n",
       "    </tr>\n",
       "    <tr>\n",
       "      <th>STP</th>\n",
       "      <td>5</td>\n",
       "      <td>3046</td>\n",
       "    </tr>\n",
       "  </tbody>\n",
       "</table>\n",
       "</div>"
      ],
      "text/plain": [
       "loan_classification  NON-PERFORMING  PERFORMING\n",
       "module                                         \n",
       "AMPC                              0        6157\n",
       "DFPS                              0         523\n",
       "LATO                            616        5898\n",
       "STP                               5        3046"
      ]
     },
     "execution_count": 76,
     "metadata": {},
     "output_type": "execute_result"
    }
   ],
   "source": [
    "pd.crosstab(df.module, df.loan_classification)"
   ]
  },
  {
   "cell_type": "code",
   "execution_count": 77,
   "metadata": {},
   "outputs": [
    {
     "data": {
      "text/plain": [
       "Text(0.5, 1.0, 'Module Distribution')"
      ]
     },
     "execution_count": 77,
     "metadata": {},
     "output_type": "execute_result"
    },
    {
     "data": {
      "image/png": "[encoded data removed]",
      "text/plain": [
       "<Figure size 792x216 with 1 Axes>"
      ]
     },
     "metadata": {},
     "output_type": "display_data"
    }
   ],
   "source": [
    "plt.figure(figsize= (11, 3))\n",
    "sns.countplot(x='module' , data=df, palette = 'Dark2_r').set_title('Module Distribution')\n",
    "\n"
   ]
  },
  {
   "cell_type": "code",
   "execution_count": 78,
   "metadata": {},
   "outputs": [
    {
     "data": {
      "text/plain": [
       "Text(0.5, 1.0, 'Module Distribution')"
      ]
     },
     "execution_count": 78,
     "metadata": {},
     "output_type": "execute_result"
    },
    {
     "data": {
      "image/png": "[encoded data removed]",
      "text/plain": [
       "<Figure size 792x216 with 1 Axes>"
      ]
     },
     "metadata": {},
     "output_type": "display_data"
    }
   ],
   "source": [
    "plt.figure(figsize= (11, 3))\n",
    "sns.countplot(x='module' , hue = 'loan_classification', data=df, palette = 'Dark2_r').set_title('Module Distribution')\n",
    "\n"
   ]
  },
  {
   "cell_type": "code",
   "execution_count": 79,
   "metadata": {},
   "outputs": [
    {
     "data": {
      "text/html": [
       "<div>\n",
       "<style scoped>\n",
       "    .dataframe tbody tr th:only-of-type {\n",
       "        vertical-align: middle;\n",
       "    }\n",
       "\n",
       "    .dataframe tbody tr th {\n",
       "        vertical-align: top;\n",
       "    }\n",
       "\n",
       "    .dataframe thead th {\n",
       "        text-align: right;\n",
       "    }\n",
       "</style>\n",
       "<table border=\"1\" class=\"dataframe\">\n",
       "  <thead>\n",
       "    <tr style=\"text-align: right;\">\n",
       "      <th>loan_classification</th>\n",
       "      <th>NON-PERFORMING</th>\n",
       "      <th>PERFORMING</th>\n",
       "    </tr>\n",
       "    <tr>\n",
       "      <th>product_code</th>\n",
       "      <th></th>\n",
       "      <th></th>\n",
       "    </tr>\n",
       "  </thead>\n",
       "  <tbody>\n",
       "    <tr>\n",
       "      <th>AMPC</th>\n",
       "      <td>52</td>\n",
       "      <td>6540</td>\n",
       "    </tr>\n",
       "    <tr>\n",
       "      <th>DFPS</th>\n",
       "      <td>0</td>\n",
       "      <td>43</td>\n",
       "    </tr>\n",
       "    <tr>\n",
       "      <th>KPLA</th>\n",
       "      <td>1</td>\n",
       "      <td>8</td>\n",
       "    </tr>\n",
       "    <tr>\n",
       "      <th>MPTA</th>\n",
       "      <td>0</td>\n",
       "      <td>5</td>\n",
       "    </tr>\n",
       "    <tr>\n",
       "      <th>MPTL</th>\n",
       "      <td>0</td>\n",
       "      <td>6</td>\n",
       "    </tr>\n",
       "    <tr>\n",
       "      <th>PDLP</th>\n",
       "      <td>562</td>\n",
       "      <td>8607</td>\n",
       "    </tr>\n",
       "    <tr>\n",
       "      <th>PDSS</th>\n",
       "      <td>1</td>\n",
       "      <td>22</td>\n",
       "    </tr>\n",
       "    <tr>\n",
       "      <th>SADV</th>\n",
       "      <td>0</td>\n",
       "      <td>34</td>\n",
       "    </tr>\n",
       "    <tr>\n",
       "      <th>STLM</th>\n",
       "      <td>0</td>\n",
       "      <td>3</td>\n",
       "    </tr>\n",
       "    <tr>\n",
       "      <th>STLP</th>\n",
       "      <td>0</td>\n",
       "      <td>2</td>\n",
       "    </tr>\n",
       "    <tr>\n",
       "      <th>STPL</th>\n",
       "      <td>5</td>\n",
       "      <td>354</td>\n",
       "    </tr>\n",
       "  </tbody>\n",
       "</table>\n",
       "</div>"
      ],
      "text/plain": [
       "loan_classification  NON-PERFORMING  PERFORMING\n",
       "product_code                                   \n",
       "AMPC                             52        6540\n",
       "DFPS                              0          43\n",
       "KPLA                              1           8\n",
       "MPTA                              0           5\n",
       "MPTL                              0           6\n",
       "PDLP                            562        8607\n",
       "PDSS                              1          22\n",
       "SADV                              0          34\n",
       "STLM                              0           3\n",
       "STLP                              0           2\n",
       "STPL                              5         354"
      ]
     },
     "execution_count": 79,
     "metadata": {},
     "output_type": "execute_result"
    }
   ],
   "source": [
    "pd.crosstab(df.product_code, df.loan_classification)"
   ]
  },
  {
   "cell_type": "code",
   "execution_count": 80,
   "metadata": {},
   "outputs": [
    {
     "data": {
      "text/plain": [
       "Text(0.5, 1.0, 'Product Distribution')"
      ]
     },
     "execution_count": 80,
     "metadata": {},
     "output_type": "execute_result"
    },
    {
     "data": {
      "image/png": "[encoded data removed]",
      "text/plain": [
       "<Figure size 792x216 with 1 Axes>"
      ]
     },
     "metadata": {},
     "output_type": "display_data"
    }
   ],
   "source": [
    "plt.figure(figsize= (11, 3))\n",
    "sns.countplot(x='product_code' , data=df, palette = 'Dark2_r').set_title('Product Distribution')\n",
    "\n"
   ]
  },
  {
   "cell_type": "code",
   "execution_count": 81,
   "metadata": {},
   "outputs": [
    {
     "data": {
      "text/plain": [
       "Text(0.5, 1.0, 'Product Distribution')"
      ]
     },
     "execution_count": 81,
     "metadata": {},
     "output_type": "execute_result"
    },
    {
     "data": {
      "image/png": "[encoded data removed]",
      "text/plain": [
       "<Figure size 792x216 with 1 Axes>"
      ]
     },
     "metadata": {},
     "output_type": "display_data"
    }
   ],
   "source": [
    "plt.figure(figsize= (11, 3))\n",
    "sns.countplot(x= 'product_code' , hue = 'loan_classification', data=df, palette = 'Dark2_r').set_title('Product Distribution')\n",
    "\n"
   ]
  },
  {
   "cell_type": "markdown",
   "metadata": {},
   "source": [
    "### GENERAL FREQUENCY TABLE"
   ]
  },
  {
   "cell_type": "code",
   "execution_count": 82,
   "metadata": {},
   "outputs": [
    {
     "name": "stdout",
     "output_type": "stream",
     "text": [
      "\n",
      "\n",
      "I    16239\n",
      "C        6\n",
      "Name: customer_type, dtype: int64\n",
      "\n",
      "\n",
      "ENG    16242\n",
      "CHS        3\n",
      "Name: language, dtype: int64\n",
      "\n",
      "\n",
      "IND           15525\n",
      "RSA             464\n",
      "HNI             120\n",
      "SAL              76\n",
      "WALKIN           28\n",
      "TIER1            11\n",
      "TIER2            10\n",
      "CORP              6\n",
      "SUPERMARKT        3\n",
      "STUDENTS          2\n",
      "Name: customer_category, dtype: int64\n",
      "\n",
      "\n",
      "N    16126\n",
      "Y      117\n",
      "M        2\n",
      "Name: minor, dtype: int64\n",
      "\n",
      "\n",
      "M    13124\n",
      "F     3115\n",
      "         4\n",
      "P        2\n",
      "Name: sex, dtype: int64\n",
      "\n",
      "\n",
      "S    9381\n",
      "M    6838\n",
      "D      12\n",
      "P      10\n",
      "E       4\n",
      "Name: marital_status, dtype: int64\n",
      "\n",
      "\n",
      "D    16245\n",
      "Name: application_status, dtype: int64\n",
      "\n",
      "\n",
      "LATO    6514\n",
      "AMPC    6157\n",
      "STP     3051\n",
      "DFPS     523\n",
      "Name: module, dtype: int64\n",
      "\n",
      "\n",
      "PERFORMING        15624\n",
      "NON-PERFORMING      621\n",
      "Name: loan_classification, dtype: int64\n",
      "\n",
      "\n",
      "PDLP    9169\n",
      "AMPC    6592\n",
      "STPL     359\n",
      "DFPS      43\n",
      "SADV      34\n",
      "PDSS      23\n",
      "KPLA       9\n",
      "MPTL       6\n",
      "MPTA       5\n",
      "STLM       3\n",
      "STLP       2\n",
      "Name: product_code, dtype: int64\n",
      "\n",
      "\n",
      "L    14932\n",
      "A     1313\n",
      "Name: account_status, dtype: int64\n"
     ]
    }
   ],
   "source": [
    "# Creating Frequency table of each categorical column\n",
    "\n",
    "for column in categorical_columns:     # Iterating through each column in the categorical columns list\n",
    "  print('\\n')                          # Creating a new line for better readability\n",
    "  print(df[column].value_counts())     # Printing a frequency table of each categorical column"
   ]
  },
  {
   "cell_type": "markdown",
   "metadata": {},
   "source": [
    "### CORRELATION HEAT MAP"
   ]
  },
  {
   "cell_type": "code",
   "execution_count": 83,
   "metadata": {},
   "outputs": [
    {
     "data": {
      "image/png": "[encoded data removed]",
      "text/plain": [
       "<Figure size 540x360 with 2 Axes>"
      ]
     },
     "metadata": {},
     "output_type": "display_data"
    }
   ],
   "source": [
    "cor = df.corr()\n",
    "\n",
    "plt.figure(dpi=90)\n",
    "sns.heatmap(cor, xticklabels=cor.columns, yticklabels=cor.columns, annot = True)\n",
    "plt.title('Heatmap showing correlation', y = 1.05, color = 'magenta', fontsize = 15)\n",
    "plt.show()"
   ]
  },
  {
   "cell_type": "markdown",
   "metadata": {},
   "source": [
    "### **Correlation of variables**"
   ]
  },
  {
   "cell_type": "code",
   "execution_count": 84,
   "metadata": {},
   "outputs": [
    {
     "data": {
      "text/html": [
       "<div>\n",
       "<style scoped>\n",
       "    .dataframe tbody tr th:only-of-type {\n",
       "        vertical-align: middle;\n",
       "    }\n",
       "\n",
       "    .dataframe tbody tr th {\n",
       "        vertical-align: top;\n",
       "    }\n",
       "\n",
       "    .dataframe thead th {\n",
       "        text-align: right;\n",
       "    }\n",
       "</style>\n",
       "<table border=\"1\" class=\"dataframe\">\n",
       "  <thead>\n",
       "    <tr style=\"text-align: right;\">\n",
       "      <th></th>\n",
       "      <th>incr_allowed</th>\n",
       "      <th>applied_amount</th>\n",
       "      <th>acy_avl_bal</th>\n",
       "      <th>balance</th>\n",
       "      <th>date_difference</th>\n",
       "      <th>amount_financed</th>\n",
       "    </tr>\n",
       "  </thead>\n",
       "  <tbody>\n",
       "    <tr>\n",
       "      <th>incr_allowed</th>\n",
       "      <td>1.000000</td>\n",
       "      <td>0.078587</td>\n",
       "      <td>-0.162556</td>\n",
       "      <td>0.012723</td>\n",
       "      <td>-0.087579</td>\n",
       "      <td>-0.169501</td>\n",
       "    </tr>\n",
       "    <tr>\n",
       "      <th>applied_amount</th>\n",
       "      <td>0.078587</td>\n",
       "      <td>1.000000</td>\n",
       "      <td>0.001207</td>\n",
       "      <td>0.052867</td>\n",
       "      <td>0.246769</td>\n",
       "      <td>0.018044</td>\n",
       "    </tr>\n",
       "    <tr>\n",
       "      <th>acy_avl_bal</th>\n",
       "      <td>-0.162556</td>\n",
       "      <td>0.001207</td>\n",
       "      <td>1.000000</td>\n",
       "      <td>0.087023</td>\n",
       "      <td>0.505845</td>\n",
       "      <td>0.975934</td>\n",
       "    </tr>\n",
       "    <tr>\n",
       "      <th>balance</th>\n",
       "      <td>0.012723</td>\n",
       "      <td>0.052867</td>\n",
       "      <td>0.087023</td>\n",
       "      <td>1.000000</td>\n",
       "      <td>0.047387</td>\n",
       "      <td>0.007696</td>\n",
       "    </tr>\n",
       "    <tr>\n",
       "      <th>date_difference</th>\n",
       "      <td>-0.087579</td>\n",
       "      <td>0.246769</td>\n",
       "      <td>0.505845</td>\n",
       "      <td>0.047387</td>\n",
       "      <td>1.000000</td>\n",
       "      <td>0.546664</td>\n",
       "    </tr>\n",
       "    <tr>\n",
       "      <th>amount_financed</th>\n",
       "      <td>-0.169501</td>\n",
       "      <td>0.018044</td>\n",
       "      <td>0.975934</td>\n",
       "      <td>0.007696</td>\n",
       "      <td>0.546664</td>\n",
       "      <td>1.000000</td>\n",
       "    </tr>\n",
       "  </tbody>\n",
       "</table>\n",
       "</div>"
      ],
      "text/plain": [
       "                 incr_allowed  applied_amount  acy_avl_bal   balance  \\\n",
       "incr_allowed         1.000000        0.078587    -0.162556  0.012723   \n",
       "applied_amount       0.078587        1.000000     0.001207  0.052867   \n",
       "acy_avl_bal         -0.162556        0.001207     1.000000  0.087023   \n",
       "balance              0.012723        0.052867     0.087023  1.000000   \n",
       "date_difference     -0.087579        0.246769     0.505845  0.047387   \n",
       "amount_financed     -0.169501        0.018044     0.975934  0.007696   \n",
       "\n",
       "                 date_difference  amount_financed  \n",
       "incr_allowed           -0.087579        -0.169501  \n",
       "applied_amount          0.246769         0.018044  \n",
       "acy_avl_bal             0.505845         0.975934  \n",
       "balance                 0.047387         0.007696  \n",
       "date_difference         1.000000         0.546664  \n",
       "amount_financed         0.546664         1.000000  "
      ]
     },
     "execution_count": 84,
     "metadata": {},
     "output_type": "execute_result"
    }
   ],
   "source": [
    "# Finding the correlation between the variables in the dataset.\n",
    "# When the value is near zero, there is no linear relationship. \n",
    "# As the correlation gets closer to plus or minus one, the relationship is stronger. \n",
    "# A value of one (or negative one) indicates a perfect linear relationship between two variables.\n",
    "\n",
    "df.corr()"
   ]
  },
  {
   "cell_type": "markdown",
   "metadata": {},
   "source": [
    "### FEATURE ENGINEERING"
   ]
  },
  {
   "cell_type": "markdown",
   "metadata": {},
   "source": [
    "#### Logistic Regression"
   ]
  },
  {
   "cell_type": "markdown",
   "metadata": {},
   "source": [
    "I chose to use a a logistic regression model because it is widely used for classification problems. Logistic regression doesn’t require linear relationship between dependent and independent variables. It can handle various types of relationships because it applies a non-linear log transformation to the predicted odds ratio"
   ]
  },
  {
   "cell_type": "markdown",
   "metadata": {},
   "source": [
    "#### Random Forest Algorithm"
   ]
  },
  {
   "cell_type": "markdown",
   "metadata": {},
   "source": [
    "I chose to use a Random Forest algorithm because it is impressive in versatility. It can handle binary features, categorical features, and numerical features. Random forests is great with high dimensional data since we are working with subsets of data. Random forest handles outliers by essentially binning them. It is also indifferent to non-linear features. "
   ]
  },
  {
   "cell_type": "markdown",
   "metadata": {},
   "source": [
    "#### Decision Tree Algorithm"
   ]
  },
  {
   "cell_type": "markdown",
   "metadata": {},
   "source": [
    "Decision trees are built using a heuristic called recursive partitioning. This approach is also commonly known as divide and conquer because it splits the data into subsets, which are then split repeatedly into even smaller subsets, and so on and so forth until the process stops when the algorithm determines the data within the subsets are sufficiently homogenous, or another stopping criterion has been met."
   ]
  },
  {
   "cell_type": "code",
   "execution_count": 85,
   "metadata": {},
   "outputs": [],
   "source": [
    "# Splitting up the data into an X array that contains the features to train on, and a y array with the target variable\n",
    "\n",
    "X = df.drop(['loan_classification'], axis = 1)"
   ]
  },
  {
   "cell_type": "code",
   "execution_count": 86,
   "metadata": {},
   "outputs": [
    {
     "data": {
      "text/plain": [
       "(16245, 16)"
      ]
     },
     "execution_count": 86,
     "metadata": {},
     "output_type": "execute_result"
    }
   ],
   "source": [
    "X.shape"
   ]
  },
  {
   "cell_type": "code",
   "execution_count": 87,
   "metadata": {},
   "outputs": [],
   "source": [
    "y = df['loan_classification']"
   ]
  },
  {
   "cell_type": "code",
   "execution_count": 88,
   "metadata": {},
   "outputs": [
    {
     "data": {
      "text/plain": [
       "(16245,)"
      ]
     },
     "execution_count": 88,
     "metadata": {},
     "output_type": "execute_result"
    }
   ],
   "source": [
    "y.shape"
   ]
  },
  {
   "cell_type": "code",
   "execution_count": 89,
   "metadata": {},
   "outputs": [],
   "source": [
    "# Encoding the categorical columns using the get_dummies function\n",
    "\n",
    "X = pd.get_dummies(X)"
   ]
  },
  {
   "cell_type": "code",
   "execution_count": 90,
   "metadata": {},
   "outputs": [],
   "source": [
    "# Encoding the target variable as classification works with numbers only\n",
    "\n",
    "label_encoder = LabelEncoder()\n",
    "\n",
    "y = label_encoder.fit_transform(y)"
   ]
  },
  {
   "cell_type": "code",
   "execution_count": 91,
   "metadata": {},
   "outputs": [],
   "source": [
    "# Splitting the dataset into the Training set and Test set\n",
    "\n",
    "\n",
    "X_train, X_test, y_train, y_test = train_test_split(X, y, test_size=0.30, random_state=0)"
   ]
  },
  {
   "cell_type": "code",
   "execution_count": 92,
   "metadata": {},
   "outputs": [
    {
     "data": {
      "text/plain": [
       "LogisticRegression(C=1.0, class_weight=None, dual=False, fit_intercept=True,\n",
       "          intercept_scaling=1, max_iter=100, multi_class='warn',\n",
       "          n_jobs=None, penalty='l2', random_state=None, solver='warn',\n",
       "          tol=0.0001, verbose=0, warm_start=False)"
      ]
     },
     "execution_count": 92,
     "metadata": {},
     "output_type": "execute_result"
    }
   ],
   "source": [
    "###training the  data and predicting using logistic regression\n",
    "\n",
    "from sklearn.metrics import classification_report\n",
    "from sklearn.linear_model import LogisticRegression\n",
    "from sklearn import metrics\n",
    "from sklearn.metrics import f1_score\n",
    "model_log = LogisticRegression()\n",
    "model_log.fit(X_train, y_train)"
   ]
  },
  {
   "cell_type": "code",
   "execution_count": 93,
   "metadata": {},
   "outputs": [],
   "source": [
    "# Making predictions using the trained model\n",
    "\n",
    "y_pred = model_log.predict(X_test)"
   ]
  },
  {
   "cell_type": "code",
   "execution_count": 94,
   "metadata": {},
   "outputs": [
    {
     "name": "stdout",
     "output_type": "stream",
     "text": [
      "The accuracy score is: 0.9622486663931062 and the f1 score is 0.9807611877875366\n",
      "\n",
      "\n",
      "              precision    recall  f1-score   support\n",
      "\n",
      "           0       0.00      0.00      0.00       184\n",
      "           1       0.96      1.00      0.98      4690\n",
      "\n",
      "   micro avg       0.96      0.96      0.96      4874\n",
      "   macro avg       0.48      0.50      0.49      4874\n",
      "weighted avg       0.93      0.96      0.94      4874\n",
      "\n"
     ]
    },
    {
     "data": {
      "text/plain": [
       "array([[   0,  184],\n",
       "       [   0, 4690]], dtype=int64)"
      ]
     },
     "execution_count": 94,
     "metadata": {},
     "output_type": "execute_result"
    }
   ],
   "source": [
    "##Measuring the accuracy of the model\n",
    "\n",
    "print(f'The accuracy score is: {accuracy_score(y_test, y_pred)} and the f1 score is {f1_score(y_test, y_pred)}')\n",
    "print('\\n')\n",
    "print(f'{classification_report(y_test, y_pred)}')\n",
    "confusion_matrix(y_test, y_pred)"
   ]
  },
  {
   "cell_type": "markdown",
   "metadata": {},
   "source": [
    "### FURTHER FEATURE ENGINEERING"
   ]
  },
  {
   "cell_type": "code",
   "execution_count": 95,
   "metadata": {},
   "outputs": [],
   "source": [
    "from sklearn.utils import resample"
   ]
  },
  {
   "cell_type": "code",
   "execution_count": 96,
   "metadata": {},
   "outputs": [],
   "source": [
    "# Separate majority and minority classes\n",
    "df_majority = df[df.loan_classification == 'PERFORMING']\n",
    "df_minority = df[df.loan_classification == 'NON-PERFORMING']"
   ]
  },
  {
   "cell_type": "code",
   "execution_count": 97,
   "metadata": {},
   "outputs": [],
   "source": [
    "###upsampling the minority class which is the number of non performing loans by 30%\n",
    "\n",
    "df_minority_upsampled = resample(df_minority, \n",
    "                                 replace = True,    \n",
    "                                 n_samples = 5260, \n",
    "                                 random_state = 101) \n",
    " "
   ]
  },
  {
   "cell_type": "code",
   "execution_count": 98,
   "metadata": {},
   "outputs": [],
   "source": [
    "df_upsampled = pd.concat([df_majority, df_minority_upsampled])\n"
   ]
  },
  {
   "cell_type": "code",
   "execution_count": 99,
   "metadata": {},
   "outputs": [
    {
     "data": {
      "text/plain": [
       "PERFORMING        15624\n",
       "NON-PERFORMING     5260\n",
       "Name: loan_classification, dtype: int64"
      ]
     },
     "execution_count": 99,
     "metadata": {},
     "output_type": "execute_result"
    }
   ],
   "source": [
    "df_upsampled.loan_classification.value_counts()"
   ]
  },
  {
   "cell_type": "code",
   "execution_count": 100,
   "metadata": {},
   "outputs": [],
   "source": [
    "dff = df_upsampled"
   ]
  },
  {
   "cell_type": "code",
   "execution_count": 101,
   "metadata": {},
   "outputs": [],
   "source": [
    "# Splitting up the data into an X array that contains the features to train on, and a y array with the target variable\n",
    "\n",
    "X = dff.drop(['loan_classification'], axis = 1)"
   ]
  },
  {
   "cell_type": "code",
   "execution_count": 102,
   "metadata": {},
   "outputs": [
    {
     "data": {
      "text/plain": [
       "(20884, 16)"
      ]
     },
     "execution_count": 102,
     "metadata": {},
     "output_type": "execute_result"
    }
   ],
   "source": [
    "X.shape"
   ]
  },
  {
   "cell_type": "code",
   "execution_count": 103,
   "metadata": {},
   "outputs": [],
   "source": [
    "y = dff['loan_classification']"
   ]
  },
  {
   "cell_type": "code",
   "execution_count": 104,
   "metadata": {},
   "outputs": [
    {
     "data": {
      "text/plain": [
       "(20884,)"
      ]
     },
     "execution_count": 104,
     "metadata": {},
     "output_type": "execute_result"
    }
   ],
   "source": [
    "y.shape"
   ]
  },
  {
   "cell_type": "code",
   "execution_count": 105,
   "metadata": {},
   "outputs": [],
   "source": [
    "# Encoding the categorical columns using the get_dummies function\n",
    "\n",
    "X = pd.get_dummies(X)"
   ]
  },
  {
   "cell_type": "code",
   "execution_count": 106,
   "metadata": {},
   "outputs": [],
   "source": [
    "# Encoding the target variable as linear regression works with numbers only\n",
    "\n",
    "label_encoder = LabelEncoder()\n",
    "\n",
    "y = label_encoder.fit_transform(y)"
   ]
  },
  {
   "cell_type": "code",
   "execution_count": 107,
   "metadata": {},
   "outputs": [],
   "source": [
    "# Splitting the dataset into the Training set and Test set\n",
    "\n",
    "\n",
    "X_train, X_test, y_train, y_test = train_test_split(X, y, test_size=0.30, random_state=0)"
   ]
  },
  {
   "cell_type": "code",
   "execution_count": 108,
   "metadata": {},
   "outputs": [],
   "source": [
    "# Standardising the data\n",
    "\n",
    "sc = StandardScaler()\n",
    "X_train = sc.fit_transform(X_train)\n",
    "X_test = sc.transform(X_test)"
   ]
  },
  {
   "cell_type": "code",
   "execution_count": 109,
   "metadata": {},
   "outputs": [
    {
     "data": {
      "text/plain": [
       "LogisticRegression(C=1.0, class_weight=None, dual=False, fit_intercept=True,\n",
       "          intercept_scaling=1, max_iter=100, multi_class='warn',\n",
       "          n_jobs=None, penalty='l2', random_state=None, solver='warn',\n",
       "          tol=0.0001, verbose=0, warm_start=False)"
      ]
     },
     "execution_count": 109,
     "metadata": {},
     "output_type": "execute_result"
    }
   ],
   "source": [
    "###training the  data and predicting using logistic regression\n",
    "\n",
    "from sklearn.metrics import classification_report\n",
    "from sklearn.linear_model import LogisticRegression\n",
    "from sklearn import metrics\n",
    "from sklearn.metrics import f1_score\n",
    "model_log = LogisticRegression()\n",
    "model_log.fit(X_train, y_train)"
   ]
  },
  {
   "cell_type": "code",
   "execution_count": 110,
   "metadata": {},
   "outputs": [],
   "source": [
    "# Making predictions using the trained model\n",
    "\n",
    "y_pred = model_log.predict(X_test)"
   ]
  },
  {
   "cell_type": "code",
   "execution_count": 111,
   "metadata": {},
   "outputs": [
    {
     "name": "stdout",
     "output_type": "stream",
     "text": [
      "The accuracy score is: 0.9433450367060325 and the f1 score is 0.962406015037594\n",
      "\n",
      "\n",
      "              precision    recall  f1-score   support\n",
      "\n",
      "           0       0.90      0.87      0.89      1577\n",
      "           1       0.96      0.97      0.96      4689\n",
      "\n",
      "   micro avg       0.94      0.94      0.94      6266\n",
      "   macro avg       0.93      0.92      0.92      6266\n",
      "weighted avg       0.94      0.94      0.94      6266\n",
      "\n"
     ]
    },
    {
     "data": {
      "text/plain": [
       "array([[1367,  210],\n",
       "       [ 145, 4544]], dtype=int64)"
      ]
     },
     "execution_count": 111,
     "metadata": {},
     "output_type": "execute_result"
    }
   ],
   "source": [
    "##Measuring the accuracy of the model\n",
    "\n",
    "print(f'The accuracy score is: {accuracy_score(y_test, y_pred)} and the f1 score is {f1_score(y_test, y_pred)}')\n",
    "print('\\n')\n",
    "print(f'{classification_report(y_test, y_pred)}')\n",
    "confusion_matrix(y_test, y_pred)"
   ]
  },
  {
   "cell_type": "code",
   "execution_count": 112,
   "metadata": {},
   "outputs": [
    {
     "data": {
      "text/plain": [
       "<matplotlib.axes._subplots.AxesSubplot at 0x1cdb549b0b8>"
      ]
     },
     "execution_count": 112,
     "metadata": {},
     "output_type": "execute_result"
    },
    {
     "data": {
      "image/png": "[encoded data removed]",
      "text/plain": [
       "<Figure size 432x288 with 2 Axes>"
      ]
     },
     "metadata": {},
     "output_type": "display_data"
    }
   ],
   "source": [
    "confusion_matrix1 = confusion_matrix(y_test,y_pred)\n",
    "\n",
    "sns.heatmap(confusion_matrix1, annot = True, annot_kws={\"size\": 10},fmt=\"d\")"
   ]
  },
  {
   "cell_type": "code",
   "execution_count": 113,
   "metadata": {},
   "outputs": [
    {
     "data": {
      "image/png": "[encoded data removed]",
      "text/plain": [
       "<Figure size 432x288 with 1 Axes>"
      ]
     },
     "metadata": {},
     "output_type": "display_data"
    }
   ],
   "source": [
    "from sklearn.metrics import roc_auc_score, roc_curve\n",
    "\n",
    "auc = roc_auc_score(y_test, y_pred)\n",
    "fpr, tpr, thresholds = roc_curve(y_test, y_pred)\n",
    "plt.figure()\n",
    "plt.plot(fpr, tpr, label='Logistic Regression Model (area = %0.2f)' % auc)\n",
    "plt.plot([0, 1], [0, 1],'r--')\n",
    "plt.xlim([0.0, 1.0])\n",
    "plt.ylim([0.0, 1.05])\n",
    "plt.xlabel('False Positive Rate'), plt.ylabel('True Positive Rate'), plt.title('ROC')\n",
    "plt.legend(loc=\"lower right\")\n",
    "# plt.savefig('Log_ROC')\n",
    "plt.show()"
   ]
  },
  {
   "cell_type": "markdown",
   "metadata": {},
   "source": [
    "### RANDOM FOREST MODEL"
   ]
  },
  {
   "cell_type": "code",
   "execution_count": 114,
   "metadata": {},
   "outputs": [],
   "source": [
    "# Splitting up the data into an X array that contains the features to train on, and a y array with the target variable\n",
    "\n",
    "X = dff.drop(['loan_classification'], axis = 1)"
   ]
  },
  {
   "cell_type": "code",
   "execution_count": 115,
   "metadata": {},
   "outputs": [
    {
     "data": {
      "text/plain": [
       "(20884, 16)"
      ]
     },
     "execution_count": 115,
     "metadata": {},
     "output_type": "execute_result"
    }
   ],
   "source": [
    "X.shape"
   ]
  },
  {
   "cell_type": "code",
   "execution_count": 116,
   "metadata": {},
   "outputs": [],
   "source": [
    "y = dff['loan_classification']"
   ]
  },
  {
   "cell_type": "code",
   "execution_count": 117,
   "metadata": {},
   "outputs": [
    {
     "data": {
      "text/plain": [
       "(20884,)"
      ]
     },
     "execution_count": 117,
     "metadata": {},
     "output_type": "execute_result"
    }
   ],
   "source": [
    "y.shape"
   ]
  },
  {
   "cell_type": "code",
   "execution_count": 118,
   "metadata": {},
   "outputs": [],
   "source": [
    "# Encoding the categorical columns using the get_dummies function\n",
    "\n",
    "X = pd.get_dummies(X)"
   ]
  },
  {
   "cell_type": "code",
   "execution_count": 119,
   "metadata": {},
   "outputs": [],
   "source": [
    "# Encoding the target variable \n",
    "\n",
    "label_encoder = LabelEncoder()\n",
    "\n",
    "y = label_encoder.fit_transform(y)"
   ]
  },
  {
   "cell_type": "code",
   "execution_count": 120,
   "metadata": {},
   "outputs": [],
   "source": [
    "# Splitting the data into training and testing sets\n",
    "\n",
    "X_train, X_test, y_train, y_test = train_test_split(X, y, test_size = 0.3, random_state = 0)"
   ]
  },
  {
   "cell_type": "code",
   "execution_count": 121,
   "metadata": {},
   "outputs": [],
   "source": [
    "# Standardising the data\n",
    "\n",
    "sc = StandardScaler()\n",
    "X_train = sc.fit_transform(X_train)\n",
    "X_test = sc.transform(X_test)"
   ]
  },
  {
   "cell_type": "code",
   "execution_count": 122,
   "metadata": {},
   "outputs": [
    {
     "data": {
      "text/plain": [
       "RandomForestClassifier(bootstrap=True, class_weight=None, criterion='gini',\n",
       "            max_depth=None, max_features='auto', max_leaf_nodes=None,\n",
       "            min_impurity_decrease=0.0, min_impurity_split=None,\n",
       "            min_samples_leaf=1, min_samples_split=2,\n",
       "            min_weight_fraction_leaf=0.0, n_estimators=10, n_jobs=None,\n",
       "            oob_score=False, random_state=0, verbose=0, warm_start=False)"
      ]
     },
     "execution_count": 122,
     "metadata": {},
     "output_type": "execute_result"
    }
   ],
   "source": [
    "# Instantiating the model\n",
    "\n",
    "rf = RandomForestClassifier(random_state = 0)\n",
    "rf.fit(X_train, y_train)"
   ]
  },
  {
   "cell_type": "code",
   "execution_count": 123,
   "metadata": {},
   "outputs": [
    {
     "name": "stdout",
     "output_type": "stream",
     "text": [
      "The accuracy score is: 0.9928183849345675 and the f1 score is 0.9951783992285439\n",
      "\n",
      "\n",
      "              precision    recall  f1-score   support\n",
      "\n",
      "           0       0.97      1.00      0.99      1577\n",
      "           1       1.00      0.99      1.00      4689\n",
      "\n",
      "   micro avg       0.99      0.99      0.99      6266\n",
      "   macro avg       0.99      1.00      0.99      6266\n",
      "weighted avg       0.99      0.99      0.99      6266\n",
      "\n"
     ]
    },
    {
     "data": {
      "text/plain": [
       "array([[1577,    0],\n",
       "       [  45, 4644]], dtype=int64)"
      ]
     },
     "execution_count": 123,
     "metadata": {},
     "output_type": "execute_result"
    }
   ],
   "source": [
    "# Making predictions\n",
    "\n",
    "y_pred = rf.predict(X_test)\n",
    "\n",
    "# Measuring the accuracy of the model\n",
    "#\n",
    "print(f'The accuracy score is: {accuracy_score(y_test, y_pred)} and the f1 score is {f1_score(y_test, y_pred)}')\n",
    "print('\\n')\n",
    "print(f'{classification_report(y_test, y_pred)}')\n",
    "confusion_matrix(y_test, y_pred)"
   ]
  },
  {
   "cell_type": "code",
   "execution_count": 124,
   "metadata": {},
   "outputs": [
    {
     "data": {
      "text/html": [
       "<div>\n",
       "<style scoped>\n",
       "    .dataframe tbody tr th:only-of-type {\n",
       "        vertical-align: middle;\n",
       "    }\n",
       "\n",
       "    .dataframe tbody tr th {\n",
       "        vertical-align: top;\n",
       "    }\n",
       "\n",
       "    .dataframe thead th {\n",
       "        text-align: right;\n",
       "    }\n",
       "</style>\n",
       "<table border=\"1\" class=\"dataframe\">\n",
       "  <thead>\n",
       "    <tr style=\"text-align: right;\">\n",
       "      <th></th>\n",
       "      <th>importance</th>\n",
       "    </tr>\n",
       "    <tr>\n",
       "      <th>feature</th>\n",
       "      <th></th>\n",
       "    </tr>\n",
       "  </thead>\n",
       "  <tbody>\n",
       "    <tr>\n",
       "      <th>account_status_A</th>\n",
       "      <td>0.2405</td>\n",
       "    </tr>\n",
       "    <tr>\n",
       "      <th>account_status_L</th>\n",
       "      <td>0.1890</td>\n",
       "    </tr>\n",
       "    <tr>\n",
       "      <th>acy_avl_bal</th>\n",
       "      <td>0.1063</td>\n",
       "    </tr>\n",
       "    <tr>\n",
       "      <th>module_LATO</th>\n",
       "      <td>0.1034</td>\n",
       "    </tr>\n",
       "    <tr>\n",
       "      <th>amount_financed</th>\n",
       "      <td>0.0643</td>\n",
       "    </tr>\n",
       "    <tr>\n",
       "      <th>incr_allowed</th>\n",
       "      <td>0.0614</td>\n",
       "    </tr>\n",
       "    <tr>\n",
       "      <th>applied_amount</th>\n",
       "      <td>0.0587</td>\n",
       "    </tr>\n",
       "    <tr>\n",
       "      <th>balance</th>\n",
       "      <td>0.0536</td>\n",
       "    </tr>\n",
       "    <tr>\n",
       "      <th>module_AMPC</th>\n",
       "      <td>0.0259</td>\n",
       "    </tr>\n",
       "    <tr>\n",
       "      <th>date_difference</th>\n",
       "      <td>0.0226</td>\n",
       "    </tr>\n",
       "    <tr>\n",
       "      <th>product_code_AMPC</th>\n",
       "      <td>0.0220</td>\n",
       "    </tr>\n",
       "    <tr>\n",
       "      <th>module_STP</th>\n",
       "      <td>0.0144</td>\n",
       "    </tr>\n",
       "    <tr>\n",
       "      <th>product_code_PDLP</th>\n",
       "      <td>0.0106</td>\n",
       "    </tr>\n",
       "    <tr>\n",
       "      <th>marital_status_M</th>\n",
       "      <td>0.0047</td>\n",
       "    </tr>\n",
       "    <tr>\n",
       "      <th>marital_status_S</th>\n",
       "      <td>0.0045</td>\n",
       "    </tr>\n",
       "    <tr>\n",
       "      <th>sex_F</th>\n",
       "      <td>0.0036</td>\n",
       "    </tr>\n",
       "    <tr>\n",
       "      <th>sex_M</th>\n",
       "      <td>0.0032</td>\n",
       "    </tr>\n",
       "    <tr>\n",
       "      <th>minor_N</th>\n",
       "      <td>0.0030</td>\n",
       "    </tr>\n",
       "    <tr>\n",
       "      <th>module_DFPS</th>\n",
       "      <td>0.0016</td>\n",
       "    </tr>\n",
       "    <tr>\n",
       "      <th>minor_Y</th>\n",
       "      <td>0.0016</td>\n",
       "    </tr>\n",
       "    <tr>\n",
       "      <th>customer_category_SAL</th>\n",
       "      <td>0.0015</td>\n",
       "    </tr>\n",
       "    <tr>\n",
       "      <th>customer_category_IND</th>\n",
       "      <td>0.0013</td>\n",
       "    </tr>\n",
       "    <tr>\n",
       "      <th>product_code_STPL</th>\n",
       "      <td>0.0007</td>\n",
       "    </tr>\n",
       "    <tr>\n",
       "      <th>product_code_PDSS</th>\n",
       "      <td>0.0007</td>\n",
       "    </tr>\n",
       "    <tr>\n",
       "      <th>marital_status_P</th>\n",
       "      <td>0.0003</td>\n",
       "    </tr>\n",
       "    <tr>\n",
       "      <th>customer_category_HNI</th>\n",
       "      <td>0.0002</td>\n",
       "    </tr>\n",
       "    <tr>\n",
       "      <th>customer_category_RSA</th>\n",
       "      <td>0.0001</td>\n",
       "    </tr>\n",
       "    <tr>\n",
       "      <th>customer_category_TIER2</th>\n",
       "      <td>0.0001</td>\n",
       "    </tr>\n",
       "    <tr>\n",
       "      <th>product_code_KPLA</th>\n",
       "      <td>0.0001</td>\n",
       "    </tr>\n",
       "    <tr>\n",
       "      <th>customer_category_WALKIN</th>\n",
       "      <td>0.0001</td>\n",
       "    </tr>\n",
       "    <tr>\n",
       "      <th>product_code_MPTL</th>\n",
       "      <td>0.0000</td>\n",
       "    </tr>\n",
       "    <tr>\n",
       "      <th>product_code_DFPS</th>\n",
       "      <td>0.0000</td>\n",
       "    </tr>\n",
       "    <tr>\n",
       "      <th>product_code_STLM</th>\n",
       "      <td>0.0000</td>\n",
       "    </tr>\n",
       "    <tr>\n",
       "      <th>product_code_STLP</th>\n",
       "      <td>0.0000</td>\n",
       "    </tr>\n",
       "    <tr>\n",
       "      <th>product_code_SADV</th>\n",
       "      <td>0.0000</td>\n",
       "    </tr>\n",
       "    <tr>\n",
       "      <th>product_code_MPTA</th>\n",
       "      <td>0.0000</td>\n",
       "    </tr>\n",
       "    <tr>\n",
       "      <th>customer_type_C</th>\n",
       "      <td>0.0000</td>\n",
       "    </tr>\n",
       "    <tr>\n",
       "      <th>application_status_D</th>\n",
       "      <td>0.0000</td>\n",
       "    </tr>\n",
       "    <tr>\n",
       "      <th>customer_type_I</th>\n",
       "      <td>0.0000</td>\n",
       "    </tr>\n",
       "    <tr>\n",
       "      <th>marital_status_D</th>\n",
       "      <td>0.0000</td>\n",
       "    </tr>\n",
       "    <tr>\n",
       "      <th>sex_P</th>\n",
       "      <td>0.0000</td>\n",
       "    </tr>\n",
       "    <tr>\n",
       "      <th>sex_</th>\n",
       "      <td>0.0000</td>\n",
       "    </tr>\n",
       "    <tr>\n",
       "      <th>minor_M</th>\n",
       "      <td>0.0000</td>\n",
       "    </tr>\n",
       "    <tr>\n",
       "      <th>customer_category_TIER1</th>\n",
       "      <td>0.0000</td>\n",
       "    </tr>\n",
       "    <tr>\n",
       "      <th>customer_category_SUPERMARKT</th>\n",
       "      <td>0.0000</td>\n",
       "    </tr>\n",
       "    <tr>\n",
       "      <th>customer_category_STUDENTS</th>\n",
       "      <td>0.0000</td>\n",
       "    </tr>\n",
       "    <tr>\n",
       "      <th>customer_category_CORP</th>\n",
       "      <td>0.0000</td>\n",
       "    </tr>\n",
       "    <tr>\n",
       "      <th>language_ENG</th>\n",
       "      <td>0.0000</td>\n",
       "    </tr>\n",
       "    <tr>\n",
       "      <th>language_CHS</th>\n",
       "      <td>0.0000</td>\n",
       "    </tr>\n",
       "    <tr>\n",
       "      <th>marital_status_E</th>\n",
       "      <td>0.0000</td>\n",
       "    </tr>\n",
       "  </tbody>\n",
       "</table>\n",
       "</div>"
      ],
      "text/plain": [
       "                              importance\n",
       "feature                                 \n",
       "account_status_A                  0.2405\n",
       "account_status_L                  0.1890\n",
       "acy_avl_bal                       0.1063\n",
       "module_LATO                       0.1034\n",
       "amount_financed                   0.0643\n",
       "incr_allowed                      0.0614\n",
       "applied_amount                    0.0587\n",
       "balance                           0.0536\n",
       "module_AMPC                       0.0259\n",
       "date_difference                   0.0226\n",
       "product_code_AMPC                 0.0220\n",
       "module_STP                        0.0144\n",
       "product_code_PDLP                 0.0106\n",
       "marital_status_M                  0.0047\n",
       "marital_status_S                  0.0045\n",
       "sex_F                             0.0036\n",
       "sex_M                             0.0032\n",
       "minor_N                           0.0030\n",
       "module_DFPS                       0.0016\n",
       "minor_Y                           0.0016\n",
       "customer_category_SAL             0.0015\n",
       "customer_category_IND             0.0013\n",
       "product_code_STPL                 0.0007\n",
       "product_code_PDSS                 0.0007\n",
       "marital_status_P                  0.0003\n",
       "customer_category_HNI             0.0002\n",
       "customer_category_RSA             0.0001\n",
       "customer_category_TIER2           0.0001\n",
       "product_code_KPLA                 0.0001\n",
       "customer_category_WALKIN          0.0001\n",
       "product_code_MPTL                 0.0000\n",
       "product_code_DFPS                 0.0000\n",
       "product_code_STLM                 0.0000\n",
       "product_code_STLP                 0.0000\n",
       "product_code_SADV                 0.0000\n",
       "product_code_MPTA                 0.0000\n",
       "customer_type_C                   0.0000\n",
       "application_status_D              0.0000\n",
       "customer_type_I                   0.0000\n",
       "marital_status_D                  0.0000\n",
       "sex_P                             0.0000\n",
       "sex_                              0.0000\n",
       "minor_M                           0.0000\n",
       "customer_category_TIER1           0.0000\n",
       "customer_category_SUPERMARKT      0.0000\n",
       "customer_category_STUDENTS        0.0000\n",
       "customer_category_CORP            0.0000\n",
       "language_ENG                      0.0000\n",
       "language_CHS                      0.0000\n",
       "marital_status_E                  0.0000"
      ]
     },
     "execution_count": 124,
     "metadata": {},
     "output_type": "execute_result"
    }
   ],
   "source": [
    "# Checking for the most important features that contribute most in predicting the target\n",
    "# Creating a dataframe of features and their respective importances\n",
    "\n",
    "impo_df = pd.DataFrame({'feature': X.columns, 'importance': np.round(rf.feature_importances_, 4)}).set_index('feature').sort_values(by = 'importance', ascending = False)\n",
    "impo_df"
   ]
  },
  {
   "cell_type": "code",
   "execution_count": 125,
   "metadata": {},
   "outputs": [
    {
     "data": {
      "image/png": "[encoded data removed]",
      "text/plain": [
       "<Figure size 720x720 with 1 Axes>"
      ]
     },
     "metadata": {},
     "output_type": "display_data"
    }
   ],
   "source": [
    "# Creating a bar chart of feature importance in descending order\n",
    "\n",
    "impo_df = impo_df[:12].sort_values(by = 'importance', ascending = True)\n",
    "impo_df.plot(kind = 'barh', figsize = (10, 10), color = 'purple')\n",
    "plt.legend(loc = 'center right')\n",
    "plt.title('Bar chart showing feature importance', color = 'indigo', fontsize = 14)\n",
    "plt.xlabel('Features', fontsize = 12, color = 'indigo')\n",
    "plt.show()"
   ]
  },
  {
   "cell_type": "markdown",
   "metadata": {},
   "source": [
    "*From the above feature importance barchart, it can be observed that:*\n",
    "\n",
    "\n",
    "*   The most important feature in predicting whether a loan is performing or not performing\n",
    "*   The following features are important in predicting the target;\n",
    "                      * account_status_a   * amount_financed   * module_AMPC               \n",
    "                      * account_status_l   * incr_allowed      * date_difference     \n",
    "                      * module_LATO        * applied_amount    * product_code_AMPC  \n",
    "                      * acy_avl_bal        * balance           * module_STP            \n"
   ]
  },
  {
   "cell_type": "markdown",
   "metadata": {},
   "source": [
    "### Remodelling with the most important features only"
   ]
  },
  {
   "cell_type": "markdown",
   "metadata": {},
   "source": [
    "I will be dropping 'acy_avl_bal and amount_financed' because they have a very high correlation > 0.96 and I wouldn't want my model generalizing"
   ]
  },
  {
   "cell_type": "code",
   "execution_count": 126,
   "metadata": {},
   "outputs": [],
   "source": [
    "# Selecting only important features and the y variable\n",
    "\n",
    "X = X[['account_status_A', 'account_status_L', 'module_LATO', 'incr_allowed', 'applied_amount',\n",
    "        'balance', 'module_AMPC', 'date_difference', 'product_code_AMPC', 'module_STP']]"
   ]
  },
  {
   "cell_type": "code",
   "execution_count": 127,
   "metadata": {},
   "outputs": [
    {
     "data": {
      "text/plain": [
       "(20884, 10)"
      ]
     },
     "execution_count": 127,
     "metadata": {},
     "output_type": "execute_result"
    }
   ],
   "source": [
    "X.shape"
   ]
  },
  {
   "cell_type": "code",
   "execution_count": 128,
   "metadata": {},
   "outputs": [
    {
     "data": {
      "text/plain": [
       "(20884,)"
      ]
     },
     "execution_count": 128,
     "metadata": {},
     "output_type": "execute_result"
    }
   ],
   "source": [
    "y.shape"
   ]
  },
  {
   "cell_type": "code",
   "execution_count": 129,
   "metadata": {},
   "outputs": [],
   "source": [
    "# Splitting the data into training and testing sets\n",
    "\n",
    "X_train, X_test, y_train, y_test = train_test_split(X, y, test_size = 0.3, random_state = 0)\n"
   ]
  },
  {
   "cell_type": "code",
   "execution_count": 130,
   "metadata": {},
   "outputs": [],
   "source": [
    "# Standardising the data\n",
    "\n",
    "sc = StandardScaler()\n",
    "X_train = sc.fit_transform(X_train)\n",
    "X_test = sc.transform(X_test)"
   ]
  },
  {
   "cell_type": "code",
   "execution_count": 131,
   "metadata": {},
   "outputs": [
    {
     "data": {
      "text/plain": [
       "RandomForestClassifier(bootstrap=True, class_weight=None, criterion='gini',\n",
       "            max_depth=None, max_features='auto', max_leaf_nodes=None,\n",
       "            min_impurity_decrease=0.0, min_impurity_split=None,\n",
       "            min_samples_leaf=1, min_samples_split=2,\n",
       "            min_weight_fraction_leaf=0.0, n_estimators=10, n_jobs=None,\n",
       "            oob_score=False, random_state=0, verbose=0, warm_start=False)"
      ]
     },
     "execution_count": 131,
     "metadata": {},
     "output_type": "execute_result"
    }
   ],
   "source": [
    "# Instantiating the model\n",
    "\n",
    "rf = RandomForestClassifier(random_state = 0)\n",
    "rf.fit(X_train, y_train)\n"
   ]
  },
  {
   "cell_type": "code",
   "execution_count": 132,
   "metadata": {},
   "outputs": [
    {
     "name": "stdout",
     "output_type": "stream",
     "text": [
      "The accuracy score is: 0.980529843600383 and the f1 score is 0.9868307426597582\n",
      "\n",
      "\n",
      "              precision    recall  f1-score   support\n",
      "\n",
      "           0       0.93      1.00      0.96      1577\n",
      "           1       1.00      0.97      0.99      4689\n",
      "\n",
      "   micro avg       0.98      0.98      0.98      6266\n",
      "   macro avg       0.96      0.99      0.97      6266\n",
      "weighted avg       0.98      0.98      0.98      6266\n",
      "\n"
     ]
    },
    {
     "data": {
      "text/plain": [
       "array([[1573,    4],\n",
       "       [ 118, 4571]], dtype=int64)"
      ]
     },
     "execution_count": 132,
     "metadata": {},
     "output_type": "execute_result"
    }
   ],
   "source": [
    "# Making predictions\n",
    "\n",
    "y_pred = rf.predict(X_test)\n",
    "\n",
    "# Measuring the accuracy of the model\n",
    "#\n",
    "print(f'The accuracy score is: {accuracy_score(y_test, y_pred)} and the f1 score is {f1_score(y_test, y_pred)}')\n",
    "print('\\n')\n",
    "print(f'{classification_report(y_test, y_pred)}')\n",
    "confusion_matrix(y_test, y_pred)"
   ]
  },
  {
   "cell_type": "markdown",
   "metadata": {},
   "source": [
    "There is a marginal decrease in f1 score, from 99% to 98%"
   ]
  },
  {
   "cell_type": "markdown",
   "metadata": {},
   "source": [
    "### Parameter Tuning"
   ]
  },
  {
   "cell_type": "code",
   "execution_count": 133,
   "metadata": {},
   "outputs": [
    {
     "data": {
      "text/plain": [
       "RandomForestClassifier(bootstrap=True, class_weight=None, criterion='gini',\n",
       "            max_depth=None, max_features='auto', max_leaf_nodes=None,\n",
       "            min_impurity_decrease=0.0, min_impurity_split=None,\n",
       "            min_samples_leaf=1, min_samples_split=2,\n",
       "            min_weight_fraction_leaf=0.0, n_estimators='warn', n_jobs=None,\n",
       "            oob_score=False, random_state=None, verbose=0,\n",
       "            warm_start=False)"
      ]
     },
     "execution_count": 133,
     "metadata": {},
     "output_type": "execute_result"
    }
   ],
   "source": [
    "RandomForestClassifier()"
   ]
  },
  {
   "cell_type": "code",
   "execution_count": 134,
   "metadata": {},
   "outputs": [
    {
     "name": "stdout",
     "output_type": "stream",
     "text": [
      "The best parameters are: {'max_depth': 5, 'n_estimators': 30}\n"
     ]
    }
   ],
   "source": [
    "# Creating a dictionary of parameters to tune\n",
    "\n",
    "params = {'n_estimators': [10, 20, 30, 50, 100],\n",
    "         'max_depth': [1, 2, 3, 4, 5]}\n",
    "\n",
    "# Setting the number of folds to 10 and instantiating the model\n",
    "# \n",
    "kfold = KFold(n_splits=10, shuffle=True)\n",
    "model = RandomForestClassifier()\n",
    "\n",
    "search = GridSearchCV(model, param_grid=params, scoring = 'f1', cv = kfold)\n",
    "\n",
    "# Fitting the grid search with the X and the y variables\n",
    "#\n",
    "search.fit(X, y)\n",
    "\n",
    "# Checking for the best parameters\n",
    "#\n",
    "print(f'The best parameters are: {search.best_params_}')"
   ]
  },
  {
   "cell_type": "code",
   "execution_count": 135,
   "metadata": {},
   "outputs": [],
   "source": [
    "# Selecting only important features and the y variable\n",
    "\n",
    "X = X[['account_status_A', 'account_status_L', 'module_LATO', 'incr_allowed', 'applied_amount',\n",
    "        'balance', 'module_AMPC', 'date_difference', 'product_code_AMPC', 'module_STP']]"
   ]
  },
  {
   "cell_type": "code",
   "execution_count": 136,
   "metadata": {},
   "outputs": [
    {
     "data": {
      "text/plain": [
       "(20884,)"
      ]
     },
     "execution_count": 136,
     "metadata": {},
     "output_type": "execute_result"
    }
   ],
   "source": [
    "y.shape"
   ]
  },
  {
   "cell_type": "code",
   "execution_count": 137,
   "metadata": {},
   "outputs": [],
   "source": [
    "# Splitting the data into training and testing sets\n",
    "\n",
    "X_train, X_test, y_train, y_test = train_test_split(X, y, test_size = 0.3, random_state = 0)\n"
   ]
  },
  {
   "cell_type": "code",
   "execution_count": 138,
   "metadata": {},
   "outputs": [
    {
     "data": {
      "text/plain": [
       "RandomForestClassifier(bootstrap=True, class_weight=None, criterion='gini',\n",
       "            max_depth=5, max_features='auto', max_leaf_nodes=None,\n",
       "            min_impurity_decrease=0.0, min_impurity_split=None,\n",
       "            min_samples_leaf=1, min_samples_split=2,\n",
       "            min_weight_fraction_leaf=0.0, n_estimators=20, n_jobs=None,\n",
       "            oob_score=False, random_state=0, verbose=0, warm_start=False)"
      ]
     },
     "execution_count": 138,
     "metadata": {},
     "output_type": "execute_result"
    }
   ],
   "source": [
    "# Instantiating the model\n",
    "\n",
    "rf = RandomForestClassifier(n_estimators=20, max_depth=5, random_state = 0)\n",
    "rf.fit(X_train, y_train)"
   ]
  },
  {
   "cell_type": "code",
   "execution_count": 139,
   "metadata": {},
   "outputs": [
    {
     "name": "stdout",
     "output_type": "stream",
     "text": [
      "The accuracy score is: 0.9407915735716565 and the f1 score is 0.961000735835173\n",
      "\n",
      "\n",
      "              precision    recall  f1-score   support\n",
      "\n",
      "           0       0.92      0.84      0.88      1577\n",
      "           1       0.95      0.97      0.96      4689\n",
      "\n",
      "   micro avg       0.94      0.94      0.94      6266\n",
      "   macro avg       0.93      0.91      0.92      6266\n",
      "weighted avg       0.94      0.94      0.94      6266\n",
      "\n"
     ]
    },
    {
     "data": {
      "text/plain": [
       "array([[1324,  253],\n",
       "       [ 118, 4571]], dtype=int64)"
      ]
     },
     "execution_count": 139,
     "metadata": {},
     "output_type": "execute_result"
    }
   ],
   "source": [
    "# Making predictions\n",
    "\n",
    "y_pred = rf.predict(X_test)\n",
    "\n",
    "# Measuring the accuracy of the model\n",
    "#\n",
    "print(f'The accuracy score is: {accuracy_score(y_test, y_pred)} and the f1 score is {f1_score(y_test, y_pred)}')\n",
    "print('\\n')\n",
    "print(f'{classification_report(y_test, y_pred)}')\n",
    "confusion_matrix(y_test, y_pred)"
   ]
  },
  {
   "cell_type": "markdown",
   "metadata": {},
   "source": [
    "### *Parameter tuning has generally decreased the f1 score by a small margin, but the stability of the model has improved*"
   ]
  },
  {
   "cell_type": "markdown",
   "metadata": {},
   "source": [
    "#### Cross Validation to check for the stability of the mode"
   ]
  },
  {
   "cell_type": "code",
   "execution_count": 140,
   "metadata": {},
   "outputs": [
    {
     "name": "stdout",
     "output_type": "stream",
     "text": [
      "Mean of cross validation scores is 0.9598576931550102\n",
      "Standard deviation of the cross validation scores is 0.006002229099917142\n"
     ]
    }
   ],
   "source": [
    "# Performing cross validation of ten folds\n",
    "\n",
    "scores = cross_val_score(rf, X, y, scoring = 'f1', cv = 10)\n",
    "\n",
    "# Calculating the mean of the cross validation scores\n",
    "\n",
    "print(f'Mean of cross validation scores is {scores.mean()}')\n",
    "\n",
    "# Calculating the variance of the cross validation scores from the mean\n",
    "\n",
    "print(f'Standard deviation of the cross validation scores is {scores.std()}')"
   ]
  },
  {
   "cell_type": "markdown",
   "metadata": {},
   "source": [
    "\n",
    "\n",
    "\n",
    "*The true f1 score of the model is approximately 95.9%, with a variance of 0.0058.*\n"
   ]
  },
  {
   "cell_type": "code",
   "execution_count": 141,
   "metadata": {
    "scrolled": true
   },
   "outputs": [
    {
     "data": {
      "image/png": "[encoded data removed]",
      "text/plain": [
       "<Figure size 432x288 with 1 Axes>"
      ]
     },
     "metadata": {},
     "output_type": "display_data"
    }
   ],
   "source": [
    "from sklearn.metrics import roc_auc_score, roc_curve\n",
    "\n",
    "auc = roc_auc_score(y_test, y_pred)\n",
    "fpr, tpr, thresholds = roc_curve(y_test, y_pred)\n",
    "plt.figure()\n",
    "plt.plot(fpr, tpr, label='Random Forest Model (area = %0.2f)' % auc)\n",
    "plt.plot([0, 1], [0, 1],'r--')\n",
    "plt.xlim([0.0, 1.0])\n",
    "plt.ylim([0.0, 1.05])\n",
    "plt.xlabel('False Positive Rate'), plt.ylabel('True Positive Rate'), plt.title('ROC')\n",
    "plt.legend(loc=\"lower right\")\n",
    "# plt.savefig('Log_ROC')\n",
    "plt.show()"
   ]
  },
  {
   "cell_type": "markdown",
   "metadata": {},
   "source": [
    "### DECISION TREE MODEL"
   ]
  },
  {
   "cell_type": "code",
   "execution_count": 142,
   "metadata": {},
   "outputs": [],
   "source": [
    "# Splitting up the data into an X array that contains the features to train on, and a y array with the target variable\n",
    "\n",
    "X = dff.drop(['loan_classification'], axis = 1)"
   ]
  },
  {
   "cell_type": "code",
   "execution_count": 143,
   "metadata": {},
   "outputs": [
    {
     "data": {
      "text/plain": [
       "(20884, 16)"
      ]
     },
     "execution_count": 143,
     "metadata": {},
     "output_type": "execute_result"
    }
   ],
   "source": [
    "X.shape"
   ]
  },
  {
   "cell_type": "code",
   "execution_count": 144,
   "metadata": {},
   "outputs": [],
   "source": [
    "y = dff['loan_classification']"
   ]
  },
  {
   "cell_type": "code",
   "execution_count": 145,
   "metadata": {},
   "outputs": [
    {
     "data": {
      "text/plain": [
       "(20884,)"
      ]
     },
     "execution_count": 145,
     "metadata": {},
     "output_type": "execute_result"
    }
   ],
   "source": [
    "y.shape"
   ]
  },
  {
   "cell_type": "code",
   "execution_count": 146,
   "metadata": {},
   "outputs": [],
   "source": [
    "# Encoding the categorical columns using the get_dummies function\n",
    "\n",
    "X = pd.get_dummies(X)"
   ]
  },
  {
   "cell_type": "code",
   "execution_count": 147,
   "metadata": {},
   "outputs": [],
   "source": [
    "# Encoding the target variable \n",
    "\n",
    "label_encoder = LabelEncoder()\n",
    "\n",
    "y = label_encoder.fit_transform(y)"
   ]
  },
  {
   "cell_type": "code",
   "execution_count": 148,
   "metadata": {},
   "outputs": [],
   "source": [
    "# Splitting the data into training and testing sets\n",
    "\n",
    "X_train, X_test, y_train, y_test = train_test_split(X, y, test_size = 0.3, random_state = 0)"
   ]
  },
  {
   "cell_type": "code",
   "execution_count": 149,
   "metadata": {},
   "outputs": [],
   "source": [
    "# Standardising the data\n",
    "\n",
    "sc = StandardScaler()\n",
    "X_train = sc.fit_transform(X_train)\n",
    "X_test = sc.transform(X_test)"
   ]
  },
  {
   "cell_type": "code",
   "execution_count": 150,
   "metadata": {},
   "outputs": [
    {
     "data": {
      "text/plain": [
       "DecisionTreeClassifier(class_weight=None, criterion='gini', max_depth=None,\n",
       "            max_features=None, max_leaf_nodes=None,\n",
       "            min_impurity_decrease=0.0, min_impurity_split=None,\n",
       "            min_samples_leaf=1, min_samples_split=2,\n",
       "            min_weight_fraction_leaf=0.0, presort=False, random_state=0,\n",
       "            splitter='best')"
      ]
     },
     "execution_count": 150,
     "metadata": {},
     "output_type": "execute_result"
    }
   ],
   "source": [
    "# Instantiating the model\n",
    "\n",
    "dc = DecisionTreeClassifier(random_state = 0)\n",
    "dc.fit(X_train, y_train)"
   ]
  },
  {
   "cell_type": "code",
   "execution_count": 151,
   "metadata": {},
   "outputs": [
    {
     "name": "stdout",
     "output_type": "stream",
     "text": [
      "The accuracy score is: 0.9905841046919885 and the f1 score is 0.9936688485889044\n",
      "\n",
      "\n",
      "              precision    recall  f1-score   support\n",
      "\n",
      "           0       0.96      1.00      0.98      1577\n",
      "           1       1.00      0.99      0.99      4689\n",
      "\n",
      "   micro avg       0.99      0.99      0.99      6266\n",
      "   macro avg       0.98      0.99      0.99      6266\n",
      "weighted avg       0.99      0.99      0.99      6266\n",
      "\n"
     ]
    },
    {
     "data": {
      "text/plain": [
       "array([[1577,    0],\n",
       "       [  59, 4630]], dtype=int64)"
      ]
     },
     "execution_count": 151,
     "metadata": {},
     "output_type": "execute_result"
    }
   ],
   "source": [
    "# Making predictions\n",
    "\n",
    "y_pred = dc.predict(X_test)\n",
    "\n",
    "# Measuring the accuracy of the model\n",
    "#\n",
    "print(f'The accuracy score is: {accuracy_score(y_test, y_pred)} and the f1 score is {f1_score(y_test, y_pred)}')\n",
    "print('\\n')\n",
    "print(f'{classification_report(y_test, y_pred)}')\n",
    "confusion_matrix(y_test, y_pred)"
   ]
  },
  {
   "cell_type": "code",
   "execution_count": 152,
   "metadata": {},
   "outputs": [
    {
     "data": {
      "text/html": [
       "<div>\n",
       "<style scoped>\n",
       "    .dataframe tbody tr th:only-of-type {\n",
       "        vertical-align: middle;\n",
       "    }\n",
       "\n",
       "    .dataframe tbody tr th {\n",
       "        vertical-align: top;\n",
       "    }\n",
       "\n",
       "    .dataframe thead th {\n",
       "        text-align: right;\n",
       "    }\n",
       "</style>\n",
       "<table border=\"1\" class=\"dataframe\">\n",
       "  <thead>\n",
       "    <tr style=\"text-align: right;\">\n",
       "      <th></th>\n",
       "      <th>importance</th>\n",
       "    </tr>\n",
       "    <tr>\n",
       "      <th>feature</th>\n",
       "      <th></th>\n",
       "    </tr>\n",
       "  </thead>\n",
       "  <tbody>\n",
       "    <tr>\n",
       "      <th>account_status_A</th>\n",
       "      <td>0.6180</td>\n",
       "    </tr>\n",
       "    <tr>\n",
       "      <th>amount_financed</th>\n",
       "      <td>0.0896</td>\n",
       "    </tr>\n",
       "    <tr>\n",
       "      <th>module_LATO</th>\n",
       "      <td>0.0850</td>\n",
       "    </tr>\n",
       "    <tr>\n",
       "      <th>acy_avl_bal</th>\n",
       "      <td>0.0709</td>\n",
       "    </tr>\n",
       "    <tr>\n",
       "      <th>balance</th>\n",
       "      <td>0.0401</td>\n",
       "    </tr>\n",
       "    <tr>\n",
       "      <th>applied_amount</th>\n",
       "      <td>0.0379</td>\n",
       "    </tr>\n",
       "    <tr>\n",
       "      <th>product_code_PDLP</th>\n",
       "      <td>0.0231</td>\n",
       "    </tr>\n",
       "    <tr>\n",
       "      <th>date_difference</th>\n",
       "      <td>0.0120</td>\n",
       "    </tr>\n",
       "    <tr>\n",
       "      <th>marital_status_M</th>\n",
       "      <td>0.0081</td>\n",
       "    </tr>\n",
       "    <tr>\n",
       "      <th>marital_status_S</th>\n",
       "      <td>0.0043</td>\n",
       "    </tr>\n",
       "    <tr>\n",
       "      <th>incr_allowed</th>\n",
       "      <td>0.0029</td>\n",
       "    </tr>\n",
       "    <tr>\n",
       "      <th>sex_M</th>\n",
       "      <td>0.0024</td>\n",
       "    </tr>\n",
       "    <tr>\n",
       "      <th>customer_category_SAL</th>\n",
       "      <td>0.0019</td>\n",
       "    </tr>\n",
       "    <tr>\n",
       "      <th>product_code_PDSS</th>\n",
       "      <td>0.0015</td>\n",
       "    </tr>\n",
       "    <tr>\n",
       "      <th>minor_Y</th>\n",
       "      <td>0.0010</td>\n",
       "    </tr>\n",
       "    <tr>\n",
       "      <th>customer_category_HNI</th>\n",
       "      <td>0.0008</td>\n",
       "    </tr>\n",
       "    <tr>\n",
       "      <th>customer_category_IND</th>\n",
       "      <td>0.0003</td>\n",
       "    </tr>\n",
       "    <tr>\n",
       "      <th>minor_N</th>\n",
       "      <td>0.0001</td>\n",
       "    </tr>\n",
       "    <tr>\n",
       "      <th>sex_F</th>\n",
       "      <td>0.0001</td>\n",
       "    </tr>\n",
       "    <tr>\n",
       "      <th>product_code_STLP</th>\n",
       "      <td>0.0000</td>\n",
       "    </tr>\n",
       "    <tr>\n",
       "      <th>product_code_STLM</th>\n",
       "      <td>0.0000</td>\n",
       "    </tr>\n",
       "    <tr>\n",
       "      <th>product_code_SADV</th>\n",
       "      <td>0.0000</td>\n",
       "    </tr>\n",
       "    <tr>\n",
       "      <th>product_code_STPL</th>\n",
       "      <td>0.0000</td>\n",
       "    </tr>\n",
       "    <tr>\n",
       "      <th>module_DFPS</th>\n",
       "      <td>0.0000</td>\n",
       "    </tr>\n",
       "    <tr>\n",
       "      <th>customer_type_I</th>\n",
       "      <td>0.0000</td>\n",
       "    </tr>\n",
       "    <tr>\n",
       "      <th>customer_type_C</th>\n",
       "      <td>0.0000</td>\n",
       "    </tr>\n",
       "    <tr>\n",
       "      <th>product_code_MPTL</th>\n",
       "      <td>0.0000</td>\n",
       "    </tr>\n",
       "    <tr>\n",
       "      <th>product_code_MPTA</th>\n",
       "      <td>0.0000</td>\n",
       "    </tr>\n",
       "    <tr>\n",
       "      <th>product_code_KPLA</th>\n",
       "      <td>0.0000</td>\n",
       "    </tr>\n",
       "    <tr>\n",
       "      <th>product_code_DFPS</th>\n",
       "      <td>0.0000</td>\n",
       "    </tr>\n",
       "    <tr>\n",
       "      <th>product_code_AMPC</th>\n",
       "      <td>0.0000</td>\n",
       "    </tr>\n",
       "    <tr>\n",
       "      <th>module_STP</th>\n",
       "      <td>0.0000</td>\n",
       "    </tr>\n",
       "    <tr>\n",
       "      <th>language_CHS</th>\n",
       "      <td>0.0000</td>\n",
       "    </tr>\n",
       "    <tr>\n",
       "      <th>language_ENG</th>\n",
       "      <td>0.0000</td>\n",
       "    </tr>\n",
       "    <tr>\n",
       "      <th>module_AMPC</th>\n",
       "      <td>0.0000</td>\n",
       "    </tr>\n",
       "    <tr>\n",
       "      <th>application_status_D</th>\n",
       "      <td>0.0000</td>\n",
       "    </tr>\n",
       "    <tr>\n",
       "      <th>customer_category_RSA</th>\n",
       "      <td>0.0000</td>\n",
       "    </tr>\n",
       "    <tr>\n",
       "      <th>marital_status_P</th>\n",
       "      <td>0.0000</td>\n",
       "    </tr>\n",
       "    <tr>\n",
       "      <th>customer_category_CORP</th>\n",
       "      <td>0.0000</td>\n",
       "    </tr>\n",
       "    <tr>\n",
       "      <th>marital_status_E</th>\n",
       "      <td>0.0000</td>\n",
       "    </tr>\n",
       "    <tr>\n",
       "      <th>marital_status_D</th>\n",
       "      <td>0.0000</td>\n",
       "    </tr>\n",
       "    <tr>\n",
       "      <th>sex_P</th>\n",
       "      <td>0.0000</td>\n",
       "    </tr>\n",
       "    <tr>\n",
       "      <th>sex_</th>\n",
       "      <td>0.0000</td>\n",
       "    </tr>\n",
       "    <tr>\n",
       "      <th>minor_M</th>\n",
       "      <td>0.0000</td>\n",
       "    </tr>\n",
       "    <tr>\n",
       "      <th>customer_category_WALKIN</th>\n",
       "      <td>0.0000</td>\n",
       "    </tr>\n",
       "    <tr>\n",
       "      <th>customer_category_TIER2</th>\n",
       "      <td>0.0000</td>\n",
       "    </tr>\n",
       "    <tr>\n",
       "      <th>customer_category_TIER1</th>\n",
       "      <td>0.0000</td>\n",
       "    </tr>\n",
       "    <tr>\n",
       "      <th>customer_category_SUPERMARKT</th>\n",
       "      <td>0.0000</td>\n",
       "    </tr>\n",
       "    <tr>\n",
       "      <th>customer_category_STUDENTS</th>\n",
       "      <td>0.0000</td>\n",
       "    </tr>\n",
       "    <tr>\n",
       "      <th>account_status_L</th>\n",
       "      <td>0.0000</td>\n",
       "    </tr>\n",
       "  </tbody>\n",
       "</table>\n",
       "</div>"
      ],
      "text/plain": [
       "                              importance\n",
       "feature                                 \n",
       "account_status_A                  0.6180\n",
       "amount_financed                   0.0896\n",
       "module_LATO                       0.0850\n",
       "acy_avl_bal                       0.0709\n",
       "balance                           0.0401\n",
       "applied_amount                    0.0379\n",
       "product_code_PDLP                 0.0231\n",
       "date_difference                   0.0120\n",
       "marital_status_M                  0.0081\n",
       "marital_status_S                  0.0043\n",
       "incr_allowed                      0.0029\n",
       "sex_M                             0.0024\n",
       "customer_category_SAL             0.0019\n",
       "product_code_PDSS                 0.0015\n",
       "minor_Y                           0.0010\n",
       "customer_category_HNI             0.0008\n",
       "customer_category_IND             0.0003\n",
       "minor_N                           0.0001\n",
       "sex_F                             0.0001\n",
       "product_code_STLP                 0.0000\n",
       "product_code_STLM                 0.0000\n",
       "product_code_SADV                 0.0000\n",
       "product_code_STPL                 0.0000\n",
       "module_DFPS                       0.0000\n",
       "customer_type_I                   0.0000\n",
       "customer_type_C                   0.0000\n",
       "product_code_MPTL                 0.0000\n",
       "product_code_MPTA                 0.0000\n",
       "product_code_KPLA                 0.0000\n",
       "product_code_DFPS                 0.0000\n",
       "product_code_AMPC                 0.0000\n",
       "module_STP                        0.0000\n",
       "language_CHS                      0.0000\n",
       "language_ENG                      0.0000\n",
       "module_AMPC                       0.0000\n",
       "application_status_D              0.0000\n",
       "customer_category_RSA             0.0000\n",
       "marital_status_P                  0.0000\n",
       "customer_category_CORP            0.0000\n",
       "marital_status_E                  0.0000\n",
       "marital_status_D                  0.0000\n",
       "sex_P                             0.0000\n",
       "sex_                              0.0000\n",
       "minor_M                           0.0000\n",
       "customer_category_WALKIN          0.0000\n",
       "customer_category_TIER2           0.0000\n",
       "customer_category_TIER1           0.0000\n",
       "customer_category_SUPERMARKT      0.0000\n",
       "customer_category_STUDENTS        0.0000\n",
       "account_status_L                  0.0000"
      ]
     },
     "execution_count": 152,
     "metadata": {},
     "output_type": "execute_result"
    }
   ],
   "source": [
    "# Checking for the most important features that contribute most in predicting the target\n",
    "# Creating a dataframe of features and their respective importances\n",
    "\n",
    "impo_df = pd.DataFrame({'feature': X.columns, 'importance': np.round(dc.feature_importances_, 4)}).set_index('feature').sort_values(by = 'importance', ascending = False)\n",
    "impo_df"
   ]
  },
  {
   "cell_type": "code",
   "execution_count": 153,
   "metadata": {},
   "outputs": [
    {
     "data": {
      "image/png": "[encoded data removed]",
      "text/plain": [
       "<Figure size 720x720 with 1 Axes>"
      ]
     },
     "metadata": {},
     "output_type": "display_data"
    }
   ],
   "source": [
    "# Creating a bar chart of feature importance in descending order\n",
    "\n",
    "impo_df = impo_df[:12].sort_values(by = 'importance', ascending = True)\n",
    "impo_df.plot(kind = 'barh', figsize = (10, 10), color = 'purple')\n",
    "plt.legend(loc = 'center right')\n",
    "plt.title('Bar chart showing feature importance', color = 'indigo', fontsize = 14)\n",
    "plt.xlabel('Features', fontsize = 12, color = 'indigo')\n",
    "plt.show()"
   ]
  },
  {
   "cell_type": "markdown",
   "metadata": {},
   "source": [
    "*From the above feature importance barchart, it can be observed that:*\n",
    "\n",
    "\n",
    "*   The most important feature in predicting whether a loan is performing or not performing\n",
    "*   The following features are important in predicting the target;\n",
    "                      * account_status_a   * balance             * marital_status_M               \n",
    "                      * amount_financed    * applied_amount      * marital_status_S     \n",
    "                      * module_LATO        * product_code_PDLP   * incr_allowed  \n",
    "                      * acy_avl_bal        * date_difference     * sex_M          \n"
   ]
  },
  {
   "cell_type": "markdown",
   "metadata": {},
   "source": [
    "### Remodelling with the most important features only"
   ]
  },
  {
   "cell_type": "markdown",
   "metadata": {},
   "source": [
    "I will be dropping 'acy_avl_bal and amount_financed' because they have a very high correlation > 0.96 and I wouldn't want my model generalizing"
   ]
  },
  {
   "cell_type": "code",
   "execution_count": 154,
   "metadata": {},
   "outputs": [],
   "source": [
    "# Selecting only important features and the y variable\n",
    "\n",
    "X = X[['account_status_A', 'module_LATO', 'balance', 'applied_amount', 'product_code_PDLP',\n",
    "       'date_difference', 'marital_status_M', 'marital_status_S', 'incr_allowed', 'sex_M']]"
   ]
  },
  {
   "cell_type": "code",
   "execution_count": 155,
   "metadata": {},
   "outputs": [
    {
     "data": {
      "text/plain": [
       "(20884, 10)"
      ]
     },
     "execution_count": 155,
     "metadata": {},
     "output_type": "execute_result"
    }
   ],
   "source": [
    "X.shape"
   ]
  },
  {
   "cell_type": "code",
   "execution_count": 156,
   "metadata": {},
   "outputs": [
    {
     "data": {
      "text/plain": [
       "(20884,)"
      ]
     },
     "execution_count": 156,
     "metadata": {},
     "output_type": "execute_result"
    }
   ],
   "source": [
    "y.shape"
   ]
  },
  {
   "cell_type": "code",
   "execution_count": 157,
   "metadata": {},
   "outputs": [],
   "source": [
    "# Splitting the data into training and testing sets\n",
    "\n",
    "X_train, X_test, y_train, y_test = train_test_split(X, y, test_size = 0.3, random_state = 0)\n"
   ]
  },
  {
   "cell_type": "code",
   "execution_count": 158,
   "metadata": {},
   "outputs": [],
   "source": [
    "# Standardising the data\n",
    "\n",
    "sc = StandardScaler()\n",
    "X_train = sc.fit_transform(X_train)\n",
    "X_test = sc.transform(X_test)"
   ]
  },
  {
   "cell_type": "code",
   "execution_count": 159,
   "metadata": {},
   "outputs": [
    {
     "data": {
      "text/plain": [
       "DecisionTreeClassifier(class_weight=None, criterion='gini', max_depth=None,\n",
       "            max_features=None, max_leaf_nodes=None,\n",
       "            min_impurity_decrease=0.0, min_impurity_split=None,\n",
       "            min_samples_leaf=1, min_samples_split=2,\n",
       "            min_weight_fraction_leaf=0.0, presort=False, random_state=0,\n",
       "            splitter='best')"
      ]
     },
     "execution_count": 159,
     "metadata": {},
     "output_type": "execute_result"
    }
   ],
   "source": [
    "# Instantiating the model\n",
    "\n",
    "dc = DecisionTreeClassifier(random_state = 0)\n",
    "dc.fit(X_train, y_train)\n"
   ]
  },
  {
   "cell_type": "code",
   "execution_count": 160,
   "metadata": {},
   "outputs": [
    {
     "name": "stdout",
     "output_type": "stream",
     "text": [
      "The accuracy score is: 0.9864347270986276 and the f1 score is 0.99085333046379\n",
      "\n",
      "\n",
      "              precision    recall  f1-score   support\n",
      "\n",
      "           0       0.95      1.00      0.97      1577\n",
      "           1       1.00      0.98      0.99      4689\n",
      "\n",
      "   micro avg       0.99      0.99      0.99      6266\n",
      "   macro avg       0.97      0.99      0.98      6266\n",
      "weighted avg       0.99      0.99      0.99      6266\n",
      "\n"
     ]
    },
    {
     "data": {
      "text/plain": [
       "array([[1577,    0],\n",
       "       [  85, 4604]], dtype=int64)"
      ]
     },
     "execution_count": 160,
     "metadata": {},
     "output_type": "execute_result"
    }
   ],
   "source": [
    "# Making predictions\n",
    "\n",
    "y_pred = dc.predict(X_test)\n",
    "\n",
    "# Measuring the accuracy of the model\n",
    "#\n",
    "print(f'The accuracy score is: {accuracy_score(y_test, y_pred)} and the f1 score is {f1_score(y_test, y_pred)}')\n",
    "print('\\n')\n",
    "print(f'{classification_report(y_test, y_pred)}')\n",
    "confusion_matrix(y_test, y_pred)"
   ]
  },
  {
   "cell_type": "markdown",
   "metadata": {},
   "source": [
    "There is no marginal decrease or increase in f1 score"
   ]
  },
  {
   "cell_type": "markdown",
   "metadata": {},
   "source": [
    "### HYPERPARAMETER TUNING"
   ]
  },
  {
   "cell_type": "code",
   "execution_count": 161,
   "metadata": {},
   "outputs": [
    {
     "data": {
      "text/plain": [
       "DecisionTreeClassifier(class_weight=None, criterion='gini', max_depth=None,\n",
       "            max_features=None, max_leaf_nodes=None,\n",
       "            min_impurity_decrease=0.0, min_impurity_split=None,\n",
       "            min_samples_leaf=1, min_samples_split=2,\n",
       "            min_weight_fraction_leaf=0.0, presort=False, random_state=None,\n",
       "            splitter='best')"
      ]
     },
     "execution_count": 161,
     "metadata": {},
     "output_type": "execute_result"
    }
   ],
   "source": [
    "DecisionTreeClassifier()"
   ]
  },
  {
   "cell_type": "code",
   "execution_count": 162,
   "metadata": {},
   "outputs": [
    {
     "name": "stdout",
     "output_type": "stream",
     "text": [
      "The best parameters are: {'max_depth': 5, 'max_leaf_nodes': 30}\n"
     ]
    }
   ],
   "source": [
    "# Creating a dictionary of parameters to tune\n",
    "\n",
    "params = {'max_leaf_nodes': [10, 20, 30, 50, 100],\n",
    "         'max_depth': [1, 2, 3, 4, 5]}\n",
    "\n",
    "# Setting the number of folds to 10 and instantiating the model\n",
    "# \n",
    "kfold = KFold(n_splits=10, shuffle=True)\n",
    "model = RandomForestClassifier()\n",
    "\n",
    "search = GridSearchCV(model, param_grid=params, scoring = 'f1', cv = kfold)\n",
    "\n",
    "# Fitting the grid search with the X and the y variables\n",
    "#\n",
    "search.fit(X, y)\n",
    "\n",
    "# Checking for the best parameters\n",
    "#\n",
    "print(f'The best parameters are: {search.best_params_}')"
   ]
  },
  {
   "cell_type": "code",
   "execution_count": 163,
   "metadata": {},
   "outputs": [],
   "source": [
    "# Selecting only important features and the y variable\n",
    "\n",
    "X = X[['account_status_A', 'module_LATO', 'balance', 'applied_amount', 'product_code_PDLP',\n",
    "       'date_difference', 'marital_status_M', 'marital_status_S', 'incr_allowed', 'sex_M']]"
   ]
  },
  {
   "cell_type": "code",
   "execution_count": 164,
   "metadata": {},
   "outputs": [],
   "source": [
    "# Splitting the data into training and testing sets\n",
    "\n",
    "X_train, X_test, y_train, y_test = train_test_split(X, y, test_size = 0.3, random_state = 0)\n"
   ]
  },
  {
   "cell_type": "code",
   "execution_count": 165,
   "metadata": {},
   "outputs": [
    {
     "data": {
      "text/plain": [
       "DecisionTreeClassifier(class_weight=None, criterion='gini', max_depth=5,\n",
       "            max_features=None, max_leaf_nodes=100,\n",
       "            min_impurity_decrease=0.0, min_impurity_split=None,\n",
       "            min_samples_leaf=1, min_samples_split=2,\n",
       "            min_weight_fraction_leaf=0.0, presort=False, random_state=0,\n",
       "            splitter='best')"
      ]
     },
     "execution_count": 165,
     "metadata": {},
     "output_type": "execute_result"
    }
   ],
   "source": [
    "# Instantiating the model\n",
    "\n",
    "dc = DecisionTreeClassifier(max_depth=5, max_leaf_nodes = 100, random_state = 0)\n",
    "dc.fit(X_train, y_train)"
   ]
  },
  {
   "cell_type": "code",
   "execution_count": 166,
   "metadata": {},
   "outputs": [
    {
     "name": "stdout",
     "output_type": "stream",
     "text": [
      "The accuracy score is: 0.9433450367060325 and the f1 score is 0.9620036390880873\n",
      "\n",
      "\n",
      "              precision    recall  f1-score   support\n",
      "\n",
      "           0       0.88      0.90      0.89      1577\n",
      "           1       0.97      0.96      0.96      4689\n",
      "\n",
      "   micro avg       0.94      0.94      0.94      6266\n",
      "   macro avg       0.92      0.93      0.93      6266\n",
      "weighted avg       0.94      0.94      0.94      6266\n",
      "\n"
     ]
    },
    {
     "data": {
      "text/plain": [
       "array([[1417,  160],\n",
       "       [ 195, 4494]], dtype=int64)"
      ]
     },
     "execution_count": 166,
     "metadata": {},
     "output_type": "execute_result"
    }
   ],
   "source": [
    "# Making predictions\n",
    "\n",
    "y_pred = dc.predict(X_test)\n",
    "\n",
    "# Measuring the accuracy of the model\n",
    "#\n",
    "print(f'The accuracy score is: {accuracy_score(y_test, y_pred)} and the f1 score is {f1_score(y_test, y_pred)}')\n",
    "print('\\n')\n",
    "print(f'{classification_report(y_test, y_pred)}')\n",
    "confusion_matrix(y_test, y_pred)"
   ]
  },
  {
   "cell_type": "markdown",
   "metadata": {},
   "source": [
    "### *Parameter tuning has generally decreased the f1 score by a small margin to 96.2%, but the stability of the model has improved*"
   ]
  },
  {
   "cell_type": "markdown",
   "metadata": {},
   "source": [
    "#### Cross Validation to check for the stability of the model"
   ]
  },
  {
   "cell_type": "code",
   "execution_count": 167,
   "metadata": {},
   "outputs": [
    {
     "name": "stdout",
     "output_type": "stream",
     "text": [
      "Mean of cross validation scores is 0.9624931500808696\n",
      "Standard deviation of the cross validation scores is 0.007692095026575113\n"
     ]
    }
   ],
   "source": [
    "# Performing cross validation of ten folds\n",
    "\n",
    "scores = cross_val_score(dc, X, y, scoring = 'f1', cv = 10)\n",
    "\n",
    "# Calculating the mean of the cross validation scores\n",
    "\n",
    "print(f'Mean of cross validation scores is {scores.mean()}')\n",
    "\n",
    "# Calculating the variance of the cross validation scores from the mean\n",
    "\n",
    "print(f'Standard deviation of the cross validation scores is {scores.std()}')"
   ]
  },
  {
   "cell_type": "markdown",
   "metadata": {},
   "source": [
    "\n",
    "\n",
    "\n",
    "*The true f1 score of the model is approximately 96.2%, with a variance of 0.00769.*\n"
   ]
  },
  {
   "cell_type": "code",
   "execution_count": 168,
   "metadata": {},
   "outputs": [
    {
     "data": {
      "image/png": "[encoded data removed]",
      "text/plain": [
       "<Figure size 432x288 with 1 Axes>"
      ]
     },
     "metadata": {},
     "output_type": "display_data"
    }
   ],
   "source": [
    "from sklearn.metrics import roc_auc_score, roc_curve\n",
    "\n",
    "auc = roc_auc_score(y_test, y_pred)\n",
    "fpr, tpr, thresholds = roc_curve(y_test, y_pred)\n",
    "plt.figure()\n",
    "plt.plot(fpr, tpr, label='Decision Tree Model (area = %0.2f)' % auc)\n",
    "plt.plot([0, 1], [0, 1],'r--')\n",
    "plt.xlim([0.0, 1.0])\n",
    "plt.ylim([0.0, 1.05])\n",
    "plt.xlabel('False Positive Rate'), plt.ylabel('True Positive Rate'), plt.title('ROC')\n",
    "plt.legend(loc=\"lower right\")\n",
    "# plt.savefig('Log_ROC')\n",
    "plt.show()"
   ]
  },
  {
   "cell_type": "markdown",
   "metadata": {},
   "source": [
    "### CONCLUSION"
   ]
  },
  {
   "cell_type": "markdown",
   "metadata": {},
   "source": [
    "* Out of all the models used to predict whether a loan is performing or not, the RandomForestClassifier and DecisionTree Classifier both perform well with an f1 score of approximately 96%, they have very similar accuruacy score of 94.07% and 94.33% respectively.\n",
    "\n",
    "\n",
    "\n",
    "* This model should be handled with care, as it might lead to overfitting when predicting new data. This is because one of the disadvantages of ensemble algorithms is that they are prone to over fitting so when working with new data, close attention should be paid to hyperparameter tuning to ensure the model performs better\n",
    "\n",
    "\n"
   ]
  },
  {
   "cell_type": "code",
   "execution_count": null,
   "metadata": {},
   "outputs": [],
   "source": []
  },
  {
   "cell_type": "code",
   "execution_count": null,
   "metadata": {},
   "outputs": [],
   "source": []
  },
  {
   "cell_type": "code",
   "execution_count": null,
   "metadata": {},
   "outputs": [],
   "source": []
  }
 ],
 "metadata": {
  "kernelspec": {
   "display_name": "Python 3",
   "language": "python",
   "name": "python3"
  },
  "language_info": {
   "codemirror_mode": {
    "name": "ipython",
    "version": 3
   },
   "file_extension": ".py",
   "mimetype": "text/x-python",
   "name": "python",
   "nbconvert_exporter": "python",
   "pygments_lexer": "ipython3",
   "version": "3.7.3"
  }
 },
 "nbformat": 4,
 "nbformat_minor": 2
}
